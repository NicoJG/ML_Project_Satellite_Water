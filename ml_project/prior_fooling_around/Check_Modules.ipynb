{
 "cells": [
  {
   "cell_type": "markdown",
   "id": "19b7930b-a2f8-4174-bfe0-9a927849c498",
   "metadata": {},
   "source": [
    "# Just testing if the Modules are doing what they should do"
   ]
  },
  {
   "cell_type": "markdown",
   "id": "d61c026a-c525-41dc-9daf-f33d78ab006c",
   "metadata": {},
   "source": [
    "## ml_project.constants.paths"
   ]
  },
  {
   "cell_type": "code",
   "execution_count": null,
   "id": "ce8542b7-e0c4-41fb-903c-10313af3832e",
   "metadata": {},
   "outputs": [],
   "source": [
    "from ml_project.constants import paths"
   ]
  },
  {
   "cell_type": "code",
   "execution_count": null,
   "id": "b6a03eab-de14-46fd-a68f-de0171acfd46",
   "metadata": {},
   "outputs": [],
   "source": [
    "paths.FILE_SATELLITE_IMAGE(1,2,3)"
   ]
  },
  {
   "cell_type": "code",
   "execution_count": null,
   "id": "1e8a7a8d-04ce-43ce-9e89-9236dd3d00ac",
   "metadata": {},
   "outputs": [],
   "source": [
    "paths.FILE_MASK_IMAGE(1,2,3)"
   ]
  },
  {
   "cell_type": "code",
   "execution_count": null,
   "id": "d3b8b7ec-aa5b-4aec-a207-546118e175f0",
   "metadata": {},
   "outputs": [],
   "source": [
    "paths.FILE_VECTOR_TILE(1,2,3)"
   ]
  },
  {
   "cell_type": "markdown",
   "id": "9b207125-8869-4e91-9db3-373e3d499832",
   "metadata": {},
   "source": [
    "## ml_project.constants.mapbox"
   ]
  },
  {
   "cell_type": "code",
   "execution_count": null,
   "id": "b5e598a1-a583-4e05-9397-c6c64fc64a0e",
   "metadata": {},
   "outputs": [],
   "source": [
    "from ml_project.constants import mapbox"
   ]
  },
  {
   "cell_type": "code",
   "execution_count": null,
   "id": "b8cb69ba-0f2f-44f1-954b-7b7c1a8fb454",
   "metadata": {},
   "outputs": [],
   "source": [
    "mapbox.URL_SATELLITE(1,2,3)"
   ]
  },
  {
   "cell_type": "code",
   "execution_count": null,
   "id": "61ffcba3-2e58-4d43-bed3-e5246a9e2d6e",
   "metadata": {},
   "outputs": [],
   "source": [
    "mapbox.URL_MASK(1,2,3)"
   ]
  },
  {
   "cell_type": "code",
   "execution_count": null,
   "id": "d3d75e56-56ce-4a94-b469-d856dc3e9e5e",
   "metadata": {},
   "outputs": [],
   "source": [
    "mapbox.URL_VECTOR(1,2,3)"
   ]
  },
  {
   "cell_type": "markdown",
   "id": "9ab83fcd-dbe8-4702-893b-5844af041534",
   "metadata": {},
   "source": [
    "## ml_project.dataset_creation"
   ]
  },
  {
   "cell_type": "code",
   "execution_count": null,
   "id": "69e5d0cf-2813-4f4c-a617-839f0fe15c41",
   "metadata": {},
   "outputs": [],
   "source": [
    "from ml_project.dataset_creation import utils\n",
    "import requests"
   ]
  },
  {
   "cell_type": "code",
   "execution_count": null,
   "id": "66b0dcd4-06b6-4189-ad43-eb590203ea33",
   "metadata": {},
   "outputs": [],
   "source": [
    "url = 'https://google.com/'\n",
    "file_path = 'google.html'"
   ]
  },
  {
   "cell_type": "code",
   "execution_count": null,
   "id": "0610df18-8326-486c-97ef-f9bd46a0bde9",
   "metadata": {},
   "outputs": [],
   "source": [
    "utils.download_file(file_path,url,is_text=True)"
   ]
  },
  {
   "cell_type": "code",
   "execution_count": null,
   "id": "abe9df23-e5b6-4178-88ff-05383d5594ec",
   "metadata": {},
   "outputs": [],
   "source": [
    "url = 'https://www.google.com/images/branding/googlelogo/1x/googlelogo_color_272x92dp.png'\n",
    "file_path = 'google.png'"
   ]
  },
  {
   "cell_type": "code",
   "execution_count": null,
   "id": "ab3c542c-f9bb-4554-9f05-875fc45c4cb8",
   "metadata": {},
   "outputs": [],
   "source": [
    "utils.download_file(file_path,url)"
   ]
  },
  {
   "cell_type": "code",
   "execution_count": null,
   "id": "6ff27375-d646-4f22-8c03-a5e2d772358f",
   "metadata": {},
   "outputs": [],
   "source": []
  }
 ],
 "metadata": {
  "kernelspec": {
   "display_name": "Python 3",
   "language": "python",
   "name": "python3"
  },
  "language_info": {
   "codemirror_mode": {
    "name": "ipython",
    "version": 3
   },
   "file_extension": ".py",
   "mimetype": "text/x-python",
   "name": "python",
   "nbconvert_exporter": "python",
   "pygments_lexer": "ipython3",
   "version": "3.9.5"
  }
 },
 "nbformat": 4,
 "nbformat_minor": 5
}
