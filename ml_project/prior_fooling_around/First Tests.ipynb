{
 "cells": [
  {
   "cell_type": "markdown",
   "id": "13ab7ee8",
   "metadata": {},
   "source": [
    "https://towardsdatascience.com/creating-high-resolution-satellite-images-with-mapbox-and-python-750b3ac83dd7"
   ]
  },
  {
   "cell_type": "markdown",
   "id": "6a139aca",
   "metadata": {},
   "source": [
    "https://www.kaggle.com/kapastor/high-resolution-mapping-with-mapbox-and-three-js"
   ]
  },
  {
   "cell_type": "code",
   "execution_count": null,
   "id": "7fb04977",
   "metadata": {},
   "outputs": [],
   "source": [
    "# Step 1: Install of the packages\n",
    "!pip install mercantile"
   ]
  },
  {
   "cell_type": "code",
   "execution_count": null,
   "id": "febfcd22",
   "metadata": {},
   "outputs": [],
   "source": [
    "# The first step is to define the min/max (lat,lng)\n",
    "# Go to google maps and select Whats here to see the top left and bottom right sets.\n",
    "# Set the zoom level (resolution level)\n",
    "lat_lng = [43.640918, -79.371478]\n",
    "delta=0.05\n",
    "tl = [lat_lng[0]+delta, lat_lng[1]-delta]\n",
    "br = [lat_lng[0]-delta, lat_lng[1]+delta]\n",
    "z = 14 # Set the resolution (max at 15)"
   ]
  },
  {
   "cell_type": "code",
   "execution_count": null,
   "id": "d8c3e839",
   "metadata": {},
   "outputs": [],
   "source": [
    "# find the tile set IDs (x/y) for the top left and bottom right at the zoom level\n",
    "import mercantile\n",
    "tl_tiles = mercantile.tile(tl[1],tl[0],z)\n",
    "br_tiles = mercantile.tile(br[1],br[0],z)\n",
    "x_tile_range =[tl_tiles.x,br_tiles.x];print(x_tile_range)\n",
    "y_tile_range = [tl_tiles.y,br_tiles.y];print(y_tile_range)"
   ]
  },
  {
   "cell_type": "code",
   "execution_count": null,
   "id": "61254d12",
   "metadata": {},
   "outputs": [],
   "source": [
    "token = 'pk.eyJ1Ijoibmljb2pnIiwiYSI6ImNrcDc1bGhtdDA3cDAyd21qZnR2MTE4dTcifQ.P02LX2SUoF-EirCxFWZaqQ'"
   ]
  },
  {
   "cell_type": "code",
   "execution_count": null,
   "id": "938da578",
   "metadata": {},
   "outputs": [],
   "source": [
    "# Make the folders\n",
    "!mkdir ./satellite_images\n",
    "!rm -rf ./satellite_images/*\n",
    "!mkdir ./elevation_images\n",
    "!rm -rf ./elevation_images/*"
   ]
  },
  {
   "cell_type": "code",
   "execution_count": null,
   "id": "1822b988",
   "metadata": {},
   "outputs": [],
   "source": [
    "import requests # The requests package allows use to call URLS\n",
    "import shutil   # shutil will be used to copy the image to the local\n",
    "\n",
    "# Loop over the tile ranges\n",
    "for i,x in enumerate(range(x_tile_range[0],x_tile_range[1]+1)):\n",
    "    for j,y in enumerate(range(y_tile_range[0],y_tile_range[1]+1)):\n",
    "        \n",
    "        # Call the URL to get the image back\n",
    "        r = requests.get('https://api.mapbox.com/v4/mapbox.terrain-rgb/'+str(z)+'/'+str(x)+'/'+str(y)+'@2x.pngraw?access_token='+token, stream=True)\n",
    "        \n",
    "        # Next we will write the raw content to an image\n",
    "        with open('./elevation_images/' + str(i) + '.' + str(j) + '.png','wb') as f:\n",
    "            r.raw.decode_content = True\n",
    "            shutil.copyfileobj(r.raw, f) \n",
    "            \n",
    "        # Do the same for the satellite data\n",
    "        r =requests.get('https://api.mapbox.com/v4/mapbox.satellite/'+str(z)+'/'+str(x)+'/'+str(y)+'@2x.pngraw?access_token='+token, stream=True)\n",
    "        with open('./satellite_images/' + str(i) + '.' + str(j) + '.png','wb') as f:\n",
    "            r.raw.decode_content = True\n",
    "            shutil.copyfileobj(r.raw, f)"
   ]
  },
  {
   "cell_type": "code",
   "execution_count": null,
   "id": "a721ef81",
   "metadata": {},
   "outputs": [],
   "source": [
    "# Combine the tiles into a single large image\n",
    "!mkdir ./composite_images\n",
    "!mkdir ./animate"
   ]
  },
  {
   "cell_type": "code",
   "execution_count": null,
   "id": "a465b7f2",
   "metadata": {},
   "outputs": [],
   "source": [
    "from PIL import Image\n",
    "import math\n",
    "from os import listdir\n",
    "from os.path import isfile, join\n",
    "\n",
    "for img_name in ['elevation','satellite']:\n",
    "    image_files = ['./'+img_name+'_images/' + f for f in listdir('./'+img_name+'_images/')]\n",
    "    images = [Image.open(x) for x in image_files]\n",
    "\n",
    "    edge_length_x = x_tile_range[1] - x_tile_range[0]\n",
    "    edge_length_y = y_tile_range[1] - y_tile_range[0]\n",
    "    edge_length_x = max(1,edge_length_x)\n",
    "    edge_length_y = max(1,edge_length_y)\n",
    "    width, height = images[0].size\n",
    "\n",
    "    total_width = width*edge_length_x\n",
    "    total_height = height*edge_length_y\n",
    "\n",
    "    composite = Image.new('RGB', (total_width, total_height))\n",
    "    print(total_width,total_height)\n",
    "\n",
    "    anim_idx = 0\n",
    "    y_offset = 0\n",
    "    for i in range(0,edge_length_x):\n",
    "        x_offset = 0\n",
    "        for j in range(0,edge_length_y):\n",
    "            tmp_img = Image.open('./'+img_name+'_images/' + str(i) + '.' + str(j) + '.png')\n",
    "            composite.paste(tmp_img, (y_offset,x_offset))\n",
    "            x_offset += width\n",
    "            composite.save('./animate/'+str(anim_idx).zfill(4)+'.jpg',optimize=True,quality=95)\n",
    "            anim_idx += 1\n",
    "            print(anim_idx)\n",
    "\n",
    "            \n",
    "        y_offset += height\n",
    "\n",
    "    composite.save('./composite_images/'+img_name+'.png')"
   ]
  },
  {
   "cell_type": "code",
   "execution_count": null,
   "id": "6435b703",
   "metadata": {},
   "outputs": [],
   "source": [
    "!apt-get update\n",
    "!apt install -y ffmpeg\n",
    "!rm output.mp4\n",
    "!ffmpeg  -i ./animate/%04d.jpg -c:v libx264 -c:a aac -ar 44100  -pix_fmt yuv420p output.mp4\n",
    "        \n",
    "# ffmpeg -ss 30 -t 3 -i input.mp4 -vf \"fps=10,scale=320:-1:flags=lanczos,split[s0][s1];[s0]palettegen[p];[s1][p]paletteuse\" -loop 0 output.gif"
   ]
  },
  {
   "cell_type": "code",
   "execution_count": null,
   "id": "2882733b",
   "metadata": {},
   "outputs": [],
   "source": [
    "from PIL import Image\n",
    "elevation_raw = Image.open('./composite_images/elevation.png')\n",
    "rgb_elevation = elevation_raw.convert('RGBA')\n",
    "\n",
    "# Loop over the image and save the data in a list:\n",
    "elevation_data = []\n",
    "# texture_data = []\n",
    "for h in range(rgb_elevation.height):\n",
    "    for w in range(rgb_elevation.width):\n",
    "        R, G, B, A = rgb_elevation.getpixel((w, h))\n",
    "        height = -10000 + ((R * 256 * 256 + G * 256 + B) * 0.1)\n",
    "        elevation_data.append(height)\n",
    "\n",
    "import json\n",
    "with open('./elevation.json', 'w') as outfile:\n",
    "    json.dump(elevation_data, outfile)"
   ]
  },
  {
   "cell_type": "markdown",
   "id": "8016356c",
   "metadata": {},
   "source": [
    "# Test Static Images API\n",
    "https://docs.mapbox.com/playground/static/"
   ]
  },
  {
   "cell_type": "code",
   "execution_count": null,
   "id": "b4b1135b",
   "metadata": {},
   "outputs": [],
   "source": [
    "import requests"
   ]
  },
  {
   "cell_type": "code",
   "execution_count": null,
   "id": "c84a017d",
   "metadata": {},
   "outputs": [],
   "source": [
    "token = 'pk.eyJ1Ijoibmljb2pnIiwiYSI6ImNrcDc1bGhtdDA3cDAyd21qZnR2MTE4dTcifQ.P02LX2SUoF-EirCxFWZaqQ'"
   ]
  },
  {
   "cell_type": "code",
   "execution_count": null,
   "id": "ea6df53f",
   "metadata": {},
   "outputs": [],
   "source": [
    "lat = -118.1227\n",
    "lng = 33.83\n",
    "zoom = 20\n",
    "width = 1280\n",
    "height = 1280"
   ]
  },
  {
   "cell_type": "code",
   "execution_count": null,
   "id": "8b304556",
   "metadata": {},
   "outputs": [],
   "source": [
    "url = f'https://api.mapbox.com/styles/v1/mapbox/satellite-v9/static/{lat},{lng},{zoom},0/{width}x{height}?access_token={token}'\n",
    "r = requests.get(url, stream=True)"
   ]
  },
  {
   "cell_type": "code",
   "execution_count": null,
   "id": "8d410ed0",
   "metadata": {},
   "outputs": [],
   "source": [
    "!mkdir ./test_static"
   ]
  },
  {
   "cell_type": "code",
   "execution_count": null,
   "id": "58dd27a7",
   "metadata": {},
   "outputs": [],
   "source": [
    "import shutil\n",
    "with open('./test_static/test.png','wb') as f:\n",
    "            r.raw.decode_content = True\n",
    "            shutil.copyfileobj(r.raw, f) "
   ]
  },
  {
   "cell_type": "code",
   "execution_count": null,
   "id": "5e0fef81",
   "metadata": {},
   "outputs": [],
   "source": [
    "from IPython.display import Image\n",
    "Image(filename='./test_static/test.png') "
   ]
  },
  {
   "cell_type": "code",
   "execution_count": null,
   "id": "9c5938ea",
   "metadata": {},
   "outputs": [],
   "source": []
  }
 ],
 "metadata": {
  "kernelspec": {
   "display_name": "Python 3",
   "language": "python",
   "name": "python3"
  },
  "language_info": {
   "codemirror_mode": {
    "name": "ipython",
    "version": 3
   },
   "file_extension": ".py",
   "mimetype": "text/x-python",
   "name": "python",
   "nbconvert_exporter": "python",
   "pygments_lexer": "ipython3",
   "version": "3.9.5"
  }
 },
 "nbformat": 4,
 "nbformat_minor": 5
}
