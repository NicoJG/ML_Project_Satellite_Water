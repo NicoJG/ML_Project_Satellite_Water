{
 "cells": [
  {
   "cell_type": "code",
   "execution_count": null,
   "id": "0783b863-022a-452d-bded-2200d1e09d10",
   "metadata": {},
   "outputs": [],
   "source": [
    "from time import sleep"
   ]
  },
  {
   "cell_type": "code",
   "execution_count": null,
   "id": "13d4716f-d9d4-4521-827e-1b02a02fe4ca",
   "metadata": {},
   "outputs": [],
   "source": [
    "from tqdm.notebook import tqdm,trange"
   ]
  },
  {
   "cell_type": "code",
   "execution_count": null,
   "id": "b3ac176b-43a0-44c0-8efd-9d2131a5382c",
   "metadata": {},
   "outputs": [],
   "source": [
    "example_iter = [1,2,3,4,5]\n",
    "for rec in tqdm(example_iter):\n",
    "    sleep(.1)"
   ]
  },
  {
   "cell_type": "code",
   "execution_count": null,
   "id": "d6eb53aa-5378-457b-a326-e0d1bf98549d",
   "metadata": {},
   "outputs": [],
   "source": [
    "for i in trange(20):\n",
    "    sleep(.1)"
   ]
  },
  {
   "cell_type": "code",
   "execution_count": null,
   "id": "d368a66e-e014-4a30-83c6-812ad28ec06b",
   "metadata": {},
   "outputs": [],
   "source": [
    "pbar = tqdm([\"a\", \"b\", \"c\", \"d\"])\n",
    "for char in pbar:\n",
    "    sleep(1)\n",
    "    pbar.set_description(\"Processing %s\" % char)"
   ]
  },
  {
   "cell_type": "code",
   "execution_count": null,
   "id": "2e53fc6e-0d31-472d-8177-28e9a74e2588",
   "metadata": {},
   "outputs": [],
   "source": [
    "for i in trange(4, desc='1st loop'):\n",
    "    for j in trange(5, desc='2nd loop'):\n",
    "        for k in trange(50, desc='3rd loop', leave=False):\n",
    "            sleep(0.01)"
   ]
  },
  {
   "cell_type": "code",
   "execution_count": null,
   "id": "670e04f3-1599-4814-813c-3f056f8e6f04",
   "metadata": {},
   "outputs": [],
   "source": [
    "def do_smth():\n",
    "    for i in tqdm(range(5),desc='do_smth'):\n",
    "        sleep(0.5)\n",
    "\n",
    "def do_smth_else():\n",
    "    for i in tqdm(range(10),desc='do_smth_else',leave=False):\n",
    "        sleep(0.25)"
   ]
  },
  {
   "cell_type": "code",
   "execution_count": null,
   "id": "a441a495-9a41-4254-9dad-873746406cf4",
   "metadata": {},
   "outputs": [],
   "source": [
    "epochs = 10\n",
    "for epoch in trange(epochs, desc='Epochs'):\n",
    "    do_smth()\n",
    "    do_smth_else()"
   ]
  },
  {
   "cell_type": "code",
   "execution_count": null,
   "id": "c9a7d894-0103-4af4-be2c-61a71e7496c1",
   "metadata": {},
   "outputs": [],
   "source": [
    "from tqdm.notebook import tqdm, trange\n",
    "from random import random, randint\n",
    "from time import sleep\n",
    "\n",
    "with trange(10) as t:\n",
    "    for i in t:\n",
    "        # Description will be displayed on the left\n",
    "        t.set_description('GEN %i' % i)\n",
    "        # Postfix will be displayed on the right,\n",
    "        # formatted automatically based on argument's datatype\n",
    "        t.set_postfix(loss=random(), gen=randint(1,999), str='h',\n",
    "                      lst=[1, 2])\n",
    "        sleep(0.1)\n",
    "\n",
    "with tqdm(total=10, bar_format=\"{postfix[0]} {postfix[1][value]:>8.2g}\",\n",
    "          postfix=[\"Batch\", dict(value=0)]) as t:\n",
    "    for i in range(10):\n",
    "        sleep(0.1)\n",
    "        t.postfix[1][\"value\"] = i / 2\n",
    "        t.update()\n"
   ]
  },
  {
   "cell_type": "code",
   "execution_count": null,
   "id": "74348b19-52a4-41ff-b026-72466463a525",
   "metadata": {},
   "outputs": [],
   "source": []
  }
 ],
 "metadata": {
  "kernelspec": {
   "display_name": "Python 3",
   "language": "python",
   "name": "python3"
  },
  "language_info": {
   "codemirror_mode": {
    "name": "ipython",
    "version": 3
   },
   "file_extension": ".py",
   "mimetype": "text/x-python",
   "name": "python",
   "nbconvert_exporter": "python",
   "pygments_lexer": "ipython3",
   "version": "3.9.5"
  }
 },
 "nbformat": 4,
 "nbformat_minor": 5
}
