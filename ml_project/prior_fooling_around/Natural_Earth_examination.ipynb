{
 "cells": [
  {
   "cell_type": "code",
   "execution_count": null,
   "id": "5e1e550c-a45d-4ea5-9a47-692091f8b935",
   "metadata": {},
   "outputs": [],
   "source": [
    "import geopandas as gpd\n",
    "import matplotlib.pyplot as plt"
   ]
  },
  {
   "cell_type": "code",
   "execution_count": null,
   "id": "969233fd-92ab-47d0-bfb6-fa6e8f58116b",
   "metadata": {},
   "outputs": [],
   "source": [
    "from ml_project.constants import paths"
   ]
  },
  {
   "cell_type": "code",
   "execution_count": null,
   "id": "76a28655-3586-499a-b31c-bb5092fa8363",
   "metadata": {},
   "outputs": [],
   "source": [
    "countries_10m = gpd.read_file(paths.NE_10M_COUNTRIES_SHP)"
   ]
  },
  {
   "cell_type": "code",
   "execution_count": null,
   "id": "53796add-c8df-4634-b098-4b5702aa2253",
   "metadata": {},
   "outputs": [],
   "source": [
    "countries_10m.columns"
   ]
  },
  {
   "cell_type": "code",
   "execution_count": null,
   "id": "c58a4a19-4fad-4565-8416-9f455c407c5d",
   "metadata": {},
   "outputs": [],
   "source": [
    "countries_10m.loc[countries_10m['ISO_A3']=='-99',['NAME','NAME_EN','ISO_A2','ISO_A3','ISO_A3_EH','WB_A3','ADM0_A3_IS','CONTINENT']]"
   ]
  },
  {
   "cell_type": "code",
   "execution_count": null,
   "id": "63ab7adc-39a6-4a85-b78c-2153fc068415",
   "metadata": {},
   "outputs": [],
   "source": [
    "countries_10m.loc[countries_10m['ISO_A3']!=countries_10m['ADM0_A3_IS'],['NAME','NAME_EN','ISO_A2','ISO_A3','ISO_A3_EH','WB_A3','ADM0_A3_IS','CONTINENT']]"
   ]
  },
  {
   "cell_type": "code",
   "execution_count": null,
   "id": "03c5e65e-7ee5-4a79-b5b8-0fc241c69d1a",
   "metadata": {},
   "outputs": [],
   "source": []
  }
 ],
 "metadata": {
  "kernelspec": {
   "display_name": "Python 3",
   "language": "python",
   "name": "python3"
  },
  "language_info": {
   "codemirror_mode": {
    "name": "ipython",
    "version": 3
   },
   "file_extension": ".py",
   "mimetype": "text/x-python",
   "name": "python",
   "nbconvert_exporter": "python",
   "pygments_lexer": "ipython3",
   "version": "3.9.5"
  }
 },
 "nbformat": 4,
 "nbformat_minor": 5
}
