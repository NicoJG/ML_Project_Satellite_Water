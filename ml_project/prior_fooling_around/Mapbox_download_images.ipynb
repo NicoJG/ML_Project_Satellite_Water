{
 "cells": [
  {
   "cell_type": "markdown",
   "id": "054fa92d-3d65-431a-8ca0-1050717fe40b",
   "metadata": {},
   "source": [
    "# Download the Images at a given Coordinate with a given zoom"
   ]
  },
  {
   "cell_type": "markdown",
   "id": "39ef3058-2bea-4cc2-b7ce-752763a84a8c",
   "metadata": {},
   "source": [
    "### Imports"
   ]
  },
  {
   "cell_type": "code",
   "execution_count": null,
   "id": "e9ec7559-791d-421a-8598-bb804af41ec0",
   "metadata": {},
   "outputs": [],
   "source": [
    "import mercantile\n",
    "import requests\n",
    "import shutil\n",
    "import os.path"
   ]
  },
  {
   "cell_type": "markdown",
   "id": "bab1d457-5f43-4773-987f-775b152d040a",
   "metadata": {},
   "source": [
    "### Define Coordinates"
   ]
  },
  {
   "cell_type": "code",
   "execution_count": null,
   "id": "c332cb4a-e6db-487c-a0dd-72ec9e436860",
   "metadata": {},
   "outputs": [],
   "source": [
    "# Dinslaken Rotbachsee\n",
    "lat,lon = 51.569332099215956, 6.782405517660896\n",
    "# Ternscher See\n",
    "lat,lon = 51.71560814488259, 7.43189134599491783\n",
    "# Halterner Stausee\n",
    "lat,lon = 51.74987831074649, 7.211598497023159\n",
    "z = 15"
   ]
  },
  {
   "cell_type": "code",
   "execution_count": null,
   "id": "183143ec-b4f1-43b3-a9d3-bef05690ef42",
   "metadata": {},
   "outputs": [],
   "source": [
    "# Tile coordinates\n",
    "tile = mercantile.tile(lon,lat,z)\n",
    "x, y = tile.x, tile.y\n",
    "x,y"
   ]
  },
  {
   "cell_type": "markdown",
   "id": "3bcaad0a-189a-43d9-98bc-d1e6d383da0b",
   "metadata": {},
   "source": [
    "### Download the Satellite Image via Mapbox Raster Tile API"
   ]
  },
  {
   "cell_type": "code",
   "execution_count": null,
   "id": "0cae6ea2-56d7-47b9-a643-39101d46241f",
   "metadata": {},
   "outputs": [],
   "source": [
    "tileset_id = 'mapbox.satellite'"
   ]
  },
  {
   "cell_type": "code",
   "execution_count": null,
   "id": "1745f43f-7e2b-41df-99ae-8ab61ea4b393",
   "metadata": {},
   "outputs": [],
   "source": [
    "token = 'pk.eyJ1Ijoibmljb2pnIiwiYSI6ImNrcHljYjR0dzA2N2Yyb2pzazNjamhtMGoifQ.KzlCg0L861hO_DnNbEQ_UQ'"
   ]
  },
  {
   "cell_type": "code",
   "execution_count": null,
   "id": "e063fa7e-21af-4506-afa2-bdacec43dcab",
   "metadata": {},
   "outputs": [],
   "source": [
    "raster_format = 'jpg90'"
   ]
  },
  {
   "cell_type": "code",
   "execution_count": null,
   "id": "f8f3d407-82db-4aa8-8b16-952eaa62bfbc",
   "metadata": {},
   "outputs": [],
   "source": [
    "# double the DPI? 256x256 or 512x512\n",
    "x2 = '' # either '@2x' or ''\n",
    "if x2 == '':\n",
    "    px_width = 256\n",
    "elif x2 == '@2x':\n",
    "    px_width = 512"
   ]
  },
  {
   "cell_type": "code",
   "execution_count": null,
   "id": "9f9d5abf-668f-4817-a09f-098169239e68",
   "metadata": {},
   "outputs": [],
   "source": [
    "file_path_satellite = f'images/satellite/z{z}x{x}y{y}_px{px_width}.jpg'\n",
    "file_path_satellite"
   ]
  },
  {
   "cell_type": "code",
   "execution_count": null,
   "id": "4819f31d-3acf-4a3b-a8ee-32c29b9b1664",
   "metadata": {},
   "outputs": [],
   "source": [
    "!mkdir ./images/\n",
    "!mkdir ./images/satellite/"
   ]
  },
  {
   "cell_type": "code",
   "execution_count": null,
   "id": "5fcdd1da-613c-4a0b-abcb-d2560234c1fe",
   "metadata": {},
   "outputs": [],
   "source": [
    "url_satellite = f'https://api.mapbox.com/v4/{tileset_id}/{z}/{x}/{y}{x2}.{raster_format}?access_token={token}'\n",
    "print(url_satellite)"
   ]
  },
  {
   "cell_type": "code",
   "execution_count": null,
   "id": "8d6af0d0-8a4b-41e3-a5ea-9d9d3928bd3c",
   "metadata": {},
   "outputs": [],
   "source": [
    "if not os.path.isfile(file_path_satellite):\n",
    "    r = requests.get(url_satellite, stream=True)\n",
    "    if r.status_code==200:\n",
    "        print('Success')\n",
    "        with open(file_path_satellite, 'wb') as img_file:\n",
    "            shutil.copyfileobj(r.raw, img_file)\n",
    "        del r\n",
    "    else:\n",
    "        print(r.status_code)\n",
    "        print(r.text)\n",
    "else:\n",
    "    print(f'Satellite Image already exists')"
   ]
  },
  {
   "cell_type": "markdown",
   "id": "e873a1aa-17f2-4891-8c5e-9b6f4c57c3d4",
   "metadata": {},
   "source": [
    "### Download the Mask Image via Mapbox Static Tiles API"
   ]
  },
  {
   "cell_type": "code",
   "execution_count": null,
   "id": "b3b8ec7d-3660-4dd4-8d34-05acc303a9ce",
   "metadata": {},
   "outputs": [],
   "source": [
    "# mapbox://styles/nicojg/ckpfeprhy15kb17pa3je5o6h1"
   ]
  },
  {
   "cell_type": "code",
   "execution_count": null,
   "id": "a37d06e0-ce4e-4d0a-9b16-c7efafa5b73d",
   "metadata": {},
   "outputs": [],
   "source": [
    "username = 'nicojg'\n",
    "style_id = 'ckpfeprhy15kb17pa3je5o6h1'"
   ]
  },
  {
   "cell_type": "code",
   "execution_count": null,
   "id": "c8d792e0-9308-49d5-888a-4fe7b03646b9",
   "metadata": {},
   "outputs": [],
   "source": [
    "tilesize = px_width"
   ]
  },
  {
   "cell_type": "code",
   "execution_count": null,
   "id": "7fd6d9ca-7fd2-4e13-b4ac-936f81163741",
   "metadata": {},
   "outputs": [],
   "source": [
    "token = 'pk.eyJ1Ijoibmljb2pnIiwiYSI6ImNrcHljYjR0dzA2N2Yyb2pzazNjamhtMGoifQ.KzlCg0L861hO_DnNbEQ_UQ'"
   ]
  },
  {
   "cell_type": "code",
   "execution_count": null,
   "id": "0ff24785-5093-4213-91d8-bbd95b706c30",
   "metadata": {},
   "outputs": [],
   "source": [
    "!mkdir ./images/\n",
    "!mkdir ./images/mask/"
   ]
  },
  {
   "cell_type": "code",
   "execution_count": null,
   "id": "6ee52e22-aa00-4e01-8123-485bb3457523",
   "metadata": {},
   "outputs": [],
   "source": [
    "file_path_mask = f'images/mask/z{z}x{x}y{y}_px{px_width}.png'"
   ]
  },
  {
   "cell_type": "code",
   "execution_count": null,
   "id": "ef53ba12-971f-42bb-8935-7fe7fe73d5e0",
   "metadata": {},
   "outputs": [],
   "source": [
    "url_mask = f'https://api.mapbox.com/styles/v1/{username}/{style_id}/tiles/{tilesize}/{z}/{x}/{y}?access_token={token}'\n",
    "url_mask"
   ]
  },
  {
   "cell_type": "code",
   "execution_count": null,
   "id": "85dcc3a8-ff52-4c52-b1e1-bf13c0fa2fef",
   "metadata": {},
   "outputs": [],
   "source": [
    "if not os.path.isfile(file_path_mask):\n",
    "    r = requests.get(url_mask, stream=True)\n",
    "    if r.status_code==200:\n",
    "        print('Success')\n",
    "        with open(file_path_mask, 'wb') as img_file:\n",
    "            shutil.copyfileobj(r.raw, img_file)\n",
    "        del r\n",
    "    else:\n",
    "        print(r.status_code)\n",
    "        print(r.text)\n",
    "else:\n",
    "    print(f'Mask Image already exists')"
   ]
  },
  {
   "cell_type": "code",
   "execution_count": null,
   "id": "0f9a10ff-5c19-46e2-9528-299d9bbf7ffc",
   "metadata": {},
   "outputs": [],
   "source": []
  },
  {
   "cell_type": "markdown",
   "id": "e8591d19-268b-4431-9350-b6c9403bff2d",
   "metadata": {},
   "source": [
    "### Inspect the Images"
   ]
  },
  {
   "cell_type": "code",
   "execution_count": null,
   "id": "53f0115b-9db7-4f98-9877-cc35b9e7f49a",
   "metadata": {},
   "outputs": [],
   "source": [
    "from IPython.display import Image\n",
    "Image(filename=file_path_satellite) "
   ]
  },
  {
   "cell_type": "code",
   "execution_count": null,
   "id": "4f2fed09-5126-4508-8799-babde88d1d57",
   "metadata": {},
   "outputs": [],
   "source": [
    "Image(filename=file_path_mask) "
   ]
  },
  {
   "cell_type": "code",
   "execution_count": null,
   "id": "7820f25e-23e1-4a87-b2cc-1ae8391402dc",
   "metadata": {},
   "outputs": [],
   "source": []
  }
 ],
 "metadata": {
  "kernelspec": {
   "display_name": "Python 3",
   "language": "python",
   "name": "python3"
  },
  "language_info": {
   "codemirror_mode": {
    "name": "ipython",
    "version": 3
   },
   "file_extension": ".py",
   "mimetype": "text/x-python",
   "name": "python",
   "nbconvert_exporter": "python",
   "pygments_lexer": "ipython3",
   "version": "3.9.5"
  }
 },
 "nbformat": 4,
 "nbformat_minor": 5
}
