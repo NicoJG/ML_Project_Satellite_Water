{
 "cells": [
  {
   "cell_type": "code",
   "execution_count": null,
   "id": "85c1c1bf",
   "metadata": {},
   "outputs": [],
   "source": [
    "import geopandas\n",
    "import matplotlib.pyplot as plt\n",
    "%matplotlib notebook"
   ]
  },
  {
   "cell_type": "code",
   "execution_count": null,
   "id": "0cce36af",
   "metadata": {},
   "outputs": [],
   "source": [
    "print(geopandas.datasets.available)"
   ]
  },
  {
   "cell_type": "code",
   "execution_count": null,
   "id": "6cd2b739",
   "metadata": {},
   "outputs": [],
   "source": [
    "world = geopandas.read_file(geopandas.datasets.get_path('naturalearth_lowres'))\n",
    "cities = geopandas.read_file(geopandas.datasets.get_path('naturalearth_cities'))"
   ]
  },
  {
   "cell_type": "code",
   "execution_count": null,
   "id": "f9e7a9df",
   "metadata": {},
   "outputs": [],
   "source": [
    "print(world)"
   ]
  },
  {
   "cell_type": "code",
   "execution_count": null,
   "id": "78f36c74",
   "metadata": {},
   "outputs": [],
   "source": [
    "print(cities)"
   ]
  },
  {
   "cell_type": "code",
   "execution_count": null,
   "id": "b9549528",
   "metadata": {},
   "outputs": [],
   "source": [
    "\n",
    "world.plot()"
   ]
  },
  {
   "cell_type": "code",
   "execution_count": null,
   "id": "5e49d1d3",
   "metadata": {},
   "outputs": [],
   "source": [
    "print(world.loc[0,'geometry'])"
   ]
  },
  {
   "cell_type": "code",
   "execution_count": null,
   "id": "7836f2a8",
   "metadata": {
    "jupyter": {
     "outputs_hidden": true
    },
    "tags": []
   },
   "outputs": [],
   "source": [
    "dir(world)"
   ]
  },
  {
   "cell_type": "markdown",
   "id": "ddec6566",
   "metadata": {},
   "source": [
    "https://api.mapbox.com/v4/mapbox.mapbox-streets-v8/12/1171/1566.mvt?access_token=pk.eyJ1Ijoibmljb2pnIiwiYSI6ImNrcDc1bGhtdDA3cDAyd21qZnR2MTE4dTcifQ.P02LX2SUoF-EirCxFWZaqQ"
   ]
  },
  {
   "cell_type": "code",
   "execution_count": null,
   "id": "fac6e478",
   "metadata": {},
   "outputs": [],
   "source": [
    "import mapbox_vector_tile\n",
    "import requests"
   ]
  },
  {
   "cell_type": "code",
   "execution_count": null,
   "id": "be8f8be8",
   "metadata": {},
   "outputs": [],
   "source": [
    "import mercantile\n",
    "import json"
   ]
  },
  {
   "cell_type": "code",
   "execution_count": null,
   "id": "d13692e4",
   "metadata": {},
   "outputs": [],
   "source": [
    "tileset_id = 'mapbox.mapbox-streets-v8'\n",
    "zoom = 5\n",
    "lon = 7.5156\n",
    "lat = 51.4903\n",
    "tile = mercantile.tile(lon,lat,zoom)\n",
    "x = tile[0]\n",
    "y = tile[1]\n",
    "token = 'pk.eyJ1Ijoibmljb2pnIiwiYSI6ImNrcDc1bGhtdDA3cDAyd21qZnR2MTE4dTcifQ.P02LX2SUoF-EirCxFWZaqQ'\n",
    "url = f'https://api.mapbox.com/v4/{tileset_id}/{zoom}/{x}/{y}.mvt?access_token={token}'"
   ]
  },
  {
   "cell_type": "code",
   "execution_count": null,
   "id": "d08ef8a4",
   "metadata": {},
   "outputs": [],
   "source": [
    "#r = requests.get(url, stream=True)"
   ]
  },
  {
   "cell_type": "code",
   "execution_count": null,
   "id": "89211329",
   "metadata": {},
   "outputs": [],
   "source": [
    "url"
   ]
  },
  {
   "cell_type": "code",
   "execution_count": null,
   "id": "e5ca97c2",
   "metadata": {},
   "outputs": [],
   "source": [
    "vector_tile = mapbox_vector_tile.decode(r.content)"
   ]
  },
  {
   "cell_type": "code",
   "execution_count": null,
   "id": "8c00373d",
   "metadata": {},
   "outputs": [],
   "source": [
    "vector_tile.keys()"
   ]
  },
  {
   "cell_type": "code",
   "execution_count": null,
   "id": "2005e4b8",
   "metadata": {},
   "outputs": [],
   "source": [
    "geopandas.GeoDataFrame.from_features(vector_tile[\"water\"]['features']).plot()"
   ]
  },
  {
   "cell_type": "code",
   "execution_count": null,
   "id": "e6294b7f",
   "metadata": {},
   "outputs": [],
   "source": [
    "tileset_id = 'mapbox.country-boundaries-v1'"
   ]
  },
  {
   "cell_type": "code",
   "execution_count": null,
   "id": "fee2d007",
   "metadata": {},
   "outputs": [],
   "source": [
    "url = f'https://api.mapbox.com/v4/{tileset_id}/{zoom}/{x}/{y}.mvt?access_token={token}'"
   ]
  },
  {
   "cell_type": "code",
   "execution_count": null,
   "id": "ab1aa5c4",
   "metadata": {},
   "outputs": [],
   "source": [
    "#r = requests.get(url, stream=True)\n",
    "vector_tile = mapbox_vector_tile.decode(r.content)"
   ]
  },
  {
   "cell_type": "code",
   "execution_count": null,
   "id": "09e7ae28",
   "metadata": {
    "jupyter": {
     "outputs_hidden": true
    },
    "tags": []
   },
   "outputs": [],
   "source": [
    "vector_tile"
   ]
  },
  {
   "cell_type": "code",
   "execution_count": null,
   "id": "eb067bdc",
   "metadata": {},
   "outputs": [],
   "source": [
    "geopandas.GeoDataFrame.from_features(vector_tile[\"country_boundaries\"]['features']).plot(color='white', edgecolor='black')"
   ]
  },
  {
   "cell_type": "markdown",
   "id": "29e4a84e",
   "metadata": {},
   "source": [
    "# Natural Earth"
   ]
  },
  {
   "cell_type": "code",
   "execution_count": null,
   "id": "055e7223",
   "metadata": {},
   "outputs": [],
   "source": [
    "lakes_europe = geopandas.read_file('ne_10m_lakes_europe/ne_10m_lakes_europe.shp')"
   ]
  },
  {
   "cell_type": "code",
   "execution_count": null,
   "id": "89499c63",
   "metadata": {},
   "outputs": [],
   "source": [
    "lakes = geopandas.read_file('ne_10m_lakes/ne_10m_lakes.shp')"
   ]
  },
  {
   "cell_type": "code",
   "execution_count": null,
   "id": "f39311b0",
   "metadata": {},
   "outputs": [],
   "source": [
    "rivers = geopandas.read_file('ne_10m_rivers_lake_centerlines/ne_10m_rivers_lake_centerlines.shp')\n",
    "rivers_europe = geopandas.read_file('ne_10m_rivers_europe/ne_10m_rivers_europe.shp')"
   ]
  },
  {
   "cell_type": "code",
   "execution_count": null,
   "id": "a9f445d5",
   "metadata": {},
   "outputs": [],
   "source": [
    "countries = geopandas.read_file('ne_10m_admin_0_countries/ne_10m_admin_0_countries.shp')"
   ]
  },
  {
   "cell_type": "code",
   "execution_count": null,
   "id": "53798b67",
   "metadata": {},
   "outputs": [],
   "source": [
    "min_lon = 4\n",
    "max_lon = 8\n",
    "min_lat = 49\n",
    "max_lat = 53"
   ]
  },
  {
   "cell_type": "code",
   "execution_count": null,
   "id": "580a6efe",
   "metadata": {},
   "outputs": [],
   "source": [
    "ax = countries.plot(color='white', edgecolor='black')\n",
    "lakes.plot(ax=ax)\n",
    "lakes_europe.plot(ax=ax)\n",
    "#rivers.plot(ax=ax)\n",
    "#rivers_europe.plot(ax=ax)\n",
    "ax.set_xlim(min_lon,max_lon)\n",
    "ax.set_ylim(min_lat,max_lat)"
   ]
  },
  {
   "cell_type": "code",
   "execution_count": null,
   "id": "dd73524f",
   "metadata": {},
   "outputs": [],
   "source": []
  }
 ],
 "metadata": {
  "kernelspec": {
   "display_name": "Python 3",
   "language": "python",
   "name": "python3"
  },
  "language_info": {
   "codemirror_mode": {
    "name": "ipython",
    "version": 3
   },
   "file_extension": ".py",
   "mimetype": "text/x-python",
   "name": "python",
   "nbconvert_exporter": "python",
   "pygments_lexer": "ipython3",
   "version": "3.9.5"
  }
 },
 "nbformat": 4,
 "nbformat_minor": 5
}
