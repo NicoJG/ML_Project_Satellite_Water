{
 "cells": [
  {
   "cell_type": "markdown",
   "id": "0fa1ebbe-da4d-4468-a1ee-c7087105e780",
   "metadata": {},
   "source": [
    "# First try with 10 pictures"
   ]
  },
  {
   "cell_type": "markdown",
   "id": "a6f296c2-c70a-4a5a-a72e-9b6b1201b01a",
   "metadata": {},
   "source": [
    "### Imports"
   ]
  },
  {
   "cell_type": "code",
   "execution_count": null,
   "id": "e40bd807-3c5e-40ab-b754-2df8ed0150b8",
   "metadata": {},
   "outputs": [],
   "source": [
    "from ml_project.constants import mapbox, data, colors, paths\n",
    "import numpy as np\n",
    "import mercantile\n",
    "import requests\n",
    "import shutil\n",
    "import os.path"
   ]
  },
  {
   "cell_type": "markdown",
   "id": "55a74236-9bbb-48a7-a779-b4f2d91acf0d",
   "metadata": {},
   "source": [
    "### Coordinates of 10 lakes"
   ]
  },
  {
   "cell_type": "code",
   "execution_count": null,
   "id": "c3246a18-d90e-4fa4-9703-9ebe8989ec0e",
   "metadata": {},
   "outputs": [],
   "source": [
    "# lat, lon\n",
    "lakes = np.array([(51.569332099215956, 6.782405517660896), # Dinslaken Rotbachsee\n",
    "                  (51.71560814488259, 7.43189134599491783), # Ternscher See\n",
    "                  (51.74987831074649, 7.211598497023159) # Halterner Stausee\n",
    "                 ])\n",
    "lakes[0][0]"
   ]
  },
  {
   "cell_type": "markdown",
   "id": "8c936dfa-24e6-4466-91f6-285ff0dd40aa",
   "metadata": {},
   "source": [
    "### Function to get title coordinates"
   ]
  },
  {
   "cell_type": "code",
   "execution_count": null,
   "id": "a35efcdc-0ab7-4b22-ae2c-13f0213ec5f3",
   "metadata": {},
   "outputs": [],
   "source": [
    "def title_coordinates(lon, lat, z):\n",
    "    tile = mercantile.tile(lon, lat, z)\n",
    "    x, y = tile.x, tile.y\n",
    "    return x, y"
   ]
  },
  {
   "cell_type": "markdown",
   "id": "84802a01-6025-42c4-acbf-2ba913695a19",
   "metadata": {},
   "source": [
    "### Download Function for Satellite/Mask Images"
   ]
  },
  {
   "cell_type": "code",
   "execution_count": null,
   "id": "48d98352-38b0-4b5a-9c7a-b2ee02260248",
   "metadata": {},
   "outputs": [],
   "source": [
    "def download(url, path):\n",
    "    if not os.path.isfile(path):\n",
    "        r = requests.get(url, stream=True)\n",
    "        if r.status_code==200:\n",
    "            print('Success')\n",
    "            with open(path, 'wb') as img_file:\n",
    "                shutil.copyfileobj(r.raw, img_file)\n",
    "            del r\n",
    "        else:\n",
    "            print(r.status_code)\n",
    "            print(r.text)\n",
    "    else:\n",
    "        print(f'Satellite Image already exists')"
   ]
  },
  {
   "cell_type": "markdown",
   "id": "994b2244-77e8-4bcf-809f-be470d15f658",
   "metadata": {
    "tags": []
   },
   "source": [
    "### Constants"
   ]
  },
  {
   "cell_type": "code",
   "execution_count": null,
   "id": "c333dc93-b524-4daa-9703-ff989e810496",
   "metadata": {},
   "outputs": [],
   "source": [
    "# file paths\n",
    "x, y = title_coordinates(lakes[0,1], lakes[0,0], data.Z)\n",
    "path_satellite = paths.FILE_SATELLITE_IMAGE(x, y, data.Z)\n",
    "path_mask = paths.FILE_MASK_IMAGE(x, y, data.Z)\n",
    "path_mask, path_satellite"
   ]
  },
  {
   "cell_type": "code",
   "execution_count": null,
   "id": "b3e85865-b731-4317-b087-4c217e2449a8",
   "metadata": {},
   "outputs": [],
   "source": [
    "# url for requests\n",
    "url_satellite = mapbox.URL_SATELLITE(x, y, data.Z)\n",
    "url_mask = mapbox.URL_MASK(x, y, data.Z)\n",
    "url_mask, url_satellite"
   ]
  },
  {
   "cell_type": "markdown",
   "id": "1b346c62-d4d8-4bf1-b48d-5e4a94ec113a",
   "metadata": {},
   "source": [
    "### Download the Satellite Image via Mapbox Raster Tile API"
   ]
  },
  {
   "cell_type": "code",
   "execution_count": null,
   "id": "1169667a-a043-4bd6-a490-23aa86569e96",
   "metadata": {},
   "outputs": [],
   "source": [
    "# benutz am besten die URL Funktionen aus constants.mapbox\n",
    "# und die FILE Funktionen aus constants.paths\n",
    "# da sind jetzt die wichtigsten Konstanten schon direkt drin\n",
    "# und du musst nur noch x,y,z angeben"
   ]
  },
  {
   "cell_type": "code",
   "execution_count": null,
   "id": "b2af0a26-f5a1-43a8-a875-b0a581f6945b",
   "metadata": {},
   "outputs": [],
   "source": [
    "download(url_satellite, path_satellite)"
   ]
  },
  {
   "cell_type": "markdown",
   "id": "da3d2359-a3ce-406f-a303-cf47addde009",
   "metadata": {},
   "source": [
    "### Download the Mask Image via Mapbox Static Tiles API"
   ]
  }
 ],
 "metadata": {
  "kernelspec": {
   "display_name": "Python 3",
   "language": "python",
   "name": "python3"
  },
  "language_info": {
   "codemirror_mode": {
    "name": "ipython",
    "version": 3
   },
   "file_extension": ".py",
   "mimetype": "text/x-python",
   "name": "python",
   "nbconvert_exporter": "python",
   "pygments_lexer": "ipython3",
   "version": "3.9.5"
  }
 },
 "nbformat": 4,
 "nbformat_minor": 5
}
