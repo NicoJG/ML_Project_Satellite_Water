{
 "cells": [
  {
   "cell_type": "markdown",
   "id": "0fa1ebbe-da4d-4468-a1ee-c7087105e780",
   "metadata": {},
   "source": [
    "# First try with 10 pictures"
   ]
  },
  {
   "cell_type": "markdown",
   "id": "a6f296c2-c70a-4a5a-a72e-9b6b1201b01a",
   "metadata": {},
   "source": [
    "### Imports"
   ]
  },
  {
   "cell_type": "code",
   "execution_count": null,
   "id": "e40bd807-3c5e-40ab-b754-2df8ed0150b8",
   "metadata": {},
   "outputs": [],
   "source": [
    "import mercantile\n",
    "import requests\n",
    "import shutil\n",
    "import os.path"
   ]
  },
  {
   "cell_type": "markdown",
   "id": "55a74236-9bbb-48a7-a779-b4f2d91acf0d",
   "metadata": {},
   "source": [
    "### Coordinates of 10 lakes"
   ]
  },
  {
   "cell_type": "code",
   "execution_count": null,
   "id": "c3246a18-d90e-4fa4-9703-9ebe8989ec0e",
   "metadata": {},
   "outputs": [],
   "source": [
    "# Dinslaken Rotbachsee\n",
    "lat1,lon1 = 51.569332099215956, 6.782405517660896\n",
    "# Ternscher See\n",
    "lat2,lon2 = 51.71560814488259, 7.43189134599491783\n",
    "# Halterner Stausee\n",
    "lat3,lon3 = 51.74987831074649, 7.211598497023159\n",
    "z = 15"
   ]
  },
  {
   "cell_type": "code",
   "execution_count": null,
   "id": "dae6e157-48ac-41e3-815b-b0adea2fe6b6",
   "metadata": {},
   "outputs": [],
   "source": [
    "# Tile coordinates\n",
    "tile = mercantile.tile(lon1,lat1,z)\n",
    "x, y = tile.x, tile.y\n",
    "x, y"
   ]
  },
  {
   "cell_type": "markdown",
   "id": "f9483af8-d095-426b-8f1d-649943d8e031",
   "metadata": {},
   "source": [
    "### Create folder for mask and satellite images"
   ]
  },
  {
   "cell_type": "code",
   "execution_count": null,
   "id": "8fc217d4-0c61-4f7b-8939-14fd0bf50165",
   "metadata": {},
   "outputs": [],
   "source": [
    "!mkdir ../../ML_Project_Data/\n",
    "!mkdir ../../ML_Project_Data/satellite/\n",
    "!mkdir ../../ML_Project_Data/mask/"
   ]
  },
  {
   "cell_type": "markdown",
   "id": "84802a01-6025-42c4-acbf-2ba913695a19",
   "metadata": {},
   "source": [
    "### Download Function for Satellite Images via Mapbox Raster Tile API"
   ]
  },
  {
   "cell_type": "code",
   "execution_count": null,
   "id": "c333dc93-b524-4daa-9703-ff989e810496",
   "metadata": {},
   "outputs": [],
   "source": [
    "tileset_id = 'mapbox.satellite'\n",
    "\n",
    "token = 'pk.eyJ1Ijoibmljb2pnIiwiYSI6ImNrcHljYjR0dzA2N2Yyb2pzazNjamhtMGoifQ.KzlCg0L861hO_DnNbEQ_UQ'\n",
    "\n",
    "raster_format = 'jpg90'"
   ]
  },
  {
   "cell_type": "code",
   "execution_count": null,
   "id": "76664fe2-079f-4954-a04a-9c255dbcb08a",
   "metadata": {},
   "outputs": [],
   "source": [
    "# double the DPI? 256x256 or 512x512\n",
    "x2 = '' # either '@2x' or ''\n",
    "if x2 == '':\n",
    "    px_width = 256\n",
    "elif x2 == '@2x':\n",
    "    px_width = 512"
   ]
  },
  {
   "cell_type": "code",
   "execution_count": null,
   "id": "e8f5e54a-e2cd-44be-9dd4-3a452f861ea4",
   "metadata": {},
   "outputs": [],
   "source": [
    "file_path_satellite = f'../../ML_Project_Data/s/satellite/z{z}x{x}y{y}_px{px_width}.jpg'\n",
    "file_path_satellite"
   ]
  },
  {
   "cell_type": "code",
   "execution_count": null,
   "id": "20924438-4669-461f-b2ee-c540d056b5be",
   "metadata": {
    "tags": []
   },
   "outputs": [],
   "source": [
    "def download_mask(file):\n",
    "    if not os.path.isfile(file_path_satellite):\n",
    "        r = requests.get(url_satellite, stream=True)\n",
    "        if r.status_code==200:\n",
    "            print('Success')\n",
    "            with open(file_path_satellite, 'wb') as img_file:\n",
    "                shutil.copyfileobj(r.raw, img_file)\n",
    "            del r\n",
    "        else:\n",
    "            print(r.status_code)\n",
    "            print(r.text)\n",
    "    else:\n",
    "        print(f'Satellite Image already exists')"
   ]
  },
  {
   "cell_type": "code",
   "execution_count": null,
   "id": "48d98352-38b0-4b5a-9c7a-b2ee02260248",
   "metadata": {},
   "outputs": [],
   "source": [
    "def download_satellite(file_path_satellite):\n",
    "    if not os.path.isfile(file_path_satellite):\n",
    "        r = requests.get(url_satellite, stream=True)\n",
    "        if r.status_code==200:\n",
    "            print('Success')\n",
    "            with open(file_path_satellite, 'wb') as img_file:\n",
    "                shutil.copyfileobj(r.raw, img_file)\n",
    "            del r\n",
    "        else:\n",
    "            print(r.status_code)\n",
    "            print(r.text)\n",
    "    else:\n",
    "        print(f'Satellite Image already exists')"
   ]
  },
  {
   "cell_type": "markdown",
   "id": "da3d2359-a3ce-406f-a303-cf47addde009",
   "metadata": {},
   "source": [
    "### Download the Mask Image via Mapbox Static Tiles API"
   ]
  },
  {
   "cell_type": "code",
   "execution_count": null,
   "id": "52c813ca-4386-4ce1-ba1f-e1b415c206b2",
   "metadata": {},
   "outputs": [],
   "source": [
    "username = 'samuel112110'\n",
    "style_id = 'ckpfeprhy15kb17pa3je5o6h1'\n"
   ]
  }
 ],
 "metadata": {
  "kernelspec": {
   "display_name": "Python 3",
   "language": "python",
   "name": "python3"
  },
  "language_info": {
   "codemirror_mode": {
    "name": "ipython",
    "version": 3
   },
   "file_extension": ".py",
   "mimetype": "text/x-python",
   "name": "python",
   "nbconvert_exporter": "python",
   "pygments_lexer": "ipython3",
   "version": "3.9.5"
  }
 },
 "nbformat": 4,
 "nbformat_minor": 5
}
