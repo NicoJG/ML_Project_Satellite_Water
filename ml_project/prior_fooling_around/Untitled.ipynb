{
 "cells": [
  {
   "cell_type": "markdown",
   "id": "0fa1ebbe-da4d-4468-a1ee-c7087105e780",
   "metadata": {},
   "source": [
    "# First try with 10 pictures"
   ]
  },
  {
   "cell_type": "markdown",
   "id": "a6f296c2-c70a-4a5a-a72e-9b6b1201b01a",
   "metadata": {},
   "source": [
    "### Imports"
   ]
  },
  {
   "cell_type": "code",
   "execution_count": null,
   "id": "e40bd807-3c5e-40ab-b754-2df8ed0150b8",
   "metadata": {},
   "outputs": [],
   "source": [
    "from ml_project.constants import mapbox, data, colors\n",
    "import numpy as np\n",
    "import mercantile\n",
    "import requests\n",
    "import shutil\n",
    "import os.path"
   ]
  },
  {
   "cell_type": "markdown",
   "id": "55a74236-9bbb-48a7-a779-b4f2d91acf0d",
   "metadata": {},
   "source": [
    "### Coordinates of 10 lakes"
   ]
  },
  {
   "cell_type": "code",
   "execution_count": null,
   "id": "c3246a18-d90e-4fa4-9703-9ebe8989ec0e",
   "metadata": {},
   "outputs": [],
   "source": [
    "# Dinslaken Rotbachsee\n",
    "lat1,lon1 = 51.569332099215956, 6.782405517660896\n",
    "# Ternscher See\n",
    "lat2,lon2 = 51.71560814488259, 7.43189134599491783\n",
    "# Halterner Stausee\n",
    "lat3,lon3 = 51.74987831074649, 7.211598497023159\n",
    "\n",
    "lakes = np.array([(51.569332099215956, 6.782405517660896), # Dinslaken Rotbachsee\n",
    "                  (51.71560814488259, 7.43189134599491783), # Ternscher See\n",
    "                  (51.74987831074649, 7.211598497023159) # Halterner Stausee\n",
    "                 ])\n",
    "\n",
    "print(lakes[0][0])"
   ]
  },
  {
   "cell_type": "markdown",
   "id": "f9483af8-d095-426b-8f1d-649943d8e031",
   "metadata": {},
   "source": [
    "### Create folder for mask and satellite images"
   ]
  },
  {
   "cell_type": "code",
   "execution_count": null,
   "id": "8fc217d4-0c61-4f7b-8939-14fd0bf50165",
   "metadata": {},
   "outputs": [],
   "source": [
    "!mkdir ../../data/\n",
    "!mkdir ../../data/satellite/\n",
    "!mkdir ../../data/mask/"
   ]
  },
  {
   "cell_type": "markdown",
   "id": "8c936dfa-24e6-4466-91f6-285ff0dd40aa",
   "metadata": {},
   "source": [
    "### Function to get title coordinates"
   ]
  },
  {
   "cell_type": "code",
   "execution_count": null,
   "id": "a35efcdc-0ab7-4b22-ae2c-13f0213ec5f3",
   "metadata": {},
   "outputs": [],
   "source": [
    "def title_coordinates(lon, lat, z):\n",
    "    tile = mercantile.tile(lon, lat, z)\n",
    "    x, y = tile.x, tile.y\n",
    "    return x, y"
   ]
  },
  {
   "cell_type": "markdown",
   "id": "84802a01-6025-42c4-acbf-2ba913695a19",
   "metadata": {},
   "source": [
    "### Download Function for Satellite/Mask Images"
   ]
  },
  {
   "cell_type": "code",
   "execution_count": null,
   "id": "48d98352-38b0-4b5a-9c7a-b2ee02260248",
   "metadata": {},
   "outputs": [],
   "source": [
    "def download(path):\n",
    "    if not os.path.isfile(path):\n",
    "        r = requests.get(url_satellite, stream=True)\n",
    "        if r.status_code==200:\n",
    "            print('Success')\n",
    "            with open(path, 'wb') as img_file:\n",
    "                shutil.copyfileobj(r.raw, img_file)\n",
    "            del r\n",
    "        else:\n",
    "            print(r.status_code)\n",
    "            print(r.text)\n",
    "    else:\n",
    "        print(f'Satellite Image already exists')"
   ]
  },
  {
   "cell_type": "markdown",
   "id": "1b346c62-d4d8-4bf1-b48d-5e4a94ec113a",
   "metadata": {},
   "source": [
    "### Download the Satellite Image via Mapbox Raster Tile API"
   ]
  },
  {
   "cell_type": "code",
   "execution_count": null,
   "id": "c333dc93-b524-4daa-9703-ff989e810496",
   "metadata": {},
   "outputs": [],
   "source": [
    "tileset_id = mapbox.TILESET_ID\n",
    "px_width = data.PX_WIDTH\n",
    "token = mapbox.TOKEN\n"
   ]
  },
  {
   "cell_type": "code",
   "execution_count": null,
   "id": "e8f5e54a-e2cd-44be-9dd4-3a452f861ea4",
   "metadata": {},
   "outputs": [],
   "source": [
    "#file_path_satellite = f'../../ML_Project_Data/s/satellite/z{z}x{x}y{y}_px{px_width}.jpg'\n",
    "#file_path_satellite"
   ]
  },
  {
   "cell_type": "markdown",
   "id": "da3d2359-a3ce-406f-a303-cf47addde009",
   "metadata": {},
   "source": [
    "### Download the Mask Image via Mapbox Static Tiles API"
   ]
  },
  {
   "cell_type": "code",
   "execution_count": null,
   "id": "52c813ca-4386-4ce1-ba1f-e1b415c206b2",
   "metadata": {},
   "outputs": [],
   "source": [
    "#username = 'samuel112110'\n",
    "#style_id = 'ckpfeprhy15kb17pa3je5o6h1'\n"
   ]
  }
 ],
 "metadata": {
  "kernelspec": {
   "display_name": "Python 3",
   "language": "python",
   "name": "python3"
  },
  "language_info": {
   "codemirror_mode": {
    "name": "ipython",
    "version": 3
   },
   "file_extension": ".py",
   "mimetype": "text/x-python",
   "name": "python",
   "nbconvert_exporter": "python",
   "pygments_lexer": "ipython3",
   "version": "3.9.5"
  }
 },
 "nbformat": 4,
 "nbformat_minor": 5
}
