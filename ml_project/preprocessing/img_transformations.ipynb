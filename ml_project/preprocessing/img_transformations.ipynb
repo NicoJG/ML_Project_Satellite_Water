{
 "cells": [
  {
   "cell_type": "markdown",
   "id": "c3437627-0fed-4747-b7d1-834c4045cd03",
   "metadata": {},
   "source": [
    "# What's in this Notebook?\n",
    "\n",
    "The code to make copies of all the images at another resolution.  \n",
    "And to make the mask images to 1 channel grayscale images."
   ]
  },
  {
   "cell_type": "markdown",
   "id": "716b5558-17ce-4038-9370-5b739ae7fc0b",
   "metadata": {},
   "source": [
    "# Imports"
   ]
  },
  {
   "cell_type": "code",
   "execution_count": null,
   "id": "d95b9f7d-d452-4913-89ce-9ef806e26a2b",
   "metadata": {},
   "outputs": [],
   "source": [
    "from ml_project.utils import paths,files"
   ]
  },
  {
   "cell_type": "code",
   "execution_count": null,
   "id": "57000cdb-e1a5-4d2b-ba3b-4b1533d0f315",
   "metadata": {},
   "outputs": [],
   "source": [
    "import numpy as np\n",
    "import pandas as pd\n",
    "import matplotlib.pyplot as plt"
   ]
  },
  {
   "cell_type": "code",
   "execution_count": null,
   "id": "f6d9f54b-6ab5-4b32-b687-407398e431e6",
   "metadata": {},
   "outputs": [],
   "source": [
    "from skimage.io import imread, imsave\n",
    "from skimage.transform import resize\n",
    "from skimage.color import rgb2gray"
   ]
  },
  {
   "cell_type": "code",
   "execution_count": null,
   "id": "14112e65-400f-4475-94de-05f7d50f522d",
   "metadata": {},
   "outputs": [],
   "source": [
    "from tqdm.notebook import tqdm"
   ]
  },
  {
   "cell_type": "markdown",
   "id": "a95d9dd9-2829-48d0-9070-fa267c0f4116",
   "metadata": {},
   "source": [
    "# Load the dataset"
   ]
  },
  {
   "cell_type": "code",
   "execution_count": null,
   "id": "88aac653-63f8-4961-8fe9-50fe3e077c49",
   "metadata": {},
   "outputs": [],
   "source": [
    "samples_df = pd.read_csv(paths.FILE_SAMPLES)"
   ]
  },
  {
   "cell_type": "code",
   "execution_count": null,
   "id": "d0af5d2b-dd53-4a33-a1b4-596e30506809",
   "metadata": {},
   "outputs": [],
   "source": [
    "path_satellite = paths.SATELLITE_IMAGES\n",
    "path_mask = paths.MASK_IMAGES"
   ]
  },
  {
   "cell_type": "code",
   "execution_count": null,
   "id": "4f37ba95-6e4b-44c7-aa38-8637951ab456",
   "metadata": {},
   "outputs": [],
   "source": [
    "samples_df['abs_satellite_file'] = samples_df['satellite_file'].apply(lambda file: path_satellite/file)\n",
    "samples_df['abs_mask_file'] = samples_df['mask_file'].apply(lambda file: path_mask/file)"
   ]
  },
  {
   "cell_type": "markdown",
   "id": "b4567786-c202-4f21-a0ac-2698d8801482",
   "metadata": {},
   "source": [
    "# Inspect different sizes and parameters"
   ]
  },
  {
   "cell_type": "code",
   "execution_count": null,
   "id": "1283165a-e70f-4736-823c-ddf8e77f1e8e",
   "metadata": {},
   "outputs": [],
   "source": [
    "def plot_images(imgs,shape=None,img_height=10,labels=None):\n",
    "    if shape is None:\n",
    "        shape = (1,len(imgs))\n",
    "        \n",
    "    figsize = (img_height*shape[0], img_height*shape[1])\n",
    "    fig, axs = plt.subplots(shape[0],shape[1], figsize=figsize)\n",
    "    for i,(img, ax) in enumerate(zip(imgs,axs.flatten())):\n",
    "        ax.imshow(img)\n",
    "        ax.set_xticks([])\n",
    "        ax.set_yticks([])\n",
    "        if labels is not None:\n",
    "            ax.set_title(labels[i])\n",
    "        \n",
    "    fig.tight_layout()\n",
    "    plt.show()"
   ]
  },
  {
   "cell_type": "code",
   "execution_count": null,
   "id": "23c0c5a9-1835-4b3a-b144-6ceb62829778",
   "metadata": {},
   "outputs": [],
   "source": [
    "def plot_different_sizes(img,sizes,fig_height=10,anti_aliasing=True):\n",
    "    imgs = [resize(img,(size,size),anti_aliasing=anti_aliasing) for size in sizes]\n",
    "    labels = [f'size={size}' for size in sizes]\n",
    "    plot_images(imgs,img_height=fig_height,labels=labels)\n",
    "    "
   ]
  },
  {
   "cell_type": "code",
   "execution_count": null,
   "id": "1e207df4-a069-4a53-8486-1f5a89d8baa7",
   "metadata": {},
   "outputs": [],
   "source": [
    "# compare different sizes\n",
    "sizes = [256,128,64,32,16,8]\n",
    "\n",
    "for i,sample in samples_df.sample(n=2).iterrows():\n",
    "    img_satellite = imread(sample['abs_satellite_file'])\n",
    "    img_mask = imread(sample['abs_mask_file'])\n",
    "    plot_different_sizes(img_satellite,sizes,fig_height=10)\n",
    "    plot_different_sizes(img_mask,sizes,fig_height=10)"
   ]
  },
  {
   "cell_type": "code",
   "execution_count": null,
   "id": "859c9cee-d77e-45a2-b2da-96f207668a71",
   "metadata": {},
   "outputs": [],
   "source": [
    "# compare possible sizes only\n",
    "sizes = [256,128,64]\n",
    "\n",
    "for i,sample in samples_df.sample(n=3).iterrows():\n",
    "    img_satellite = imread(sample['abs_satellite_file'])\n",
    "    img_mask = imread(sample['abs_mask_file'])\n",
    "    plot_different_sizes(img_satellite,sizes,fig_height=20)\n",
    "    plot_different_sizes(img_mask,sizes,fig_height=20)"
   ]
  },
  {
   "cell_type": "code",
   "execution_count": null,
   "id": "ceb5c956-fc94-4c84-97b9-2832980fe571",
   "metadata": {},
   "outputs": [],
   "source": [
    "# compare anti_aliasing vs no anti_aliasing\n",
    "sizes = [256,128,64]\n",
    "\n",
    "for i,sample in samples_df.sample(n=2).iterrows():\n",
    "    img_satellite = imread(sample['abs_satellite_file'])\n",
    "    img_mask = imread(sample['abs_mask_file'])\n",
    "    plot_different_sizes(img_satellite,sizes,fig_height=20)\n",
    "    plot_different_sizes(img_satellite,sizes,fig_height=20,anti_aliasing=False)\n",
    "    plot_different_sizes(img_mask,sizes,fig_height=20)\n",
    "    plot_different_sizes(img_mask,sizes,fig_height=20,anti_aliasing=False)"
   ]
  },
  {
   "cell_type": "markdown",
   "id": "040e827d-2d9a-44a8-ab3f-c5d3900aa91a",
   "metadata": {},
   "source": [
    "# Inspect the channels and threshold "
   ]
  },
  {
   "cell_type": "code",
   "execution_count": null,
   "id": "f025e928-c5bd-4642-b5e2-49900b505977",
   "metadata": {},
   "outputs": [],
   "source": [
    "# check if resizing changes the channels and scale\n",
    "for i,sample in samples_df.sample(n=3).iterrows():\n",
    "    img_satellite = imread(sample['abs_satellite_file'])\n",
    "    img_satellite_resized = resize(img_satellite,(128,128),anti_aliasing=True,preserve_range=True)\n",
    "    print(f'before: max={np.max(img_satellite)} ; shape={img_satellite.shape}')\n",
    "    print(f'after : max={np.max(img_satellite_resized)} ; shape={img_satellite_resized.shape}')"
   ]
  },
  {
   "cell_type": "code",
   "execution_count": null,
   "id": "12b70cf7-8870-4f08-ba6e-deb2b9ac87dc",
   "metadata": {},
   "outputs": [],
   "source": [
    "# check if resizing changes the channels and scale\n",
    "for i,sample in samples_df.sample(n=3).iterrows():\n",
    "    img_mask = imread(sample['abs_mask_file'])\n",
    "    img_mask_resized = resize(img_mask,(128,128),anti_aliasing=True,preserve_range=True)\n",
    "    print(f'before: max={np.max(img_mask)} ; shape={img_mask.shape}')\n",
    "    print(f'after : max={np.max(img_mask_resized)} ; shape={img_mask_resized.shape}')"
   ]
  },
  {
   "cell_type": "code",
   "execution_count": null,
   "id": "2c07637a-0986-471b-9943-614903e2fede",
   "metadata": {},
   "outputs": [],
   "source": [
    "# check if grayscale changes channels\n",
    "for i,sample in samples_df.sample(n=3).iterrows():\n",
    "    img_mask = imread(sample['abs_mask_file'])\n",
    "    img_mask_resized = resize(img_mask,(128,128),anti_aliasing=True,preserve_range=True).astype(int)\n",
    "    img_mask_gray = img_mask_resized[:,:,2] if len(img_mask.shape) > 2 else img_mask_resized \n",
    "    img_mask_threshold = (img_mask_gray > 100)*255\n",
    "    print(f'before: max={np.max(img_mask)} ; shape={img_mask.shape}')\n",
    "    print(f'gray  : max={np.max(img_mask_gray)} ; shape={img_mask_gray.shape}')\n",
    "    print(f'thresh: max={np.max(img_mask_threshold)} ; shape={img_mask_threshold.shape}')\n",
    "    print(np.unique(img_mask_threshold))"
   ]
  },
  {
   "cell_type": "code",
   "execution_count": null,
   "id": "af94830f-0a3d-4930-b34f-8c647e46c710",
   "metadata": {},
   "outputs": [],
   "source": [
    "# check the difference in original -> grayscale -> threshold\n",
    "threshold = 100\n",
    "\n",
    "for i,sample in samples_df.sample(n=3).iterrows():\n",
    "    img_mask = imread(sample['abs_mask_file'])\n",
    "    img_mask_resized = resize(img_mask,(128,128),anti_aliasing=True,preserve_range=True).astype(int)\n",
    "    img_mask_grayscale = img_mask_resized[:,:,2] if len(img_mask.shape) > 2 else img_mask_resized \n",
    "    img_mask_threshold = img_mask_grayscale > threshold\n",
    "    imgs = [img_mask_resized,img_mask_grayscale,img_mask_threshold]\n",
    "    labels = ['resized','grayscale',f'threshold={threshold}']\n",
    "    plot_images(imgs,img_height=10,labels=labels)"
   ]
  },
  {
   "cell_type": "markdown",
   "id": "0dc48dce-d77b-44bc-98d4-613a1e6e2cc1",
   "metadata": {},
   "source": [
    "# Preprocess all Images (resize+channels)"
   ]
  },
  {
   "cell_type": "code",
   "execution_count": null,
   "id": "eeae687e-4ed0-4869-b11a-f9f720613ba9",
   "metadata": {},
   "outputs": [],
   "source": [
    "anti_aliasing = True\n",
    "px = 128\n",
    "mask_threshold = 100"
   ]
  },
  {
   "cell_type": "code",
   "execution_count": null,
   "id": "dbd7facb-f11d-4679-8831-8b7952ad8412",
   "metadata": {},
   "outputs": [],
   "source": [
    "def preprocess_img(file_path, preprocessed_file_path, img_type):\n",
    "    img = imread(file_path)\n",
    "    img = resize(img,(px,px),anti_aliasing=anti_aliasing,preserve_range=True)\n",
    "    if img_type == 'mask' and len(img.shape) > 2:\n",
    "        img = img[:,:,2]\n",
    "        img = (img > mask_threshold)*255\n",
    "    img = img.astype(np.uint8)\n",
    "    imsave(preprocessed_file_path,img, check_contrast=False)"
   ]
  },
  {
   "cell_type": "code",
   "execution_count": null,
   "id": "a2deb71a-6dc8-4f6f-b36d-d3a734711b0b",
   "metadata": {},
   "outputs": [],
   "source": [
    "samples_df['abs_satellite_file_128'] = samples_df['satellite_file'].apply(lambda x: paths.SATELLITE_IMAGES_128 / x)\n",
    "samples_df['abs_mask_file_128'] = samples_df['mask_file'].apply(lambda x: paths.MASK_IMAGES_128 / x)"
   ]
  },
  {
   "cell_type": "code",
   "execution_count": null,
   "id": "07d8648d-a8ea-4939-8b86-eea978daf285",
   "metadata": {},
   "outputs": [],
   "source": [
    "#for i,sample in tqdm(samples_df.iterrows(),total=samples_df.shape[0]):\n",
    "#    preprocess_img(sample['abs_satellite_file'],sample['abs_satellite_file_128'],'satellite')\n",
    "#    preprocess_img(sample['abs_mask_file'],sample['abs_mask_file_128'],'mask')"
   ]
  },
  {
   "cell_type": "markdown",
   "id": "488146ff-4480-413f-8cf5-900f1b0674ab",
   "metadata": {},
   "source": [
    "# Inspect the Preprocessed Images"
   ]
  },
  {
   "cell_type": "code",
   "execution_count": null,
   "id": "2467a4be-b1f5-48d0-9237-b0b98925c4fa",
   "metadata": {},
   "outputs": [],
   "source": [
    "for i,sample in samples_df.sample(n=5).iterrows():\n",
    "    img_satellite = imread(sample['abs_satellite_file_128'])\n",
    "    img_mask = imread(sample['abs_mask_file_128'])\n",
    "    print(np.unique(img_mask))\n",
    "    print(img_mask.shape)\n",
    "    plot_images([img_satellite,img_mask],img_height=15,labels=['satellite_128px','mask_binary_128px'])"
   ]
  },
  {
   "cell_type": "code",
   "execution_count": null,
   "id": "52dfa78b-3248-43bd-8d77-807cce2939ce",
   "metadata": {},
   "outputs": [],
   "source": []
  }
 ],
 "metadata": {
  "kernelspec": {
   "display_name": "Python 3",
   "language": "python",
   "name": "python3"
  },
  "language_info": {
   "codemirror_mode": {
    "name": "ipython",
    "version": 3
   },
   "file_extension": ".py",
   "mimetype": "text/x-python",
   "name": "python",
   "nbconvert_exporter": "python",
   "pygments_lexer": "ipython3",
   "version": "3.9.5"
  }
 },
 "nbformat": 4,
 "nbformat_minor": 5
}
