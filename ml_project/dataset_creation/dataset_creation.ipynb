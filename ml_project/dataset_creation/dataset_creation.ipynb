{
 "cells": [
  {
   "cell_type": "markdown",
   "id": "8eab1016-cd01-4b3b-9d17-fb9ef1276281",
   "metadata": {},
   "source": [
    "# What's in this Notebook?"
   ]
  },
  {
   "cell_type": "markdown",
   "id": "f2e5fa4f-7d32-434a-81bf-88e94db79663",
   "metadata": {},
   "source": [
    "The code which generates the dataset of random Image pairs.  \n",
    "But not the inspection of this dataset.  \n",
    "\n",
    "First for every step a function is defined. (in the order of operation)  \n",
    "Then those functions are put together in a for loop at the end."
   ]
  },
  {
   "cell_type": "markdown",
   "id": "aa194dde-d39f-4eba-965b-50793b1f0320",
   "metadata": {},
   "source": [
    "# Imports"
   ]
  },
  {
   "cell_type": "code",
   "execution_count": null,
   "id": "8394456c-8d47-432c-a46e-d88582c25773",
   "metadata": {},
   "outputs": [],
   "source": [
    "from ml_project.constants import paths,data,mapbox\n",
    "from ml_project.utils import files"
   ]
  },
  {
   "cell_type": "code",
   "execution_count": null,
   "id": "4858211e-376f-4fdd-ba12-7c3782a024ce",
   "metadata": {},
   "outputs": [],
   "source": [
    "import numpy as np\n",
    "import pandas as pd\n",
    "import matplotlib.pyplot as plt\n",
    "import requests"
   ]
  },
  {
   "cell_type": "code",
   "execution_count": null,
   "id": "7f4c6e29-e2dc-4371-8404-f96552cce266",
   "metadata": {},
   "outputs": [],
   "source": [
    "import geopandas as gpd\n",
    "import shapely.geometry\n",
    "from shapely.geometry import Point"
   ]
  },
  {
   "cell_type": "code",
   "execution_count": null,
   "id": "41e7fb06-8d9f-4510-b153-085373886fc9",
   "metadata": {},
   "outputs": [],
   "source": [
    "import mercantile"
   ]
  },
  {
   "cell_type": "code",
   "execution_count": null,
   "id": "c9a34cc1-a9a2-4d13-8f03-b83df477074d",
   "metadata": {},
   "outputs": [],
   "source": [
    "# for progress bars\n",
    "from tqdm.notebook import tqdm"
   ]
  },
  {
   "cell_type": "markdown",
   "id": "b6baa5e0-7460-44e4-af99-388297ec372e",
   "metadata": {},
   "source": [
    "# Define Variables"
   ]
  },
  {
   "cell_type": "code",
   "execution_count": null,
   "id": "759144f8-d368-4eae-8f44-364cd618b66c",
   "metadata": {},
   "outputs": [],
   "source": [
    "batch_size = 1000 # number of random coordinates\n",
    "epochs = 10 # number batches"
   ]
  },
  {
   "cell_type": "markdown",
   "id": "4a9a94a3-1e1e-4d29-a212-9e32f1f36ab9",
   "metadata": {},
   "source": [
    "# Load the needed external data"
   ]
  },
  {
   "cell_type": "code",
   "execution_count": null,
   "id": "dae26a0f-e5cf-4b27-8fb3-4c4ce90dac0e",
   "metadata": {},
   "outputs": [],
   "source": [
    "def load_ne_datasets():\n",
    "    global countries_eu_110m, countries_eu_10m\n",
    "    countries_eu_110m = files.load_ne_countries_eu_110m()\n",
    "    countries_eu_10m = files.load_ne_countries_eu_10m()"
   ]
  },
  {
   "cell_type": "markdown",
   "id": "4517f5e3-da96-4844-8d2c-faf8c708e136",
   "metadata": {},
   "source": [
    "# Draw random points on european land"
   ]
  },
  {
   "cell_type": "code",
   "execution_count": null,
   "id": "aa491087-0a9f-4fca-b284-c62adf4985c8",
   "metadata": {},
   "outputs": [],
   "source": [
    "def draw_points_in_countries(rng,batch_size):\n",
    "    global countries_eu_110m,combined_countries_boundary\n",
    "    # draw random points\n",
    "    lon = rng.uniform(low=data.LON_MIN,high=data.LON_MAX,size=batch_size)\n",
    "    lat = rng.uniform(low=data.LAT_MIN,high=data.LAT_MAX,size=batch_size)\n",
    "    points = [Point(lon,lat) for lon,lat in zip(lon,lat)]\n",
    "    points_df = gpd.GeoDataFrame(geometry=points,crs='EPSG:4326')\n",
    "    \n",
    "    # check if they are on european land\n",
    "    if not 'combined_countries_boundary' in globals():\n",
    "        combined_countries_boundary = countries_eu_110m['geometry'].unary_union\n",
    "    points_df['in_eu'] = points_df.within(combined_countries_boundary)\n",
    "    \n",
    "    # check in which country they are\n",
    "    points_df['country'] = np.nan\n",
    "    for i, country in countries_eu_110m.iterrows():\n",
    "        not_assigned = points_df['in_eu'] & points_df['country'].isnull()\n",
    "        in_country = not_assigned & points_df.loc[not_assigned,'geometry'].within(country['geometry'])\n",
    "        points_df.loc[in_country,'country'] = country['NAME_EN']\n",
    "    \n",
    "    # load current max ids\n",
    "    if paths.FILE_POINTS.is_file():\n",
    "        points_df_old = pd.read_csv(paths.FILE_POINTS)\n",
    "        max_point_id = points_df_old['id'].max()\n",
    "        max_batch_id = points_df_old['batch_id'].max()\n",
    "    else:\n",
    "        max_point_id = -1\n",
    "        max_batch_id = -1\n",
    "    \n",
    "    # assign ids\n",
    "    points_df['id'] = points_df.index + max_point_id + 1\n",
    "    points_df['batch_id'] = max_batch_id + 1\n",
    "    \n",
    "    return points_df"
   ]
  },
  {
   "cell_type": "markdown",
   "id": "d593a9f3-8f6a-4d73-918d-4b32aab9dd36",
   "metadata": {},
   "source": [
    "# Check if the resulting Tile is already downloaded"
   ]
  },
  {
   "cell_type": "code",
   "execution_count": null,
   "id": "199b9ac5-2ad9-4c24-8b47-c843843751e5",
   "metadata": {},
   "outputs": [],
   "source": [
    "def mark_new_tiles(points_df):\n",
    "    # calculate the corresponding tiles\n",
    "    points_df.loc[:,['tile_x','tile_y','tile_z']] = -1\n",
    "    for i in points_df.loc[points_df['in_eu']].index:\n",
    "        tile = mercantile.tile(\n",
    "            lng=points_df.loc[i,'geometry'].x,\n",
    "            lat=points_df.loc[i,'geometry'].y,\n",
    "            zoom=data.Z)\n",
    "        points_df.loc[i,'tile_x'] = tile.x\n",
    "        points_df.loc[i,'tile_y'] = tile.y\n",
    "        points_df.loc[i,'tile_z'] = tile.z\n",
    "        \n",
    "    # check if Tile exists already in the dataset\n",
    "    points_df.loc[:,'new_tile'] = False\n",
    "    if paths.FILE_SAMPLES.is_file():\n",
    "            samples_df = pd.read_csv(paths.FILE_SAMPLES)\n",
    "            columns_to_check = ['tile_x','tile_y','tile_z']\n",
    "            new_tile = False\n",
    "            for col in columns_to_check:\n",
    "                new_tile |= ~points_df.loc[points_df['in_eu'],col].isin(samples_df.loc[:,col])\n",
    "            points_df.loc[points_df['in_eu'],'new_tile'] = new_tile\n",
    "    else:\n",
    "        points_df.loc[points_df['in_eu'],'new_tile'] = True"
   ]
  },
  {
   "cell_type": "markdown",
   "id": "65ffd2dc-4047-4a6c-8dd0-b5471cd5e5b0",
   "metadata": {},
   "source": [
    "# Check if the new Tiles contain water and is accepted\n",
    "\n",
    "but not only water"
   ]
  },
  {
   "cell_type": "code",
   "execution_count": null,
   "id": "243f7e92-726c-4471-8cc0-be15e8809925",
   "metadata": {},
   "outputs": [],
   "source": [
    "def get_inner_bbox_in_outer(x_i,y_i,z_i,x_o,y_o,z_o):\n",
    "    # pixel width and height of the outer vector tile\n",
    "    extent_o = data.VECTOR_TILE_EXTENT\n",
    "    # pixel width and height of one inner tile\n",
    "    extent_i = extent_o/(2**(z_i-z_o))\n",
    "    # top left Tile in the outer Tile but with the inner zoom\n",
    "    # https://wiki.openstreetmap.org/wiki/Slippy_map_tilenames#Subtiles\n",
    "    x_o_with_z_i = 2**(z_i-z_o) * x_o\n",
    "    y_o_with_z_i = 2**(z_i-z_o) * y_o\n",
    "    # pixel coordinates of the top left corner of the inner tile in the vector tile\n",
    "    px_tl = extent_i * (x_i - x_o_with_z_i)\n",
    "    py_tl = extent_i * (y_i - y_o_with_z_i)\n",
    "    # bottom right corner of the inner tile in vector tile pixel coordinates\n",
    "    px_br = px_tl + extent_i\n",
    "    py_br = py_tl + extent_i\n",
    "    # shapely Polygon\n",
    "    bbox = shapely.geometry.box(px_tl, py_tl, px_br, py_br)\n",
    "    return bbox"
   ]
  },
  {
   "cell_type": "code",
   "execution_count": null,
   "id": "f5dc34e0-0bb1-406b-8b37-c50bc7e08d8d",
   "metadata": {},
   "outputs": [],
   "source": [
    "def is_enough_water_in_tile(water_polygon,bbox,z_i,z_o):\n",
    "    if water_polygon.intersects(bbox):\n",
    "        intersection_area = water_polygon.intersection(bbox).area\n",
    "        extent_o = data.VECTOR_TILE_EXTENT\n",
    "        extent_i = extent_o/(2**(z_i-z_o))\n",
    "        area_tile = extent_i**2\n",
    "        water_ratio = intersection_area/area_tile\n",
    "        if data.WATER_RATIO_MIN <= water_ratio <= data.WATER_RATIO_MAX:\n",
    "            return True\n",
    "    \n",
    "    return False"
   ]
  },
  {
   "cell_type": "code",
   "execution_count": null,
   "id": "fe1d9932-9e0e-4ea8-9222-68d11d80bc4f",
   "metadata": {},
   "outputs": [],
   "source": [
    "def get_accepted_samples_df(points_df,session=None):\n",
    "    points_df['accepted_water'] = False\n",
    "    points_df[['outer_tile_x','outer_tile_y','outer_tile_z']] = -1\n",
    "    columns_to_copy = ['id','tile_x','tile_y','tile_z']\n",
    "    samples_df = points_df.loc[points_df['new_tile'],['id','tile_x','tile_y','tile_z']].copy()\n",
    "\n",
    "    for i in tqdm(points_df[points_df['new_tile']].index, desc='Checking Point: ', leave=False):\n",
    "        # inner Tile\n",
    "        x_i = points_df.loc[i,'tile_x']\n",
    "        y_i = points_df.loc[i,'tile_y']\n",
    "        z_i = points_df.loc[i,'tile_z']\n",
    "        # calculate outer Tile\n",
    "        z_o = data.Z_OUTER\n",
    "        tile_o = mercantile.parent(x_i,y_i,z_i,zoom=z_o)\n",
    "        x_o = tile_o.x\n",
    "        y_o = tile_o.y\n",
    "        points_df.loc[i,'outer_tile_x'] = x_o\n",
    "        points_df.loc[i,'outer_tile_y'] = y_o\n",
    "        points_df.loc[i,'outer_tile_z'] = z_o\n",
    "        # get water information of the outer tile\n",
    "        water_df = files.load_water_df(x_o,y_o,z_o,session=session)\n",
    "        # check if the outer vector tile has water\n",
    "        if water_df is None:\n",
    "            samples_df.drop(i,inplace=True)\n",
    "            continue\n",
    "        # check if in water is in the inner Tile\n",
    "        bbox_pixel = get_inner_bbox_in_outer(x_i,y_i,z_i,x_o,y_o,z_o)\n",
    "        water_polygon = water_df.iloc[0,0]\n",
    "        if is_enough_water_in_tile(water_polygon,bbox_pixel,z_i,z_o):\n",
    "            points_df.loc[i,'accepted_water'] = True\n",
    "        else:\n",
    "            samples_df.drop(i,inplace=True)\n",
    "            \n",
    "    if samples_df.empty:\n",
    "        return None\n",
    "    \n",
    "    return samples_df"
   ]
  },
  {
   "cell_type": "markdown",
   "id": "e0d1c7ac-c708-4c3f-961e-2a63127c12f0",
   "metadata": {},
   "source": [
    "# Add additional information to the dataset"
   ]
  },
  {
   "cell_type": "code",
   "execution_count": null,
   "id": "c603937f-9bf3-4c93-a47c-37e7451c37c7",
   "metadata": {},
   "outputs": [],
   "source": [
    "def add_sample_geography(samples_df):\n",
    "    global countries_eu_10m\n",
    "    for i in samples_df.index:\n",
    "        x = samples_df.loc[i,'tile_x']\n",
    "        y = samples_df.loc[i,'tile_y']\n",
    "        z = samples_df.loc[i,'tile_z']\n",
    "        tile = mercantile.Tile(x,y,z)\n",
    "        # get bbox in geodetic coordinates\n",
    "        bounds = mercantile.bounds(tile)\n",
    "        bbox = shapely.geometry.box(bounds.west,bounds.south,bounds.east,bounds.north)\n",
    "        samples_df.loc[i,'geometry'] = bbox\n",
    "        # get center of tile in geodetic coordinates\n",
    "        centroid = bbox.centroid\n",
    "        lon = centroid.x\n",
    "        lat = centroid.y\n",
    "        samples_df.loc[i,'lon'] = lon\n",
    "        samples_df.loc[i,'lat'] = lat\n",
    "        # get country of the center point\n",
    "        country_mask = countries_eu_10m.contains(centroid)\n",
    "        if country_mask.any():\n",
    "            samples_df.loc[i,'country'] = countries_eu_10m.loc[country_mask,'NAME_EN'].values[0]"
   ]
  },
  {
   "cell_type": "markdown",
   "id": "e892dc9d-2924-4809-810f-f1afda736964",
   "metadata": {},
   "source": [
    "# Download the Image Pairs"
   ]
  },
  {
   "cell_type": "code",
   "execution_count": null,
   "id": "c2a176d8-cc6e-4a72-9ea7-a3a389ea62c6",
   "metadata": {},
   "outputs": [],
   "source": [
    "def download_images(samples_df,session=None):\n",
    "    for i in tqdm(samples_df.index, desc='Downloading Sample: ', leave=False):\n",
    "        x = samples_df.loc[i,'tile_x']\n",
    "        y = samples_df.loc[i,'tile_y']\n",
    "        z = samples_df.loc[i,'tile_z']\n",
    "        # download the satellite image\n",
    "        files.download_file(file_path=paths.FILE_SATELLITE_IMAGE(x,y,z),\n",
    "                            url=mapbox.URL_SATELLITE(x,y,z),session=session)\n",
    "        # download the mask image\n",
    "        files.download_file(file_path=paths.FILE_MASK_IMAGE(x,y,z),\n",
    "                            url=mapbox.URL_MASK(x,y,z),session=session)"
   ]
  },
  {
   "cell_type": "markdown",
   "id": "a0619401-febd-4582-b92c-d2974567c97f",
   "metadata": {},
   "source": [
    "# Put it all together and create or extend the dataset"
   ]
  },
  {
   "cell_type": "code",
   "execution_count": null,
   "id": "88951239-ab7e-46f4-b624-7bd82cea733b",
   "metadata": {},
   "outputs": [],
   "source": [
    "load_ne_datasets()\n",
    "rng = files.load_random_state(seed=42)\n",
    "\n",
    "for epoch in tqdm(range(epochs), desc='Epoch: '):\n",
    "    bar = tqdm(total=7, desc='Step: ', leave=False)\n",
    "    \n",
    "    session = requests.Session()\n",
    "    \n",
    "    bar.set_postfix_str('draw random points');bar.update(n=1)\n",
    "    points_df = draw_points_in_countries(rng, batch_size)\n",
    "    \n",
    "    bar.set_postfix_str('mark new tiles');bar.update(n=1)\n",
    "    mark_new_tiles(points_df)\n",
    "    \n",
    "    bar.set_postfix_str('accept or reject samples');bar.update(n=1)\n",
    "    samples_df = get_accepted_samples_df(points_df,session)\n",
    "    \n",
    "    if samples_df is not None:\n",
    "        bar.set_postfix_str('add geography information');bar.update(n=1)\n",
    "        add_sample_geography(samples_df)\n",
    "        \n",
    "        bar.set_postfix_str('download the images');bar.update(n=1)\n",
    "        download_images(samples_df,session)\n",
    "        \n",
    "        print(f'Epoch Finished: {epoch} ; New Samples: {len(samples_df)} ; Points on land: {points_df[\"in_eu\"].sum()}')\n",
    "    else:\n",
    "        bar.update(n=2)\n",
    "        print(f'Epoch Finished: {epoch} ; No new and accepted samples')\n",
    "    \n",
    "    bar.set_postfix_str('save the data files');bar.update(n=1)\n",
    "    if samples_df is not None: \n",
    "        files.save_samples_df(samples_df)\n",
    "        \n",
    "    files.save_points_df(points_df)\n",
    "    \n",
    "    files.save_random_state(rng)\n",
    "    bar.update(n=1)\n",
    "    bar.close()"
   ]
  },
  {
   "cell_type": "code",
   "execution_count": null,
   "id": "012d9372-c08c-42eb-8395-2b9c0fefa798",
   "metadata": {},
   "outputs": [],
   "source": []
  }
 ],
 "metadata": {
  "kernelspec": {
   "display_name": "Python 3",
   "language": "python",
   "name": "python3"
  },
  "language_info": {
   "codemirror_mode": {
    "name": "ipython",
    "version": 3
   },
   "file_extension": ".py",
   "mimetype": "text/x-python",
   "name": "python",
   "nbconvert_exporter": "python",
   "pygments_lexer": "ipython3",
   "version": "3.9.5"
  }
 },
 "nbformat": 4,
 "nbformat_minor": 5
}
