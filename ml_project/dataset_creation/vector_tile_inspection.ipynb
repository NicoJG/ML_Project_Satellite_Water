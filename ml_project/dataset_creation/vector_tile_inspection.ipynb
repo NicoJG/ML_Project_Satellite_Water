{
 "cells": [
  {
   "cell_type": "markdown",
   "id": "3f68797c-20db-4ae9-8648-988b79812842",
   "metadata": {},
   "source": [
    "# Imports"
   ]
  },
  {
   "cell_type": "code",
   "execution_count": null,
   "id": "c2aad98d-1bad-4b65-9fda-d348c98747dd",
   "metadata": {},
   "outputs": [],
   "source": [
    "from ml_project.utils import files,geo,paths,data,mapbox"
   ]
  },
  {
   "cell_type": "code",
   "execution_count": null,
   "id": "1f5e5cd5-c51d-40b0-95c8-694ed652613b",
   "metadata": {},
   "outputs": [],
   "source": [
    "import numpy as np\n",
    "import geopandas as gpd\n",
    "import matplotlib.pyplot as plt\n",
    "import mercantile"
   ]
  },
  {
   "cell_type": "markdown",
   "id": "5dfec42e-8b93-4418-8267-bb3a0f67f754",
   "metadata": {},
   "source": [
    "# Display Water content of a particular tile"
   ]
  },
  {
   "cell_type": "code",
   "execution_count": null,
   "id": "926c6468-4c3b-404c-b24c-ca7e3b8d9d28",
   "metadata": {},
   "outputs": [],
   "source": [
    "countries_eu_10m = files.load_ne_countries_eu_10m()"
   ]
  },
  {
   "cell_type": "code",
   "execution_count": null,
   "id": "84a4956a-a75f-4336-a424-1e6ac4ef53e9",
   "metadata": {},
   "outputs": [],
   "source": [
    "x = 18932\n",
    "y = 11733\n",
    "z = 15"
   ]
  },
  {
   "cell_type": "code",
   "execution_count": null,
   "id": "0fc8ea00-02c1-4bdf-a2a8-22f1b6cd7f65",
   "metadata": {},
   "outputs": [],
   "source": [
    "points_df = files.load_points_df()\n",
    "samples_df = files.load_samples_df()"
   ]
  },
  {
   "cell_type": "code",
   "execution_count": null,
   "id": "ca3ac6ba-e39a-4fac-8c21-da3ea988a5cb",
   "metadata": {},
   "outputs": [],
   "source": [
    "points_mask = (points_df['tile_x'] == x) & (points_df['tile_y'] == y) & (points_df['tile_z'] == z)"
   ]
  },
  {
   "cell_type": "code",
   "execution_count": null,
   "id": "e4d1037e-294d-4043-8e24-fe3e07d04353",
   "metadata": {},
   "outputs": [],
   "source": [
    "point_id = points_df.loc[points_mask,'id'].values[0]\n",
    "point_id"
   ]
  },
  {
   "cell_type": "code",
   "execution_count": null,
   "id": "e04e4c32-2e99-4790-9fe8-30da35f52ce4",
   "metadata": {},
   "outputs": [],
   "source": [
    "lon = samples_df.loc[samples_df['id']==point_id,'lon'].values[0]\n",
    "lat = samples_df.loc[samples_df['id']==point_id,'lat'].values[0]\n",
    "lon, lat"
   ]
  },
  {
   "cell_type": "code",
   "execution_count": null,
   "id": "023ff5e9-259f-4659-b151-d504213d1827",
   "metadata": {},
   "outputs": [],
   "source": [
    "ax = countries_eu_10m.plot(column='MAPCOLOR7',alpha=0.7)\n",
    "ax.set_xlim(data.LON_MIN,data.LON_MAX)\n",
    "ax.set_ylim(data.LAT_MIN,data.LAT_MAX)\n",
    "ax.plot(lon,lat,'ro')"
   ]
  },
  {
   "cell_type": "code",
   "execution_count": null,
   "id": "6765ab99-4dd7-4553-aa82-c940e8dbb4af",
   "metadata": {},
   "outputs": [],
   "source": [
    "x_o,y_o,z_o = geo.get_outer_tile(x,y,z)"
   ]
  },
  {
   "cell_type": "code",
   "execution_count": null,
   "id": "f6789ea6-3fec-4bd1-972b-c45f18756524",
   "metadata": {},
   "outputs": [],
   "source": [
    "water_df = files.load_water_df(x_o,y_o,z_o)"
   ]
  },
  {
   "cell_type": "code",
   "execution_count": null,
   "id": "89b3acbf-9d89-4ca0-8d24-f77b7d2555c0",
   "metadata": {},
   "outputs": [],
   "source": [
    "bbox = geo.get_inner_bbox_in_outer(x,y,z,x_o,y_o,z_o)"
   ]
  },
  {
   "cell_type": "code",
   "execution_count": null,
   "id": "eb84016e-92f8-4ddd-87d4-479c16677420",
   "metadata": {},
   "outputs": [],
   "source": [
    "ax = water_df.plot(figsize=(10,10))\n",
    "gpd.GeoSeries(bbox).plot(ax=ax,color='red',alpha=0.7)\n",
    "plt.gca().invert_yaxis()"
   ]
  },
  {
   "cell_type": "code",
   "execution_count": null,
   "id": "58a2a6ab-829c-471f-b324-91610ee4b622",
   "metadata": {},
   "outputs": [],
   "source": [
    "print(bbox)"
   ]
  },
  {
   "cell_type": "code",
   "execution_count": null,
   "id": "f0c3e479-a9d0-4d9a-a2a9-b59b885fce23",
   "metadata": {},
   "outputs": [],
   "source": [
    "ax = water_df.intersection(bbox).plot()\n",
    "gpd.GeoSeries(bbox).plot(ax=ax,color='red',alpha=0.1)\n",
    "plt.gca().invert_yaxis()"
   ]
  },
  {
   "cell_type": "code",
   "execution_count": null,
   "id": "9a6a74ba-fbe1-4a62-aa14-ab8cdfae0519",
   "metadata": {},
   "outputs": [],
   "source": []
  }
 ],
 "metadata": {
  "kernelspec": {
   "display_name": "Python 3",
   "language": "python",
   "name": "python3"
  },
  "language_info": {
   "codemirror_mode": {
    "name": "ipython",
    "version": 3
   },
   "file_extension": ".py",
   "mimetype": "text/x-python",
   "name": "python",
   "nbconvert_exporter": "python",
   "pygments_lexer": "ipython3",
   "version": "3.9.5"
  }
 },
 "nbformat": 4,
 "nbformat_minor": 5
}
