{
 "cells": [
  {
   "cell_type": "markdown",
   "id": "d6b0a25b-e4a9-4679-aeb7-0d21c7e8f335",
   "metadata": {},
   "source": [
    "# What's in this Notebook?\n",
    "\n",
    "Use this to merge a different dataset into the existing.  \n",
    "Important: the dataset should be structured the same and the csv files should have the same cols.\n",
    "\n",
    "The zip should contain the directories `dataset` and `dataset_metadata`.\n",
    "\n",
    "Important:  \n",
    "The random state does not get merged. The current random state stays the same.  \n",
    "Copy the random state manually if you want to take the new one"
   ]
  },
  {
   "cell_type": "markdown",
   "id": "6b45c005-7cbe-45df-8429-8adc42fae949",
   "metadata": {},
   "source": [
    "# Imports"
   ]
  },
  {
   "cell_type": "code",
   "execution_count": null,
   "id": "ebce7a76-f829-404c-bf82-42b1a3b9cef3",
   "metadata": {},
   "outputs": [],
   "source": [
    "from ml_project.utils import files,paths,data"
   ]
  },
  {
   "cell_type": "code",
   "execution_count": null,
   "id": "6bb14bf6-cb51-46bf-bf99-200940a033d0",
   "metadata": {},
   "outputs": [],
   "source": [
    "import shutil"
   ]
  },
  {
   "cell_type": "code",
   "execution_count": null,
   "id": "e34a081f-4de9-4149-823a-6fd5cf630eee",
   "metadata": {},
   "outputs": [],
   "source": [
    "import zipfile"
   ]
  },
  {
   "cell_type": "code",
   "execution_count": null,
   "id": "d03b9eba-baf2-42bd-9cbd-1e4dc0399566",
   "metadata": {},
   "outputs": [],
   "source": [
    "import pandas as pd\n",
    "import geopandas as gpd"
   ]
  },
  {
   "cell_type": "markdown",
   "id": "8f90bcbc-5390-4d72-9045-68eda23f7e23",
   "metadata": {},
   "source": [
    "# Definitions"
   ]
  },
  {
   "cell_type": "code",
   "execution_count": null,
   "id": "376d1c85-0e57-415d-9970-8930e1f3156a",
   "metadata": {},
   "outputs": [],
   "source": [
    "dataset_zip_path = paths.DATA / 'data_to_merge.zip'\n",
    "temp_data_dir = paths.BASE / 'temp_data'"
   ]
  },
  {
   "cell_type": "code",
   "execution_count": null,
   "id": "cafbeea3-a550-47b3-b998-71f5f9d12f9f",
   "metadata": {},
   "outputs": [],
   "source": [
    "# to use ml_project.utils.paths\n",
    "# but with temp_data_dir instead of paths.DATA\n",
    "def get_temp_path(original_path, temp_data_dir):\n",
    "    return temp_data_dir / original_path.relative_to(paths.DATA)"
   ]
  },
  {
   "cell_type": "markdown",
   "id": "d210be9a-79b8-4cf2-92d9-5cd8955c5044",
   "metadata": {},
   "source": [
    "# Extract the dataset zip"
   ]
  },
  {
   "cell_type": "code",
   "execution_count": null,
   "id": "43ee8cbb-4480-43a5-9789-a6e1ef79f9f2",
   "metadata": {},
   "outputs": [],
   "source": [
    "temp_data_dir.mkdir()"
   ]
  },
  {
   "cell_type": "code",
   "execution_count": null,
   "id": "63437655-29fd-4d17-9e3b-0c046323b5e5",
   "metadata": {},
   "outputs": [],
   "source": [
    "with zipfile.ZipFile(dataset_zip_path, 'r') as zip_ref:\n",
    "    zip_ref.extractall(temp_data_dir)"
   ]
  },
  {
   "cell_type": "markdown",
   "id": "406a684d-770d-4c50-ad81-2781a144824d",
   "metadata": {},
   "source": [
    "# Load dataframes"
   ]
  },
  {
   "cell_type": "code",
   "execution_count": null,
   "id": "ec3e11b1-cd44-479a-a3b6-5d28337f2256",
   "metadata": {
    "tags": []
   },
   "outputs": [],
   "source": [
    "points_df = files.load_points_df()\n",
    "samples_df = files.load_samples_df()"
   ]
  },
  {
   "cell_type": "code",
   "execution_count": null,
   "id": "e98db8a3-8291-4d4b-a294-04e9a50b61fd",
   "metadata": {},
   "outputs": [],
   "source": [
    "new_points_path = get_temp_path(paths.FILE_POINTS,temp_data_dir)\n",
    "new_samples_path = get_temp_path(paths.FILE_SAMPLES,temp_data_dir)"
   ]
  },
  {
   "cell_type": "code",
   "execution_count": null,
   "id": "595abc3e-0f84-4719-83bd-08547ccd6be2",
   "metadata": {},
   "outputs": [],
   "source": [
    "new_points_df = files.read_csv_as_geodataframe(new_points_path,crs=data.CRS_GEODETIC)\n",
    "new_samples_df = files.read_csv_as_geodataframe(new_samples_path,crs=data.CRS_GEODETIC)"
   ]
  },
  {
   "cell_type": "markdown",
   "id": "e0a28ca2-e5e9-40e3-83dd-bc7647afb8d7",
   "metadata": {},
   "source": [
    "# Merge dataframes"
   ]
  },
  {
   "cell_type": "code",
   "execution_count": null,
   "id": "d07391a3-206b-4d9e-9449-519bf0b1347e",
   "metadata": {},
   "outputs": [],
   "source": [
    "max_batch_id = points_df['batch_id'].max()\n",
    "max_id = points_df['id'].max()\n",
    "max_batch_id, max_id"
   ]
  },
  {
   "cell_type": "code",
   "execution_count": null,
   "id": "aea6c4f9-4b0c-4dd8-b6c2-52b1de3ec3bf",
   "metadata": {},
   "outputs": [],
   "source": [
    "new_points_df['batch_id'] += max_batch_id + 1\n",
    "new_points_df['id'] += max_id + 1\n",
    "new_samples_df['id'] += max_id + 1"
   ]
  },
  {
   "cell_type": "code",
   "execution_count": null,
   "id": "f0226cb9-f55f-42be-abe2-42634deb5a5a",
   "metadata": {},
   "outputs": [],
   "source": [
    "columns_to_check_samples = ['tile_x','tile_y','tile_z']\n",
    "columns_to_check_points = ['geometry']"
   ]
  },
  {
   "cell_type": "code",
   "execution_count": null,
   "id": "455708a5-c56a-469e-b3b9-f40c93f1fbba",
   "metadata": {},
   "outputs": [],
   "source": [
    "merged_samples_df = samples_df.append(new_samples_df).drop_duplicates(subset=columns_to_check_samples)\n",
    "merged_points_df = points_df.append(new_points_df).drop_duplicates(subset=columns_to_check_points)"
   ]
  },
  {
   "cell_type": "code",
   "execution_count": null,
   "id": "4d2642d2-c24f-473e-a640-c138d8186b81",
   "metadata": {},
   "outputs": [],
   "source": [
    "files.save_samples_df(merged_samples_df,override=True)\n",
    "#files.save_points_df(merged_points_df,override=True)"
   ]
  },
  {
   "cell_type": "markdown",
   "id": "f7064e08-7aa8-4a29-964b-05c2aad9218c",
   "metadata": {},
   "source": [
    "# Copy the Images and the Vector Tiles"
   ]
  },
  {
   "cell_type": "code",
   "execution_count": null,
   "id": "31bd884e-08d1-4de4-8c24-1316f36d0568",
   "metadata": {},
   "outputs": [],
   "source": [
    "old_images_path = str(paths.IMAGES)\n",
    "new_images_path = str(get_temp_path(paths.IMAGES,temp_data_dir))"
   ]
  },
  {
   "cell_type": "code",
   "execution_count": null,
   "id": "484860ff-54f3-41ab-90d4-197613ada639",
   "metadata": {},
   "outputs": [],
   "source": [
    "!cp -n -a {new_images_path}/. {old_images_path}/"
   ]
  },
  {
   "cell_type": "code",
   "execution_count": null,
   "id": "a5735fef-c710-4a76-85c9-e30869c3539d",
   "metadata": {},
   "outputs": [],
   "source": [
    "old_vector_tiles_path = str(paths.VECTOR_TILES)\n",
    "new_vector_tiles_path = str(get_temp_path(paths.VECTOR_TILES,temp_data_dir))"
   ]
  },
  {
   "cell_type": "code",
   "execution_count": null,
   "id": "d14efa1a-3f18-4a85-98fe-b9a2860667b0",
   "metadata": {},
   "outputs": [],
   "source": [
    "!cp -n -a {new_vector_tiles_path}/. {old_vector_tiles_path}/"
   ]
  },
  {
   "cell_type": "markdown",
   "id": "2c053092-b4d1-4814-bb8d-15299ec4ba42",
   "metadata": {},
   "source": [
    "# Remove the temporary directory"
   ]
  },
  {
   "cell_type": "code",
   "execution_count": null,
   "id": "202770b3-e6b0-4f0e-a9c1-6039a78ff824",
   "metadata": {},
   "outputs": [],
   "source": [
    "shutil.rmtree(temp_data_dir)"
   ]
  },
  {
   "cell_type": "markdown",
   "id": "026a2e00-067f-4586-8c5d-6e6fdfe51285",
   "metadata": {},
   "source": [
    "# How many new samples?"
   ]
  },
  {
   "cell_type": "code",
   "execution_count": null,
   "id": "ba07acfd-7e3c-4dde-860a-dabeff8d8dfd",
   "metadata": {},
   "outputs": [],
   "source": [
    "before = samples_df.shape[0]\n",
    "after = merged_samples_df.shape[0]\n",
    "in_new_dataset = new_samples_df.shape[0]"
   ]
  },
  {
   "cell_type": "code",
   "execution_count": null,
   "id": "7d27a305-ea6c-43ef-bea3-5334abcd426a",
   "metadata": {},
   "outputs": [],
   "source": [
    "print(f'Added Samples: {after-before}')\n",
    "print(f'Dropped New Samples (because duplicate): {(before+in_new_dataset) - after}')"
   ]
  },
  {
   "cell_type": "code",
   "execution_count": null,
   "id": "9ce14ad5-188d-44e1-9d97-1a4c522e3dab",
   "metadata": {},
   "outputs": [],
   "source": []
  }
 ],
 "metadata": {
  "kernelspec": {
   "display_name": "Python 3",
   "language": "python",
   "name": "python3"
  },
  "language_info": {
   "codemirror_mode": {
    "name": "ipython",
    "version": 3
   },
   "file_extension": ".py",
   "mimetype": "text/x-python",
   "name": "python",
   "nbconvert_exporter": "python",
   "pygments_lexer": "ipython3",
   "version": "3.9.5"
  }
 },
 "nbformat": 4,
 "nbformat_minor": 5
}
