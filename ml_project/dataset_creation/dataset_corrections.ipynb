{
 "cells": [
  {
   "cell_type": "code",
   "execution_count": null,
   "id": "6bb8688f-c0e0-4982-8b74-d8c0fd7035c0",
   "metadata": {},
   "outputs": [],
   "source": [
    "from ml_project.utils import files,paths\n",
    "from tqdm.notebook import tqdm"
   ]
  },
  {
   "cell_type": "markdown",
   "id": "c1cbc9d0-2abd-454a-8cf5-f9847908e04a",
   "metadata": {},
   "source": [
    "# new_tile for duplicate tiles to False"
   ]
  },
  {
   "cell_type": "markdown",
   "id": "85047aa5-47a8-47db-ae95-bf7b464e7456",
   "metadata": {},
   "source": [
    "points_df = files.load_points_df()"
   ]
  },
  {
   "cell_type": "markdown",
   "id": "347ba9a6-d7a9-495b-a6f1-235b446de4b3",
   "metadata": {},
   "source": [
    "points_df.loc[points_df.duplicated(subset=['tile_x','tile_y'],keep='first')&points_df['new_tile'],'new_tile'] = False"
   ]
  },
  {
   "cell_type": "markdown",
   "id": "0606581d-da18-4c0e-88e2-bf89463207fb",
   "metadata": {},
   "source": [
    "files.save_points_df(points_df,override=True)"
   ]
  },
  {
   "cell_type": "markdown",
   "id": "fc77f0f6-9e0a-4aba-a2b4-c4224a579f57",
   "metadata": {},
   "source": [
    "# Correct the Order of the columns"
   ]
  },
  {
   "cell_type": "markdown",
   "id": "5ffabb50-ffed-4867-9e45-40883489baf2",
   "metadata": {},
   "source": [
    "files.save_points_df(files.load_points_df(),override=True)"
   ]
  },
  {
   "cell_type": "markdown",
   "id": "c6f296dd-821c-47e4-b966-e204c819a71c",
   "metadata": {},
   "source": [
    "files.save_samples_df(files.load_samples_df(),override=True)"
   ]
  },
  {
   "cell_type": "markdown",
   "id": "3b71c0b1-ac7b-4c50-88a6-a1be38f1a408",
   "metadata": {},
   "source": [
    "# Add filenames"
   ]
  },
  {
   "cell_type": "markdown",
   "id": "4a06e83d-c845-4ec2-b760-f0bf54fe757c",
   "metadata": {},
   "source": [
    "samples_df = files.load_samples_df()"
   ]
  },
  {
   "cell_type": "markdown",
   "id": "7c17fb83-8880-443f-b0c4-fa3844e83578",
   "metadata": {},
   "source": [
    "for i,sample in samples_df.iterrows():\n",
    "    samples_df.loc[i,'satellite_file'] = paths.FILE_SATELLITE_IMAGE(sample['tile_x'],sample['tile_y'],sample['tile_z']).name\n",
    "    samples_df.loc[i,'mask_file'] = paths.FILE_MASK_IMAGE(sample['tile_x'],sample['tile_y'],sample['tile_z']).name"
   ]
  },
  {
   "cell_type": "markdown",
   "id": "caf1367a-1549-49d7-a978-b19cf432a036",
   "metadata": {},
   "source": [
    "files.save_samples_df(samples_df,override=True)"
   ]
  },
  {
   "cell_type": "markdown",
   "id": "01e24369-0500-4e72-9294-8aee23ba6b80",
   "metadata": {},
   "source": [
    "# Update filenames"
   ]
  },
  {
   "cell_type": "markdown",
   "id": "7f2ab4f1-546e-42bd-bfa2-fcbaaa3db7c4",
   "metadata": {},
   "source": [
    "samples_df = files.load_samples_df()"
   ]
  },
  {
   "cell_type": "markdown",
   "id": "c4a7fa8c-1f30-499e-bf41-65c23b0da091",
   "metadata": {},
   "source": [
    "for i,sample in tqdm(samples_df.iterrows()):\n",
    "    x = sample['tile_x']\n",
    "    y = sample['tile_y']\n",
    "    z = sample['tile_z']\n",
    "    \n",
    "    old_satellite = paths.SATELLITE_IMAGES / sample['satellite_file']\n",
    "    old_mask = paths.MASK_IMAGES / sample['mask_file']\n",
    "    \n",
    "    new_satellite = paths.FILE_SATELLITE_IMAGE(x,y,z)\n",
    "    new_mask = paths.FILE_MASK_IMAGE(x,y,z)\n",
    "    \n",
    "    old_satellite.rename(new_satellite)\n",
    "    old_mask.rename(new_mask)\n",
    "    \n",
    "    samples_df.loc[i,'satellite_file'] = new_satellite.name\n",
    "    samples_df.loc[i,'mask_file'] = new_mask.name"
   ]
  },
  {
   "cell_type": "markdown",
   "id": "a969a40e-c725-442c-a3f4-899e3dad24b3",
   "metadata": {},
   "source": [
    "files.save_samples_df(samples_df,override=True)"
   ]
  },
  {
   "cell_type": "code",
   "execution_count": null,
   "id": "01b37055-9d3b-49f8-addc-0057a8bebb52",
   "metadata": {},
   "outputs": [],
   "source": [
    "files.load_samples_df()"
   ]
  },
  {
   "cell_type": "code",
   "execution_count": null,
   "id": "5b07dfda-8841-4b94-b396-42046dca7dc1",
   "metadata": {},
   "outputs": [],
   "source": []
  }
 ],
 "metadata": {
  "kernelspec": {
   "display_name": "Python 3",
   "language": "python",
   "name": "python3"
  },
  "language_info": {
   "codemirror_mode": {
    "name": "ipython",
    "version": 3
   },
   "file_extension": ".py",
   "mimetype": "text/x-python",
   "name": "python",
   "nbconvert_exporter": "python",
   "pygments_lexer": "ipython3",
   "version": "3.9.5"
  }
 },
 "nbformat": 4,
 "nbformat_minor": 5
}
