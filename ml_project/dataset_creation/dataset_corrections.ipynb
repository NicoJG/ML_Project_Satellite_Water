{
 "cells": [
  {
   "cell_type": "code",
   "execution_count": null,
   "id": "6bb8688f-c0e0-4982-8b74-d8c0fd7035c0",
   "metadata": {},
   "outputs": [],
   "source": [
    "from ml_project.utils import files,paths,data\n",
    "import geopandas as gpd\n",
    "from tqdm.notebook import tqdm\n",
    "import matplotlib.pyplot as plt"
   ]
  },
  {
   "cell_type": "markdown",
   "id": "b966397e-ff2e-49bc-a7f6-d694f2bdc999",
   "metadata": {},
   "source": [
    "# Correct Country = NaN"
   ]
  },
  {
   "cell_type": "markdown",
   "id": "09120e78-9a17-449e-a403-ec26004619a8",
   "metadata": {},
   "source": [
    "points_df = files.load_points_df()"
   ]
  },
  {
   "cell_type": "markdown",
   "id": "b9b296cd-64bb-4a28-8add-9b3e90338271",
   "metadata": {},
   "source": [
    "samples_df = files.load_samples_df()"
   ]
  },
  {
   "cell_type": "markdown",
   "id": "1d773ad6-9643-4db9-a2e1-38d41a92216f",
   "metadata": {},
   "source": [
    "samples_df['country'].isna().sum()"
   ]
  },
  {
   "cell_type": "markdown",
   "id": "3c02f9c2-528d-4c74-8199-3b522e8cab12",
   "metadata": {},
   "source": [
    "data.EXCLUDED_COUNTRIES = []\n",
    "countries_eu_110m = files.load_ne_countries_eu_110m()"
   ]
  },
  {
   "cell_type": "markdown",
   "id": "0cd9a53d-a93a-448c-9fd3-5db659c5c6c2",
   "metadata": {},
   "source": [
    "check if middle is within coarse country border"
   ]
  },
  {
   "cell_type": "markdown",
   "id": "45d87a95-82e9-4968-9b85-0e3e884d7a65",
   "metadata": {},
   "source": [
    "samples_points = gpd.GeoDataFrame(geometry=gpd.points_from_xy(samples_df['lon'], samples_df['lat']))\n",
    "for i, country in tqdm(countries_eu_110m.iterrows()):\n",
    "    not_assigned = samples_df['country'].isna()\n",
    "    in_country = not_assigned & samples_points.loc[not_assigned].within(country['geometry'])\n",
    "    samples_df.loc[in_country,'country'] = country['NAME_EN']"
   ]
  },
  {
   "cell_type": "markdown",
   "id": "29d7ced6-b69e-423e-b5ae-4fbb0ccb1513",
   "metadata": {},
   "source": [
    "samples_df['country'].isna().sum()"
   ]
  },
  {
   "cell_type": "markdown",
   "id": "77fee976-cf1c-42e1-97a5-0bcdddb3ab6f",
   "metadata": {},
   "source": [
    "check if tile intersects with coarse country border"
   ]
  },
  {
   "cell_type": "markdown",
   "id": "7d833a20-7d47-44f9-8a58-7ccb079c5a13",
   "metadata": {},
   "source": [
    "for i, country in tqdm(countries_eu_110m.iterrows()):\n",
    "    not_assigned = samples_df['country'].isna()\n",
    "    in_country = not_assigned & samples_df.loc[not_assigned].intersects(country['geometry'])\n",
    "    samples_df.loc[in_country,'country'] = country['NAME_EN']"
   ]
  },
  {
   "cell_type": "markdown",
   "id": "29e49f36-3e68-46ba-99dd-a419a0f9455b",
   "metadata": {},
   "source": [
    "samples_df['country'].isna().sum()"
   ]
  },
  {
   "cell_type": "markdown",
   "id": "b11a9239-d48e-4acf-a57e-4ac11dcb53b9",
   "metadata": {},
   "source": [
    "samples_df.shape"
   ]
  },
  {
   "cell_type": "markdown",
   "id": "1f3ca2c0-a67e-48b6-9955-a7f8a1fc1062",
   "metadata": {},
   "source": [
    "files.save_samples_df(samples_df,override=True)"
   ]
  },
  {
   "cell_type": "markdown",
   "id": "50cfe5e5",
   "metadata": {},
   "source": [
    "# points_df drop not in europe"
   ]
  },
  {
   "cell_type": "markdown",
   "id": "32dca75e-368a-4462-9685-5fecdc36561f",
   "metadata": {},
   "source": [
    "points_df = files.load_points_df()"
   ]
  },
  {
   "cell_type": "markdown",
   "id": "18dbbff4-254a-43ba-88b4-f1919c4cf53b",
   "metadata": {},
   "source": [
    "points_df.drop(index = points_df[(~points_df['in_eu'])].index,inplace=True)"
   ]
  },
  {
   "cell_type": "markdown",
   "id": "073fa8b6-0488-4833-a46c-64f153859da2",
   "metadata": {},
   "source": [
    "files.save_points_df(points_df,override=True)"
   ]
  },
  {
   "cell_type": "markdown",
   "id": "d9d789a7-8dae-4633-978e-49cad24395a6",
   "metadata": {},
   "source": [
    "# drop duplicate samples"
   ]
  },
  {
   "cell_type": "markdown",
   "id": "0fc3df58-16bf-4daf-bd0e-90a751d49dd0",
   "metadata": {},
   "source": [
    "samples_df = files.load_samples_df()"
   ]
  },
  {
   "cell_type": "markdown",
   "id": "330843a7-4c7b-4929-8707-7a5b753be698",
   "metadata": {},
   "source": [
    "# total\n",
    "samples_df.shape"
   ]
  },
  {
   "cell_type": "markdown",
   "id": "f71ac8b7-3b77-41a5-b6a4-ce029572d451",
   "metadata": {},
   "source": [
    "# duplicates\n",
    "samples_df[samples_df.duplicated(subset=['tile_x','tile_y'],keep='first')].shape"
   ]
  },
  {
   "cell_type": "markdown",
   "id": "e618bfca-297d-4db1-8753-2ced90035b74",
   "metadata": {
    "tags": []
   },
   "source": [
    "# without duplicates\n",
    "new_samples_df = samples_df.drop(samples_df[samples_df.duplicated(subset=['tile_x','tile_y'],keep='first')].index)\n",
    "new_samples_df.shape"
   ]
  },
  {
   "cell_type": "markdown",
   "id": "c885a8e3-5af5-4141-902a-25a5b49319b5",
   "metadata": {},
   "source": [
    "files.save_samples_df(new_samples_df,override=True)"
   ]
  },
  {
   "cell_type": "markdown",
   "id": "cae955aa-c8bc-4782-8407-8a114b26d70f",
   "metadata": {},
   "source": [
    "# drop duplicated points with same id (how??)"
   ]
  },
  {
   "cell_type": "markdown",
   "id": "604f26e4-f82f-4efe-8b45-04aa189529f4",
   "metadata": {},
   "source": [
    "points_df = files.load_points_df()"
   ]
  },
  {
   "cell_type": "markdown",
   "id": "02ed63a1-fa00-4649-861b-f3991f45946e",
   "metadata": {},
   "source": [
    "samples_df = files.load_samples_df()"
   ]
  },
  {
   "cell_type": "markdown",
   "id": "1dee1cf8-7655-47ab-868e-0d9dbcc36a02",
   "metadata": {},
   "source": [
    "points_df.shape"
   ]
  },
  {
   "cell_type": "markdown",
   "id": "4a911c82-c773-4912-baec-e3d8b068b7ab",
   "metadata": {},
   "source": [
    "samples_df.shape"
   ]
  },
  {
   "cell_type": "markdown",
   "id": "ba20223f-d9ec-4ebd-9365-5d92c221819b",
   "metadata": {},
   "source": [
    "points_df.set_index('id').loc[samples_df['id']]"
   ]
  },
  {
   "cell_type": "markdown",
   "id": "6b083d4c-8348-49f5-9a7f-48cf28e6481b",
   "metadata": {},
   "source": [
    "points_df.loc[points_df.duplicated(['id','tile_x','tile_y','tile_z'],keep='first')].shape"
   ]
  },
  {
   "cell_type": "markdown",
   "id": "5eb8333e-cd13-464e-90a1-a38374b1fbaf",
   "metadata": {},
   "source": [
    "points_df.drop(points_df.loc[points_df.duplicated(['id','tile_x','tile_y','tile_z'],keep='first')].index, inplace=True)"
   ]
  },
  {
   "cell_type": "markdown",
   "id": "68500f15-e8ed-4017-9738-b9ac15b21e98",
   "metadata": {},
   "source": [
    "files.save_points_df(points_df,override=True)"
   ]
  },
  {
   "cell_type": "markdown",
   "id": "c1cbc9d0-2abd-454a-8cf5-f9847908e04a",
   "metadata": {},
   "source": [
    "# new_tile for duplicate tiles to False"
   ]
  },
  {
   "cell_type": "markdown",
   "id": "2a432bf9-7c91-4412-97f4-ee10a51ac1a7",
   "metadata": {},
   "source": [
    "points_df = files.load_points_df()"
   ]
  },
  {
   "cell_type": "markdown",
   "id": "64366ebc-093d-48d7-af80-c9c8a956f3e9",
   "metadata": {},
   "source": [
    "points_df.shape"
   ]
  },
  {
   "cell_type": "markdown",
   "id": "fea82922-9f20-4c57-bca6-f5b8b2fd7bcb",
   "metadata": {},
   "source": [
    "#duplicated\n",
    "points_df[((points_df.duplicated(subset=['tile_x','tile_y','tile_z'],keep='first'))&(points_df['new_tile']))].shape"
   ]
  },
  {
   "cell_type": "markdown",
   "id": "2d7dba35-1831-484d-ac86-1596244dc1da",
   "metadata": {},
   "source": [
    "points_df.loc[(points_df.duplicated(subset=['tile_x','tile_y','tile_z'],keep='first'))&(points_df['new_tile']),'new_tile'] = False"
   ]
  },
  {
   "cell_type": "markdown",
   "id": "82d092a4-8f14-4a16-b095-1a877eb9753f",
   "metadata": {},
   "source": [
    "files.save_points_df(points_df,override=True)"
   ]
  },
  {
   "cell_type": "markdown",
   "id": "fc77f0f6-9e0a-4aba-a2b4-c4224a579f57",
   "metadata": {},
   "source": [
    "# Correct the Order of the columns"
   ]
  },
  {
   "cell_type": "markdown",
   "id": "5ffabb50-ffed-4867-9e45-40883489baf2",
   "metadata": {},
   "source": [
    "files.save_points_df(files.load_points_df(),override=True)"
   ]
  },
  {
   "cell_type": "markdown",
   "id": "c6f296dd-821c-47e4-b966-e204c819a71c",
   "metadata": {},
   "source": [
    "files.save_samples_df(files.load_samples_df(),override=True)"
   ]
  },
  {
   "cell_type": "markdown",
   "id": "3b71c0b1-ac7b-4c50-88a6-a1be38f1a408",
   "metadata": {},
   "source": [
    "# Add filenames"
   ]
  },
  {
   "cell_type": "markdown",
   "id": "4a06e83d-c845-4ec2-b760-f0bf54fe757c",
   "metadata": {},
   "source": [
    "samples_df = files.load_samples_df()"
   ]
  },
  {
   "cell_type": "markdown",
   "id": "7c17fb83-8880-443f-b0c4-fa3844e83578",
   "metadata": {},
   "source": [
    "for i,sample in samples_df.iterrows():\n",
    "    samples_df.loc[i,'satellite_file'] = paths.FILE_SATELLITE_IMAGE(sample['tile_x'],sample['tile_y'],sample['tile_z']).name\n",
    "    samples_df.loc[i,'mask_file'] = paths.FILE_MASK_IMAGE(sample['tile_x'],sample['tile_y'],sample['tile_z']).name"
   ]
  },
  {
   "cell_type": "markdown",
   "id": "caf1367a-1549-49d7-a978-b19cf432a036",
   "metadata": {},
   "source": [
    "files.save_samples_df(samples_df,override=True)"
   ]
  },
  {
   "cell_type": "markdown",
   "id": "01e24369-0500-4e72-9294-8aee23ba6b80",
   "metadata": {},
   "source": [
    "# Update filenames"
   ]
  },
  {
   "cell_type": "markdown",
   "id": "7f2ab4f1-546e-42bd-bfa2-fcbaaa3db7c4",
   "metadata": {},
   "source": [
    "samples_df = files.load_samples_df()"
   ]
  },
  {
   "cell_type": "markdown",
   "id": "c4a7fa8c-1f30-499e-bf41-65c23b0da091",
   "metadata": {},
   "source": [
    "for i,sample in tqdm(samples_df.iterrows()):\n",
    "    x = sample['tile_x']\n",
    "    y = sample['tile_y']\n",
    "    z = sample['tile_z']\n",
    "    \n",
    "    old_satellite = paths.SATELLITE_IMAGES / sample['satellite_file']\n",
    "    old_mask = paths.MASK_IMAGES / sample['mask_file']\n",
    "    \n",
    "    new_satellite = paths.FILE_SATELLITE_IMAGE(x,y,z)\n",
    "    new_mask = paths.FILE_MASK_IMAGE(x,y,z)\n",
    "    \n",
    "    old_satellite.rename(new_satellite)\n",
    "    old_mask.rename(new_mask)\n",
    "    \n",
    "    samples_df.loc[i,'satellite_file'] = new_satellite.name\n",
    "    samples_df.loc[i,'mask_file'] = new_mask.name"
   ]
  },
  {
   "cell_type": "markdown",
   "id": "a969a40e-c725-442c-a3f4-899e3dad24b3",
   "metadata": {},
   "source": [
    "files.save_samples_df(samples_df,override=True)"
   ]
  },
  {
   "cell_type": "markdown",
   "id": "b1c32c44-9a09-4415-8b98-e47706fff5b9",
   "metadata": {},
   "source": [
    "files.load_samples_df()"
   ]
  },
  {
   "cell_type": "code",
   "execution_count": null,
   "id": "5b07dfda-8841-4b94-b396-42046dca7dc1",
   "metadata": {},
   "outputs": [],
   "source": []
  }
 ],
 "metadata": {
  "kernelspec": {
   "display_name": "Python 3",
   "language": "python",
   "name": "python3"
  },
  "language_info": {
   "codemirror_mode": {
    "name": "ipython",
    "version": 3
   },
   "file_extension": ".py",
   "mimetype": "text/x-python",
   "name": "python",
   "nbconvert_exporter": "python",
   "pygments_lexer": "ipython3",
   "version": "3.9.5"
  }
 },
 "nbformat": 4,
 "nbformat_minor": 5
}
