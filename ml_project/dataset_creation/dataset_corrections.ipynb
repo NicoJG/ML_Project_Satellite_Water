{
 "cells": [
  {
   "cell_type": "code",
   "execution_count": null,
   "id": "6bb8688f-c0e0-4982-8b74-d8c0fd7035c0",
   "metadata": {},
   "outputs": [],
   "source": [
    "from ml_project.utils import files"
   ]
  },
  {
   "cell_type": "markdown",
   "id": "fc77f0f6-9e0a-4aba-a2b4-c4224a579f57",
   "metadata": {},
   "source": [
    "# Correct the Order of the columns"
   ]
  },
  {
   "cell_type": "markdown",
   "id": "5ffabb50-ffed-4867-9e45-40883489baf2",
   "metadata": {},
   "source": [
    "files.save_points_df(files.load_points_df(),override=True)"
   ]
  },
  {
   "cell_type": "markdown",
   "id": "c6f296dd-821c-47e4-b966-e204c819a71c",
   "metadata": {},
   "source": [
    "files.save_samples_df(files.load_samples_df(),override=True)"
   ]
  },
  {
   "cell_type": "code",
   "execution_count": null,
   "id": "ec6ca5e1-10da-460b-baf1-0e53253ebf16",
   "metadata": {},
   "outputs": [],
   "source": []
  }
 ],
 "metadata": {
  "kernelspec": {
   "display_name": "Python 3",
   "language": "python",
   "name": "python3"
  },
  "language_info": {
   "codemirror_mode": {
    "name": "ipython",
    "version": 3
   },
   "file_extension": ".py",
   "mimetype": "text/x-python",
   "name": "python",
   "nbconvert_exporter": "python",
   "pygments_lexer": "ipython3",
   "version": "3.9.5"
  }
 },
 "nbformat": 4,
 "nbformat_minor": 5
}
