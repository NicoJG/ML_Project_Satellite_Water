{
 "cells": [
  {
   "cell_type": "code",
   "execution_count": null,
   "id": "8394456c-8d47-432c-a46e-d88582c25773",
   "metadata": {},
   "outputs": [],
   "source": [
    "from ml_project.constants import paths,data"
   ]
  },
  {
   "cell_type": "code",
   "execution_count": null,
   "id": "14687b5d-00ee-4c50-9702-5e9e4b933dd3",
   "metadata": {},
   "outputs": [],
   "source": [
    "from ml_project.dataset_creation import utils"
   ]
  },
  {
   "cell_type": "code",
   "execution_count": null,
   "id": "4858211e-376f-4fdd-ba12-7c3782a024ce",
   "metadata": {},
   "outputs": [],
   "source": [
    "import numpy as np\n",
    "import shapely.geometry"
   ]
  },
  {
   "cell_type": "markdown",
   "id": "b6baa5e0-7460-44e4-af99-388297ec372e",
   "metadata": {},
   "source": [
    "# Defining Variables"
   ]
  },
  {
   "cell_type": "code",
   "execution_count": null,
   "id": "759144f8-d368-4eae-8f44-364cd618b66c",
   "metadata": {},
   "outputs": [],
   "source": [
    "batch_size = 1000 # number of random coordinates\n",
    "epochs = 1"
   ]
  },
  {
   "cell_type": "markdown",
   "id": "4517f5e3-da96-4844-8d2c-faf8c708e136",
   "metadata": {},
   "source": [
    "# Draw random points on european land"
   ]
  },
  {
   "cell_type": "code",
   "execution_count": null,
   "id": "1a1771aa-ffe4-4c5e-b541-0b54fc3f7d6a",
   "metadata": {},
   "outputs": [],
   "source": [
    "import geopandas as gpd\n",
    "import pandas as pd\n",
    "from shapely.geometry import Point"
   ]
  },
  {
   "cell_type": "code",
   "execution_count": null,
   "id": "7d26c5c7-339d-442e-9ef0-85f51bf949ec",
   "metadata": {},
   "outputs": [],
   "source": [
    "excluded_countries = ['Iceland','Russia']"
   ]
  },
  {
   "cell_type": "code",
   "execution_count": null,
   "id": "3829370a-8b1c-4799-9c14-da01aa406fc5",
   "metadata": {},
   "outputs": [],
   "source": [
    "# Read the Natural Earth Dataset of the Countries coarse\n",
    "# https://www.naturalearthdata.com/downloads/110m-cultural-vectors/110m-admin-0-countries/\n",
    "countries_110m = gpd.read_file(paths.NE_110M_COUNTRIES_SHP)\n",
    "# select only the eu and exclude countries\n",
    "countries_eu_110m = countries_110m[countries_110m['CONTINENT']=='Europe'].copy()\n",
    "drop_countries_mask = countries_eu_110m['NAME_EN'].isin(excluded_countries)\n",
    "countries_eu_110m.drop(index=countries_eu_110m[drop_countries_mask].index,inplace=True)"
   ]
  },
  {
   "cell_type": "code",
   "execution_count": null,
   "id": "b22eea90-eba1-4365-99e9-b9b758de5fb6",
   "metadata": {},
   "outputs": [],
   "source": [
    "# Read the Natural Earth Dataset of the Countries detailed\n",
    "# https://www.naturalearthdata.com/downloads/10m-cultural-vectors/10m-admin-0-countries/\n",
    "countries_10m = gpd.read_file(paths.NE_10M_COUNTRIES_SHP)\n",
    "# select only the eu and exclude countries\n",
    "countries_eu_10m = countries_10m[countries_10m['CONTINENT']=='Europe'].copy()\n",
    "drop_countries_mask = countries_eu_10m['NAME_EN'].isin(excluded_countries)\n",
    "countries_eu_10m.drop(index=countries_eu_10m[drop_countries_mask].index,inplace=True)"
   ]
  },
  {
   "cell_type": "code",
   "execution_count": null,
   "id": "026e4103-e8b9-4af0-9e46-19e181d58148",
   "metadata": {},
   "outputs": [],
   "source": []
  },
  {
   "cell_type": "code",
   "execution_count": null,
   "id": "aa491087-0a9f-4fca-b284-c62adf4985c8",
   "metadata": {},
   "outputs": [],
   "source": [
    "def draw_points_in_countries(rng,batch_size=batch_size,countries_df=countries_eu_110m):\n",
    "    global combined_countries_boundary\n",
    "    \n",
    "    # draw random points\n",
    "    print('Drawing random points')\n",
    "    lon = rng.uniform(low=data.LON_MIN,high=data.LON_MAX,size=batch_size)\n",
    "    lat = rng.uniform(low=data.LAT_MIN,high=data.LAT_MAX,size=batch_size)\n",
    "    points = [Point(lon,lat) for lon,lat in zip(lon,lat)]\n",
    "    points_df = gpd.GeoDataFrame(geometry=points,crs='EPSG:4326')\n",
    "    \n",
    "    # check if they are on european land\n",
    "    print('Checking if the points are on land')\n",
    "    if not 'combined_countries_boundary' in globals():\n",
    "        combined_countries_boundary = countries_df['geometry'].unary_union\n",
    "    points_df['in_eu'] = points_df.within(combined_countries_boundary)\n",
    "    \n",
    "    # check in which country they are\n",
    "    print('Assign a country to all points on land')\n",
    "    points_df['country'] = np.nan\n",
    "    for i, country in countries_df.iterrows():\n",
    "        not_assigned = points_df['in_eu'] & points_df['country'].isnull()\n",
    "        in_country = not_assigned & points_df.loc[not_assigned,'geometry'].within(country['geometry'])\n",
    "        points_df.loc[in_country,'country'] = country['NAME_EN']\n",
    "    \n",
    "    # load current max ids\n",
    "    if paths.FILE_POINTS.is_file():\n",
    "        points_df_old = pd.read_csv(paths.FILE_POINTS)\n",
    "        max_point_id = points_df_old['id'].max()\n",
    "        max_batch_id = points_df_old['batch_id'].max()\n",
    "    else:\n",
    "        max_point_id = -1\n",
    "        max_batch_id = -1\n",
    "    \n",
    "    # assign ids\n",
    "    points_df['id'] = points_df.index + max_point_id + 1\n",
    "    points_df['batch_id'] = max_batch_id + 1\n",
    "    \n",
    "    return points_df"
   ]
  },
  {
   "cell_type": "code",
   "execution_count": null,
   "id": "662286f5-3a7a-4496-8782-e4dbf713e17c",
   "metadata": {},
   "outputs": [],
   "source": [
    "points_df = draw_points_in_countries(np.random.default_rng(seed=0))"
   ]
  },
  {
   "cell_type": "code",
   "execution_count": null,
   "id": "0033d99c-a007-40ca-bcff-fdf33a4fbc47",
   "metadata": {},
   "outputs": [],
   "source": [
    "points_df.head(5)"
   ]
  },
  {
   "cell_type": "code",
   "execution_count": null,
   "id": "d0f4ea8d-22e9-4072-b020-35979f2d8618",
   "metadata": {},
   "outputs": [],
   "source": [
    "def plot_points(points_df,countries_df):\n",
    "    ax = countries_df.plot(figsize=(10,10),column='MAPCOLOR7',alpha=0.3)\n",
    "    points_df.loc[~points_df['in_eu']].plot(ax=ax,color='k',alpha=0.2,marker='x',markersize=10)\n",
    "    points_df.plot(ax=ax,column='country',markersize=10)\n",
    "\n",
    "    ax.set_xlim(data.LON_MIN,data.LON_MAX)\n",
    "    ax.set_ylim(data.LAT_MIN,data.LAT_MAX)"
   ]
  },
  {
   "cell_type": "code",
   "execution_count": null,
   "id": "5c8deb6f-572b-4d08-85af-7609cbade543",
   "metadata": {},
   "outputs": [],
   "source": [
    "plot_points(points_df,countries_eu_110m)"
   ]
  },
  {
   "cell_type": "markdown",
   "id": "d593a9f3-8f6a-4d73-918d-4b32aab9dd36",
   "metadata": {},
   "source": [
    "# Check if the resulting Tile is already downloaded"
   ]
  },
  {
   "cell_type": "code",
   "execution_count": null,
   "id": "22915cd8-f20e-49f4-a1fb-32ba9fb340d7",
   "metadata": {},
   "outputs": [],
   "source": [
    "import mercantile"
   ]
  },
  {
   "cell_type": "code",
   "execution_count": null,
   "id": "199b9ac5-2ad9-4c24-8b47-c843843751e5",
   "metadata": {},
   "outputs": [],
   "source": [
    "def mark_new_tiles(points_df):\n",
    "    # calculate the corresponding tiles\n",
    "    points_df.loc[:,['tile_x','tile_y','tile_z']] = -1\n",
    "    for i in points_df.loc[points_df['in_eu']].index:\n",
    "        tile = mercantile.tile(\n",
    "            lng=points_df.loc[i,'geometry'].x,\n",
    "            lat=points_df.loc[i,'geometry'].y,\n",
    "            zoom=data.Z)\n",
    "        points_df.loc[i,'tile_x'] = tile.x\n",
    "        points_df.loc[i,'tile_y'] = tile.y\n",
    "        points_df.loc[i,'tile_z'] = tile.z\n",
    "        \n",
    "    # check if Tile exists already in the dataset\n",
    "    points_df.loc[:,'new_tile'] = False\n",
    "    if paths.FILE_SAMPLES.is_file():\n",
    "            samples_df = pd.read_csv(paths.FILE_SAMPLES)\n",
    "            columns_to_check = ['tile_x','tile_y','tile_z']\n",
    "            new_tile = False\n",
    "            for col in columns_to_check:\n",
    "                new_tile |= ~points_df.loc[points_df['in_eu'],col].isin(samples_df.loc[:,col])\n",
    "            points_df.loc[points_df['in_eu'],'new_tile'] = new_tile\n",
    "    else:\n",
    "        points_df.loc[points_df['in_eu'],'new_tile'] = True"
   ]
  },
  {
   "cell_type": "code",
   "execution_count": null,
   "id": "050365e1-125e-4a38-a028-0f72caf53d9d",
   "metadata": {},
   "outputs": [],
   "source": [
    "mark_new_tiles(points_df)"
   ]
  },
  {
   "cell_type": "code",
   "execution_count": null,
   "id": "daeafeed-320b-4fec-a878-81204bed1806",
   "metadata": {},
   "outputs": [],
   "source": [
    "points_df"
   ]
  },
  {
   "cell_type": "markdown",
   "id": "65ffd2dc-4047-4a6c-8dd0-b5471cd5e5b0",
   "metadata": {},
   "source": [
    "# Check if the new Tiles contain water\n",
    "\n",
    "but not only water"
   ]
  },
  {
   "cell_type": "code",
   "execution_count": null,
   "id": "243f7e92-726c-4471-8cc0-be15e8809925",
   "metadata": {},
   "outputs": [],
   "source": [
    "def get_inner_bbox_in_outer(x_i,y_i,z_i,x_o,y_o,z_o):\n",
    "    # pixel width and height of the outer vector tile\n",
    "    extent_o = data.VECTOR_TILE_EXTENT\n",
    "    # pixel width and height of one inner tile\n",
    "    extent_i = extent_o/(2**(z_i-z_o))\n",
    "    # top left Tile in the outer Tile but with the inner zoom\n",
    "    # https://wiki.openstreetmap.org/wiki/Slippy_map_tilenames#Subtiles\n",
    "    x_o_with_z_i = 2**(z_i-z_o) * x_o\n",
    "    y_o_with_z_i = 2**(z_i-z_o) * y_o\n",
    "    # pixel coordinates of the top left corner of the inner tile in the vector tile\n",
    "    px_tl = extent_i * (x_i - x_o_with_z_i)\n",
    "    py_tl = extent_i * (y_i - y_o_with_z_i)\n",
    "    # bottom right corner of the inner tile in vector tile pixel coordinates\n",
    "    px_br = px_tl + extent_i\n",
    "    py_br = py_tl + extent_i\n",
    "    # shapely Polygon\n",
    "    bbox = shapely.geometry.box(px_tl, py_tl, px_br, py_br)\n",
    "    return bbox"
   ]
  },
  {
   "cell_type": "code",
   "execution_count": null,
   "id": "513bbbef-3eec-42a5-9dba-2fc64654c6de",
   "metadata": {},
   "outputs": [],
   "source": []
  },
  {
   "cell_type": "code",
   "execution_count": null,
   "id": "fe1d9932-9e0e-4ea8-9222-68d11d80bc4f",
   "metadata": {},
   "outputs": [],
   "source": [
    "def get_accepted_samples_df(points_df):\n",
    "    points_df['accepted_water'] = False\n",
    "    points_df[['outer_tile_x','outer_tile_y','outer_tile_z']] = -1\n",
    "    columns_to_copy = ['id','tile_x','tile_y','tile_z']\n",
    "    samples_df = points_df.loc[points_df['new_tile'],['id','tile_x','tile_y','tile_z']].copy()\n",
    "\n",
    "    for i in points_df[points_df['new_tile']].index:\n",
    "        # inner Tile\n",
    "        x_i = points_df.loc[i,'tile_x']\n",
    "        y_i = points_df.loc[i,'tile_y']\n",
    "        z_i = points_df.loc[i,'tile_z']\n",
    "        # calculate outer Tile\n",
    "        z_o = data.Z_OUTER\n",
    "        tile_o = mercantile.parent(x_i,y_i,z_i,zoom=z_o)\n",
    "        x_o = tile_o.x\n",
    "        y_o = tile_o.y\n",
    "        points_df.loc[i,'outer_tile_x'] = x_o\n",
    "        points_df.loc[i,'outer_tile_y'] = y_o\n",
    "        points_df.loc[i,'outer_tile_z'] = z_o\n",
    "        # get water information of the outer tile\n",
    "        water_df = utils.get_water_df(x_o,y_o,z_o)\n",
    "        # check if the outer vector tile has water\n",
    "        if water_df is None:\n",
    "            continue\n",
    "        # check if in water is in the inner Tile\n",
    "        bbox_pixel = get_inner_bbox_in_outer(x_i,y_i,z_i,x_o,y_o,z_o)\n",
    "        water_polygon = water_df.iloc[0,0]\n",
    "        if water_polygon.overlaps(bbox_pixel):\n",
    "            points_df.loc[i,'accepted_water'] = True\n",
    "        else:\n",
    "            samples_df.drop(i,inplace=True)\n",
    "            \n",
    "    if samples_df.empty:\n",
    "        raise RuntimeError('No new and accepted samples were found and the samples_df is empty.')\n",
    "    \n",
    "    return samples_df"
   ]
  },
  {
   "cell_type": "code",
   "execution_count": null,
   "id": "1f6621a8-d01e-417b-bd0e-1e74a98feb48",
   "metadata": {},
   "outputs": [],
   "source": [
    "samples_df = get_accepted_samples_df(points_df)"
   ]
  },
  {
   "cell_type": "code",
   "execution_count": null,
   "id": "c35865f7-5383-4a25-b3c7-7b27f89dd6fa",
   "metadata": {},
   "outputs": [],
   "source": [
    "points_df"
   ]
  },
  {
   "cell_type": "code",
   "execution_count": null,
   "id": "644f93fa-6a7d-445b-a177-e90c962ab152",
   "metadata": {},
   "outputs": [],
   "source": [
    "samples_df"
   ]
  },
  {
   "cell_type": "code",
   "execution_count": null,
   "id": "c603937f-9bf3-4c93-a47c-37e7451c37c7",
   "metadata": {},
   "outputs": [],
   "source": [
    "def add_sample_geography(samples_df,countries_df):\n",
    "    for i in samples_df.index:\n",
    "        x = samples_df.loc[i,'tile_x']\n",
    "        y = samples_df.loc[i,'tile_y']\n",
    "        z = samples_df.loc[i,'tile_z']\n",
    "        tile = mercantile.Tile(x,y,z)\n",
    "        # get bbox in geodetic coordinates\n",
    "        bounds = mercantile.bounds(tile)\n",
    "        bbox = shapely.geometry.box(bounds.west,bounds.south,bounds.east,bounds.north)\n",
    "        samples_df.loc[i,'geometry'] = bbox\n",
    "        # get center of tile in geodetic coordinates\n",
    "        centroid = bbox.centroid\n",
    "        lon = centroid.x\n",
    "        lat = centroid.y\n",
    "        samples_df.loc[i,'lon'] = lon\n",
    "        samples_df.loc[i,'lat'] = lat\n",
    "        # get country of the center point\n",
    "        country_mask = countries_df.contains(centroid)\n",
    "        if country_mask.any():\n",
    "            samples_df.loc[i,'country'] = countries_df.loc[country_mask,'NAME_EN'].values[0]"
   ]
  },
  {
   "cell_type": "code",
   "execution_count": null,
   "id": "e0d6704e-bcef-4dc6-8294-7f9a9be31e99",
   "metadata": {},
   "outputs": [],
   "source": [
    "add_sample_geography(samples_df,countries_eu_10m)"
   ]
  },
  {
   "cell_type": "code",
   "execution_count": null,
   "id": "6721394d-1f00-48a7-84d5-d096ccc7ae68",
   "metadata": {},
   "outputs": [],
   "source": [
    "samples_df"
   ]
  },
  {
   "cell_type": "code",
   "execution_count": null,
   "id": "bcdcbe30-f1c0-40f3-a609-00103806c74b",
   "metadata": {},
   "outputs": [],
   "source": [
    "def plot_samples(samples_df,countries_df):\n",
    "    ax = countries_df.plot(figsize=(10,10),column='MAPCOLOR7',alpha=0.3)\n",
    "    ax.scatter(samples_df['lon'],samples_df['lat'])\n",
    "\n",
    "    ax.set_xlim(data.LON_MIN,data.LON_MAX)\n",
    "    ax.set_ylim(data.LAT_MIN,data.LAT_MAX)"
   ]
  },
  {
   "cell_type": "code",
   "execution_count": null,
   "id": "ac7c2bab-0596-43a9-b82f-3a6cdb71c242",
   "metadata": {},
   "outputs": [],
   "source": [
    "plot_samples(samples_df,countries_eu_110m)"
   ]
  },
  {
   "cell_type": "markdown",
   "id": "031608d1-3576-4254-acbe-d638a0292c5c",
   "metadata": {},
   "source": [
    "# Saving the CSV files"
   ]
  },
  {
   "cell_type": "code",
   "execution_count": null,
   "id": "b0446fa8-ffe3-4520-87fb-764d1ed2ad1a",
   "metadata": {},
   "outputs": [],
   "source": [
    "def save_points_df(points_df):\n",
    "    if paths.FILE_POINTS.is_file():\n",
    "        points_df.to_csv(paths.FILE_POINTS,mode='a', header=False, index=False)\n",
    "    else:\n",
    "        points_df.to_csv(paths.FILE_POINTS,mode='w', header=True,  index=False)"
   ]
  },
  {
   "cell_type": "code",
   "execution_count": null,
   "id": "d67fd46d-e1c6-465a-97c5-2f1a6607920d",
   "metadata": {},
   "outputs": [],
   "source": [
    "def save_samples_df(samples_df):\n",
    "    if paths.FILE_SAMPLES.is_file():\n",
    "        samples_df.to_csv(paths.FILE_SAMPLES,mode='a', header=False, index=False)\n",
    "    else:\n",
    "        samples_df.to_csv(paths.FILE_SAMPLES,mode='w', header=True,  index=False)"
   ]
  },
  {
   "cell_type": "code",
   "execution_count": null,
   "id": "3eb4fd3c-3e85-4269-a9fa-774df896512d",
   "metadata": {},
   "outputs": [],
   "source": [
    "save_points_df(points_df)\n",
    "save_samples_df(samples_df)"
   ]
  },
  {
   "cell_type": "markdown",
   "id": "e892dc9d-2924-4809-810f-f1afda736964",
   "metadata": {},
   "source": [
    "# Download the Image Pairs"
   ]
  },
  {
   "cell_type": "code",
   "execution_count": null,
   "id": "65ccbf26-a6a3-457c-a7c7-16a52a62f491",
   "metadata": {},
   "outputs": [],
   "source": [
    "from ml_project.constants import mapbox"
   ]
  },
  {
   "cell_type": "code",
   "execution_count": null,
   "id": "c2a176d8-cc6e-4a72-9ea7-a3a389ea62c6",
   "metadata": {},
   "outputs": [],
   "source": [
    "def download_images(samples_df):\n",
    "    for i in samples_df.index:\n",
    "        x = samples_df.loc[i,'tile_x']\n",
    "        y = samples_df.loc[i,'tile_y']\n",
    "        z = samples_df.loc[i,'tile_z']\n",
    "        # download the satellite image\n",
    "        utils.download_file(file_path=paths.FILE_SATELLITE_IMAGE(x,y,z),\n",
    "                            url=mapbox.URL_SATELLITE(x,y,z))\n",
    "        # download the mask image\n",
    "        utils.download_file(file_path=paths.FILE_MASK_IMAGE(x,y,z),\n",
    "                            url=mapbox.URL_MASK(x,y,z))"
   ]
  },
  {
   "cell_type": "code",
   "execution_count": null,
   "id": "6a55b91a-7753-4d2f-b445-459c9cee4392",
   "metadata": {},
   "outputs": [],
   "source": [
    "download_images(samples_df)"
   ]
  },
  {
   "cell_type": "code",
   "execution_count": null,
   "id": "75ccf155-2be9-47c1-9fd6-0925b46ef146",
   "metadata": {},
   "outputs": [],
   "source": [
    "from IPython.display import Image\n",
    "import matplotlib.pyplot as plt\n",
    "import matplotlib.image as mpimg\n",
    "from PIL import Image"
   ]
  },
  {
   "cell_type": "code",
   "execution_count": null,
   "id": "0a40f63b-4ab7-4414-8c25-31b4c51e584e",
   "metadata": {},
   "outputs": [],
   "source": [
    "# https://stackoverflow.com/questions/50559000/how-do-i-make-2-images-appear-side-by-side-in-jupyter-notebook-ipython\n",
    "def show_samples(samples_df):\n",
    "    for i in samples_df.index:\n",
    "        x = samples_df.loc[i,'tile_x']\n",
    "        y = samples_df.loc[i,'tile_y']\n",
    "        z = samples_df.loc[i,'tile_z']\n",
    "        img_satellite = plt.imread(paths.FILE_SATELLITE_IMAGE(x,y,z),format=data.SATELLITE_FORMAT)\n",
    "        img_mask = plt.imread(paths.FILE_MASK_IMAGE(x,y,z),format=data.MASK_FORMAT)\n",
    "        fig, ax = plt.subplots(1,2,figsize=(8,4))\n",
    "        ax[0].imshow(img_satellite)\n",
    "        ax[0].set_xticks([])\n",
    "        ax[0].set_yticks([])\n",
    "        ax[1].imshow(img_mask)\n",
    "        ax[1].set_xticks([])\n",
    "        ax[1].set_yticks([])\n",
    "        plt.tight_layout()\n",
    "        plt.show()"
   ]
  },
  {
   "cell_type": "code",
   "execution_count": null,
   "id": "17f20165-cfd8-4119-8519-6dc450d36308",
   "metadata": {},
   "outputs": [],
   "source": [
    "show_samples(samples_df)"
   ]
  },
  {
   "cell_type": "code",
   "execution_count": null,
   "id": "93e4d0a2-ee16-4052-9ccc-2a8e8fa991ba",
   "metadata": {},
   "outputs": [],
   "source": []
  }
 ],
 "metadata": {
  "kernelspec": {
   "display_name": "Python 3",
   "language": "python",
   "name": "python3"
  },
  "language_info": {
   "codemirror_mode": {
    "name": "ipython",
    "version": 3
   },
   "file_extension": ".py",
   "mimetype": "text/x-python",
   "name": "python",
   "nbconvert_exporter": "python",
   "pygments_lexer": "ipython3",
   "version": "3.9.5"
  }
 },
 "nbformat": 4,
 "nbformat_minor": 5
}
