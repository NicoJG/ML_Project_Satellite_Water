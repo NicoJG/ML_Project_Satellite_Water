{
 "cells": [
  {
   "cell_type": "code",
   "execution_count": null,
   "id": "0a4d5adb-eb59-4abd-89f0-7ec3dbbc05bd",
   "metadata": {},
   "outputs": [],
   "source": [
    "from ml_project.utils import files,paths,data"
   ]
  },
  {
   "cell_type": "code",
   "execution_count": null,
   "id": "9b09ae2b-b184-4366-9276-4856193aadd6",
   "metadata": {},
   "outputs": [],
   "source": [
    "import numpy as np\n",
    "import pandas as pd\n",
    "import matplotlib as mpl\n",
    "import matplotlib.pyplot as plt\n",
    "import geopandas as gpd"
   ]
  },
  {
   "cell_type": "code",
   "execution_count": null,
   "id": "7d6dddfa-f93a-49a0-83a5-ea90e2532d97",
   "metadata": {},
   "outputs": [],
   "source": [
    "points_df = files.load_points_df()\n",
    "points_df.head(4)"
   ]
  },
  {
   "cell_type": "code",
   "execution_count": null,
   "id": "d1e8798c-5346-4847-b747-272dc1beff21",
   "metadata": {},
   "outputs": [],
   "source": [
    "points_df[points_df.duplicated(subset=['tile_x','tile_y'])&points_df['new_tile']]"
   ]
  },
  {
   "cell_type": "code",
   "execution_count": null,
   "id": "e75d432a-7aad-4bf0-8f14-29c983b1f771",
   "metadata": {},
   "outputs": [],
   "source": [
    "samples_df = files.load_samples_df()\n",
    "samples_df.head(4)"
   ]
  },
  {
   "cell_type": "code",
   "execution_count": null,
   "id": "08dbb835-792e-4e60-9c40-26ac3e3d5e8e",
   "metadata": {},
   "outputs": [],
   "source": [
    "samples_df[samples_df.duplicated(subset=['tile_x','tile_y'])]"
   ]
  },
  {
   "cell_type": "code",
   "execution_count": null,
   "id": "211fc0c3-4e79-4950-a7bc-51f325781c0c",
   "metadata": {},
   "outputs": [],
   "source": [
    "countries_eu_110m = files.load_ne_countries_eu_110m()"
   ]
  },
  {
   "cell_type": "markdown",
   "id": "9c391faa-943a-4497-8098-d1b1afcc88b2",
   "metadata": {},
   "source": [
    "# Inspecting the points_df"
   ]
  },
  {
   "cell_type": "code",
   "execution_count": null,
   "id": "9fac9fff-865e-4f6b-842f-88325d269c10",
   "metadata": {},
   "outputs": [],
   "source": [
    "points_df['batch_id'].unique()"
   ]
  },
  {
   "cell_type": "code",
   "execution_count": null,
   "id": "0079ac64-4dbf-4109-a714-5b403fa84e77",
   "metadata": {},
   "outputs": [],
   "source": [
    "def plot_points(points_df,countries_df):\n",
    "    ax = countries_df.plot(figsize=(10,10),column='MAPCOLOR7',alpha=0.3)\n",
    "    points_df.loc[~points_df['in_eu']].plot(ax=ax,color='k',alpha=0.2,marker='x',markersize=10)\n",
    "    points_df.plot(ax=ax,column='country',markersize=2)\n",
    "\n",
    "    ax.set_xlim(data.LON_MIN,data.LON_MAX)\n",
    "    ax.set_ylim(data.LAT_MIN,data.LAT_MAX)"
   ]
  },
  {
   "cell_type": "code",
   "execution_count": null,
   "id": "fad8fbf5-399d-4db3-98f1-8968c0cb53b1",
   "metadata": {},
   "outputs": [],
   "source": [
    "plot_points(points_df,countries_eu_110m)"
   ]
  },
  {
   "cell_type": "markdown",
   "id": "29568770-ae25-49cb-8a1a-4685d666817d",
   "metadata": {},
   "source": [
    "# Inspecting the samples_df"
   ]
  },
  {
   "cell_type": "code",
   "execution_count": null,
   "id": "019bff7a-1da5-49fa-8382-c167e57ef1a2",
   "metadata": {},
   "outputs": [],
   "source": [
    "def plot_samples(samples_df,countries_df):\n",
    "    ax = countries_df.plot(figsize=(10,10),column='MAPCOLOR7',alpha=0.3)\n",
    "    ax.scatter(samples_df['lon'],samples_df['lat'])\n",
    "\n",
    "    ax.set_xlim(data.LON_MIN,data.LON_MAX)\n",
    "    ax.set_ylim(data.LAT_MIN,data.LAT_MAX)"
   ]
  },
  {
   "cell_type": "code",
   "execution_count": null,
   "id": "4ed05732-69e0-47c6-af80-60de521c8d0d",
   "metadata": {},
   "outputs": [],
   "source": [
    "plot_samples(samples_df,countries_eu_110m)"
   ]
  },
  {
   "cell_type": "code",
   "execution_count": null,
   "id": "64a7bea7-f951-4596-bece-9ad52642e939",
   "metadata": {},
   "outputs": [],
   "source": [
    "# https://stackoverflow.com/questions/50559000/how-do-i-make-2-images-appear-side-by-side-in-jupyter-notebook-ipython\n",
    "def show_samples(samples_df,n=5):\n",
    "    samples = samples_df.sample(n=n)\n",
    "    for i in samples.index:\n",
    "        x = samples_df.loc[i,'tile_x']\n",
    "        y = samples_df.loc[i,'tile_y']\n",
    "        z = samples_df.loc[i,'tile_z']\n",
    "        img_satellite = plt.imread(paths.FILE_SATELLITE_IMAGE(x,y,z),format=data.SATELLITE_FORMAT)\n",
    "        img_mask = plt.imread(paths.FILE_MASK_IMAGE(x,y,z),format=data.MASK_FORMAT)\n",
    "        fig, ax = plt.subplots(1,2,figsize=(8,4))\n",
    "        ax[0].imshow(img_satellite)\n",
    "        ax[0].set_xticks([])\n",
    "        ax[0].set_yticks([])\n",
    "        ax[1].imshow(img_mask)\n",
    "        ax[1].set_xticks([])\n",
    "        ax[1].set_yticks([])\n",
    "        plt.tight_layout()\n",
    "        plt.show()"
   ]
  },
  {
   "cell_type": "code",
   "execution_count": null,
   "id": "b2ef1a60-b96e-413d-9fa6-b7c2fe841d09",
   "metadata": {},
   "outputs": [],
   "source": [
    "min_id = points_df.loc[points_df['batch_id']>22,'id'].min()\n",
    "show_samples(samples_df[samples_df['id']>min_id])"
   ]
  },
  {
   "cell_type": "code",
   "execution_count": null,
   "id": "f02754a5-c93b-407b-9986-6a0bc367a7f9",
   "metadata": {},
   "outputs": [],
   "source": []
  }
 ],
 "metadata": {
  "kernelspec": {
   "display_name": "Python 3",
   "language": "python",
   "name": "python3"
  },
  "language_info": {
   "codemirror_mode": {
    "name": "ipython",
    "version": 3
   },
   "file_extension": ".py",
   "mimetype": "text/x-python",
   "name": "python",
   "nbconvert_exporter": "python",
   "pygments_lexer": "ipython3",
   "version": "3.9.5"
  }
 },
 "nbformat": 4,
 "nbformat_minor": 5
}
