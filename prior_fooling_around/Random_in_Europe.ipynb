{
 "cells": [
  {
   "cell_type": "code",
   "execution_count": null,
   "id": "44b1628c",
   "metadata": {},
   "outputs": [],
   "source": [
    "import numpy as np\n",
    "import matplotlib.pyplot as plt\n",
    "\n",
    "%matplotlib inline\n",
    "\n",
    "import geopandas as gpd"
   ]
  },
  {
   "cell_type": "markdown",
   "id": "87af4277",
   "metadata": {},
   "source": [
    "# Random Coordinate in Europe"
   ]
  },
  {
   "cell_type": "code",
   "execution_count": null,
   "id": "2fbfc935",
   "metadata": {},
   "outputs": [],
   "source": [
    "coastlines = gpd.read_file('ne_10m_coastline/ne_10m_coastline.shp')"
   ]
  },
  {
   "cell_type": "code",
   "execution_count": null,
   "id": "27c4195d",
   "metadata": {},
   "outputs": [],
   "source": []
  },
  {
   "cell_type": "code",
   "execution_count": null,
   "id": "02432972",
   "metadata": {
    "tags": []
   },
   "outputs": [],
   "source": [
    "coastlines.plot()"
   ]
  },
  {
   "cell_type": "code",
   "execution_count": null,
   "id": "515b65fe",
   "metadata": {},
   "outputs": [],
   "source": [
    "coastlines"
   ]
  },
  {
   "cell_type": "code",
   "execution_count": null,
   "id": "45536e3f",
   "metadata": {},
   "outputs": [],
   "source": [
    "# read in the country borders from Natural Earth\n",
    "countries = gpd.read_file('ne_110m_admin_0_countries/ne_110m_admin_0_countries.shp')"
   ]
  },
  {
   "cell_type": "code",
   "execution_count": null,
   "id": "4a020804",
   "metadata": {},
   "outputs": [],
   "source": [
    "countries"
   ]
  },
  {
   "cell_type": "code",
   "execution_count": null,
   "id": "ff6a646c",
   "metadata": {},
   "outputs": [],
   "source": [
    "countries.columns"
   ]
  },
  {
   "cell_type": "code",
   "execution_count": null,
   "id": "5368d0f2",
   "metadata": {},
   "outputs": [],
   "source": [
    "countries['SUBREGION'].unique()"
   ]
  },
  {
   "cell_type": "code",
   "execution_count": null,
   "id": "131108c9",
   "metadata": {},
   "outputs": [],
   "source": [
    "countries_europe = countries[countries['CONTINENT']=='Europe']\n",
    "countries_europe = countries_europe.drop(countries_europe[countries_europe['NAME_EN']=='Russia'].index);"
   ]
  },
  {
   "cell_type": "code",
   "execution_count": null,
   "id": "27c161c9-69f9-4dd9-bf66-a01a094dac60",
   "metadata": {},
   "outputs": [],
   "source": [
    "countries_europe.plot(column='MAPCOLOR7')"
   ]
  },
  {
   "cell_type": "code",
   "execution_count": null,
   "id": "92e1ff4b",
   "metadata": {},
   "outputs": [],
   "source": [
    "countries_europe[['NAME_LONG','POP_EST']]"
   ]
  },
  {
   "cell_type": "code",
   "execution_count": null,
   "id": "fb5370d6",
   "metadata": {},
   "outputs": [],
   "source": [
    "countries_europe.columns"
   ]
  },
  {
   "cell_type": "code",
   "execution_count": null,
   "id": "16225afd",
   "metadata": {},
   "outputs": [],
   "source": [
    "countries_europe['GEOUNIT'].unique()"
   ]
  },
  {
   "cell_type": "code",
   "execution_count": null,
   "id": "998b9f0b",
   "metadata": {},
   "outputs": [],
   "source": [
    "countries[['SUBUNIT','NAME_EN']]"
   ]
  },
  {
   "cell_type": "code",
   "execution_count": null,
   "id": "93f41bf9",
   "metadata": {},
   "outputs": [],
   "source": [
    "countries_europe['coords'] = countries_europe['geometry'].apply(lambda x: x.representative_point().coords[:])\n",
    "countries_europe['coords'] = [coords[0] for coords in countries_europe['coords']]"
   ]
  },
  {
   "cell_type": "code",
   "execution_count": null,
   "id": "2940f57a",
   "metadata": {},
   "outputs": [],
   "source": [
    "ax = countries_europe.plot(figsize=(10,10))\n",
    "for i, row in countries_europe.iterrows():\n",
    "    plt.annotate(s=row['ISO_A3'], xy=row['coords'],\n",
    "                 horizontalalignment='center')"
   ]
  },
  {
   "cell_type": "code",
   "execution_count": null,
   "id": "3e96f8c4",
   "metadata": {},
   "outputs": [],
   "source": [
    "lat_min, lat_max = 30,72\n",
    "lon_min, lon_max = -11,40\n"
   ]
  },
  {
   "cell_type": "code",
   "execution_count": null,
   "id": "4293ee25",
   "metadata": {},
   "outputs": [],
   "source": [
    "boundaries = countries_europe['geometry']\n",
    "boundaries"
   ]
  },
  {
   "cell_type": "code",
   "execution_count": null,
   "id": "a593157a",
   "metadata": {},
   "outputs": [],
   "source": [
    "from shapely.geometry import Point"
   ]
  },
  {
   "cell_type": "code",
   "execution_count": null,
   "id": "ed061466",
   "metadata": {},
   "outputs": [],
   "source": [
    "N = 100000\n",
    "p_lat = np.random.uniform(low=lat_min,high=lat_max,size=N)\n",
    "p_lon = np.random.uniform(low=lon_min,high=lon_max,size=N)\n",
    "points = np.column_stack((p_lon,p_lat))\n",
    "points_df = gpd.GeoDataFrame(geometry=[Point(lon,lat) for lon,lat in zip(p_lon,p_lat)])"
   ]
  },
  {
   "cell_type": "code",
   "execution_count": null,
   "id": "27abf2f6",
   "metadata": {},
   "outputs": [],
   "source": [
    "points_df"
   ]
  },
  {
   "cell_type": "code",
   "execution_count": null,
   "id": "cde1b855",
   "metadata": {},
   "outputs": [],
   "source": [
    "plt.hist2d(points[:,0],points[:,1],bins=100);"
   ]
  },
  {
   "cell_type": "code",
   "execution_count": null,
   "id": "82fcbe64",
   "metadata": {},
   "outputs": [],
   "source": [
    "eu_boundary = countries_europe['geometry'].unary_union\n",
    "print(type(eu_boundary))"
   ]
  },
  {
   "cell_type": "code",
   "execution_count": null,
   "id": "c2e3dbb9",
   "metadata": {},
   "outputs": [],
   "source": []
  },
  {
   "cell_type": "code",
   "execution_count": null,
   "id": "b331219a",
   "metadata": {},
   "outputs": [],
   "source": [
    "#in_eu = np.zeros((N,), dtype=bool)\n",
    "#for i in range(N):\n",
    "#    if eu_boundary.contains(Point(points[i])):\n",
    "#        in_eu[i] = True"
   ]
  },
  {
   "cell_type": "code",
   "execution_count": null,
   "id": "d8d86563",
   "metadata": {},
   "outputs": [],
   "source": [
    "in_eu = points_df.within(eu_boundary)"
   ]
  },
  {
   "cell_type": "code",
   "execution_count": null,
   "id": "7fcf9022",
   "metadata": {},
   "outputs": [],
   "source": [
    "points_df['in_eu'] = in_eu"
   ]
  },
  {
   "cell_type": "code",
   "execution_count": null,
   "id": "eea1dd2c",
   "metadata": {},
   "outputs": [],
   "source": [
    "plt.figure(figsize=(10,10))\n",
    "plt.hist2d(points[in_eu,0],points[in_eu,1],bins=100)\n",
    "plt.show()"
   ]
  },
  {
   "cell_type": "code",
   "execution_count": null,
   "id": "490e6a6d",
   "metadata": {},
   "outputs": [],
   "source": [
    "points_df['country'] = np.nan\n",
    "for i, country in countries_europe.iterrows():\n",
    "    print(country['NAME_EN'])\n",
    "    in_country = in_eu & points_df.loc[in_eu&points_df['country'].isnull(),'geometry'].within(country['geometry'])\n",
    "    points_df.loc[in_country,'country'] = country['NAME_EN']"
   ]
  },
  {
   "cell_type": "code",
   "execution_count": null,
   "id": "4e1b2c05",
   "metadata": {},
   "outputs": [],
   "source": [
    "points_df"
   ]
  },
  {
   "cell_type": "code",
   "execution_count": null,
   "id": "b4976d0f",
   "metadata": {},
   "outputs": [],
   "source": [
    "plt.figure(figsize=(10,10))\n",
    "for country in points_df['country'].unique():\n",
    "    in_country = (in_eu) & (points_df['country']==country)\n",
    "    plt.scatter(points[in_country,0],points[in_country,1],s=1,label=country)\n",
    "    \n",
    "plt.legend(markerscale=5)\n",
    "plt.show()"
   ]
  },
  {
   "cell_type": "code",
   "execution_count": null,
   "id": "3370b4e2",
   "metadata": {},
   "outputs": [],
   "source": [
    "points_df"
   ]
  },
  {
   "cell_type": "code",
   "execution_count": null,
   "id": "6563019b",
   "metadata": {},
   "outputs": [],
   "source": [
    "in_eu_not_in_country = in_eu&points_df['country'].isnull()"
   ]
  },
  {
   "cell_type": "code",
   "execution_count": null,
   "id": "2485d694",
   "metadata": {},
   "outputs": [],
   "source": [
    "in_eu_not_in_country.sum()"
   ]
  },
  {
   "cell_type": "code",
   "execution_count": null,
   "id": "404f1665",
   "metadata": {},
   "outputs": [],
   "source": [
    "in_eu.sum()"
   ]
  },
  {
   "cell_type": "code",
   "execution_count": null,
   "id": "7abab8a0-4a6e-404b-94bb-bf92d2d90848",
   "metadata": {},
   "outputs": [],
   "source": []
  }
 ],
 "metadata": {
  "kernelspec": {
   "display_name": "Python 3",
   "language": "python",
   "name": "python3"
  },
  "language_info": {
   "codemirror_mode": {
    "name": "ipython",
    "version": 3
   },
   "file_extension": ".py",
   "mimetype": "text/x-python",
   "name": "python",
   "nbconvert_exporter": "python",
   "pygments_lexer": "ipython3",
   "version": "3.9.5"
  }
 },
 "nbformat": 4,
 "nbformat_minor": 5
}
