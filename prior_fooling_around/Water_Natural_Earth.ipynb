{
 "cells": [
  {
   "cell_type": "code",
   "execution_count": null,
   "id": "ab20580d",
   "metadata": {},
   "outputs": [],
   "source": [
    "import geopandas as gpd\n",
    "import matplotlib.pyplot as plt"
   ]
  },
  {
   "cell_type": "code",
   "execution_count": null,
   "id": "0cf88cb7",
   "metadata": {},
   "outputs": [],
   "source": [
    "lakes_shp = gpd.read_file('ne_10m_lakes/ne_10m_lakes.shp')"
   ]
  },
  {
   "cell_type": "code",
   "execution_count": null,
   "id": "39884d29",
   "metadata": {},
   "outputs": [],
   "source": [
    "lakes_dbf = gpd.read_file('ne_10m_lakes/ne_10m_lakes.dbf')"
   ]
  },
  {
   "cell_type": "code",
   "execution_count": null,
   "id": "02d5dc4e",
   "metadata": {},
   "outputs": [],
   "source": [
    "lakes_shx = gpd.read_file('ne_10m_lakes/ne_10m_lakes.shx')"
   ]
  },
  {
   "cell_type": "code",
   "execution_count": null,
   "id": "b709eada",
   "metadata": {},
   "outputs": [],
   "source": [
    "lakes_shp.plot()"
   ]
  },
  {
   "cell_type": "code",
   "execution_count": null,
   "id": "bf38aacf",
   "metadata": {},
   "outputs": [],
   "source": [
    "lakes_europe = gpd.read_file('ne_10m_lakes_europe/ne_10m_lakes_europe.shp')"
   ]
  },
  {
   "cell_type": "code",
   "execution_count": null,
   "id": "7c8e1f16",
   "metadata": {},
   "outputs": [],
   "source": [
    "countries = gpd.read_file('ne_10m_admin_0_countries/ne_10m_admin_0_countries.shp')"
   ]
  },
  {
   "cell_type": "code",
   "execution_count": null,
   "id": "cee21c27",
   "metadata": {},
   "outputs": [],
   "source": [
    "countries_europe = countries[countries['CONTINENT']=='Europe']\n",
    "countries_europe = countries_europe.drop(countries_europe[countries_europe['NAME_EN']=='Russia'].index);"
   ]
  },
  {
   "cell_type": "code",
   "execution_count": null,
   "id": "abe16bb1",
   "metadata": {},
   "outputs": [],
   "source": [
    "countries_europe.plot()"
   ]
  },
  {
   "cell_type": "code",
   "execution_count": null,
   "id": "5c41e4c0",
   "metadata": {},
   "outputs": [],
   "source": [
    "lat_min, lat_max = 30,72\n",
    "lon_min, lon_max = -11,40"
   ]
  },
  {
   "cell_type": "code",
   "execution_count": null,
   "id": "d8562d47",
   "metadata": {},
   "outputs": [],
   "source": [
    "countries_europe.columns"
   ]
  },
  {
   "cell_type": "code",
   "execution_count": null,
   "id": "699b2dd7",
   "metadata": {},
   "outputs": [],
   "source": [
    "ax = countries_europe.plot(figsize=(10,10),column='POP_EST',legend=True)\n",
    "lakes_shp.plot(ax=ax)\n",
    "lakes_europe.plot(ax=ax)\n",
    "ax.set_xlim(lon_min,lon_max)\n",
    "ax.set_ylim(lat_min,lat_max)"
   ]
  },
  {
   "cell_type": "code",
   "execution_count": null,
   "id": "bc68c630",
   "metadata": {},
   "outputs": [],
   "source": [
    "ger_bbox = countries_europe[countries_europe['NAME_EN']=='Germany'].bounds"
   ]
  },
  {
   "cell_type": "code",
   "execution_count": null,
   "id": "940e255c",
   "metadata": {},
   "outputs": [],
   "source": [
    "ger_bbox"
   ]
  },
  {
   "cell_type": "code",
   "execution_count": null,
   "id": "e7923ea6",
   "metadata": {},
   "outputs": [],
   "source": [
    "ger_min_lon = ger_bbox.minx.iloc[0]\n",
    "ger_max_lon = ger_bbox.maxx.iloc[0]\n",
    "ger_min_lat = ger_bbox.miny.iloc[0]\n",
    "ger_max_lat = ger_bbox.maxy.iloc[0]"
   ]
  },
  {
   "cell_type": "code",
   "execution_count": null,
   "id": "2a272552",
   "metadata": {},
   "outputs": [],
   "source": [
    "ax = countries_europe.plot(figsize=(10,10),column='POP_EST',legend=True)\n",
    "lakes_shp.plot(ax=ax)\n",
    "lakes_europe.plot(ax=ax)\n",
    "ax.set_xlim(ger_min_lon,ger_max_lon)\n",
    "ax.set_ylim(ger_min_lat,ger_max_lat)"
   ]
  },
  {
   "cell_type": "code",
   "execution_count": null,
   "id": "f6c21749",
   "metadata": {},
   "outputs": [],
   "source": [
    "lakes_shp"
   ]
  },
  {
   "cell_type": "code",
   "execution_count": null,
   "id": "05026121",
   "metadata": {},
   "outputs": [],
   "source": []
  }
 ],
 "metadata": {
  "kernelspec": {
   "display_name": "Python 3",
   "language": "python",
   "name": "python3"
  },
  "language_info": {
   "codemirror_mode": {
    "name": "ipython",
    "version": 3
   },
   "file_extension": ".py",
   "mimetype": "text/x-python",
   "name": "python",
   "nbconvert_exporter": "python",
   "pygments_lexer": "ipython3",
   "version": "3.9.5"
  }
 },
 "nbformat": 4,
 "nbformat_minor": 5
}
