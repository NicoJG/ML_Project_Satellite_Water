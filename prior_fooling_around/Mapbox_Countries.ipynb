{
 "cells": [
  {
   "cell_type": "code",
   "execution_count": null,
   "id": "e496c3b4",
   "metadata": {},
   "outputs": [],
   "source": [
    "import matplotlib.pyplot as plt\n",
    "%matplotlib notebook\n",
    "\n",
    "import mercantile\n",
    "import geopandas as gpd"
   ]
  },
  {
   "cell_type": "code",
   "execution_count": null,
   "id": "554ef543",
   "metadata": {},
   "outputs": [],
   "source": [
    "# Test Tile Coordinates:\n",
    "# Dinslaken Duisburg etc.\n",
    "z = 10\n",
    "x = 531\n",
    "y = 340"
   ]
  },
  {
   "cell_type": "code",
   "execution_count": null,
   "id": "74ee47d9",
   "metadata": {},
   "outputs": [],
   "source": [
    "tile = mercantile.Tile(x,y,z)"
   ]
  },
  {
   "cell_type": "code",
   "execution_count": null,
   "id": "62297723",
   "metadata": {},
   "outputs": [],
   "source": [
    "# In latitude longitude:\n",
    "upper_left = mercantile.ul(tile)\n",
    "upper_left"
   ]
  },
  {
   "cell_type": "code",
   "execution_count": null,
   "id": "30741373",
   "metadata": {},
   "outputs": [],
   "source": [
    "lower_right = mercantile.ul(x+1,y-1,z)\n",
    "lower_right"
   ]
  },
  {
   "cell_type": "code",
   "execution_count": null,
   "id": "50c3a507",
   "metadata": {},
   "outputs": [],
   "source": [
    "# bbox in meters:\n",
    "bbox = mercantile.xy_bounds(tile)\n",
    "bbox"
   ]
  },
  {
   "cell_type": "code",
   "execution_count": null,
   "id": "449d465b",
   "metadata": {},
   "outputs": [],
   "source": [
    "width = bbox.right - bbox.left\n",
    "height = bbox.top - bbox.bottom\n",
    "width,height"
   ]
  },
  {
   "cell_type": "markdown",
   "id": "403189ac",
   "metadata": {},
   "source": [
    "# Download the Vector Tile"
   ]
  },
  {
   "cell_type": "code",
   "execution_count": null,
   "id": "017213cb",
   "metadata": {},
   "outputs": [],
   "source": [
    "import mapbox_vector_tile\n",
    "import requests"
   ]
  },
  {
   "cell_type": "code",
   "execution_count": null,
   "id": "11778f12",
   "metadata": {},
   "outputs": [],
   "source": [
    "tileset_id = 'mapbox.country-boundaries-v1'"
   ]
  },
  {
   "cell_type": "code",
   "execution_count": null,
   "id": "36e41c17",
   "metadata": {},
   "outputs": [],
   "source": [
    "token = 'pk.eyJ1Ijoibmljb2pnIiwiYSI6ImNrcHFqamY5azNqaTAycHJpa210ZDF2aG4ifQ.8jPQpYl4eiUw0Cv_b8J7hA'"
   ]
  },
  {
   "cell_type": "code",
   "execution_count": null,
   "id": "d306aed8",
   "metadata": {},
   "outputs": [],
   "source": [
    "url = f'https://api.mapbox.com/v4/{tileset_id}/{z}/{x}/{y}.mvt?access_token={token}'\n",
    "url"
   ]
  },
  {
   "cell_type": "code",
   "execution_count": null,
   "id": "4ad816f7",
   "metadata": {},
   "outputs": [],
   "source": [
    "file_path_mvt = f'data/vector_tiles/z{z}x{x}y{y}_{tileset_id}.mvt'"
   ]
  },
  {
   "cell_type": "code",
   "execution_count": null,
   "id": "4be3bf09",
   "metadata": {},
   "outputs": [],
   "source": [
    "#r = requests.get(url)  \n",
    "#with open(file_path_mvt, 'wb') as f:\n",
    "#    f.write(r.content)"
   ]
  },
  {
   "cell_type": "code",
   "execution_count": null,
   "id": "45b694a4",
   "metadata": {},
   "outputs": [],
   "source": [
    "with open(file_path_mvt, mode='rb') as file: # b is important -> binary\n",
    "    file_mvt = file.read()"
   ]
  },
  {
   "cell_type": "code",
   "execution_count": null,
   "id": "227ec6a4",
   "metadata": {},
   "outputs": [],
   "source": [
    "vector_tile = mapbox_vector_tile.decode(file_mvt)\n",
    "vector_tile"
   ]
  },
  {
   "cell_type": "code",
   "execution_count": null,
   "id": "56a4c688",
   "metadata": {},
   "outputs": [],
   "source": [
    "countries_df = gpd.GeoDataFrame.from_features(vector_tile['country_boundaries']['features'])\n",
    "countries_df"
   ]
  },
  {
   "cell_type": "code",
   "execution_count": null,
   "id": "11f62fcb",
   "metadata": {},
   "outputs": [],
   "source": [
    "countries_df.plot()"
   ]
  },
  {
   "cell_type": "markdown",
   "id": "44b19598",
   "metadata": {},
   "source": [
    "# Test with World Tile (zoom=0)"
   ]
  },
  {
   "cell_type": "code",
   "execution_count": null,
   "id": "788af805",
   "metadata": {},
   "outputs": [],
   "source": [
    "z0 = 0\n",
    "x0 = 0\n",
    "y0 = 0"
   ]
  },
  {
   "cell_type": "code",
   "execution_count": null,
   "id": "72d416c6",
   "metadata": {},
   "outputs": [],
   "source": [
    "tileset_id = 'mapbox.country-boundaries-v1,mapbox.mapbox-streets-v8'"
   ]
  },
  {
   "cell_type": "code",
   "execution_count": null,
   "id": "98d8902e",
   "metadata": {},
   "outputs": [],
   "source": [
    "url0 = f'https://api.mapbox.com/v4/{tileset_id}/{z0}/{x0}/{y0}.mvt?access_token={token}'\n",
    "url0"
   ]
  },
  {
   "cell_type": "code",
   "execution_count": null,
   "id": "cc685c5b",
   "metadata": {},
   "outputs": [],
   "source": [
    "file_path_mvt0 = f'data/vector_tiles/z{z0}x{x0}y{y0}_{tileset_id}.mvt'"
   ]
  },
  {
   "cell_type": "code",
   "execution_count": null,
   "id": "85c2b537",
   "metadata": {},
   "outputs": [],
   "source": [
    "#r0 = requests.get(url0)  \n",
    "#with open(file_path_mvt0, 'wb') as f:\n",
    "#    f.write(r0.content)"
   ]
  },
  {
   "cell_type": "code",
   "execution_count": null,
   "id": "49cc1d65",
   "metadata": {},
   "outputs": [],
   "source": [
    "with open(file_path_mvt0, mode='rb') as file: # b is important -> binary\n",
    "    file_mvt0 = file.read()"
   ]
  },
  {
   "cell_type": "code",
   "execution_count": null,
   "id": "95d41234",
   "metadata": {
    "jupyter": {
     "outputs_hidden": true
    },
    "tags": []
   },
   "outputs": [],
   "source": [
    "vector_tile0 = mapbox_vector_tile.decode(file_mvt0)\n",
    "vector_tile0"
   ]
  },
  {
   "cell_type": "code",
   "execution_count": null,
   "id": "7f27ffa5",
   "metadata": {},
   "outputs": [],
   "source": [
    "vector_tile0.keys()"
   ]
  },
  {
   "cell_type": "code",
   "execution_count": null,
   "id": "7fc8d4f3",
   "metadata": {},
   "outputs": [],
   "source": [
    "countries_df0 = gpd.GeoDataFrame.from_features(vector_tile0['country_boundaries']['features'])\n",
    "countries_df0"
   ]
  },
  {
   "cell_type": "code",
   "execution_count": null,
   "id": "e48e028b",
   "metadata": {},
   "outputs": [],
   "source": [
    "countries_df0.columns"
   ]
  },
  {
   "cell_type": "code",
   "execution_count": null,
   "id": "f9c626a6",
   "metadata": {},
   "outputs": [],
   "source": [
    "countries_df0.plot(figsize=(10,10),column='color_group')"
   ]
  },
  {
   "cell_type": "code",
   "execution_count": null,
   "id": "f724f1d7",
   "metadata": {
    "jupyter": {
     "outputs_hidden": true
    },
    "tags": []
   },
   "outputs": [],
   "source": [
    "df0 = {key:gpd.GeoDataFrame.from_features(vector_tile0[key]['features']) for key in vector_tile0}\n",
    "df0"
   ]
  },
  {
   "cell_type": "code",
   "execution_count": null,
   "id": "17acea60",
   "metadata": {},
   "outputs": [],
   "source": [
    "for key in df0:\n",
    "    df0[key].plot()"
   ]
  },
  {
   "cell_type": "code",
   "execution_count": null,
   "id": "111fa13d",
   "metadata": {},
   "outputs": [],
   "source": [
    "ax = df0['water'].plot(figsize=(9,9),color='tab:blue')\n",
    "df0['country_boundaries'].plot(ax=ax,column='color_group',alpha=0.7)\n",
    "df0['admin'].plot(ax=ax,color='red',alpha=0.7)\n",
    "ax.set_xlim(1800,2500)\n",
    "ax.set_ylim(2450,3000)"
   ]
  },
  {
   "cell_type": "code",
   "execution_count": null,
   "id": "24eb3f8e",
   "metadata": {},
   "outputs": [],
   "source": []
  }
 ],
 "metadata": {
  "kernelspec": {
   "display_name": "Python 3",
   "language": "python",
   "name": "python3"
  },
  "language_info": {
   "codemirror_mode": {
    "name": "ipython",
    "version": 3
   },
   "file_extension": ".py",
   "mimetype": "text/x-python",
   "name": "python",
   "nbconvert_exporter": "python",
   "pygments_lexer": "ipython3",
   "version": "3.9.5"
  }
 },
 "nbformat": 4,
 "nbformat_minor": 5
}
