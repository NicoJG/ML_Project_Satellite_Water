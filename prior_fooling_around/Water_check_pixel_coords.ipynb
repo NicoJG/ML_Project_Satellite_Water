{
 "cells": [
  {
   "cell_type": "markdown",
   "id": "0ffc48b3-7786-456d-aca5-e25a74a5a78e",
   "metadata": {},
   "source": [
    "# Working in Pixel Coordinates"
   ]
  },
  {
   "cell_type": "markdown",
   "id": "f6de193e-2e98-4b32-b3e5-f61bbbcc50aa",
   "metadata": {},
   "source": [
    "### import stuff"
   ]
  },
  {
   "cell_type": "code",
   "execution_count": null,
   "id": "7675a385-08b5-4e2c-be37-556d667cfa01",
   "metadata": {},
   "outputs": [],
   "source": [
    "import mercantile\n",
    "import requests\n",
    "import mapbox_vector_tile\n",
    "import geopandas as gpd\n",
    "import shapely.geometry\n",
    "import matplotlib.pyplot as plt"
   ]
  },
  {
   "cell_type": "markdown",
   "id": "e7145280-8e55-48e3-bf84-99991227cbb6",
   "metadata": {},
   "source": [
    "### define the coordinates and calculate the tile coordinates"
   ]
  },
  {
   "cell_type": "markdown",
   "id": "14ed47a6-6703-4fea-90c3-84cc162a3e18",
   "metadata": {},
   "source": [
    "$x_i,y_i,z_i$ are the Tile Coordinates of the inner Tile (which will be the Image Tile)  \n",
    "$x_o,y_o,z_o$ are the Tile Coordinates of the outer Tile"
   ]
  },
  {
   "cell_type": "code",
   "execution_count": null,
   "id": "e4a37b11-8bc6-4d25-ac38-bdb643c40903",
   "metadata": {},
   "outputs": [],
   "source": [
    "# Test Coordinates:\n",
    "# Dinslaken Rotbachsee\n",
    "lat,lon = 51.56792718343954, 6.78504175412729\n",
    "# Dortmund Phönixsee\n",
    "#lat, lon = 51.49011058141199, 7.506262816458572\n",
    "# Tenderingssee\n",
    "# lat,lon = 51.59932699198615, 6.719474067819083\n",
    "z_i = 15\n",
    "z_o = 10"
   ]
  },
  {
   "cell_type": "code",
   "execution_count": null,
   "id": "1f076562-9ac9-43ba-bf2c-7335893f1186",
   "metadata": {},
   "outputs": [],
   "source": [
    "tile_i = mercantile.tile(lon,lat,z_i)"
   ]
  },
  {
   "cell_type": "code",
   "execution_count": null,
   "id": "75c34a42-f2e2-43de-9886-24fbefb33040",
   "metadata": {},
   "outputs": [],
   "source": [
    "x_i,y_i = tile_i.x,tile_i.y\n",
    "z_i,x_i,y_i"
   ]
  },
  {
   "cell_type": "code",
   "execution_count": null,
   "id": "b0dc5db8-7368-40de-834f-b8a5bb0c3b6a",
   "metadata": {},
   "outputs": [],
   "source": [
    "tile_o = mercantile.tile(lon,lat,z_o)"
   ]
  },
  {
   "cell_type": "code",
   "execution_count": null,
   "id": "38b1a6c7-17ee-4b97-951c-795a2162b1f6",
   "metadata": {},
   "outputs": [],
   "source": [
    "x_o,y_o = tile_o.x,tile_o.y\n",
    "z_o,x_o,y_o"
   ]
  },
  {
   "cell_type": "markdown",
   "id": "d73a2c5c-2697-446f-b453-b760570d1f8e",
   "metadata": {},
   "source": [
    "### Download and read in the Vector Tile of the outer Tile"
   ]
  },
  {
   "cell_type": "code",
   "execution_count": null,
   "id": "947fe0f8-8f65-401e-bd6d-708f81fedaa6",
   "metadata": {},
   "outputs": [],
   "source": [
    "tileset_id = 'mapbox.mapbox-streets-v8'"
   ]
  },
  {
   "cell_type": "code",
   "execution_count": null,
   "id": "a0f43213-1a00-4e45-ab1a-7883c6019f75",
   "metadata": {},
   "outputs": [],
   "source": [
    "token = 'pk.eyJ1Ijoibmljb2pnIiwiYSI6ImNrcHFqamY5azNqaTAycHJpa210ZDF2aG4ifQ.8jPQpYl4eiUw0Cv_b8J7hA'"
   ]
  },
  {
   "cell_type": "code",
   "execution_count": null,
   "id": "dce851c6-31b5-44cd-beb7-6be72ba924d4",
   "metadata": {},
   "outputs": [],
   "source": [
    "file_path_mvt = f'data/vector_tiles/z{z_o}x{x_o}y{y_o}_{tileset_id}.mvt'\n",
    "file_path_mvt"
   ]
  },
  {
   "cell_type": "code",
   "execution_count": null,
   "id": "a5e5d13c-f6b3-4ff4-b819-20510f130a7a",
   "metadata": {},
   "outputs": [],
   "source": [
    "# download the vector tile if it's not already there\n",
    "import os.path\n",
    "if not os.path.isfile(file_path_mvt):\n",
    "    url = f'https://api.mapbox.com/v4/{tileset_id}/{z_o}/{x_o}/{y_o}.mvt?access_token={token}'\n",
    "    print(url)\n",
    "    #r = requests.get(url)  \n",
    "    #with open(file_path_mvt, 'wb') as f:\n",
    "    #    f.write(r.content)\n",
    "else:\n",
    "    print(f'MVT file already exists')"
   ]
  },
  {
   "cell_type": "code",
   "execution_count": null,
   "id": "ca0f0a69-422d-462d-b675-4bfbf9f4b334",
   "metadata": {},
   "outputs": [],
   "source": [
    "# read the vector tile\n",
    "with open(file_path_mvt, mode='rb') as file:\n",
    "    vector_tile = mapbox_vector_tile.decode(file.read(),y_coord_down=True)"
   ]
  },
  {
   "cell_type": "code",
   "execution_count": null,
   "id": "bdebfdf0-9484-40cd-a438-a6255ed1c467",
   "metadata": {},
   "outputs": [],
   "source": [
    "vector_tile.keys()"
   ]
  },
  {
   "cell_type": "code",
   "execution_count": null,
   "id": "d0e856c2-7cb7-49e5-a4d1-fc51f26fce45",
   "metadata": {},
   "outputs": [],
   "source": [
    "water_df = gpd.GeoDataFrame.from_features(vector_tile['water']['features'])\n",
    "water_df"
   ]
  },
  {
   "cell_type": "markdown",
   "id": "950a7bda-0baf-4c42-9628-92cab12f1a2c",
   "metadata": {},
   "source": [
    "### calculate the bounding box of the inner tile in vector tile pixel coordinates"
   ]
  },
  {
   "cell_type": "markdown",
   "id": "489e319b-4a6c-44e0-9b31-e9ac77a702a7",
   "metadata": {},
   "source": [
    "https://wiki.openstreetmap.org/wiki/Slippy_map_tilenames  \n",
    "https://www.maptiler.com/google-maps-coordinates-tile-bounds-projection/  "
   ]
  },
  {
   "cell_type": "code",
   "execution_count": null,
   "id": "4ca917f7-c660-44db-bc2c-e1d48f480df8",
   "metadata": {},
   "outputs": [],
   "source": [
    "# pixel width and height of the outer vector tile\n",
    "extent_o = 4096"
   ]
  },
  {
   "cell_type": "code",
   "execution_count": null,
   "id": "441b42b2-4eaa-48e4-b9eb-aaa3406d0280",
   "metadata": {},
   "outputs": [],
   "source": [
    "# pixel width and height of one inner tile\n",
    "extent_i = extent_o/(2**(z_i-z_o))"
   ]
  },
  {
   "cell_type": "code",
   "execution_count": null,
   "id": "bfb03400-3135-461d-83eb-4a6b94489c6a",
   "metadata": {},
   "outputs": [],
   "source": [
    "# top left Tile in the outer Tile but with the inner zoom\n",
    "# https://wiki.openstreetmap.org/wiki/Slippy_map_tilenames#Subtiles\n",
    "x_o_with_z_i = 2**(z_i-z_o) * x_o\n",
    "y_o_with_z_i = 2**(z_i-z_o) * y_o"
   ]
  },
  {
   "cell_type": "code",
   "execution_count": null,
   "id": "917b9bbe-b88e-487a-ab74-f6d1d3055da1",
   "metadata": {},
   "outputs": [],
   "source": [
    "# pixel coordinates of the top left corner of the inner tile in the vector tile\n",
    "px_tl = extent_i * (x_i - x_o_with_z_i)\n",
    "py_tl = extent_i * (y_i - y_o_with_z_i)"
   ]
  },
  {
   "cell_type": "code",
   "execution_count": null,
   "id": "9a56722a-2b85-41c3-9ba5-70cb876a4326",
   "metadata": {},
   "outputs": [],
   "source": [
    "# bottom right corner of the inner tile in vector tile pixel coordinates\n",
    "px_br = px_tl + extent_i\n",
    "py_br = py_tl + extent_i"
   ]
  },
  {
   "cell_type": "code",
   "execution_count": null,
   "id": "07f6db46-45e5-451c-9ae7-25450ca90735",
   "metadata": {},
   "outputs": [],
   "source": [
    "bbox = shapely.geometry.box(px_tl, py_tl, px_br, py_br)"
   ]
  },
  {
   "cell_type": "code",
   "execution_count": null,
   "id": "8d4f2622-32df-4ea9-b967-9cdc5552855b",
   "metadata": {},
   "outputs": [],
   "source": [
    "print(bbox)"
   ]
  },
  {
   "cell_type": "code",
   "execution_count": null,
   "id": "b528d56e-4f7a-4264-a5f1-30e66c28c3f9",
   "metadata": {},
   "outputs": [],
   "source": [
    "ax = water_df.plot()\n",
    "gpd.GeoSeries(bbox).plot(ax=ax,color='red')\n",
    "plt.gca().invert_yaxis()"
   ]
  },
  {
   "cell_type": "code",
   "execution_count": null,
   "id": "49b8c5d2-315e-43d9-af2c-043d47a82ca8",
   "metadata": {},
   "outputs": [],
   "source": [
    "water_df.plot()\n",
    "plt.xlim(px_tl,px_br)\n",
    "plt.ylim(py_tl,py_br)\n",
    "plt.gca().invert_yaxis()"
   ]
  },
  {
   "cell_type": "markdown",
   "id": "539a5869-9377-4194-9700-78c06a090b8e",
   "metadata": {},
   "source": [
    "### check if there is water in the bounding box"
   ]
  },
  {
   "cell_type": "code",
   "execution_count": null,
   "id": "7d8116c9-07e5-48b2-b21e-11c91d9056e0",
   "metadata": {},
   "outputs": [],
   "source": [
    "# Geometries overlaps if they have more than one but not all points in common, \n",
    "# have the same dimension, \n",
    "# and the intersection of the interiors of the geometries has the same dimension as the geometries themselves.\n",
    "water_df.overlaps(bbox)"
   ]
  },
  {
   "cell_type": "code",
   "execution_count": null,
   "id": "5e8b1c97-54c8-47f1-a8d0-6b028650f39a",
   "metadata": {},
   "outputs": [],
   "source": []
  }
 ],
 "metadata": {
  "kernelspec": {
   "display_name": "Python 3",
   "language": "python",
   "name": "python3"
  },
  "language_info": {
   "codemirror_mode": {
    "name": "ipython",
    "version": 3
   },
   "file_extension": ".py",
   "mimetype": "text/x-python",
   "name": "python",
   "nbconvert_exporter": "python",
   "pygments_lexer": "ipython3",
   "version": "3.9.5"
  }
 },
 "nbformat": 4,
 "nbformat_minor": 5
}
