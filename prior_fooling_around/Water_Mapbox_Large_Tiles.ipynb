{
 "cells": [
  {
   "cell_type": "code",
   "execution_count": null,
   "id": "8965befd",
   "metadata": {},
   "outputs": [],
   "source": [
    "import mercantile\n",
    "import geopandas as gpd"
   ]
  },
  {
   "cell_type": "code",
   "execution_count": null,
   "id": "1dab07c3",
   "metadata": {},
   "outputs": [],
   "source": [
    "# Test Tile Coordinates:\n",
    "# Dinslaken Duisburg etc.\n",
    "z = 10\n",
    "x = 531\n",
    "y = 340"
   ]
  },
  {
   "cell_type": "code",
   "execution_count": null,
   "id": "956f8969",
   "metadata": {},
   "outputs": [],
   "source": [
    "tile = mercantile.Tile(x,y,z)"
   ]
  },
  {
   "cell_type": "code",
   "execution_count": null,
   "id": "354db536",
   "metadata": {},
   "outputs": [],
   "source": [
    "# In latitude longitude:\n",
    "upper_left = mercantile.ul(tile)\n",
    "upper_left"
   ]
  },
  {
   "cell_type": "code",
   "execution_count": null,
   "id": "e43dbd5b",
   "metadata": {},
   "outputs": [],
   "source": [
    "lower_right = mercantile.ul(x+1,y-1,z)\n",
    "lower_right"
   ]
  },
  {
   "cell_type": "code",
   "execution_count": null,
   "id": "54c0722b",
   "metadata": {},
   "outputs": [],
   "source": [
    "# bbox in meters:\n",
    "bbox = mercantile.xy_bounds(tile)\n",
    "bbox"
   ]
  },
  {
   "cell_type": "code",
   "execution_count": null,
   "id": "373ca87c",
   "metadata": {},
   "outputs": [],
   "source": [
    "width = bbox.right - bbox.left\n",
    "height = bbox.top - bbox.bottom\n",
    "width,height"
   ]
  },
  {
   "cell_type": "markdown",
   "id": "c7b695eb",
   "metadata": {},
   "source": [
    "# Download the Vector Tile"
   ]
  },
  {
   "cell_type": "code",
   "execution_count": null,
   "id": "152d52ce",
   "metadata": {},
   "outputs": [],
   "source": [
    "import mapbox_vector_tile\n",
    "import requests"
   ]
  },
  {
   "cell_type": "code",
   "execution_count": null,
   "id": "bc4570a6",
   "metadata": {},
   "outputs": [],
   "source": [
    "tileset_id = 'mapbox.mapbox-streets-v8'"
   ]
  },
  {
   "cell_type": "code",
   "execution_count": null,
   "id": "bb7c083e",
   "metadata": {},
   "outputs": [],
   "source": [
    "token = 'pk.eyJ1Ijoibmljb2pnIiwiYSI6ImNrcHFqamY5azNqaTAycHJpa210ZDF2aG4ifQ.8jPQpYl4eiUw0Cv_b8J7hA'"
   ]
  },
  {
   "cell_type": "code",
   "execution_count": null,
   "id": "9eff85e0",
   "metadata": {},
   "outputs": [],
   "source": [
    "url = f'https://api.mapbox.com/v4/{tileset_id}/{z}/{x}/{y}.mvt?access_token={token}'\n",
    "url"
   ]
  },
  {
   "cell_type": "code",
   "execution_count": null,
   "id": "8f754a55",
   "metadata": {},
   "outputs": [],
   "source": [
    "file_path_mvt = f'data/vector_tiles/z{z}x{x}y{y}_{tileset_id}.mvt'"
   ]
  },
  {
   "cell_type": "code",
   "execution_count": null,
   "id": "3c389727",
   "metadata": {},
   "outputs": [],
   "source": [
    "#r = requests.get(url)  \n",
    "#with open(file_path_mvt, 'wb') as f:\n",
    "#    f.write(r.content)"
   ]
  },
  {
   "cell_type": "code",
   "execution_count": null,
   "id": "a8024cfb",
   "metadata": {},
   "outputs": [],
   "source": [
    "with open(file_path_mvt, mode='rb') as file: # b is important -> binary\n",
    "    file_mvt = file.read()"
   ]
  },
  {
   "cell_type": "code",
   "execution_count": null,
   "id": "e6868e28",
   "metadata": {
    "jupyter": {
     "outputs_hidden": true
    },
    "tags": []
   },
   "outputs": [],
   "source": [
    "file_mvt"
   ]
  },
  {
   "cell_type": "code",
   "execution_count": null,
   "id": "41609d4d",
   "metadata": {
    "jupyter": {
     "outputs_hidden": true
    },
    "tags": []
   },
   "outputs": [],
   "source": [
    "vector_tile = mapbox_vector_tile.decode(file_mvt)\n",
    "vector_tile"
   ]
  },
  {
   "cell_type": "code",
   "execution_count": null,
   "id": "16acccd7",
   "metadata": {},
   "outputs": [],
   "source": [
    "vector_tile.keys()"
   ]
  },
  {
   "cell_type": "code",
   "execution_count": null,
   "id": "dbec149f",
   "metadata": {},
   "outputs": [],
   "source": [
    "type(vector_tile)"
   ]
  },
  {
   "cell_type": "code",
   "execution_count": null,
   "id": "119438ac",
   "metadata": {
    "jupyter": {
     "outputs_hidden": true
    },
    "tags": []
   },
   "outputs": [],
   "source": [
    "# read Vector Tile via python-vt2geojson\n",
    "from vt2geojson.tools import vt_bytes_to_geojson\n",
    "\n",
    "vector_tile_ = vt_bytes_to_geojson(file_mvt, x, y, z, layer='water')\n",
    "vector_tile_"
   ]
  },
  {
   "cell_type": "code",
   "execution_count": null,
   "id": "60d11c98",
   "metadata": {},
   "outputs": [],
   "source": [
    "vector_tile_df = gpd.GeoDataFrame.from_features(vector_tile_,crs='EPSG:4326')\n",
    "vector_tile_df.plot()"
   ]
  },
  {
   "cell_type": "markdown",
   "id": "48e0b484",
   "metadata": {},
   "source": [
    "## .mvt to GeoDataFrame with Geodetic coordinates"
   ]
  },
  {
   "cell_type": "code",
   "execution_count": null,
   "id": "c5b2f901",
   "metadata": {},
   "outputs": [],
   "source": [
    "# using mapbox_vector_tile and the formula vector_tile to latlon\n",
    "file_path_mvt = f'data/vector_tiles/z{z}x{x}y{y}_{tileset_id}.mvt'\n",
    "with open(file_path_mvt, mode='rb') as file: # b is important -> binary\n",
    "    file_mvt = file.read()"
   ]
  },
  {
   "cell_type": "code",
   "execution_count": null,
   "id": "f6f50537",
   "metadata": {},
   "outputs": [],
   "source": [
    "vector_tile = mapbox_vector_tile.decode(file_mvt)"
   ]
  },
  {
   "cell_type": "code",
   "execution_count": null,
   "id": "027f608f",
   "metadata": {},
   "outputs": [],
   "source": [
    "for key in vector_tile:\n",
    "    print(f\"'{key}': \\t{vector_tile[key].keys()} ,\\t extent={vector_tile[key]['extent']}\")"
   ]
  },
  {
   "cell_type": "code",
   "execution_count": null,
   "id": "12ef745b",
   "metadata": {
    "jupyter": {
     "outputs_hidden": true
    },
    "tags": []
   },
   "outputs": [],
   "source": [
    "vector_tile_dfs = {key:gpd.GeoDataFrame.from_features(vector_tile[key]['features']) for key in vector_tile}\n",
    "vector_tile_dfs"
   ]
  },
  {
   "cell_type": "code",
   "execution_count": null,
   "id": "5553cf33",
   "metadata": {
    "tags": []
   },
   "outputs": [],
   "source": [
    "water_polygon = vector_tile_dfs['water']['geometry'].values[0]"
   ]
  },
  {
   "cell_type": "code",
   "execution_count": null,
   "id": "015043f5",
   "metadata": {},
   "outputs": [],
   "source": [
    "import shapely"
   ]
  },
  {
   "cell_type": "code",
   "execution_count": null,
   "id": "7998de27-cf04-465d-a8af-9d11fd5ad47f",
   "metadata": {},
   "outputs": [],
   "source": [
    "import numpy as np\n",
    "# https://github.com/Amyantis/python-vt2geojson/issues/8\n",
    "def vt_to_lonlat(tile_x,tile_y,tile_z,pixel_x,pixel_y):\n",
    "    \"\"\"\n",
    "    Converts Mapbox Vector Tile coordinates to longitude and latitude\n",
    "    from https://github.com/Amyantis/python-vt2geojson/blob/master/vt2geojson/features.py\n",
    "    \n",
    "    Parameters\n",
    "    ----------\n",
    "    tile_x : int\n",
    "        x coordinate of the tile\n",
    "    tile_y : int\n",
    "        y coordinate of the tile\n",
    "    tile_z : int\n",
    "        zoom of the tile\n",
    "    pixel_x : int\n",
    "        x coordinate in the vector tile\n",
    "    pixel_y : int\n",
    "        y coordinate in the vector tile\n",
    "    \n",
    "    Returns\n",
    "    -------\n",
    "    (lon,lat) : transformed coordinates\n",
    "    \"\"\"\n",
    "    tile_extent = 4096\n",
    "    pixel_y = tile_extent - pixel_y # top left has to be 0,0\n",
    "    size = tile_extent * 2**tile_z\n",
    "    x0 = tile_extent * tile_x\n",
    "    y0 = tile_extent * tile_y\n",
    "    lon = (x0 + pixel_x) * 360. / size - 180.\n",
    "    y2 = 180. - (y0 + pixel_y) * 360. / size\n",
    "    lat = 360. / np.pi * np.arctan(np.exp(y2 * np.pi / 180.)) - 90.\n",
    "    return lon,lat"
   ]
  },
  {
   "cell_type": "code",
   "execution_count": null,
   "id": "b8d9da0c",
   "metadata": {},
   "outputs": [],
   "source": [
    "water_polygon_lonlat = shapely.ops.transform(lambda px, py: vt_to_lonlat(x,y,z,px,py),water_polygon)\n",
    "water_polygon_lonlat"
   ]
  },
  {
   "cell_type": "code",
   "execution_count": null,
   "id": "bd83343a-49dd-4093-8166-48064877f506",
   "metadata": {},
   "outputs": [],
   "source": [
    "water_polygon"
   ]
  },
  {
   "cell_type": "code",
   "execution_count": null,
   "id": "18ac4035",
   "metadata": {},
   "outputs": [],
   "source": [
    "gpd.GeoDataFrame(crs='EPSG:4326',geometry=[water_polygon_lonlat]).plot()"
   ]
  },
  {
   "cell_type": "code",
   "execution_count": null,
   "id": "687f7132-7d95-4f7d-ad6b-c4db2ecd646a",
   "metadata": {},
   "outputs": [],
   "source": [
    "vector_tile_dfs['water'].plot()"
   ]
  },
  {
   "cell_type": "code",
   "execution_count": null,
   "id": "6e9845e8-8191-477a-85b8-31a794909bdc",
   "metadata": {},
   "outputs": [],
   "source": [
    "for key in vector_tile_dfs:\n",
    "    vector_tile_dfs[key]['geometry'] = shapely.ops.transform(lambda px, py: vt_to_lonlat(x,y,z,px,py),water_polygon)"
   ]
  },
  {
   "cell_type": "markdown",
   "id": "eb7bfa82",
   "metadata": {},
   "source": [
    "# Inspect Vector Tile"
   ]
  },
  {
   "cell_type": "code",
   "execution_count": null,
   "id": "952a94f7",
   "metadata": {},
   "outputs": [],
   "source": [
    "vector_tile.keys()"
   ]
  },
  {
   "cell_type": "code",
   "execution_count": null,
   "id": "fdee54a4",
   "metadata": {},
   "outputs": [],
   "source": [
    "print(water_df.crs)"
   ]
  },
  {
   "cell_type": "code",
   "execution_count": null,
   "id": "78424ac8",
   "metadata": {},
   "outputs": [],
   "source": [
    "water_df = gpd.GeoDataFrame.from_features(vector_tile['water']['features'])"
   ]
  },
  {
   "cell_type": "code",
   "execution_count": null,
   "id": "cfc907f4",
   "metadata": {},
   "outputs": [],
   "source": [
    "water_df"
   ]
  },
  {
   "cell_type": "code",
   "execution_count": null,
   "id": "f44724e1",
   "metadata": {},
   "outputs": [],
   "source": [
    "water_df.plot(figsize=(10,10))"
   ]
  },
  {
   "cell_type": "code",
   "execution_count": null,
   "id": "6ba1fbcf",
   "metadata": {},
   "outputs": [],
   "source": [
    "vector_tile_df.plot(figsize=(10,10))"
   ]
  },
  {
   "cell_type": "markdown",
   "id": "2ba5b64d",
   "metadata": {},
   "source": [
    "# Check if a given Tile inside the larger file has Water in it"
   ]
  },
  {
   "cell_type": "code",
   "execution_count": null,
   "id": "c3dfb279",
   "metadata": {},
   "outputs": [],
   "source": [
    "# Rotbachsee Dinslaken s für small\n",
    "z_s = 15\n",
    "x_s = 17001\n",
    "y_s = 10887"
   ]
  },
  {
   "cell_type": "code",
   "execution_count": null,
   "id": "00e6ca45",
   "metadata": {},
   "outputs": [],
   "source": [
    "tile_s =  mercantile.Tile(x_s,y_s,z_s)"
   ]
  },
  {
   "cell_type": "code",
   "execution_count": null,
   "id": "b9a11244",
   "metadata": {},
   "outputs": [],
   "source": [
    "# In latitude longitude:\n",
    "upper_left = mercantile.ul(tile_s)\n",
    "lower_right = mercantile.ul(x_s+1,y_s-1,z_s)\n",
    "upper_left, lower_right"
   ]
  },
  {
   "cell_type": "code",
   "execution_count": null,
   "id": "3fe4e365",
   "metadata": {},
   "outputs": [],
   "source": [
    "# bbox in meters:\n",
    "bbox = mercantile.xy_bounds(tile_s)\n",
    "bbox"
   ]
  },
  {
   "cell_type": "code",
   "execution_count": null,
   "id": "03489ea6",
   "metadata": {},
   "outputs": [],
   "source": [
    "width = bbox.right - bbox.left\n",
    "height = bbox.top - bbox.bottom\n",
    "width,height"
   ]
  },
  {
   "cell_type": "code",
   "execution_count": null,
   "id": "eb384d96",
   "metadata": {},
   "outputs": [],
   "source": []
  },
  {
   "cell_type": "markdown",
   "id": "4b4b9a35-19bf-4913-95bf-cc6abe546e5f",
   "metadata": {},
   "source": [
    "# Using GDAL / ogr2ogr to decode Mapbox Vector Tiles"
   ]
  },
  {
   "cell_type": "code",
   "execution_count": null,
   "id": "39b999b8-5d67-42b6-8a51-6e99cdcfbf43",
   "metadata": {},
   "outputs": [],
   "source": [
    "# Test Tile Coordinates:\n",
    "# Dinslaken Duisburg etc.\n",
    "z = 10\n",
    "x = 531\n",
    "y = 340"
   ]
  },
  {
   "cell_type": "code",
   "execution_count": null,
   "id": "cdc26333-b2ca-454f-a817-2421c0d9e867",
   "metadata": {},
   "outputs": [],
   "source": [
    "file_path_mvt = f'data/vector_tiles/z{z}x{x}y{y}_{tileset_id}.mvt'"
   ]
  },
  {
   "cell_type": "code",
   "execution_count": null,
   "id": "835209a4-47ba-4b0b-9cf3-9e198ff2b68a",
   "metadata": {},
   "outputs": [],
   "source": [
    "tileset_id = 'mapbox.mapbox-streets-v8'"
   ]
  },
  {
   "cell_type": "code",
   "execution_count": null,
   "id": "7465c035-07e9-4ac3-b7e4-4150028a2973",
   "metadata": {},
   "outputs": [],
   "source": [
    "file_path_json = f'data/vector_tiles/z{z}x{x}y{y}_{tileset_id}.json'"
   ]
  },
  {
   "cell_type": "code",
   "execution_count": null,
   "id": "17cfd0f2-53f8-4bb8-9587-8f06eb7c24f0",
   "metadata": {},
   "outputs": [],
   "source": [
    "!ogr2ogr -f GeoJSON $file_path_json $file_path_mvt -oo x=$x -oo y=$y -oo z=$z"
   ]
  },
  {
   "cell_type": "code",
   "execution_count": null,
   "id": "b9988a51-de08-46ca-aa06-e3ce002760f0",
   "metadata": {},
   "outputs": [],
   "source": [
    "file_path_shp = f'data/vector_tiles/z{z}x{x}y{y}_{tileset_id}.shp'"
   ]
  },
  {
   "cell_type": "code",
   "execution_count": null,
   "id": "e477b0e3-e19d-4f11-9354-ae982d9d0c1a",
   "metadata": {},
   "outputs": [],
   "source": [
    "!ogr2ogr -f \"ESRI Shapefile\" $file_path_shp $file_path_mvt -oo x=$x -oo y=$y -oo z=$z"
   ]
  },
  {
   "cell_type": "markdown",
   "id": "c8914043-7423-49be-91c5-1e4e37526f8b",
   "metadata": {},
   "source": [
    "# Working in Pixel Coordinates"
   ]
  },
  {
   "cell_type": "markdown",
   "id": "199a7778-8fab-4ada-95a9-bedd79519e1a",
   "metadata": {},
   "source": [
    "### import stuff"
   ]
  },
  {
   "cell_type": "code",
   "execution_count": null,
   "id": "775ae94d-c5c5-4f35-a971-ac1aaa535a26",
   "metadata": {},
   "outputs": [],
   "source": [
    "import mercantile\n",
    "import requests\n",
    "import mapbox_vector_tile\n",
    "import geopandas as gpd\n",
    "import shapely.geometry\n",
    "import matplotlib.pyplot as plt"
   ]
  },
  {
   "cell_type": "markdown",
   "id": "b2c2d45f-c2a3-4c6e-b904-1cc145d6df3d",
   "metadata": {},
   "source": [
    "### define the coordinates and calculate the tile coordinates"
   ]
  },
  {
   "cell_type": "markdown",
   "id": "944a9f0c-2066-4a6b-a4f6-d22007a6cd31",
   "metadata": {},
   "source": [
    "$x_i,y_i,z_i$ are the Tile Coordinates of the inner Tile (which will be the Image Tile)  \n",
    "$x_o,y_o,z_o$ are the Tile Coordinates of the outer Tile"
   ]
  },
  {
   "cell_type": "code",
   "execution_count": null,
   "id": "35284fd6-ac30-4d49-bbe0-162e8f1b3dd7",
   "metadata": {},
   "outputs": [],
   "source": [
    "# Test Coordinates:\n",
    "# Dinslaken Rotbachsee\n",
    "lat,lon = 51.56792718343954, 6.78504175412729\n",
    "# Dortmund Phönixsee\n",
    "#lat, lon = 51.49011058141199, 7.506262816458572\n",
    "# Tenderingssee\n",
    "lat,lon = 51.59932699198615, 6.719474067819083\n",
    "z_i = 15\n",
    "z_o = 10"
   ]
  },
  {
   "cell_type": "code",
   "execution_count": null,
   "id": "9bae89df-cfe7-4939-9acb-cfbc4b786451",
   "metadata": {},
   "outputs": [],
   "source": [
    "tile_i = mercantile.tile(lon,lat,z_i)"
   ]
  },
  {
   "cell_type": "code",
   "execution_count": null,
   "id": "df4984c2-b1f2-491c-809d-fc9f1bb1690a",
   "metadata": {},
   "outputs": [],
   "source": [
    "x_i,y_i = tile_i.x,tile_i.y\n",
    "z_i,x_i,y_i"
   ]
  },
  {
   "cell_type": "code",
   "execution_count": null,
   "id": "ee79bf29-13d7-434a-b83c-b50b7f42525d",
   "metadata": {},
   "outputs": [],
   "source": [
    "tile_o = mercantile.tile(lon,lat,z_o)"
   ]
  },
  {
   "cell_type": "code",
   "execution_count": null,
   "id": "ce6a38b7-0e38-40c4-98b3-6a634d5af728",
   "metadata": {},
   "outputs": [],
   "source": [
    "x_o,y_o = tile_o.x,tile_o.y\n",
    "z_o,x_o,y_o"
   ]
  },
  {
   "cell_type": "markdown",
   "id": "e39851e5-5390-4dfe-b3b3-24b7d8654791",
   "metadata": {},
   "source": [
    "### Download and read in the Vector Tile of the outer Tile"
   ]
  },
  {
   "cell_type": "code",
   "execution_count": null,
   "id": "7ec02909-9036-4760-8802-bdfdfc78bb8a",
   "metadata": {},
   "outputs": [],
   "source": [
    "tileset_id = 'mapbox.mapbox-streets-v8'"
   ]
  },
  {
   "cell_type": "code",
   "execution_count": null,
   "id": "f25833fd-dc8d-42bd-9183-4b46447fa166",
   "metadata": {},
   "outputs": [],
   "source": [
    "token = 'pk.eyJ1Ijoibmljb2pnIiwiYSI6ImNrcHFqamY5azNqaTAycHJpa210ZDF2aG4ifQ.8jPQpYl4eiUw0Cv_b8J7hA'"
   ]
  },
  {
   "cell_type": "code",
   "execution_count": null,
   "id": "4aad8936-42e6-4fd6-bee3-48944ec3ffa0",
   "metadata": {},
   "outputs": [],
   "source": [
    "file_path_mvt = f'data/vector_tiles/z{z_o}x{x_o}y{y_o}_{tileset_id}.mvt'\n",
    "file_path_mvt"
   ]
  },
  {
   "cell_type": "code",
   "execution_count": null,
   "id": "6435173b-2315-4c29-85e8-a3d40ad3455c",
   "metadata": {},
   "outputs": [],
   "source": [
    "# download the vector tile if it's not already there\n",
    "import os.path\n",
    "if not os.path.isfile(file_path_mvt):\n",
    "    url = f'https://api.mapbox.com/v4/{tileset_id}/{z_o}/{x_o}/{y_o}.mvt?access_token={token}'\n",
    "    print(url)\n",
    "    #r = requests.get(url)  \n",
    "    #with open(file_path_mvt, 'wb') as f:\n",
    "    #    f.write(r.content)\n",
    "else:\n",
    "    print(f'MVT file already exists')"
   ]
  },
  {
   "cell_type": "code",
   "execution_count": null,
   "id": "70a6d9e8-cc23-4e6d-84b1-13b476fb8779",
   "metadata": {},
   "outputs": [],
   "source": [
    "# read the vector tile\n",
    "with open(file_path_mvt, mode='rb') as file:\n",
    "    vector_tile = mapbox_vector_tile.decode(file.read(),y_coord_down=True)"
   ]
  },
  {
   "cell_type": "code",
   "execution_count": null,
   "id": "a1b742ce-3383-4c9a-b7c5-16b4bff6aa31",
   "metadata": {},
   "outputs": [],
   "source": [
    "vector_tile.keys()"
   ]
  },
  {
   "cell_type": "code",
   "execution_count": null,
   "id": "eb752ee9-4210-4251-92b1-3c7639f16969",
   "metadata": {},
   "outputs": [],
   "source": [
    "water_df = gpd.GeoDataFrame.from_features(vector_tile['water']['features'])\n",
    "water_df"
   ]
  },
  {
   "cell_type": "markdown",
   "id": "89e4f0e2-0d3c-4435-b3db-250a6aa9e1bb",
   "metadata": {},
   "source": [
    "### calculate the bounding box of the inner tile in vector tile pixel coordinates"
   ]
  },
  {
   "cell_type": "markdown",
   "id": "85ea51d9-e68f-44db-988d-5f23df1adff3",
   "metadata": {},
   "source": [
    "https://wiki.openstreetmap.org/wiki/Slippy_map_tilenames  \n",
    "https://www.maptiler.com/google-maps-coordinates-tile-bounds-projection/  "
   ]
  },
  {
   "cell_type": "code",
   "execution_count": null,
   "id": "d7b4677b-3999-4b90-a0c3-4bd6791fba45",
   "metadata": {},
   "outputs": [],
   "source": [
    "# pixel width and height of the outer vector tile\n",
    "extent_o = 4096"
   ]
  },
  {
   "cell_type": "code",
   "execution_count": null,
   "id": "bfa91d62-52bc-441a-af22-8738f24633ec",
   "metadata": {},
   "outputs": [],
   "source": [
    "# pixel width and height of one inner tile\n",
    "extent_i = extent/(2**(z_i-z_o))"
   ]
  },
  {
   "cell_type": "code",
   "execution_count": null,
   "id": "d3876313-9531-4fbf-a05d-379216d15154",
   "metadata": {},
   "outputs": [],
   "source": [
    "# top left Tile in the outer Tile but with the inner zoom\n",
    "# https://wiki.openstreetmap.org/wiki/Slippy_map_tilenames#Subtiles\n",
    "x_o_with_z_i = 2**(z_i-z_o) * x_o\n",
    "y_o_with_z_i = 2**(z_i-z_o) * y_o"
   ]
  },
  {
   "cell_type": "code",
   "execution_count": null,
   "id": "dddf84c0-8b1d-484f-9d07-1e76106279cf",
   "metadata": {},
   "outputs": [],
   "source": [
    "# pixel coordinates of the top left corner of the inner tile in the vector tile\n",
    "px_tl = extent_i * (x_i - x_o_with_z_i)\n",
    "py_tl = extent_i * (y_i - y_o_with_z_i)"
   ]
  },
  {
   "cell_type": "code",
   "execution_count": null,
   "id": "c9ad8490-60e3-4191-8ff9-788a2801f71c",
   "metadata": {},
   "outputs": [],
   "source": [
    "# bottom right corner of the inner tile in vector tile pixel coordinates\n",
    "px_br = px_tl + extent_i\n",
    "py_br = py_tl + extent_i"
   ]
  },
  {
   "cell_type": "code",
   "execution_count": null,
   "id": "9f10e9df-75aa-4aa2-a278-b4d5a7d37dbf",
   "metadata": {},
   "outputs": [],
   "source": [
    "bbox = shapely.geometry.box(px_tl, py_tl, px_br, py_br)"
   ]
  },
  {
   "cell_type": "code",
   "execution_count": null,
   "id": "b8af25a6-570d-454b-866c-3ff2343a8a60",
   "metadata": {},
   "outputs": [],
   "source": [
    "print(bbox)"
   ]
  },
  {
   "cell_type": "code",
   "execution_count": null,
   "id": "91a10b0b-434b-4588-80d7-0c4defb811da",
   "metadata": {},
   "outputs": [],
   "source": [
    "ax = water_df.plot()\n",
    "gpd.GeoSeries(bbox).plot(ax=ax,color='red')\n",
    "plt.gca().invert_yaxis()"
   ]
  },
  {
   "cell_type": "code",
   "execution_count": null,
   "id": "eb21264a-c250-4c43-9b07-0f437fa7232d",
   "metadata": {},
   "outputs": [],
   "source": [
    "water_df.plot()\n",
    "plt.xlim(px_tl,px_br)\n",
    "plt.ylim(py_tl,py_br)"
   ]
  },
  {
   "cell_type": "markdown",
   "id": "571c8797-490e-4b5d-b41d-e9c203568064",
   "metadata": {},
   "source": [
    "### check if there is water in the bounding box"
   ]
  },
  {
   "cell_type": "code",
   "execution_count": null,
   "id": "2d8573cb-29c0-4222-a117-c86105e12753",
   "metadata": {},
   "outputs": [],
   "source": [
    "# Geometries overlaps if they have more than one but not all points in common, \n",
    "# have the same dimension, \n",
    "# and the intersection of the interiors of the geometries has the same dimension as the geometries themselves.\n",
    "water_df.overlaps(bbox)"
   ]
  },
  {
   "cell_type": "code",
   "execution_count": null,
   "id": "0456bb15-35d4-412b-b9f4-877c977690b6",
   "metadata": {},
   "outputs": [],
   "source": []
  }
 ],
 "metadata": {
  "kernelspec": {
   "display_name": "Python 3",
   "language": "python",
   "name": "python3"
  },
  "language_info": {
   "codemirror_mode": {
    "name": "ipython",
    "version": 3
   },
   "file_extension": ".py",
   "mimetype": "text/x-python",
   "name": "python",
   "nbconvert_exporter": "python",
   "pygments_lexer": "ipython3",
   "version": "3.9.5"
  }
 },
 "nbformat": 4,
 "nbformat_minor": 5
}
