{
 "cells": [
  {
   "cell_type": "markdown",
   "metadata": {
    "id": "aYJpHOrhNIm2"
   },
   "source": [
    "# Evaluate the grid search"
   ]
  },
  {
   "cell_type": "markdown",
   "metadata": {
    "id": "gtMV1Y2yweTM"
   },
   "source": [
    "The zipped Dataset (with dataset/images/...) must be in your Google Drive under  \n",
    "`ML_Project_Satellite_Images/data/current_dataset.zip`  \n",
    "Also there has to be made at least one run of the grid_search notebook."
   ]
  },
  {
   "cell_type": "markdown",
   "metadata": {
    "id": "DIIyogNgVbPU"
   },
   "source": [
    "# Imports"
   ]
  },
  {
   "cell_type": "code",
   "execution_count": null,
   "metadata": {
    "id": "OKxRRUUDSi0c"
   },
   "outputs": [],
   "source": [
    "#imports\n",
    "from platform import python_version\n",
    "\n",
    "#basic python stuff\n",
    "import os\n",
    "import json\n",
    "from pathlib import Path\n",
    "\n",
    "#basics from the SciPy Stack\n",
    "import numpy as np\n",
    "import pandas as pd\n",
    "import matplotlib.pyplot as plt\n",
    "plt.rcParams.update({'font.size': 16})\n",
    "\n",
    "#colab stuff\n",
    "from google.colab import drive\n",
    "\n",
    "#progress bar\n",
    "from tqdm.notebook import tqdm"
   ]
  },
  {
   "cell_type": "code",
   "execution_count": null,
   "metadata": {
    "colab": {
     "base_uri": "https://localhost:8080/"
    },
    "executionInfo": {
     "elapsed": 257,
     "status": "ok",
     "timestamp": 1627914662511,
     "user": {
      "displayName": "Nico Guth",
      "photoUrl": "https://lh3.googleusercontent.com/a-/AOh14GjLU8mQVSscNU9ysknrBUGEMxsyfpLTAsLrcDvJfg=s64",
      "userId": "08893022833457968246"
     },
     "user_tz": -120
    },
    "id": "KjrZQySaYGYu",
    "outputId": "b662e84a-9766-46d8-c9a4-153249659432"
   },
   "outputs": [],
   "source": [
    "# settings\n",
    "\n",
    "# implements progress_apply into pandas\n",
    "tqdm.pandas(desc='Pandas_Progress')"
   ]
  },
  {
   "cell_type": "code",
   "execution_count": null,
   "metadata": {
    "colab": {
     "base_uri": "https://localhost:8080/"
    },
    "executionInfo": {
     "elapsed": 5,
     "status": "ok",
     "timestamp": 1627914662512,
     "user": {
      "displayName": "Nico Guth",
      "photoUrl": "https://lh3.googleusercontent.com/a-/AOh14GjLU8mQVSscNU9ysknrBUGEMxsyfpLTAsLrcDvJfg=s64",
      "userId": "08893022833457968246"
     },
     "user_tz": -120
    },
    "id": "rmJPflTiYHAO",
    "outputId": "9de6ce83-2993-4486-d5b9-679e2124eda1"
   },
   "outputs": [],
   "source": [
    "print(\"Python version =\",python_version())"
   ]
  },
  {
   "cell_type": "code",
   "execution_count": null,
   "metadata": {
    "colab": {
     "base_uri": "https://localhost:8080/"
    },
    "executionInfo": {
     "elapsed": 15190,
     "status": "ok",
     "timestamp": 1627914677698,
     "user": {
      "displayName": "Nico Guth",
      "photoUrl": "https://lh3.googleusercontent.com/a-/AOh14GjLU8mQVSscNU9ysknrBUGEMxsyfpLTAsLrcDvJfg=s64",
      "userId": "08893022833457968246"
     },
     "user_tz": -120
    },
    "id": "GWgVWLihTLc4",
    "outputId": "e7cc24b7-696e-4af5-a561-1905039881e3"
   },
   "outputs": [],
   "source": [
    "# get access to drive\n",
    "drive.mount('/content/drive')"
   ]
  },
  {
   "cell_type": "markdown",
   "metadata": {
    "id": "kosq5wXms9GT"
   },
   "source": [
    "# Read in the results"
   ]
  },
  {
   "cell_type": "code",
   "execution_count": null,
   "metadata": {
    "id": "qqAs0uQ1rsBt"
   },
   "outputs": [],
   "source": [
    "file_names = ['grid_search_nico_1','grid_search_nico_2','grid_search_nico_3','grid_search_nico_4',\n",
    "              'grid_search_samuel_1','grid_search_samuel_2','grid_search_samuel_3','grid_search_samuel_4','grid_search_samuel_5','grid_search_samuel_6']"
   ]
  },
  {
   "cell_type": "code",
   "execution_count": null,
   "metadata": {
    "id": "Phov-7XIr4CL"
   },
   "outputs": [],
   "source": [
    "dfs = []\n",
    "for file_name in file_names:\n",
    "  df = pd.read_json(f'/content/drive/MyDrive/ML_Project_Satellite_Images/grid_search/{file_name}.json')\n",
    "  dfs.append(df)"
   ]
  },
  {
   "cell_type": "code",
   "execution_count": null,
   "metadata": {
    "id": "P9u2-jIatM7n"
   },
   "outputs": [],
   "source": [
    "results_df = dfs[0]\n",
    "for i in range(1,len(dfs)):\n",
    "  results_df = results_df.append(dfs[i],ignore_index=True)"
   ]
  },
  {
   "cell_type": "markdown",
   "metadata": {
    "id": "Y9XrGbLy0ivN"
   },
   "source": [
    "# Inspect the results"
   ]
  },
  {
   "cell_type": "code",
   "execution_count": null,
   "metadata": {
    "colab": {
     "base_uri": "https://localhost:8080/",
     "height": 424
    },
    "executionInfo": {
     "elapsed": 19,
     "status": "ok",
     "timestamp": 1627914681074,
     "user": {
      "displayName": "Nico Guth",
      "photoUrl": "https://lh3.googleusercontent.com/a-/AOh14GjLU8mQVSscNU9ysknrBUGEMxsyfpLTAsLrcDvJfg=s64",
      "userId": "08893022833457968246"
     },
     "user_tz": -120
    },
    "id": "0TRFOiMb3LTW",
    "outputId": "40372fdb-524f-41da-a03f-7c75f8be3266"
   },
   "outputs": [],
   "source": [
    "results_df"
   ]
  },
  {
   "cell_type": "code",
   "execution_count": null,
   "metadata": {
    "colab": {
     "base_uri": "https://localhost:8080/",
     "height": 424
    },
    "executionInfo": {
     "elapsed": 17,
     "status": "ok",
     "timestamp": 1627914681075,
     "user": {
      "displayName": "Nico Guth",
      "photoUrl": "https://lh3.googleusercontent.com/a-/AOh14GjLU8mQVSscNU9ysknrBUGEMxsyfpLTAsLrcDvJfg=s64",
      "userId": "08893022833457968246"
     },
     "user_tz": -120
    },
    "id": "nJAPGarD28vn",
    "outputId": "a82cb321-3f00-4a24-8427-35cd98a9a5c7"
   },
   "outputs": [],
   "source": [
    "results_df = pd.concat([results_df,pd.json_normalize(results_df['params'])], axis=1, join=\"inner\")\n",
    "results_df"
   ]
  },
  {
   "cell_type": "code",
   "execution_count": null,
   "metadata": {
    "id": "aeJH_DYWymlR"
   },
   "outputs": [],
   "source": [
    "param_names = ['filter_start','filter_levels','kernel_size','kernel_initializer','dropout_start','learning_rate']"
   ]
  },
  {
   "cell_type": "code",
   "execution_count": null,
   "metadata": {
    "colab": {
     "base_uri": "https://localhost:8080/",
     "height": 49
    },
    "executionInfo": {
     "elapsed": 350,
     "status": "ok",
     "timestamp": 1627914681410,
     "user": {
      "displayName": "Nico Guth",
      "photoUrl": "https://lh3.googleusercontent.com/a-/AOh14GjLU8mQVSscNU9ysknrBUGEMxsyfpLTAsLrcDvJfg=s64",
      "userId": "08893022833457968246"
     },
     "user_tz": -120
    },
    "id": "Xm5dd48q4CAu",
    "outputId": "6607c680-e8bd-48b4-d30e-cb16ff05fef2"
   },
   "outputs": [],
   "source": [
    "results_df[results_df.duplicated(param_names)]"
   ]
  },
  {
   "cell_type": "code",
   "execution_count": null,
   "metadata": {
    "id": "e3jNtnMg5KjG"
   },
   "outputs": [],
   "source": [
    "eff_results_df = results_df[results_df['val_acc']>0.8]"
   ]
  },
  {
   "cell_type": "code",
   "execution_count": null,
   "metadata": {
    "colab": {
     "base_uri": "https://localhost:8080/",
     "height": 424
    },
    "executionInfo": {
     "elapsed": 295,
     "status": "ok",
     "timestamp": 1627914815252,
     "user": {
      "displayName": "Nico Guth",
      "photoUrl": "https://lh3.googleusercontent.com/a-/AOh14GjLU8mQVSscNU9ysknrBUGEMxsyfpLTAsLrcDvJfg=s64",
      "userId": "08893022833457968246"
     },
     "user_tz": -120
    },
    "id": "1FSk_JOO77NN",
    "outputId": "97e79bc6-701b-47f9-b982-782f5c8f8d08"
   },
   "outputs": [],
   "source": [
    "results_df.sort_values('best_val_acc',ascending=False)"
   ]
  },
  {
   "cell_type": "markdown",
   "metadata": {
    "id": "iOoTHLZ-uCDG"
   },
   "source": [
    "# Plot the results"
   ]
  },
  {
   "cell_type": "code",
   "execution_count": null,
   "metadata": {
    "colab": {
     "base_uri": "https://localhost:8080/",
     "height": 729
    },
    "executionInfo": {
     "elapsed": 1660,
     "status": "ok",
     "timestamp": 1627914683063,
     "user": {
      "displayName": "Nico Guth",
      "photoUrl": "https://lh3.googleusercontent.com/a-/AOh14GjLU8mQVSscNU9ysknrBUGEMxsyfpLTAsLrcDvJfg=s64",
      "userId": "08893022833457968246"
     },
     "user_tz": -120
    },
    "id": "zSP_2ao4t-RK",
    "outputId": "6fd00aba-3830-473f-e210-ee05641f5264"
   },
   "outputs": [],
   "source": [
    "# plot all params\n",
    "fig, axs = plt.subplots(2,3,figsize=(15,10))\n",
    "for i,ax in enumerate(axs.flatten()):\n",
    "  param_name = param_names[i]\n",
    "  ax.plot(eff_results_df[param_name],eff_results_df['best_val_acc'], 'o')\n",
    "  ax.set_xlabel(param_name)\n",
    "  ax.set_ylabel('validation accuracy')\n",
    "\n",
    "plt.tight_layout()\n",
    "plt.show()"
   ]
  },
  {
   "cell_type": "code",
   "execution_count": null,
   "metadata": {
    "colab": {
     "base_uri": "https://localhost:8080/",
     "height": 607
    },
    "executionInfo": {
     "elapsed": 2429,
     "status": "ok",
     "timestamp": 1627914685486,
     "user": {
      "displayName": "Nico Guth",
      "photoUrl": "https://lh3.googleusercontent.com/a-/AOh14GjLU8mQVSscNU9ysknrBUGEMxsyfpLTAsLrcDvJfg=s64",
      "userId": "08893022833457968246"
     },
     "user_tz": -120
    },
    "id": "BKOA40cHyhQV",
    "outputId": "3a5f2f9a-3677-4268-8a2f-12d7bc4688ea"
   },
   "outputs": [],
   "source": [
    "# plot a confusion matrix\n",
    "fig, axs = plt.subplots(len(param_names),len(param_names),figsize=(15,10))\n",
    "for i in range(len(param_names)):\n",
    "  for j in range(len(param_names)):\n",
    "    ax = axs[i,j]\n",
    "    x_param = param_names[j]\n",
    "    y_param = param_names[i]\n",
    "    sc = ax.scatter(eff_results_df[x_param],eff_results_df[y_param],c=eff_results_df['best_val_acc'],alpha=0.5)\n",
    "    if i != len(param_names)-1:\n",
    "      ax.set_xticks([])\n",
    "    else:\n",
    "      ax.set_xlabel(x_param)\n",
    "    if j != 0:\n",
    "      ax.set_yticks([])\n",
    "    else:\n",
    "      ax.set_ylabel(y_param)\n",
    "\n",
    "\n",
    "fig.subplots_adjust(right=0.8)\n",
    "cbar_ax = fig.add_axes([0.85, 0.15, 0.05, 0.7])\n",
    "fig.colorbar(sc, cax=cbar_ax)\n",
    "cbar_ax.set_ylabel('validation accuracy')\n",
    "\n",
    "#plt.tight_layout()\n",
    "plt.show()"
   ]
  },
  {
   "cell_type": "code",
   "execution_count": null,
   "metadata": {
    "id": "mFIM8hPu4d91"
   },
   "outputs": [],
   "source": []
  }
 ],
 "metadata": {
  "colab": {
   "collapsed_sections": [],
   "name": "grid_search_evaluate.ipynb",
   "provenance": [
    {
     "file_id": "1oRsA-lCQ7GP7qVycy9ph_Rq7w2e5E2ur",
     "timestamp": 1624906132931
    },
    {
     "file_id": "1zYdYA0Dsh-jRRsiQppLJEnBiBVrUJMvR",
     "timestamp": 1624892651453
    }
   ]
  },
  "kernelspec": {
   "display_name": "Python 3",
   "name": "python3"
  },
  "language_info": {
   "name": "python"
  }
 },
 "nbformat": 4,
 "nbformat_minor": 0
}
