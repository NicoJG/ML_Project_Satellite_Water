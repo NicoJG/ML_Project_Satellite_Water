{
 "cells": [
  {
   "cell_type": "markdown",
   "metadata": {
    "id": "aYJpHOrhNIm2"
   },
   "source": [
    "# Evaluate the models that are saved in the models folder"
   ]
  },
  {
   "cell_type": "markdown",
   "metadata": {
    "id": "DIIyogNgVbPU"
   },
   "source": [
    "# Imports\n",
    "\n",
    "removed checking if in CoLab"
   ]
  },
  {
   "cell_type": "code",
   "execution_count": null,
   "metadata": {
    "colab": {
     "base_uri": "https://localhost:8080/"
    },
    "executionInfo": {
     "elapsed": 332,
     "status": "ok",
     "timestamp": 1626413427865,
     "user": {
      "displayName": "Nico Guth",
      "photoUrl": "https://lh3.googleusercontent.com/a-/AOh14GjLU8mQVSscNU9ysknrBUGEMxsyfpLTAsLrcDvJfg=s64",
      "userId": "08893022833457968246"
     },
     "user_tz": -120
    },
    "id": "Zf61aE-kqZaP",
    "outputId": "fbe00f54-9f0a-4866-e13d-50579f9bd818"
   },
   "outputs": [],
   "source": [
    "!cat /proc/cpuinfo"
   ]
  },
  {
   "cell_type": "code",
   "execution_count": null,
   "metadata": {
    "colab": {
     "base_uri": "https://localhost:8080/"
    },
    "executionInfo": {
     "elapsed": 3576,
     "status": "ok",
     "timestamp": 1626413431438,
     "user": {
      "displayName": "Nico Guth",
      "photoUrl": "https://lh3.googleusercontent.com/a-/AOh14GjLU8mQVSscNU9ysknrBUGEMxsyfpLTAsLrcDvJfg=s64",
      "userId": "08893022833457968246"
     },
     "user_tz": -120
    },
    "id": "96F4BKCBrpj7",
    "outputId": "59cdc42a-a453-4374-a5ef-f20a289e2d8c"
   },
   "outputs": [],
   "source": [
    "!pip install -U scikit-learn"
   ]
  },
  {
   "cell_type": "code",
   "execution_count": null,
   "metadata": {
    "executionInfo": {
     "elapsed": 1752,
     "status": "ok",
     "timestamp": 1626413433188,
     "user": {
      "displayName": "Nico Guth",
      "photoUrl": "https://lh3.googleusercontent.com/a-/AOh14GjLU8mQVSscNU9ysknrBUGEMxsyfpLTAsLrcDvJfg=s64",
      "userId": "08893022833457968246"
     },
     "user_tz": -120
    },
    "id": "OKxRRUUDSi0c"
   },
   "outputs": [],
   "source": [
    "#imports\n",
    "from platform import python_version\n",
    "\n",
    "#basic python stuff\n",
    "import os\n",
    "import json\n",
    "from pathlib import Path\n",
    "\n",
    "#basics from the SciPy Stack\n",
    "import numpy as np\n",
    "import pandas as pd\n",
    "import matplotlib.pyplot as plt\n",
    "\n",
    "#colab stuff\n",
    "from google.colab import drive\n",
    "\n",
    "#data managing\n",
    "from sklearn.model_selection import train_test_split\n",
    "from skimage import io #read in images\n",
    "from skimage.transform import resize\n",
    "\n",
    "# alternative model\n",
    "from sklearn.neighbors import KNeighborsClassifier\n",
    "from sklearn.metrics import accuracy_score\n",
    "from skimage.color import rgb2gray\n",
    "from skimage.filters import median\n",
    "from sklearn.preprocessing import MinMaxScaler\n",
    "\n",
    "# evaluation\n",
    "import sklearn\n",
    "\n",
    "#progress bar\n",
    "from tqdm.notebook import tqdm"
   ]
  },
  {
   "cell_type": "code",
   "execution_count": null,
   "metadata": {
    "colab": {
     "base_uri": "https://localhost:8080/"
    },
    "executionInfo": {
     "elapsed": 9,
     "status": "ok",
     "timestamp": 1626413433189,
     "user": {
      "displayName": "Nico Guth",
      "photoUrl": "https://lh3.googleusercontent.com/a-/AOh14GjLU8mQVSscNU9ysknrBUGEMxsyfpLTAsLrcDvJfg=s64",
      "userId": "08893022833457968246"
     },
     "user_tz": -120
    },
    "id": "KjrZQySaYGYu",
    "outputId": "558cb7c6-4e15-4830-d090-65aaaa285853"
   },
   "outputs": [],
   "source": [
    "# settings\n",
    "\n",
    "# implements progress_apply into pandas\n",
    "tqdm.pandas(desc='Pandas_Progress')"
   ]
  },
  {
   "cell_type": "code",
   "execution_count": null,
   "metadata": {
    "colab": {
     "base_uri": "https://localhost:8080/"
    },
    "executionInfo": {
     "elapsed": 7,
     "status": "ok",
     "timestamp": 1626413433189,
     "user": {
      "displayName": "Nico Guth",
      "photoUrl": "https://lh3.googleusercontent.com/a-/AOh14GjLU8mQVSscNU9ysknrBUGEMxsyfpLTAsLrcDvJfg=s64",
      "userId": "08893022833457968246"
     },
     "user_tz": -120
    },
    "id": "rmJPflTiYHAO",
    "outputId": "98460c2e-c96d-4c30-bb61-e5e54c15f99f"
   },
   "outputs": [],
   "source": [
    "print(\"Python version =\",python_version())"
   ]
  },
  {
   "cell_type": "code",
   "execution_count": null,
   "metadata": {
    "colab": {
     "base_uri": "https://localhost:8080/"
    },
    "executionInfo": {
     "elapsed": 5,
     "status": "ok",
     "timestamp": 1626413433189,
     "user": {
      "displayName": "Nico Guth",
      "photoUrl": "https://lh3.googleusercontent.com/a-/AOh14GjLU8mQVSscNU9ysknrBUGEMxsyfpLTAsLrcDvJfg=s64",
      "userId": "08893022833457968246"
     },
     "user_tz": -120
    },
    "id": "GWgVWLihTLc4",
    "outputId": "3df05114-e1b1-418e-e350-9d32113f686a"
   },
   "outputs": [],
   "source": [
    "# get access to drive\n",
    "drive.mount('/content/drive')"
   ]
  },
  {
   "cell_type": "markdown",
   "metadata": {
    "id": "uMJVXvRrWdYV"
   },
   "source": [
    "# Hyperparameters"
   ]
  },
  {
   "cell_type": "code",
   "execution_count": null,
   "metadata": {
    "executionInfo": {
     "elapsed": 5,
     "status": "ok",
     "timestamp": 1626413433190,
     "user": {
      "displayName": "Nico Guth",
      "photoUrl": "https://lh3.googleusercontent.com/a-/AOh14GjLU8mQVSscNU9ysknrBUGEMxsyfpLTAsLrcDvJfg=s64",
      "userId": "08893022833457968246"
     },
     "user_tz": -120
    },
    "id": "r8UN5uSPWdG3"
   },
   "outputs": [],
   "source": [
    "random_state = 42\n",
    "\n",
    "# training parameters\n",
    "sample_size = 1000\n",
    "test_size = 0.3\n",
    "val_size = 0.3\n",
    "\n",
    "# data preprocessing\n",
    "img_size = 128\n",
    "anti_aliasing = True\n",
    "mask_threshold = 0.5\n",
    "\n",
    "# model parameters\n",
    "knn_n_neighbors = 20\n",
    "knn_algorithm = 'kd_tree'\n",
    "knn_leaf_size = 30"
   ]
  },
  {
   "cell_type": "markdown",
   "metadata": {
    "id": "iZxMDwBNV3yx"
   },
   "source": [
    "# Retrieve the Dataset"
   ]
  },
  {
   "cell_type": "code",
   "execution_count": null,
   "metadata": {
    "executionInfo": {
     "elapsed": 17088,
     "status": "ok",
     "timestamp": 1626413450273,
     "user": {
      "displayName": "Nico Guth",
      "photoUrl": "https://lh3.googleusercontent.com/a-/AOh14GjLU8mQVSscNU9ysknrBUGEMxsyfpLTAsLrcDvJfg=s64",
      "userId": "08893022833457968246"
     },
     "user_tz": -120
    },
    "id": "xstIW12OVWmg"
   },
   "outputs": [],
   "source": [
    "# unzip data\n",
    "!unzip -n -q /content/drive/MyDrive/ML_Project_Satellite_Images/data/current_dataset.zip -d /content/"
   ]
  },
  {
   "cell_type": "code",
   "execution_count": null,
   "metadata": {
    "colab": {
     "base_uri": "https://localhost:8080/",
     "height": 455
    },
    "executionInfo": {
     "elapsed": 476,
     "status": "ok",
     "timestamp": 1626413450741,
     "user": {
      "displayName": "Nico Guth",
      "photoUrl": "https://lh3.googleusercontent.com/a-/AOh14GjLU8mQVSscNU9ysknrBUGEMxsyfpLTAsLrcDvJfg=s64",
      "userId": "08893022833457968246"
     },
     "user_tz": -120
    },
    "id": "6RZbQx-RrVAv",
    "outputId": "bf9b044a-1e2b-4a62-a157-1d0db873751c"
   },
   "outputs": [],
   "source": [
    "# read in samples.csv with information about the images\n",
    "samples_df = pd.read_csv('/content/dataset/samples.csv')\n",
    "samples_df.set_index('id', inplace=True)\n",
    "samples_df"
   ]
  },
  {
   "cell_type": "code",
   "execution_count": null,
   "metadata": {
    "executionInfo": {
     "elapsed": 20,
     "status": "ok",
     "timestamp": 1626413450743,
     "user": {
      "displayName": "Nico Guth",
      "photoUrl": "https://lh3.googleusercontent.com/a-/AOh14GjLU8mQVSscNU9ysknrBUGEMxsyfpLTAsLrcDvJfg=s64",
      "userId": "08893022833457968246"
     },
     "user_tz": -120
    },
    "id": "w0vVHx7OtNXx"
   },
   "outputs": [],
   "source": [
    "# paths to the sat/mask folder\n",
    "path_sat_folder = '/content/dataset/images/satellite/'\n",
    "path_mask_folder = '/content/dataset/images/mask/'"
   ]
  },
  {
   "cell_type": "code",
   "execution_count": null,
   "metadata": {
    "executionInfo": {
     "elapsed": 19,
     "status": "ok",
     "timestamp": 1626413450743,
     "user": {
      "displayName": "Nico Guth",
      "photoUrl": "https://lh3.googleusercontent.com/a-/AOh14GjLU8mQVSscNU9ysknrBUGEMxsyfpLTAsLrcDvJfg=s64",
      "userId": "08893022833457968246"
     },
     "user_tz": -120
    },
    "id": "GwCoDvQGtsy8"
   },
   "outputs": [],
   "source": [
    "# append absoulute paths of the images to the dataframe\n",
    "samples_df['abs_satellite_path'] = samples_df['satellite_file'].apply(lambda x: path_sat_folder+x)\n",
    "samples_df['abs_mask_path'] = samples_df['mask_file'].apply(lambda x: path_mask_folder+x)"
   ]
  },
  {
   "cell_type": "markdown",
   "metadata": {
    "id": "UZjmV5IQW5jr"
   },
   "source": [
    "# Functions for Image reading and plotting"
   ]
  },
  {
   "cell_type": "code",
   "execution_count": null,
   "metadata": {
    "executionInfo": {
     "elapsed": 19,
     "status": "ok",
     "timestamp": 1626413450743,
     "user": {
      "displayName": "Nico Guth",
      "photoUrl": "https://lh3.googleusercontent.com/a-/AOh14GjLU8mQVSscNU9ysknrBUGEMxsyfpLTAsLrcDvJfg=s64",
      "userId": "08893022833457968246"
     },
     "user_tz": -120
    },
    "id": "l3QE5z_tVeYp"
   },
   "outputs": [],
   "source": [
    "# function for image reading\n",
    "def read_satellite_img(filepath):\n",
    "  img = io.imread(filepath)\n",
    "  img = resize(img, output_shape=(img_size,img_size), anti_aliasing=anti_aliasing, preserve_range=True)\n",
    "  img = img / 255.\n",
    "  return img\n",
    "\n",
    "def read_mask_img(filepath):\n",
    "  img = io.imread(filepath)\n",
    "  if len(img.shape) > 2:\n",
    "    img = img[:,:,2]\n",
    "  img = resize(img, output_shape=(img_size,img_size), anti_aliasing=anti_aliasing, preserve_range=True)\n",
    "  img = img / 255.\n",
    "  mask = img > mask_threshold\n",
    "  img[mask] = 1\n",
    "  img[~mask] = 0\n",
    "  return img"
   ]
  },
  {
   "cell_type": "code",
   "execution_count": null,
   "metadata": {
    "executionInfo": {
     "elapsed": 18,
     "status": "ok",
     "timestamp": 1626413450743,
     "user": {
      "displayName": "Nico Guth",
      "photoUrl": "https://lh3.googleusercontent.com/a-/AOh14GjLU8mQVSscNU9ysknrBUGEMxsyfpLTAsLrcDvJfg=s64",
      "userId": "08893022833457968246"
     },
     "user_tz": -120
    },
    "id": "Q4aSl02hWCTO"
   },
   "outputs": [],
   "source": [
    "# function to load a batch of images\n",
    "def load_img_batch(samples_df,ids):\n",
    "  satellite_imgs = samples_df.loc[ids,'abs_satellite_path'].progress_apply(read_satellite_img)\n",
    "  mask_imgs = samples_df.loc[ids,'abs_mask_path'].progress_apply(read_mask_img)\n",
    "\n",
    "  satellite_imgs = np.stack(satellite_imgs.to_numpy())\n",
    "  mask_imgs = np.stack(mask_imgs.to_numpy())\n",
    "\n",
    "  return satellite_imgs, mask_imgs"
   ]
  },
  {
   "cell_type": "code",
   "execution_count": null,
   "metadata": {
    "executionInfo": {
     "elapsed": 18,
     "status": "ok",
     "timestamp": 1626413450744,
     "user": {
      "displayName": "Nico Guth",
      "photoUrl": "https://lh3.googleusercontent.com/a-/AOh14GjLU8mQVSscNU9ysknrBUGEMxsyfpLTAsLrcDvJfg=s64",
      "userId": "08893022833457968246"
     },
     "user_tz": -120
    },
    "id": "0kTxlAjepqyX"
   },
   "outputs": [],
   "source": [
    "# function to show some samples (with or without the predictions)\n",
    "def show_sample(X, Y, samples_df, ids, Y_pred=None, threshold=None, sample_size=10, fig_height=6):\n",
    "  rnd_sample_indices = np.random.random_integers(low=0,high=X.shape[0]-1,size=sample_size)\n",
    "  cols = 2 if Y_pred is None else 3\n",
    "  if Y_pred is None:\n",
    "    cols = 2\n",
    "  elif threshold is not None:\n",
    "    cols = 4\n",
    "  else:\n",
    "    cols = 3\n",
    "\n",
    "  for i in rnd_sample_indices:\n",
    "    fig, axs = plt.subplots(1,cols, figsize=(fig_height*cols,fig_height))\n",
    "    axs[0].set_title(f'Country: {samples_df.loc[ids[i],\"country\"]}')\n",
    "    axs[0].imshow(X[i])\n",
    "    axs[1].set_title('Given Mask')\n",
    "    axs[1].imshow(Y[i])\n",
    "    if Y_pred is not None:\n",
    "      axs[2].set_title('Prediction')\n",
    "      axs[2].imshow(Y_pred[i])\n",
    "      if threshold is not None:\n",
    "        Y_pred_mask = Y_pred[i] >= threshold\n",
    "        Y_pred[i,Y_pred_mask] = 1\n",
    "        Y_pred[i,~Y_pred_mask] = 0\n",
    "        axs[3].set_title(f'Prediction with threshold = {threshold}')\n",
    "        axs[3].imshow(Y_pred[i])\n",
    "\n",
    "    for ax in axs:\n",
    "      ax.set_xticks([])\n",
    "      ax.set_yticks([])\n",
    "    fig.tight_layout()"
   ]
  },
  {
   "cell_type": "code",
   "execution_count": null,
   "metadata": {
    "executionInfo": {
     "elapsed": 17,
     "status": "ok",
     "timestamp": 1626413450744,
     "user": {
      "displayName": "Nico Guth",
      "photoUrl": "https://lh3.googleusercontent.com/a-/AOh14GjLU8mQVSscNU9ysknrBUGEMxsyfpLTAsLrcDvJfg=s64",
      "userId": "08893022833457968246"
     },
     "user_tz": -120
    },
    "id": "LXI8HtCoIQBF"
   },
   "outputs": [],
   "source": [
    "def show_images(X,Ys,names,fig_height=4):\n",
    "  'Plots X and multiple Y'\n",
    "  if not isinstance(Ys,list):\n",
    "    Ys = [Ys]\n",
    "  if not isinstance(names,list):\n",
    "    names = [names]\n",
    "  cols = 1 + len(Ys)\n",
    "  for i in range(X.shape[0]):\n",
    "    fig,axs = plt.subplots(1,cols,figsize=(fig_height*cols,fig_height))\n",
    "    axs[0].axis('off')\n",
    "    axs[0].imshow(X[i])\n",
    "    axs[0].set_title('Satellite')\n",
    "    for j,(Y,name) in enumerate(zip(Ys,names)):\n",
    "      axs[j+1].axis('off')\n",
    "      axs[j+1].imshow(Y[i])\n",
    "      axs[j+1].set_title(name)\n",
    "    plt.show()"
   ]
  },
  {
   "cell_type": "markdown",
   "metadata": {
    "id": "BXP1H-_X5SHu"
   },
   "source": [
    "# Split Training and Test Data"
   ]
  },
  {
   "cell_type": "code",
   "execution_count": null,
   "metadata": {
    "colab": {
     "base_uri": "https://localhost:8080/"
    },
    "executionInfo": {
     "elapsed": 18,
     "status": "ok",
     "timestamp": 1626413450745,
     "user": {
      "displayName": "Nico Guth",
      "photoUrl": "https://lh3.googleusercontent.com/a-/AOh14GjLU8mQVSscNU9ysknrBUGEMxsyfpLTAsLrcDvJfg=s64",
      "userId": "08893022833457968246"
     },
     "user_tz": -120
    },
    "id": "_GMYuOBc5W7O",
    "outputId": "54c2c454-014c-47dc-b99e-1b6effd29193"
   },
   "outputs": [],
   "source": [
    "sample_ids = samples_df.sample(sample_size, random_state=random_state).index.to_numpy()\n",
    "sample_ids.shape"
   ]
  },
  {
   "cell_type": "code",
   "execution_count": null,
   "metadata": {
    "executionInfo": {
     "elapsed": 16,
     "status": "ok",
     "timestamp": 1626413450746,
     "user": {
      "displayName": "Nico Guth",
      "photoUrl": "https://lh3.googleusercontent.com/a-/AOh14GjLU8mQVSscNU9ysknrBUGEMxsyfpLTAsLrcDvJfg=s64",
      "userId": "08893022833457968246"
     },
     "user_tz": -120
    },
    "id": "vBOupoO_6Z12"
   },
   "outputs": [],
   "source": [
    "# split in (train+val) and test\n",
    "train_ids, test_ids = train_test_split(sample_ids, test_size=test_size, random_state=random_state)"
   ]
  },
  {
   "cell_type": "code",
   "execution_count": null,
   "metadata": {
    "colab": {
     "base_uri": "https://localhost:8080/"
    },
    "executionInfo": {
     "elapsed": 16,
     "status": "ok",
     "timestamp": 1626413450746,
     "user": {
      "displayName": "Nico Guth",
      "photoUrl": "https://lh3.googleusercontent.com/a-/AOh14GjLU8mQVSscNU9ysknrBUGEMxsyfpLTAsLrcDvJfg=s64",
      "userId": "08893022833457968246"
     },
     "user_tz": -120
    },
    "id": "gjdJ3KsZ7Kkf",
    "outputId": "c94f71b2-186b-4650-a628-41453c5596a1"
   },
   "outputs": [],
   "source": [
    "print('Training Shape: ',train_ids.shape)\n",
    "print('Test Shape: ',test_ids.shape)"
   ]
  },
  {
   "cell_type": "markdown",
   "metadata": {
    "id": "MsjrZ4LX7sjh"
   },
   "source": [
    "# Train the Model"
   ]
  },
  {
   "cell_type": "code",
   "execution_count": null,
   "metadata": {
    "colab": {
     "base_uri": "https://localhost:8080/",
     "height": 119,
     "referenced_widgets": [
      "8afec900b3ef48599d0a86d2a7e2844a",
      "b05c81ee81614031a2162109868f88d5",
      "57eb61b2e4324f8289efe927233db020",
      "4fff94139203414690afbd3e4ff55129",
      "370d948431af4ff5aa049305083df7a0",
      "c81940b7f330495398be64e59530e20e",
      "6216c08f312c4ccaa9c1936d072cf92d",
      "5389f4334211429cb9181f0ffa5eb9ae",
      "bd19e92bd03c4c8b937d4ef1edfaf533",
      "d67db80514154f1ca43d988276de3d57",
      "bdfc7ad333924f2e8a53ad1f9122b049",
      "8eba9540de194a418934520f778697a1",
      "a4b3d912519748938c2930e93564b05b",
      "1979bd3dbed54905a372009ebedf2344",
      "2ef3b0024bca4903a5256814ee4f46ef",
      "85a8dee2fc5c4f3280a37ef5bd8b12d1"
     ]
    },
    "executionInfo": {
     "elapsed": 19007,
     "status": "ok",
     "timestamp": 1626413469738,
     "user": {
      "displayName": "Nico Guth",
      "photoUrl": "https://lh3.googleusercontent.com/a-/AOh14GjLU8mQVSscNU9ysknrBUGEMxsyfpLTAsLrcDvJfg=s64",
      "userId": "08893022833457968246"
     },
     "user_tz": -120
    },
    "id": "ZCFrGX2R7zos",
    "outputId": "6c3d2ef2-da25-4879-fef5-b732f23b08a2"
   },
   "outputs": [],
   "source": [
    "X_train, Y_train = load_img_batch(samples_df,train_ids)"
   ]
  },
  {
   "cell_type": "code",
   "execution_count": null,
   "metadata": {
    "executionInfo": {
     "elapsed": 220,
     "status": "ok",
     "timestamp": 1626413653737,
     "user": {
      "displayName": "Nico Guth",
      "photoUrl": "https://lh3.googleusercontent.com/a-/AOh14GjLU8mQVSscNU9ysknrBUGEMxsyfpLTAsLrcDvJfg=s64",
      "userId": "08893022833457968246"
     },
     "user_tz": -120
    },
    "id": "UjXW0hqPUkSi"
   },
   "outputs": [],
   "source": [
    "def extract_features(X):\n",
    "  # extract grays\n",
    "  X_gray = rgb2gray(X)\n",
    "  X_gray = np.expand_dims(X_gray,axis=3)\n",
    "  # extract absolute gradient of each channel\n",
    "  X_grad = np.stack(np.gradient(X,axis=(1,2)))\n",
    "  X_grad = np.linalg.norm(X_grad,axis=0)\n",
    "  # extract combined gradient\n",
    "  X_grad_gray = rgb2gray(X_grad)\n",
    "  X_grad_gray = np.expand_dims(X_grad_gray,axis=3)\n",
    "  # combine all features\n",
    "  X_combined = np.concatenate([X,X_gray,X_grad,X_grad_gray],axis=3)\n",
    "  # flatten the array\n",
    "  X_flat = X.reshape(-1,X.shape[3])\n",
    "  # Scale the data\n",
    "  scaler = MinMaxScaler()\n",
    "  X_flat = scaler.fit_transform(X_flat)\n",
    "  # unflatten the array\n",
    "  X = X_flat.reshape(-1,img_size,img_size,X_flat.shape[1])\n",
    "  return X"
   ]
  },
  {
   "cell_type": "code",
   "execution_count": null,
   "metadata": {
    "executionInfo": {
     "elapsed": 3,
     "status": "ok",
     "timestamp": 1626413654066,
     "user": {
      "displayName": "Nico Guth",
      "photoUrl": "https://lh3.googleusercontent.com/a-/AOh14GjLU8mQVSscNU9ysknrBUGEMxsyfpLTAsLrcDvJfg=s64",
      "userId": "08893022833457968246"
     },
     "user_tz": -120
    },
    "id": "SVVZO49iRE1C"
   },
   "outputs": [],
   "source": [
    "def train(X_train,Y_train):\n",
    "  print('Extracting Features...')\n",
    "  X = extract_features(X_train)\n",
    "  # flatten the arrays\n",
    "  X_flat = X.reshape(-1,X.shape[3])\n",
    "  Y_flat = Y_train.flatten()\n",
    "  # train the random forest\n",
    "  model = KNeighborsClassifier(\n",
    "                              n_neighbors=knn_n_neighbors, \n",
    "                              algorithm=knn_algorithm,\n",
    "                              leaf_size=knn_leaf_size,\n",
    "                              n_jobs=-1)\n",
    "  \n",
    "  print('Training Model...')\n",
    "  model.fit(X_flat,Y_flat)\n",
    "  return model"
   ]
  },
  {
   "cell_type": "code",
   "execution_count": null,
   "metadata": {
    "executionInfo": {
     "elapsed": 3,
     "status": "ok",
     "timestamp": 1626413654548,
     "user": {
      "displayName": "Nico Guth",
      "photoUrl": "https://lh3.googleusercontent.com/a-/AOh14GjLU8mQVSscNU9ysknrBUGEMxsyfpLTAsLrcDvJfg=s64",
      "userId": "08893022833457968246"
     },
     "user_tz": -120
    },
    "id": "-lbBssV6Vnxe"
   },
   "outputs": [],
   "source": [
    "def predict(X,model):\n",
    "  X = extract_features(X)\n",
    "  X_flat = X.reshape(-1,X.shape[3])\n",
    "  return model.predict(X_flat).reshape(-1,img_size,img_size)"
   ]
  },
  {
   "cell_type": "code",
   "execution_count": null,
   "metadata": {
    "executionInfo": {
     "elapsed": 63709,
     "status": "ok",
     "timestamp": 1626413719133,
     "user": {
      "displayName": "Nico Guth",
      "photoUrl": "https://lh3.googleusercontent.com/a-/AOh14GjLU8mQVSscNU9ysknrBUGEMxsyfpLTAsLrcDvJfg=s64",
      "userId": "08893022833457968246"
     },
     "user_tz": -120
    },
    "id": "CIUl5oORS5FN"
   },
   "outputs": [],
   "source": [
    "model = train(X_train,Y_train)"
   ]
  },
  {
   "cell_type": "code",
   "execution_count": null,
   "metadata": {
    "executionInfo": {
     "elapsed": 566381,
     "status": "ok",
     "timestamp": 1626414291293,
     "user": {
      "displayName": "Nico Guth",
      "photoUrl": "https://lh3.googleusercontent.com/a-/AOh14GjLU8mQVSscNU9ysknrBUGEMxsyfpLTAsLrcDvJfg=s64",
      "userId": "08893022833457968246"
     },
     "user_tz": -120
    },
    "id": "GMzTINWbWGuj"
   },
   "outputs": [],
   "source": [
    "Y_train_pred = predict(X_train, model)"
   ]
  },
  {
   "cell_type": "code",
   "execution_count": null,
   "metadata": {
    "colab": {
     "base_uri": "https://localhost:8080/"
    },
    "executionInfo": {
     "elapsed": 2442,
     "status": "ok",
     "timestamp": 1626414293733,
     "user": {
      "displayName": "Nico Guth",
      "photoUrl": "https://lh3.googleusercontent.com/a-/AOh14GjLU8mQVSscNU9ysknrBUGEMxsyfpLTAsLrcDvJfg=s64",
      "userId": "08893022833457968246"
     },
     "user_tz": -120
    },
    "id": "eJlGZtQGWkZp",
    "outputId": "8d0715b6-793a-4282-d269-fe27225c4d28"
   },
   "outputs": [],
   "source": [
    "print(f'Train Accuracy: {accuracy_score(Y_train.flatten(), Y_train_pred.flatten())}')"
   ]
  },
  {
   "cell_type": "code",
   "execution_count": null,
   "metadata": {
    "colab": {
     "base_uri": "https://localhost:8080/",
     "height": 1000,
     "output_embedded_package_id": "1hreI9KrLMR4tpxYI5i-HIP46lFZJoPpC"
    },
    "executionInfo": {
     "elapsed": 5721,
     "status": "ok",
     "timestamp": 1626414303127,
     "user": {
      "displayName": "Nico Guth",
      "photoUrl": "https://lh3.googleusercontent.com/a-/AOh14GjLU8mQVSscNU9ysknrBUGEMxsyfpLTAsLrcDvJfg=s64",
      "userId": "08893022833457968246"
     },
     "user_tz": -120
    },
    "id": "3u_k-E3DXIy4",
    "outputId": "0e455816-f2c1-40e5-c7fe-bd13f475fa27"
   },
   "outputs": [],
   "source": [
    "sample_size = 20\n",
    "sample_idxs = np.random.randint(low=0,high=X_train.shape[0], size=sample_size)\n",
    "X = X_train[sample_idxs]\n",
    "Ys = [Y_train[sample_idxs],Y_train_pred[sample_idxs]]\n",
    "names = ['Mask','Prediction']\n",
    "show_images(X,Ys,names)"
   ]
  },
  {
   "cell_type": "markdown",
   "metadata": {
    "id": "pDk01uIGZKLi"
   },
   "source": [
    "# Evaluate On Test Data"
   ]
  },
  {
   "cell_type": "code",
   "execution_count": null,
   "metadata": {
    "colab": {
     "base_uri": "https://localhost:8080/",
     "height": 119,
     "referenced_widgets": [
      "a867b73478d9414c9184841dcc04481c",
      "93c07fd6de1542b0aa0f41edc9936016",
      "087ad3d8e1c34c7c883016074d6d2068",
      "bab90560f8c64c1bb7ab006f38be482e",
      "739742ab17ed43818759e10f9ebfba40",
      "f924b93d9b6a4ef2be87be6fb0c35ba9",
      "bbc9269329214505aff5b9182228c90f",
      "8f2ddb5c852349fd860db1a054676372",
      "08bdfa22a4f344228f740f427b2fa193",
      "c951622dc49e41b1a39f9c6ba9b5d5b7",
      "7003ea0e4a78470ba14d6ddceb4ff5cc",
      "d285d24a25bc4c31b32d591e59920da2",
      "3c3e7484de5546678195742ab42e4069",
      "d4d98826238f4dde8e57cc3a3fce24d2",
      "792a9d7c601440a690585cd1d9fb994b",
      "d22b645c4872471784c9af1906954057"
     ]
    },
    "executionInfo": {
     "elapsed": 9509,
     "status": "ok",
     "timestamp": 1626414332103,
     "user": {
      "displayName": "Nico Guth",
      "photoUrl": "https://lh3.googleusercontent.com/a-/AOh14GjLU8mQVSscNU9ysknrBUGEMxsyfpLTAsLrcDvJfg=s64",
      "userId": "08893022833457968246"
     },
     "user_tz": -120
    },
    "id": "PQwOXNAAL3gr",
    "outputId": "0a0f1bae-4708-4485-daf8-0cbd8ab08aa6"
   },
   "outputs": [],
   "source": [
    "X_test, Y_test = load_img_batch(samples_df,test_ids)"
   ]
  },
  {
   "cell_type": "code",
   "execution_count": null,
   "metadata": {
    "executionInfo": {
     "elapsed": 248810,
     "status": "ok",
     "timestamp": 1626414586746,
     "user": {
      "displayName": "Nico Guth",
      "photoUrl": "https://lh3.googleusercontent.com/a-/AOh14GjLU8mQVSscNU9ysknrBUGEMxsyfpLTAsLrcDvJfg=s64",
      "userId": "08893022833457968246"
     },
     "user_tz": -120
    },
    "id": "Atk_xjCDMPL4"
   },
   "outputs": [],
   "source": [
    "Y_pred = predict(X_test,model)"
   ]
  },
  {
   "cell_type": "code",
   "execution_count": null,
   "metadata": {
    "colab": {
     "base_uri": "https://localhost:8080/"
    },
    "executionInfo": {
     "elapsed": 863,
     "status": "ok",
     "timestamp": 1626414587607,
     "user": {
      "displayName": "Nico Guth",
      "photoUrl": "https://lh3.googleusercontent.com/a-/AOh14GjLU8mQVSscNU9ysknrBUGEMxsyfpLTAsLrcDvJfg=s64",
      "userId": "08893022833457968246"
     },
     "user_tz": -120
    },
    "id": "fnanEgZ2MtmW",
    "outputId": "eca55c72-4bb2-4678-b5dd-ff2e9d68a18f"
   },
   "outputs": [],
   "source": [
    "print(f'Test Accuracy: {accuracy_score(Y_test.flatten(), Y_pred.flatten())}')"
   ]
  },
  {
   "cell_type": "code",
   "execution_count": null,
   "metadata": {
    "colab": {
     "base_uri": "https://localhost:8080/",
     "height": 1000,
     "output_embedded_package_id": "1gOo0g96SriSW7rwhFtcVlQKQetun2ZEc"
    },
    "executionInfo": {
     "elapsed": 5269,
     "status": "ok",
     "timestamp": 1626414592873,
     "user": {
      "displayName": "Nico Guth",
      "photoUrl": "https://lh3.googleusercontent.com/a-/AOh14GjLU8mQVSscNU9ysknrBUGEMxsyfpLTAsLrcDvJfg=s64",
      "userId": "08893022833457968246"
     },
     "user_tz": -120
    },
    "id": "PEsvDsjTiduS",
    "outputId": "8bf4cb5f-3c75-498c-95a3-f46ac33f795b"
   },
   "outputs": [],
   "source": [
    "sample_size = 20\n",
    "sample_idxs = np.random.randint(low=0,high=X_test.shape[0], size=sample_size)\n",
    "X = X_test[sample_idxs]\n",
    "Ys = [Y_test[sample_idxs],Y_pred[sample_idxs]]\n",
    "names = ['Mask','Prediction']\n",
    "show_images(X,Ys,names)"
   ]
  },
  {
   "cell_type": "code",
   "execution_count": null,
   "metadata": {
    "id": "6doLJpDym5pd"
   },
   "outputs": [],
   "source": []
  }
 ],
 "metadata": {
  "colab": {
   "collapsed_sections": [],
   "name": "alternative_combined_knn.ipynb",
   "provenance": [
    {
     "file_id": "1oRsA-lCQ7GP7qVycy9ph_Rq7w2e5E2ur",
     "timestamp": 1624906132931
    },
    {
     "file_id": "1zYdYA0Dsh-jRRsiQppLJEnBiBVrUJMvR",
     "timestamp": 1624892651453
    }
   ]
  },
  "kernelspec": {
   "display_name": "Python 3",
   "name": "python3"
  },
  "language_info": {
   "name": "python"
  }
 },
 "nbformat": 4,
 "nbformat_minor": 0
}
