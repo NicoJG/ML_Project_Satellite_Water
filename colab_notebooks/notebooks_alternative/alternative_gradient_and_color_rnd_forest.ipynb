{
 "cells": [
  {
   "cell_type": "markdown",
   "metadata": {
    "id": "aYJpHOrhNIm2"
   },
   "source": [
    "# Evaluate the models that are saved in the models folder"
   ]
  },
  {
   "cell_type": "markdown",
   "metadata": {
    "id": "DIIyogNgVbPU"
   },
   "source": [
    "# Imports\n",
    "\n",
    "removed checking if in CoLab"
   ]
  },
  {
   "cell_type": "code",
   "execution_count": null,
   "metadata": {
    "colab": {
     "base_uri": "https://localhost:8080/"
    },
    "executionInfo": {
     "elapsed": 3679,
     "status": "ok",
     "timestamp": 1626385420066,
     "user": {
      "displayName": "Nico Guth",
      "photoUrl": "https://lh3.googleusercontent.com/a-/AOh14GjLU8mQVSscNU9ysknrBUGEMxsyfpLTAsLrcDvJfg=s64",
      "userId": "08893022833457968246"
     },
     "user_tz": -120
    },
    "id": "boRPVBP0bXy4",
    "outputId": "cacfca6a-f74c-4519-b053-5b118d4e220e"
   },
   "outputs": [],
   "source": [
    "!pip install -U scikit-image"
   ]
  },
  {
   "cell_type": "code",
   "execution_count": null,
   "metadata": {
    "executionInfo": {
     "elapsed": 12,
     "status": "ok",
     "timestamp": 1626385420066,
     "user": {
      "displayName": "Nico Guth",
      "photoUrl": "https://lh3.googleusercontent.com/a-/AOh14GjLU8mQVSscNU9ysknrBUGEMxsyfpLTAsLrcDvJfg=s64",
      "userId": "08893022833457968246"
     },
     "user_tz": -120
    },
    "id": "OKxRRUUDSi0c"
   },
   "outputs": [],
   "source": [
    "#imports\n",
    "from platform import python_version\n",
    "\n",
    "#basic python stuff\n",
    "import os\n",
    "import json\n",
    "from pathlib import Path\n",
    "\n",
    "#basics from the SciPy Stack\n",
    "import numpy as np\n",
    "import pandas as pd\n",
    "import matplotlib.pyplot as plt\n",
    "\n",
    "#colab stuff\n",
    "from google.colab import drive\n",
    "\n",
    "#data managing\n",
    "from sklearn.model_selection import train_test_split\n",
    "from skimage import io #read in images\n",
    "from skimage.transform import resize\n",
    "\n",
    "# alternative model\n",
    "from sklearn.ensemble import RandomForestClassifier\n",
    "from sklearn.metrics import accuracy_score\n",
    "from skimage.color import rgb2gray\n",
    "from skimage.filters import median\n",
    "\n",
    "# evaluation\n",
    "import sklearn\n",
    "\n",
    "#progress bar\n",
    "from tqdm.notebook import tqdm"
   ]
  },
  {
   "cell_type": "code",
   "execution_count": null,
   "metadata": {
    "colab": {
     "base_uri": "https://localhost:8080/"
    },
    "executionInfo": {
     "elapsed": 11,
     "status": "ok",
     "timestamp": 1626385420067,
     "user": {
      "displayName": "Nico Guth",
      "photoUrl": "https://lh3.googleusercontent.com/a-/AOh14GjLU8mQVSscNU9ysknrBUGEMxsyfpLTAsLrcDvJfg=s64",
      "userId": "08893022833457968246"
     },
     "user_tz": -120
    },
    "id": "KjrZQySaYGYu",
    "outputId": "142b52f6-1fc0-49ab-dc31-0b3df6262ec9"
   },
   "outputs": [],
   "source": [
    "# settings\n",
    "\n",
    "# implements progress_apply into pandas\n",
    "tqdm.pandas(desc='Pandas_Progress')"
   ]
  },
  {
   "cell_type": "code",
   "execution_count": null,
   "metadata": {
    "colab": {
     "base_uri": "https://localhost:8080/"
    },
    "executionInfo": {
     "elapsed": 11,
     "status": "ok",
     "timestamp": 1626385420068,
     "user": {
      "displayName": "Nico Guth",
      "photoUrl": "https://lh3.googleusercontent.com/a-/AOh14GjLU8mQVSscNU9ysknrBUGEMxsyfpLTAsLrcDvJfg=s64",
      "userId": "08893022833457968246"
     },
     "user_tz": -120
    },
    "id": "rmJPflTiYHAO",
    "outputId": "c2abb19a-db35-422f-fda1-bca0bc7a36be"
   },
   "outputs": [],
   "source": [
    "print(\"Python version =\",python_version())"
   ]
  },
  {
   "cell_type": "code",
   "execution_count": null,
   "metadata": {
    "colab": {
     "base_uri": "https://localhost:8080/"
    },
    "executionInfo": {
     "elapsed": 9,
     "status": "ok",
     "timestamp": 1626385420068,
     "user": {
      "displayName": "Nico Guth",
      "photoUrl": "https://lh3.googleusercontent.com/a-/AOh14GjLU8mQVSscNU9ysknrBUGEMxsyfpLTAsLrcDvJfg=s64",
      "userId": "08893022833457968246"
     },
     "user_tz": -120
    },
    "id": "GWgVWLihTLc4",
    "outputId": "90b057a2-cfa4-4e26-f6d9-18f62ef13bbe"
   },
   "outputs": [],
   "source": [
    "# get access to drive\n",
    "drive.mount('/content/drive')"
   ]
  },
  {
   "cell_type": "code",
   "execution_count": null,
   "metadata": {
    "executionInfo": {
     "elapsed": 9,
     "status": "ok",
     "timestamp": 1626385420069,
     "user": {
      "displayName": "Nico Guth",
      "photoUrl": "https://lh3.googleusercontent.com/a-/AOh14GjLU8mQVSscNU9ysknrBUGEMxsyfpLTAsLrcDvJfg=s64",
      "userId": "08893022833457968246"
     },
     "user_tz": -120
    },
    "id": "fqT0DveHJAk0"
   },
   "outputs": [],
   "source": [
    "# import local python files\n",
    "import importlib.util\n",
    "\n",
    "# https://github.com/maxvfischer/keras-image-segmentation-loss-functions\n",
    "spec = importlib.util.spec_from_file_location(\"binary_losses\", \"/content/drive/MyDrive/ML_Project_Satellite_Images/binary_losses.py\")\n",
    "binary_losses = importlib.util.module_from_spec(spec)\n",
    "spec.loader.exec_module(binary_losses)"
   ]
  },
  {
   "cell_type": "markdown",
   "metadata": {
    "id": "uMJVXvRrWdYV"
   },
   "source": [
    "# Hyperparameters"
   ]
  },
  {
   "cell_type": "code",
   "execution_count": null,
   "metadata": {
    "executionInfo": {
     "elapsed": 229,
     "status": "ok",
     "timestamp": 1626385677165,
     "user": {
      "displayName": "Nico Guth",
      "photoUrl": "https://lh3.googleusercontent.com/a-/AOh14GjLU8mQVSscNU9ysknrBUGEMxsyfpLTAsLrcDvJfg=s64",
      "userId": "08893022833457968246"
     },
     "user_tz": -120
    },
    "id": "r8UN5uSPWdG3"
   },
   "outputs": [],
   "source": [
    "random_state = 42\n",
    "\n",
    "# training parameters\n",
    "sample_size = 1000\n",
    "test_size = 0.3\n",
    "val_size = 0.3\n",
    "\n",
    "# data preprocessing\n",
    "img_size = 128\n",
    "anti_aliasing = True\n",
    "mask_threshold = 0.5\n",
    "\n",
    "# model parameters\n",
    "rnd_forest_estimators = 10\n",
    "binary_search_depth = 15"
   ]
  },
  {
   "cell_type": "markdown",
   "metadata": {
    "id": "iZxMDwBNV3yx"
   },
   "source": [
    "# Retrieve the Dataset"
   ]
  },
  {
   "cell_type": "code",
   "execution_count": null,
   "metadata": {
    "executionInfo": {
     "elapsed": 16109,
     "status": "ok",
     "timestamp": 1626385436170,
     "user": {
      "displayName": "Nico Guth",
      "photoUrl": "https://lh3.googleusercontent.com/a-/AOh14GjLU8mQVSscNU9ysknrBUGEMxsyfpLTAsLrcDvJfg=s64",
      "userId": "08893022833457968246"
     },
     "user_tz": -120
    },
    "id": "xstIW12OVWmg"
   },
   "outputs": [],
   "source": [
    "# unzip data\n",
    "!unzip -n -q /content/drive/MyDrive/ML_Project_Satellite_Images/data/current_dataset.zip -d /content/"
   ]
  },
  {
   "cell_type": "code",
   "execution_count": null,
   "metadata": {
    "colab": {
     "base_uri": "https://localhost:8080/",
     "height": 455
    },
    "executionInfo": {
     "elapsed": 13,
     "status": "ok",
     "timestamp": 1626385436172,
     "user": {
      "displayName": "Nico Guth",
      "photoUrl": "https://lh3.googleusercontent.com/a-/AOh14GjLU8mQVSscNU9ysknrBUGEMxsyfpLTAsLrcDvJfg=s64",
      "userId": "08893022833457968246"
     },
     "user_tz": -120
    },
    "id": "6RZbQx-RrVAv",
    "outputId": "5164e93b-8ecb-48d1-f050-2c778bc4f87a"
   },
   "outputs": [],
   "source": [
    "# read in samples.csv with information about the images\n",
    "samples_df = pd.read_csv('/content/dataset/samples.csv')\n",
    "samples_df.set_index('id', inplace=True)\n",
    "samples_df"
   ]
  },
  {
   "cell_type": "code",
   "execution_count": null,
   "metadata": {
    "executionInfo": {
     "elapsed": 13,
     "status": "ok",
     "timestamp": 1626385436174,
     "user": {
      "displayName": "Nico Guth",
      "photoUrl": "https://lh3.googleusercontent.com/a-/AOh14GjLU8mQVSscNU9ysknrBUGEMxsyfpLTAsLrcDvJfg=s64",
      "userId": "08893022833457968246"
     },
     "user_tz": -120
    },
    "id": "w0vVHx7OtNXx"
   },
   "outputs": [],
   "source": [
    "# paths to the sat/mask folder\n",
    "path_sat_folder = '/content/dataset/images/satellite/'\n",
    "path_mask_folder = '/content/dataset/images/mask/'"
   ]
  },
  {
   "cell_type": "code",
   "execution_count": null,
   "metadata": {
    "executionInfo": {
     "elapsed": 11,
     "status": "ok",
     "timestamp": 1626385436175,
     "user": {
      "displayName": "Nico Guth",
      "photoUrl": "https://lh3.googleusercontent.com/a-/AOh14GjLU8mQVSscNU9ysknrBUGEMxsyfpLTAsLrcDvJfg=s64",
      "userId": "08893022833457968246"
     },
     "user_tz": -120
    },
    "id": "GwCoDvQGtsy8"
   },
   "outputs": [],
   "source": [
    "# append absoulute paths of the images to the dataframe\n",
    "samples_df['abs_satellite_path'] = samples_df['satellite_file'].apply(lambda x: path_sat_folder+x)\n",
    "samples_df['abs_mask_path'] = samples_df['mask_file'].apply(lambda x: path_mask_folder+x)"
   ]
  },
  {
   "cell_type": "markdown",
   "metadata": {
    "id": "UZjmV5IQW5jr"
   },
   "source": [
    "# Functions for Image reading and plotting"
   ]
  },
  {
   "cell_type": "code",
   "execution_count": null,
   "metadata": {
    "executionInfo": {
     "elapsed": 462,
     "status": "ok",
     "timestamp": 1626385436627,
     "user": {
      "displayName": "Nico Guth",
      "photoUrl": "https://lh3.googleusercontent.com/a-/AOh14GjLU8mQVSscNU9ysknrBUGEMxsyfpLTAsLrcDvJfg=s64",
      "userId": "08893022833457968246"
     },
     "user_tz": -120
    },
    "id": "l3QE5z_tVeYp"
   },
   "outputs": [],
   "source": [
    "# function for image reading\n",
    "def read_satellite_img(filepath):\n",
    "  img = io.imread(filepath)\n",
    "  img = resize(img, output_shape=(img_size,img_size), anti_aliasing=anti_aliasing, preserve_range=True)\n",
    "  img = img / 255.\n",
    "  return img\n",
    "\n",
    "def read_mask_img(filepath):\n",
    "  img = io.imread(filepath)\n",
    "  if len(img.shape) > 2:\n",
    "    img = img[:,:,2]\n",
    "  img = resize(img, output_shape=(img_size,img_size), anti_aliasing=anti_aliasing, preserve_range=True)\n",
    "  img = img / 255.\n",
    "  mask = img > mask_threshold\n",
    "  img[mask] = 1\n",
    "  img[~mask] = 0\n",
    "  return img"
   ]
  },
  {
   "cell_type": "code",
   "execution_count": null,
   "metadata": {
    "executionInfo": {
     "elapsed": 13,
     "status": "ok",
     "timestamp": 1626385436627,
     "user": {
      "displayName": "Nico Guth",
      "photoUrl": "https://lh3.googleusercontent.com/a-/AOh14GjLU8mQVSscNU9ysknrBUGEMxsyfpLTAsLrcDvJfg=s64",
      "userId": "08893022833457968246"
     },
     "user_tz": -120
    },
    "id": "Q4aSl02hWCTO"
   },
   "outputs": [],
   "source": [
    "# function to load a batch of images\n",
    "def load_img_batch(samples_df,ids):\n",
    "  satellite_imgs = samples_df.loc[ids,'abs_satellite_path'].progress_apply(read_satellite_img)\n",
    "  mask_imgs = samples_df.loc[ids,'abs_mask_path'].progress_apply(read_mask_img)\n",
    "\n",
    "  satellite_imgs = np.stack(satellite_imgs.to_numpy())\n",
    "  mask_imgs = np.stack(mask_imgs.to_numpy())\n",
    "\n",
    "  return satellite_imgs, mask_imgs"
   ]
  },
  {
   "cell_type": "code",
   "execution_count": null,
   "metadata": {
    "executionInfo": {
     "elapsed": 13,
     "status": "ok",
     "timestamp": 1626385436628,
     "user": {
      "displayName": "Nico Guth",
      "photoUrl": "https://lh3.googleusercontent.com/a-/AOh14GjLU8mQVSscNU9ysknrBUGEMxsyfpLTAsLrcDvJfg=s64",
      "userId": "08893022833457968246"
     },
     "user_tz": -120
    },
    "id": "0kTxlAjepqyX"
   },
   "outputs": [],
   "source": [
    "# function to show some samples (with or without the predictions)\n",
    "def show_sample(X, Y, samples_df, ids, Y_pred=None, threshold=None, sample_size=10, fig_height=6):\n",
    "  rnd_sample_indices = np.random.random_integers(low=0,high=X.shape[0]-1,size=sample_size)\n",
    "  cols = 2 if Y_pred is None else 3\n",
    "  if Y_pred is None:\n",
    "    cols = 2\n",
    "  elif threshold is not None:\n",
    "    cols = 4\n",
    "  else:\n",
    "    cols = 3\n",
    "\n",
    "  for i in rnd_sample_indices:\n",
    "    fig, axs = plt.subplots(1,cols, figsize=(fig_height*cols,fig_height))\n",
    "    axs[0].set_title(f'Country: {samples_df.loc[ids[i],\"country\"]}')\n",
    "    axs[0].imshow(X[i])\n",
    "    axs[1].set_title('Given Mask')\n",
    "    axs[1].imshow(Y[i])\n",
    "    if Y_pred is not None:\n",
    "      axs[2].set_title('Prediction')\n",
    "      axs[2].imshow(Y_pred[i])\n",
    "      if threshold is not None:\n",
    "        Y_pred_mask = Y_pred[i] >= threshold\n",
    "        Y_pred[i,Y_pred_mask] = 1\n",
    "        Y_pred[i,~Y_pred_mask] = 0\n",
    "        axs[3].set_title(f'Prediction with threshold = {threshold}')\n",
    "        axs[3].imshow(Y_pred[i])\n",
    "\n",
    "    for ax in axs:\n",
    "      ax.set_xticks([])\n",
    "      ax.set_yticks([])\n",
    "    fig.tight_layout()"
   ]
  },
  {
   "cell_type": "code",
   "execution_count": null,
   "metadata": {
    "executionInfo": {
     "elapsed": 12,
     "status": "ok",
     "timestamp": 1626385436628,
     "user": {
      "displayName": "Nico Guth",
      "photoUrl": "https://lh3.googleusercontent.com/a-/AOh14GjLU8mQVSscNU9ysknrBUGEMxsyfpLTAsLrcDvJfg=s64",
      "userId": "08893022833457968246"
     },
     "user_tz": -120
    },
    "id": "LXI8HtCoIQBF"
   },
   "outputs": [],
   "source": [
    "def show_images(X,Ys,names,fig_height=4):\n",
    "  'Plots X and multiple Y'\n",
    "  if not isinstance(Ys,list):\n",
    "    Ys = [Ys]\n",
    "  if not isinstance(names,list):\n",
    "    names = [names]\n",
    "  cols = 1 + len(Ys)\n",
    "  for i in range(X.shape[0]):\n",
    "    fig,axs = plt.subplots(1,cols,figsize=(fig_height*cols,fig_height))\n",
    "    axs[0].axis('off')\n",
    "    axs[0].imshow(X[i])\n",
    "    axs[0].set_title('Satellite')\n",
    "    for j,(Y,name) in enumerate(zip(Ys,names)):\n",
    "      axs[j+1].axis('off')\n",
    "      axs[j+1].imshow(Y[i])\n",
    "      axs[j+1].set_title(name)\n",
    "    plt.show()"
   ]
  },
  {
   "cell_type": "markdown",
   "metadata": {
    "id": "BXP1H-_X5SHu"
   },
   "source": [
    "# Split Training and Test Data"
   ]
  },
  {
   "cell_type": "code",
   "execution_count": null,
   "metadata": {
    "colab": {
     "base_uri": "https://localhost:8080/"
    },
    "executionInfo": {
     "elapsed": 13,
     "status": "ok",
     "timestamp": 1626385436629,
     "user": {
      "displayName": "Nico Guth",
      "photoUrl": "https://lh3.googleusercontent.com/a-/AOh14GjLU8mQVSscNU9ysknrBUGEMxsyfpLTAsLrcDvJfg=s64",
      "userId": "08893022833457968246"
     },
     "user_tz": -120
    },
    "id": "_GMYuOBc5W7O",
    "outputId": "2faef6f4-1c89-45e9-c870-2385efeabdd3"
   },
   "outputs": [],
   "source": [
    "sample_ids = samples_df.sample(sample_size, random_state=random_state).index.to_numpy()\n",
    "sample_ids.shape"
   ]
  },
  {
   "cell_type": "code",
   "execution_count": null,
   "metadata": {
    "executionInfo": {
     "elapsed": 12,
     "status": "ok",
     "timestamp": 1626385436630,
     "user": {
      "displayName": "Nico Guth",
      "photoUrl": "https://lh3.googleusercontent.com/a-/AOh14GjLU8mQVSscNU9ysknrBUGEMxsyfpLTAsLrcDvJfg=s64",
      "userId": "08893022833457968246"
     },
     "user_tz": -120
    },
    "id": "vBOupoO_6Z12"
   },
   "outputs": [],
   "source": [
    "# split in (train+val) and test\n",
    "train_ids, test_ids = train_test_split(sample_ids, test_size=test_size, random_state=random_state)"
   ]
  },
  {
   "cell_type": "code",
   "execution_count": null,
   "metadata": {
    "colab": {
     "base_uri": "https://localhost:8080/"
    },
    "executionInfo": {
     "elapsed": 13,
     "status": "ok",
     "timestamp": 1626385436631,
     "user": {
      "displayName": "Nico Guth",
      "photoUrl": "https://lh3.googleusercontent.com/a-/AOh14GjLU8mQVSscNU9ysknrBUGEMxsyfpLTAsLrcDvJfg=s64",
      "userId": "08893022833457968246"
     },
     "user_tz": -120
    },
    "id": "gjdJ3KsZ7Kkf",
    "outputId": "65459572-b40d-45d7-8f75-23f458b00122"
   },
   "outputs": [],
   "source": [
    "print('Training Shape: ',train_ids.shape)\n",
    "print('Test Shape: ',test_ids.shape)"
   ]
  },
  {
   "cell_type": "markdown",
   "metadata": {
    "id": "MsjrZ4LX7sjh"
   },
   "source": [
    "# Train the Model"
   ]
  },
  {
   "cell_type": "code",
   "execution_count": null,
   "metadata": {
    "colab": {
     "base_uri": "https://localhost:8080/",
     "height": 119,
     "referenced_widgets": [
      "3d457a65fc684ad69624afbba15c3144",
      "d5bf1dfbee9a4055b3e0157213035332",
      "e5336c11233242a9b0a8291a75f7c960",
      "73e5062303e84bc0b11552a58910d340",
      "333ae9a8d58d4813a3dfaf5edc73c6db",
      "8b594421dfba45d6b087a25164e9163f",
      "841a595468324c2a8f8fe1745b462b01",
      "e982266598ac45c38e7ddab75ade4816",
      "4c71adca380f4257862e296f678ec227",
      "417f41ce8b124dfd8c7bc9e9b7f61add",
      "45dc3a315c364ad1978eb51dc7a6bc8a",
      "73e605f7f077441a86917e875246530d",
      "5bad629f2d4c42028a918486741a175d",
      "0ec3fd0b63e64e7f90fc5b4620faf3e6",
      "305decf667584110bed08617bbbfac63",
      "35b4812206554e9382ede2860d82c028"
     ]
    },
    "executionInfo": {
     "elapsed": 21253,
     "status": "ok",
     "timestamp": 1626385457872,
     "user": {
      "displayName": "Nico Guth",
      "photoUrl": "https://lh3.googleusercontent.com/a-/AOh14GjLU8mQVSscNU9ysknrBUGEMxsyfpLTAsLrcDvJfg=s64",
      "userId": "08893022833457968246"
     },
     "user_tz": -120
    },
    "id": "ZCFrGX2R7zos",
    "outputId": "a8f252d4-9d11-464b-df18-0c060f7fb2ea"
   },
   "outputs": [],
   "source": [
    "X_train, Y_train = load_img_batch(samples_df,train_ids)"
   ]
  },
  {
   "cell_type": "code",
   "execution_count": null,
   "metadata": {
    "colab": {
     "base_uri": "https://localhost:8080/"
    },
    "executionInfo": {
     "elapsed": 270023,
     "status": "ok",
     "timestamp": 1626386282848,
     "user": {
      "displayName": "Nico Guth",
      "photoUrl": "https://lh3.googleusercontent.com/a-/AOh14GjLU8mQVSscNU9ysknrBUGEMxsyfpLTAsLrcDvJfg=s64",
      "userId": "08893022833457968246"
     },
     "user_tz": -120
    },
    "id": "IddaCQYu7-QO",
    "outputId": "43e9978c-d3cd-49b2-dedc-1a9821107a7d"
   },
   "outputs": [],
   "source": [
    "# Train the RandomForest for Color Based Segmentation\n",
    "X_train_flat = X_train.reshape(-1,3)\n",
    "Y_train_flat = Y_train.reshape(-1)\n",
    "rnd_forest = RandomForestClassifier(n_estimators=rnd_forest_estimators,verbose=3,n_jobs=-1)\n",
    "rnd_forest.fit(X_train_flat, Y_train_flat)"
   ]
  },
  {
   "cell_type": "code",
   "execution_count": null,
   "metadata": {
    "colab": {
     "base_uri": "https://localhost:8080/"
    },
    "executionInfo": {
     "elapsed": 47142,
     "status": "ok",
     "timestamp": 1626386362258,
     "user": {
      "displayName": "Nico Guth",
      "photoUrl": "https://lh3.googleusercontent.com/a-/AOh14GjLU8mQVSscNU9ysknrBUGEMxsyfpLTAsLrcDvJfg=s64",
      "userId": "08893022833457968246"
     },
     "user_tz": -120
    },
    "id": "uXKADcp89jm0",
    "outputId": "8a68f906-64e1-4aec-9797-9744f0ee90bc"
   },
   "outputs": [],
   "source": [
    "# Get Train Accuracy for Color Based Segmentation\n",
    "Y_train_pred_flat = rnd_forest.predict(X_train_flat)\n",
    "print(f'Color Based Accuracy: {accuracy_score(Y_train_flat, Y_train_pred_flat)}')"
   ]
  },
  {
   "cell_type": "code",
   "execution_count": null,
   "metadata": {
    "executionInfo": {
     "elapsed": 216,
     "status": "ok",
     "timestamp": 1626385864803,
     "user": {
      "displayName": "Nico Guth",
      "photoUrl": "https://lh3.googleusercontent.com/a-/AOh14GjLU8mQVSscNU9ysknrBUGEMxsyfpLTAsLrcDvJfg=s64",
      "userId": "08893022833457968246"
     },
     "user_tz": -120
    },
    "id": "rTw34RRZ99Gx"
   },
   "outputs": [],
   "source": [
    "# Define the Gradient Based Segmentation\n",
    "def predict_with_gradient(X,grad_threshold):\n",
    "  Y_grad = np.stack(np.gradient(X,axis=(1,2)))\n",
    "  Y_grad = np.linalg.norm(Y_grad,axis=0)\n",
    "  Y_grad = rgb2gray(Y_grad)\n",
    "  Y_grad = Y_grad / np.max(Y_grad)\n",
    "  Y_grad = (Y_grad < grad_threshold).astype(int)\n",
    "  return Y_grad"
   ]
  },
  {
   "cell_type": "code",
   "execution_count": null,
   "metadata": {
    "executionInfo": {
     "elapsed": 4,
     "status": "ok",
     "timestamp": 1626385865685,
     "user": {
      "displayName": "Nico Guth",
      "photoUrl": "https://lh3.googleusercontent.com/a-/AOh14GjLU8mQVSscNU9ysknrBUGEMxsyfpLTAsLrcDvJfg=s64",
      "userId": "08893022833457968246"
     },
     "user_tz": -120
    },
    "id": "mJZQUVIp-jkk"
   },
   "outputs": [],
   "source": [
    "# Train the Gradient Based Segmentation\n",
    "# Find the best grad_threshold via Binary Search\n",
    "def train_gradient_segmentation(X_train,Y_train,binary_search_depth):\n",
    "  low = 0.\n",
    "  high = 1.\n",
    "  Y_train_flat = Y_train.flatten()\n",
    "  accuracy = {}\n",
    "  print('First Low...')\n",
    "  accuracy[low] = accuracy_score(Y_train_flat, predict_with_gradient(X_train,low).flatten())\n",
    "  print('First High...')\n",
    "  accuracy[high] = accuracy_score(Y_train_flat, predict_with_gradient(X_train,high).flatten())\n",
    "  for i in tqdm(range(binary_search_depth),desc='Binary Search: '):\n",
    "    middle = (low + high) / 2\n",
    "    accuracy[middle] = accuracy_score(Y_train_flat, predict_with_gradient(X_train,middle).flatten())\n",
    "    if accuracy[low] + accuracy[middle] > accuracy[middle] + accuracy[high]:\n",
    "      high = middle\n",
    "    else:\n",
    "      low = middle\n",
    "  best_grad_threshold = np.max([low,middle,high])\n",
    "  return accuracy, middle"
   ]
  },
  {
   "cell_type": "code",
   "execution_count": null,
   "metadata": {
    "colab": {
     "base_uri": "https://localhost:8080/",
     "height": 105,
     "referenced_widgets": [
      "276b4208950c450e800292ab05d4a5c1",
      "8a0718b738434f418954d8e49f587937",
      "ac7a8adc261f4464a9ef1a91f73f2617",
      "4783885c550c41dfb8443dcec7117622",
      "b3f80fbe5e1f4340b97c66da7db514f2",
      "0174df5cc9a64990bd91e68ee7084d12",
      "64c0f17314084616b61e50dc08f61e99",
      "1ebf5087568348eebba6ce03edf91500"
     ]
    },
    "executionInfo": {
     "elapsed": 47773,
     "status": "ok",
     "timestamp": 1626385914266,
     "user": {
      "displayName": "Nico Guth",
      "photoUrl": "https://lh3.googleusercontent.com/a-/AOh14GjLU8mQVSscNU9ysknrBUGEMxsyfpLTAsLrcDvJfg=s64",
      "userId": "08893022833457968246"
     },
     "user_tz": -120
    },
    "id": "G-AYwCz7CK8K",
    "outputId": "75db02a0-d6b3-4771-ba4c-3a9c8fc5fc25"
   },
   "outputs": [],
   "source": [
    "accuracies, grad_threshold = train_gradient_segmentation(X_train,Y_train,binary_search_depth)"
   ]
  },
  {
   "cell_type": "code",
   "execution_count": null,
   "metadata": {
    "colab": {
     "base_uri": "https://localhost:8080/"
    },
    "executionInfo": {
     "elapsed": 4,
     "status": "ok",
     "timestamp": 1626385914266,
     "user": {
      "displayName": "Nico Guth",
      "photoUrl": "https://lh3.googleusercontent.com/a-/AOh14GjLU8mQVSscNU9ysknrBUGEMxsyfpLTAsLrcDvJfg=s64",
      "userId": "08893022833457968246"
     },
     "user_tz": -120
    },
    "id": "HLSAZ5FUIshX",
    "outputId": "0a547a46-2191-45e0-9a2a-15af22ddd2ec"
   },
   "outputs": [],
   "source": [
    "accuracies"
   ]
  },
  {
   "cell_type": "code",
   "execution_count": null,
   "metadata": {
    "colab": {
     "base_uri": "https://localhost:8080/"
    },
    "executionInfo": {
     "elapsed": 223,
     "status": "ok",
     "timestamp": 1626385921670,
     "user": {
      "displayName": "Nico Guth",
      "photoUrl": "https://lh3.googleusercontent.com/a-/AOh14GjLU8mQVSscNU9ysknrBUGEMxsyfpLTAsLrcDvJfg=s64",
      "userId": "08893022833457968246"
     },
     "user_tz": -120
    },
    "id": "qnPHsVC3CdYO",
    "outputId": "92e0f911-af94-4d70-8b2f-822341c09240"
   },
   "outputs": [],
   "source": [
    "print(f'Gradient Based Segmentation: {accuracies[grad_threshold]}')"
   ]
  },
  {
   "cell_type": "code",
   "execution_count": null,
   "metadata": {
    "executionInfo": {
     "elapsed": 227,
     "status": "ok",
     "timestamp": 1626386992912,
     "user": {
      "displayName": "Nico Guth",
      "photoUrl": "https://lh3.googleusercontent.com/a-/AOh14GjLU8mQVSscNU9ysknrBUGEMxsyfpLTAsLrcDvJfg=s64",
      "userId": "08893022833457968246"
     },
     "user_tz": -120
    },
    "id": "3VKvpPauC5IM"
   },
   "outputs": [],
   "source": [
    "# Define the Combined Segmentation\n",
    "def predict_combined(X,rnd_forest,grad_threshold,return_all=False):\n",
    "  print('Predict Colors...')\n",
    "  Y_pred_color = rnd_forest.predict(X.reshape(-1,3)).reshape(-1,img_size,img_size)\n",
    "  print('Predict Gradients...')\n",
    "  Y_pred_grad = predict_with_gradient(X,grad_threshold)\n",
    "  print('Predict Combined...')\n",
    "  Y_pred = ((Y_pred_color==1) & (Y_pred_grad==1)).astype(int)\n",
    "  Y_pred = median(Y_pred)\n",
    "  Y_pred = (Y_pred > 0.5).astype(int)\n",
    "  if return_all:\n",
    "    return Y_pred_color, Y_pred_grad, Y_pred\n",
    "  else:\n",
    "    return Y_pred"
   ]
  },
  {
   "cell_type": "markdown",
   "metadata": {
    "id": "xUFqGmssLyjY"
   },
   "source": [
    "# Evaluate on Test Data"
   ]
  },
  {
   "cell_type": "code",
   "execution_count": null,
   "metadata": {
    "colab": {
     "base_uri": "https://localhost:8080/",
     "height": 119,
     "referenced_widgets": [
      "407d76c96d484b8e98501f05c021b14c",
      "ffde8221dd444b2581be78597933e092",
      "250bd7c7b667453bae0e649b2c767c0f",
      "d25daf1126a04cc6b903e4c14ef91f9a",
      "7ec8cccf65064d62915dbc1c516ad022",
      "d63bd593ffca48d3a4207dafdcc19c33",
      "f1cd0883ac0e4fe1a0ed23a7a2ced8d1",
      "d40e4a06f77744ea82c4e00b18a02f6d",
      "be120dc8f2ac46598838024b3d1a2a2f",
      "1f9bdb61b3c34d6c898c68bee85b7b1d",
      "2c6166daaa7d4c54a75edde03d101b0d",
      "fc09c1dfd24246bbb008f77a1b90edeb",
      "70cbc7448cae41dea767ef1b1381d9e0",
      "511d84c03e3a41a48dc972834e0e42ec",
      "cdd436d04b734dee896503367d5613da",
      "faba2cba8b354031bce3aa7f897cd886"
     ]
    },
    "executionInfo": {
     "elapsed": 9177,
     "status": "ok",
     "timestamp": 1626386516666,
     "user": {
      "displayName": "Nico Guth",
      "photoUrl": "https://lh3.googleusercontent.com/a-/AOh14GjLU8mQVSscNU9ysknrBUGEMxsyfpLTAsLrcDvJfg=s64",
      "userId": "08893022833457968246"
     },
     "user_tz": -120
    },
    "id": "PQwOXNAAL3gr",
    "outputId": "0e126d75-99a2-4442-9388-f1246aeae982"
   },
   "outputs": [],
   "source": [
    "X_test, Y_test = load_img_batch(samples_df,test_ids)"
   ]
  },
  {
   "cell_type": "code",
   "execution_count": null,
   "metadata": {
    "colab": {
     "base_uri": "https://localhost:8080/"
    },
    "executionInfo": {
     "elapsed": 225,
     "status": "ok",
     "timestamp": 1626386797509,
     "user": {
      "displayName": "Nico Guth",
      "photoUrl": "https://lh3.googleusercontent.com/a-/AOh14GjLU8mQVSscNU9ysknrBUGEMxsyfpLTAsLrcDvJfg=s64",
      "userId": "08893022833457968246"
     },
     "user_tz": -120
    },
    "id": "YO3DfZSvNQp1",
    "outputId": "1120d0c5-4568-4082-c976-3bb7b00a603e"
   },
   "outputs": [],
   "source": [
    "grad_threshold"
   ]
  },
  {
   "cell_type": "code",
   "execution_count": null,
   "metadata": {
    "colab": {
     "base_uri": "https://localhost:8080/"
    },
    "executionInfo": {
     "elapsed": 21975,
     "status": "ok",
     "timestamp": 1626387018459,
     "user": {
      "displayName": "Nico Guth",
      "photoUrl": "https://lh3.googleusercontent.com/a-/AOh14GjLU8mQVSscNU9ysknrBUGEMxsyfpLTAsLrcDvJfg=s64",
      "userId": "08893022833457968246"
     },
     "user_tz": -120
    },
    "id": "Atk_xjCDMPL4",
    "outputId": "79fc8cb5-20c6-44a1-b49e-0ed3e856660b"
   },
   "outputs": [],
   "source": [
    "Y_pred_color, Y_pred_grad, Y_pred = predict_combined(X_test,rnd_forest,grad_threshold,return_all=True)"
   ]
  },
  {
   "cell_type": "code",
   "execution_count": null,
   "metadata": {
    "colab": {
     "base_uri": "https://localhost:8080/"
    },
    "executionInfo": {
     "elapsed": 2588,
     "status": "ok",
     "timestamp": 1626387111652,
     "user": {
      "displayName": "Nico Guth",
      "photoUrl": "https://lh3.googleusercontent.com/a-/AOh14GjLU8mQVSscNU9ysknrBUGEMxsyfpLTAsLrcDvJfg=s64",
      "userId": "08893022833457968246"
     },
     "user_tz": -120
    },
    "id": "fnanEgZ2MtmW",
    "outputId": "1f0a34af-f846-4d85-f977-c90226037708"
   },
   "outputs": [],
   "source": [
    "print(f'Test Accuracy Color: {accuracy_score(Y_test.flatten(), Y_pred_color.flatten())}')\n",
    "print(f'Test Accuracy Gradient: {accuracy_score(Y_test.flatten(), Y_pred_grad.flatten())}')\n",
    "print(f'Test Accuracy Combined: {accuracy_score(Y_test.flatten(), Y_pred.flatten())}')"
   ]
  },
  {
   "cell_type": "code",
   "execution_count": null,
   "metadata": {
    "colab": {
     "base_uri": "https://localhost:8080/",
     "height": 1000,
     "output_embedded_package_id": "1q4XPS1ytSj0htanuwPzQv4kfpcYJRQnZ"
    },
    "executionInfo": {
     "elapsed": 9733,
     "status": "ok",
     "timestamp": 1626387310062,
     "user": {
      "displayName": "Nico Guth",
      "photoUrl": "https://lh3.googleusercontent.com/a-/AOh14GjLU8mQVSscNU9ysknrBUGEMxsyfpLTAsLrcDvJfg=s64",
      "userId": "08893022833457968246"
     },
     "user_tz": -120
    },
    "id": "PEsvDsjTiduS",
    "outputId": "0c9d8eb6-848d-4ac5-8e51-6fd30ba44fc9"
   },
   "outputs": [],
   "source": [
    "sample_size = 20\n",
    "sample_idxs = np.random.randint(low=0,high=X_test.shape[0], size=sample_size)\n",
    "X = X_test[sample_idxs]\n",
    "Ys = [Y_test[sample_idxs],Y_pred_color[sample_idxs],Y_pred_grad[sample_idxs],median(Y_pred_grad[sample_idxs]),Y_pred[sample_idxs]]\n",
    "names = ['Mask','Color Based','Gradient Based','Median Gradient','Combined']\n",
    "show_images(X,Ys,names)"
   ]
  },
  {
   "cell_type": "code",
   "execution_count": null,
   "metadata": {
    "id": "hjS8oxwnlox8"
   },
   "outputs": [],
   "source": [
    "from skimage.color import rgb2gray"
   ]
  },
  {
   "cell_type": "code",
   "execution_count": null,
   "metadata": {
    "id": "besttOk0iiyX"
   },
   "outputs": [],
   "source": [
    "def predict_with_gradient(X,grad_threshold):\n",
    "  Y_grad = np.stack(np.gradient(X,axis=(1,2)))\n",
    "  Y_grad = np.linalg.norm(Y_grad,axis=0)\n",
    "  Y_grad = rgb2gray(Y_grad)\n",
    "  Y_grad = Y_grad < grad_threshold\n",
    "  return Y_grad"
   ]
  },
  {
   "cell_type": "code",
   "execution_count": null,
   "metadata": {
    "id": "14HC86x1k9Sg"
   },
   "outputs": [],
   "source": [
    "Y_grad = predict_with_gradient(X_test,0.01)\n",
    "Y_grad_flat = Y_grad.flatten()"
   ]
  },
  {
   "cell_type": "code",
   "execution_count": null,
   "metadata": {
    "colab": {
     "base_uri": "https://localhost:8080/"
    },
    "executionInfo": {
     "elapsed": 1418,
     "status": "ok",
     "timestamp": 1626376546994,
     "user": {
      "displayName": "Nico Guth",
      "photoUrl": "https://lh3.googleusercontent.com/a-/AOh14GjLU8mQVSscNU9ysknrBUGEMxsyfpLTAsLrcDvJfg=s64",
      "userId": "08893022833457968246"
     },
     "user_tz": -120
    },
    "id": "LTAsWZFPmBAn",
    "outputId": "03e1926e-8c4c-4a8e-f037-bd29edaa9660"
   },
   "outputs": [],
   "source": [
    "from sklearn.metrics import accuracy_score\n",
    "print(f'Accuracy: {accuracy_score(Y_test_flat, Y_grad_flat)}')"
   ]
  },
  {
   "cell_type": "code",
   "execution_count": null,
   "metadata": {
    "id": "6J7ExQd3mOA4"
   },
   "outputs": [],
   "source": [
    "# Combine both\n",
    "Y_both = Y_grad & (Y_pred==1)\n",
    "Y_both_flat = Y_both.flatten()"
   ]
  },
  {
   "cell_type": "code",
   "execution_count": null,
   "metadata": {
    "colab": {
     "base_uri": "https://localhost:8080/"
    },
    "executionInfo": {
     "elapsed": 1506,
     "status": "ok",
     "timestamp": 1626376660754,
     "user": {
      "displayName": "Nico Guth",
      "photoUrl": "https://lh3.googleusercontent.com/a-/AOh14GjLU8mQVSscNU9ysknrBUGEMxsyfpLTAsLrcDvJfg=s64",
      "userId": "08893022833457968246"
     },
     "user_tz": -120
    },
    "id": "yUWLYhaolnIl",
    "outputId": "5524a747-dc40-4e1c-8a6e-986bf29a7db8"
   },
   "outputs": [],
   "source": [
    "print(f'Accuracy: {accuracy_score(Y_test_flat, Y_both_flat)}')"
   ]
  },
  {
   "cell_type": "code",
   "execution_count": null,
   "metadata": {
    "colab": {
     "base_uri": "https://localhost:8080/",
     "height": 1000
    },
    "executionInfo": {
     "elapsed": 4318,
     "status": "ok",
     "timestamp": 1626377456054,
     "user": {
      "displayName": "Nico Guth",
      "photoUrl": "https://lh3.googleusercontent.com/a-/AOh14GjLU8mQVSscNU9ysknrBUGEMxsyfpLTAsLrcDvJfg=s64",
      "userId": "08893022833457968246"
     },
     "user_tz": -120
    },
    "id": "6YhMMUIcmmAi",
    "outputId": "e84286b0-90a8-4147-d15d-aba6b9217948"
   },
   "outputs": [],
   "source": [
    "sample_size = 10\n",
    "sample_idxs = np.random.randint(low=0,high=X_test.shape[0], size=sample_size)\n",
    "X = X_test[sample_idxs]\n",
    "Ys = [Y_test[sample_idxs],Y_pred[sample_idxs],Y_grad[sample_idxs],Y_both[sample_idxs]]\n",
    "names = ['Mask','Color RND Forest','Gradient Threshold','Combined with and']\n",
    "show_images(X,Ys,names)"
   ]
  },
  {
   "cell_type": "code",
   "execution_count": null,
   "metadata": {
    "id": "6doLJpDym5pd"
   },
   "outputs": [],
   "source": []
  }
 ],
 "metadata": {
  "colab": {
   "collapsed_sections": [],
   "name": "alternative_gradient_and_color_rnd_forest.ipynb",
   "provenance": [
    {
     "file_id": "1oRsA-lCQ7GP7qVycy9ph_Rq7w2e5E2ur",
     "timestamp": 1624906132931
    },
    {
     "file_id": "1zYdYA0Dsh-jRRsiQppLJEnBiBVrUJMvR",
     "timestamp": 1624892651453
    }
   ]
  },
  "kernelspec": {
   "display_name": "Python 3",
   "name": "python3"
  },
  "language_info": {
   "name": "python"
  }
 },
 "nbformat": 4,
 "nbformat_minor": 0
}
