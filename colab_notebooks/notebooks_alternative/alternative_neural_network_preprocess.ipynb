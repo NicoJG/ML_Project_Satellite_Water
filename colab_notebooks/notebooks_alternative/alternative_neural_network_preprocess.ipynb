{
 "cells": [
  {
   "cell_type": "markdown",
   "metadata": {
    "id": "TNxWORy2wGC_"
   },
   "source": [
    "# Imports\n",
    "\n",
    "removed checking if in CoLab"
   ]
  },
  {
   "cell_type": "code",
   "execution_count": null,
   "metadata": {
    "id": "OKxRRUUDSi0c"
   },
   "outputs": [],
   "source": [
    "#imports\n",
    "from platform import python_version\n",
    "\n",
    "#basic python stuff\n",
    "import os\n",
    "import json\n",
    "from pathlib import Path\n",
    "\n",
    "#basics from the SciPy Stack\n",
    "import numpy as np\n",
    "import pandas as pd\n",
    "import matplotlib.pyplot as plt\n",
    "\n",
    "#colab stuff\n",
    "from google.colab import drive\n",
    "\n",
    "#data managing\n",
    "from sklearn.model_selection import train_test_split\n",
    "from skimage import io #read in images\n",
    "from skimage.transform import resize\n",
    "\n",
    "#model\n",
    "%tensorflow_version 2.x\n",
    "import tensorflow as tf\n",
    "from tensorflow.keras import layers, callbacks\n",
    "from keras.optimizers import Adam\n",
    "\n",
    "#progress bar\n",
    "from tqdm.notebook import tqdm"
   ]
  },
  {
   "cell_type": "code",
   "execution_count": null,
   "metadata": {
    "colab": {
     "base_uri": "https://localhost:8080/"
    },
    "executionInfo": {
     "elapsed": 11,
     "status": "ok",
     "timestamp": 1626440891575,
     "user": {
      "displayName": "Nico Guth",
      "photoUrl": "https://lh3.googleusercontent.com/a-/AOh14GjLU8mQVSscNU9ysknrBUGEMxsyfpLTAsLrcDvJfg=s64",
      "userId": "08893022833457968246"
     },
     "user_tz": -120
    },
    "id": "Wv1EjuBK0mUw",
    "outputId": "dbc57c3c-62e7-4a2c-f1d3-21029725e7a2"
   },
   "outputs": [],
   "source": [
    "# settings\n",
    "\n",
    "# implements progress_apply into pandas\n",
    "tqdm.pandas(desc='Pandas_Progress')"
   ]
  },
  {
   "cell_type": "code",
   "execution_count": null,
   "metadata": {
    "colab": {
     "base_uri": "https://localhost:8080/"
    },
    "executionInfo": {
     "elapsed": 9,
     "status": "ok",
     "timestamp": 1626440891575,
     "user": {
      "displayName": "Nico Guth",
      "photoUrl": "https://lh3.googleusercontent.com/a-/AOh14GjLU8mQVSscNU9ysknrBUGEMxsyfpLTAsLrcDvJfg=s64",
      "userId": "08893022833457968246"
     },
     "user_tz": -120
    },
    "id": "i1byH6kBzF18",
    "outputId": "efa4aa95-4587-483b-f7c3-e7bf592b1a51"
   },
   "outputs": [],
   "source": [
    "print(\"Tensorflow version\", tf.__version__)\n",
    "print(\"Python version =\",python_version())"
   ]
  },
  {
   "cell_type": "code",
   "execution_count": null,
   "metadata": {
    "colab": {
     "base_uri": "https://localhost:8080/"
    },
    "executionInfo": {
     "elapsed": 7,
     "status": "ok",
     "timestamp": 1626440891575,
     "user": {
      "displayName": "Nico Guth",
      "photoUrl": "https://lh3.googleusercontent.com/a-/AOh14GjLU8mQVSscNU9ysknrBUGEMxsyfpLTAsLrcDvJfg=s64",
      "userId": "08893022833457968246"
     },
     "user_tz": -120
    },
    "id": "GWgVWLihTLc4",
    "outputId": "703011b2-48fe-43ae-a08e-eab72bbd4985"
   },
   "outputs": [],
   "source": [
    "# get access to google drive\n",
    "drive.mount('/content/drive')"
   ]
  },
  {
   "cell_type": "code",
   "execution_count": null,
   "metadata": {
    "id": "roMsZPbKJhsn"
   },
   "outputs": [],
   "source": [
    "# import local python files\n",
    "import importlib.util\n",
    "\n",
    "# https://github.com/maxvfischer/keras-image-segmentation-loss-functions\n",
    "spec = importlib.util.spec_from_file_location(\"binary_losses\", \"/content/drive/MyDrive/ML_Project_Satellite_Images/binary_losses.py\")\n",
    "binary_losses = importlib.util.module_from_spec(spec)\n",
    "spec.loader.exec_module(binary_losses)"
   ]
  },
  {
   "cell_type": "markdown",
   "metadata": {
    "id": "oDGi9wQOCa7T"
   },
   "source": [
    "# Hyperparameters"
   ]
  },
  {
   "cell_type": "code",
   "execution_count": null,
   "metadata": {
    "id": "GccgY-HLCfPP"
   },
   "outputs": [],
   "source": [
    "# training parameters\n",
    "sample_size = 5000\n",
    "batch_size = 128\n",
    "epochs = 20\n",
    "test_size = 0.3\n",
    "val_size = 0.3\n",
    "\n",
    "random_state = 42\n",
    "\n",
    "# image preprocessing\n",
    "img_size = 128\n",
    "anti_aliasing = True\n",
    "resize_method = tf.image.ResizeMethod.BILINEAR\n",
    "mask_threshold = 0.5\n",
    "\n",
    "# model parameters\n",
    "params = {\n",
    "    'learning_rate' : 0.01,\n",
    "    'loss' : 'binary_crossentropy',\n",
    "    'metrics' : ['accuracy']\n",
    "  }\n",
    "\n",
    "# for model saving\n",
    "model_name = 'alternative_neural_network'"
   ]
  },
  {
   "cell_type": "markdown",
   "metadata": {
    "id": "o7ZezlpHwPVV"
   },
   "source": [
    "# Retrieve the Dataset"
   ]
  },
  {
   "cell_type": "code",
   "execution_count": null,
   "metadata": {
    "id": "xstIW12OVWmg"
   },
   "outputs": [],
   "source": [
    "# unzip the dataset\n",
    "!unzip -n -q /content/drive/MyDrive/ML_Project_Satellite_Images/data/current_dataset.zip -d /content/"
   ]
  },
  {
   "cell_type": "code",
   "execution_count": null,
   "metadata": {
    "colab": {
     "base_uri": "https://localhost:8080/",
     "height": 455
    },
    "executionInfo": {
     "elapsed": 13,
     "status": "ok",
     "timestamp": 1626440895903,
     "user": {
      "displayName": "Nico Guth",
      "photoUrl": "https://lh3.googleusercontent.com/a-/AOh14GjLU8mQVSscNU9ysknrBUGEMxsyfpLTAsLrcDvJfg=s64",
      "userId": "08893022833457968246"
     },
     "user_tz": -120
    },
    "id": "6RZbQx-RrVAv",
    "outputId": "78d4860b-7cb3-4918-87df-41a890bb808b"
   },
   "outputs": [],
   "source": [
    "# read in samples.csv with information about the images (only a sample)\n",
    "samples_df = pd.read_csv('/content/dataset/samples.csv').sample(sample_size, random_state=random_state)\n",
    "samples_df.set_index('id', inplace=True)\n",
    "samples_df"
   ]
  },
  {
   "cell_type": "code",
   "execution_count": null,
   "metadata": {
    "id": "w0vVHx7OtNXx"
   },
   "outputs": [],
   "source": [
    "# paths to the sat/mask folder\n",
    "path_sat_folder = '/content/dataset/images/satellite/'\n",
    "path_mask_folder = '/content/dataset/images/mask/'"
   ]
  },
  {
   "cell_type": "code",
   "execution_count": null,
   "metadata": {
    "id": "GwCoDvQGtsy8"
   },
   "outputs": [],
   "source": [
    "# append absoulute paths of the images to the dataframe\n",
    "samples_df['abs_satellite_path'] = samples_df['satellite_file'].apply(lambda x: path_sat_folder+x)\n",
    "samples_df['abs_mask_path'] = samples_df['mask_file'].apply(lambda x: path_mask_folder+x)"
   ]
  },
  {
   "cell_type": "markdown",
   "metadata": {
    "id": "fv8SmeWtqiQ2"
   },
   "source": [
    "# Prepare the tf.data.Dataset\n",
    "\n",
    "- https://towardsdatascience.com/what-is-the-best-input-pipeline-to-train-image-classification-models-with-tf-keras-eb3fe26d3cc5  \n",
    "- https://www.tensorflow.org/guide/data_performance\n"
   ]
  },
  {
   "cell_type": "code",
   "execution_count": null,
   "metadata": {
    "id": "BmEptTJVTT3U"
   },
   "outputs": [],
   "source": [
    "def parse_satellite_image(file_path):\n",
    "  img = tf.io.read_file(file_path)\n",
    "  img = tf.io.decode_jpeg(img, channels=3)\n",
    "  img = tf.image.resize(img, [img_size, img_size], method=resize_method, antialias=anti_aliasing)\n",
    "  img = img / 255.\n",
    "  return img"
   ]
  },
  {
   "cell_type": "code",
   "execution_count": null,
   "metadata": {
    "id": "z0z76nHyV-h6"
   },
   "outputs": [],
   "source": [
    "def parse_mask_image(file_path):\n",
    "  img = tf.io.read_file(file_path)\n",
    "  img = tf.io.decode_png(img, channels=4)\n",
    "  img = tf.image.resize(img, [img_size, img_size], method=resize_method, antialias=anti_aliasing)\n",
    "  img = img[:,:,2]\n",
    "  img = img / 255.\n",
    "  mask = tf.greater(img,mask_threshold)\n",
    "  img = tf.where(mask, 1, 0)\n",
    "  return img"
   ]
  },
  {
   "cell_type": "code",
   "execution_count": null,
   "metadata": {
    "id": "l8Q946JGL1y0"
   },
   "outputs": [],
   "source": [
    "def extract_features(inputs):\n",
    "  # gray image\n",
    "  inputs_gray = tf.image.rgb_to_grayscale(inputs)\n",
    "  # gradient\n",
    "  dy, dx = tf.image.image_gradients(inputs)\n",
    "  grad = tf.stack([dx,dy],axis=-1)\n",
    "  grad = tf.norm(grad, axis=-1)\n",
    "  grad = grad * 2\n",
    "  # gray gradient\n",
    "  grad_gray = tf.image.rgb_to_grayscale(grad)\n",
    "  # combine all\n",
    "  all_features = tf.concat([inputs,inputs_gray,grad,grad_gray],axis=-1)\n",
    "  return all_features"
   ]
  },
  {
   "cell_type": "code",
   "execution_count": null,
   "metadata": {
    "id": "JccSkAv2O4ZD"
   },
   "outputs": [],
   "source": [
    "def get_prepared_features(file_path):\n",
    "  img = parse_satellite_image(file_path)\n",
    "  img = tf.reshape(img,(1,img_size,img_size,3))\n",
    "  features = extract_features(img)\n",
    "  print(features.shape)\n",
    "  features_flat = tf.reshape(features,(-1,features.shape[-1]))\n",
    "  print(features_flat.shape)\n",
    "  return features_flat"
   ]
  },
  {
   "cell_type": "code",
   "execution_count": null,
   "metadata": {
    "id": "sRy8Gd2QSk7m"
   },
   "outputs": [],
   "source": [
    "def get_prepared_target(file_path):\n",
    "  img = parse_mask_image(file_path)\n",
    "  target_flat = tf.reshape(img,(-1,))\n",
    "  return target_flat"
   ]
  },
  {
   "cell_type": "code",
   "execution_count": null,
   "metadata": {
    "id": "ffGY_NKeXrI9"
   },
   "outputs": [],
   "source": [
    "def make_dataset(samples_df, batch_size):\n",
    "  # paths as Dataset\n",
    "  satellite_paths_ds = tf.data.Dataset.from_tensor_slices(samples_df['abs_satellite_path'])\n",
    "  mask_paths_ds = tf.data.Dataset.from_tensor_slices(samples_df['abs_mask_path'])\n",
    "  # images as Dataset\n",
    "  #satellite_ds = satellite_paths_ds.map(parse_satellite_image, num_parallel_calls=tf.data.experimental.AUTOTUNE)\n",
    "  #mask_ds = mask_paths_ds.map(parse_mask_image, num_parallel_calls=tf.data.experimental.AUTOTUNE)\n",
    "  # preprocess the Data\n",
    "  features_ds = satellite_paths_ds.map(get_prepared_features, num_parallel_calls=tf.data.experimental.AUTOTUNE)\n",
    "  target_ds = mask_paths_ds.map(get_prepared_target, num_parallel_calls=tf.data.experimental.AUTOTUNE)\n",
    "  # make pixels the samples\n",
    "  features_ds = features_ds.unbatch()\n",
    "  target_ds = target_ds.unbatch()\n",
    "  # combine inputs and targets https://www.tensorflow.org/api_docs/python/tf/keras/Model#fit\n",
    "  ds = tf.data.Dataset.zip((features_ds, target_ds))\n",
    "  # configure the Dataset for better performance\n",
    "  ds = ds.batch(batch_size*img_size**2)\n",
    "  ds = ds.prefetch(buffer_size=tf.data.experimental.AUTOTUNE)\n",
    "  ds = ds.cache()\n",
    "\n",
    "  return ds"
   ]
  },
  {
   "cell_type": "markdown",
   "metadata": {
    "id": "Ae-6QacDmL6l"
   },
   "source": [
    "# Split Training, Validation and Test Data"
   ]
  },
  {
   "cell_type": "code",
   "execution_count": null,
   "metadata": {
    "id": "ERuYIwP4mI0l"
   },
   "outputs": [],
   "source": [
    "# split in (train+val) and test\n",
    "samples_df_train_val, samples_df_test = train_test_split(samples_df, test_size=test_size, random_state=random_state)\n",
    "# split (train+val)\n",
    "samples_df_train, samples_df_val = train_test_split(samples_df_train_val, test_size=val_size, random_state=random_state)"
   ]
  },
  {
   "cell_type": "code",
   "execution_count": null,
   "metadata": {
    "colab": {
     "base_uri": "https://localhost:8080/"
    },
    "executionInfo": {
     "elapsed": 563,
     "status": "ok",
     "timestamp": 1626440896459,
     "user": {
      "displayName": "Nico Guth",
      "photoUrl": "https://lh3.googleusercontent.com/a-/AOh14GjLU8mQVSscNU9ysknrBUGEMxsyfpLTAsLrcDvJfg=s64",
      "userId": "08893022833457968246"
     },
     "user_tz": -120
    },
    "id": "yyanaMyJGa1W",
    "outputId": "b8cc0de9-de5c-484d-c95a-093e450a367c"
   },
   "outputs": [],
   "source": [
    "print('Training Shape: ',samples_df_train.shape)\n",
    "print('Validation Shape: ',samples_df_val.shape)\n",
    "print('Test Shape: ',samples_df_test.shape)"
   ]
  },
  {
   "cell_type": "code",
   "execution_count": null,
   "metadata": {
    "colab": {
     "base_uri": "https://localhost:8080/"
    },
    "executionInfo": {
     "elapsed": 474,
     "status": "ok",
     "timestamp": 1626440897445,
     "user": {
      "displayName": "Nico Guth",
      "photoUrl": "https://lh3.googleusercontent.com/a-/AOh14GjLU8mQVSscNU9ysknrBUGEMxsyfpLTAsLrcDvJfg=s64",
      "userId": "08893022833457968246"
     },
     "user_tz": -120
    },
    "id": "AIhdpVLAmuxk",
    "outputId": "d9c39275-919e-471e-92a3-d9edc95909f1"
   },
   "outputs": [],
   "source": [
    "train_ds = make_dataset(samples_df_train, batch_size)\n",
    "val_ds = make_dataset(samples_df_val, batch_size)\n",
    "test_ds = make_dataset(samples_df_test, batch_size)"
   ]
  },
  {
   "cell_type": "markdown",
   "metadata": {
    "id": "aguM7To-ECgC"
   },
   "source": [
    "# Test Feature Extraction"
   ]
  },
  {
   "cell_type": "code",
   "execution_count": null,
   "metadata": {
    "id": "gqXfPzVIiTBp"
   },
   "outputs": [],
   "source": [
    "def show_images(X,Ys,names,fig_height=4):\n",
    "  'Plots X and multiple Y'\n",
    "  if not isinstance(Ys,list):\n",
    "    Ys = [Ys]\n",
    "  if not isinstance(names,list):\n",
    "    names = [names]\n",
    "  cols = 1 + len(Ys)\n",
    "  for i in range(X.shape[0]):\n",
    "    fig,axs = plt.subplots(1,cols,figsize=(fig_height*cols,fig_height))\n",
    "    axs[0].axis('off')\n",
    "    axs[0].imshow(X[i])\n",
    "    axs[0].set_title('Satellite')\n",
    "    for j,(Y,name) in enumerate(zip(Ys,names)):\n",
    "      axs[j+1].axis('off')\n",
    "      axs[j+1].imshow(Y[i])\n",
    "      axs[j+1].set_title(name)\n",
    "    plt.show()"
   ]
  },
  {
   "cell_type": "code",
   "execution_count": null,
   "metadata": {
    "colab": {
     "base_uri": "https://localhost:8080/"
    },
    "executionInfo": {
     "elapsed": 7734,
     "status": "ok",
     "timestamp": 1626440905177,
     "user": {
      "displayName": "Nico Guth",
      "photoUrl": "https://lh3.googleusercontent.com/a-/AOh14GjLU8mQVSscNU9ysknrBUGEMxsyfpLTAsLrcDvJfg=s64",
      "userId": "08893022833457968246"
     },
     "user_tz": -120
    },
    "id": "fk7LijSLTk1s",
    "outputId": "fce6ba37-45fe-4373-8a4a-df68ba037b12"
   },
   "outputs": [],
   "source": [
    "X_flat = list(train_ds.take(1))[0][0]\n",
    "Y_flat = list(train_ds.take(1))[0][1]\n",
    "X_flat.shape, Y_flat.shape"
   ]
  },
  {
   "cell_type": "code",
   "execution_count": null,
   "metadata": {
    "id": "JBBDDC0hVrAw"
   },
   "outputs": [],
   "source": [
    "X_features = tf.reshape(X_flat,(-1,img_size,img_size,X_flat.shape[-1]))[:5]"
   ]
  },
  {
   "cell_type": "code",
   "execution_count": null,
   "metadata": {
    "colab": {
     "base_uri": "https://localhost:8080/"
    },
    "executionInfo": {
     "elapsed": 6,
     "status": "ok",
     "timestamp": 1626440905177,
     "user": {
      "displayName": "Nico Guth",
      "photoUrl": "https://lh3.googleusercontent.com/a-/AOh14GjLU8mQVSscNU9ysknrBUGEMxsyfpLTAsLrcDvJfg=s64",
      "userId": "08893022833457968246"
     },
     "user_tz": -120
    },
    "id": "pJa6xGOOkooj",
    "outputId": "6e12692d-3946-440b-badc-a8c2afd80f7f"
   },
   "outputs": [],
   "source": [
    "tf.math.reduce_max(X_features,axis=(0,1,2))"
   ]
  },
  {
   "cell_type": "code",
   "execution_count": null,
   "metadata": {
    "colab": {
     "base_uri": "https://localhost:8080/"
    },
    "executionInfo": {
     "elapsed": 6,
     "status": "ok",
     "timestamp": 1626440905178,
     "user": {
      "displayName": "Nico Guth",
      "photoUrl": "https://lh3.googleusercontent.com/a-/AOh14GjLU8mQVSscNU9ysknrBUGEMxsyfpLTAsLrcDvJfg=s64",
      "userId": "08893022833457968246"
     },
     "user_tz": -120
    },
    "id": "MKPm4nIfjAWI",
    "outputId": "2d2c5348-bcf5-47ca-fc56-776bc1142537"
   },
   "outputs": [],
   "source": [
    "X_satellite = X_features[...,0:3]\n",
    "X_satellite_gray = X_features[...,3]\n",
    "X_grad = X_features[...,4:7]\n",
    "X_grad_gray = X_features[...,7]\n",
    "X_satellite.shape, X_satellite_gray.shape, X_grad.shape, X_grad_gray.shape"
   ]
  },
  {
   "cell_type": "code",
   "execution_count": null,
   "metadata": {
    "colab": {
     "base_uri": "https://localhost:8080/",
     "height": 1000
    },
    "executionInfo": {
     "elapsed": 7455,
     "status": "ok",
     "timestamp": 1626440912629,
     "user": {
      "displayName": "Nico Guth",
      "photoUrl": "https://lh3.googleusercontent.com/a-/AOh14GjLU8mQVSscNU9ysknrBUGEMxsyfpLTAsLrcDvJfg=s64",
      "userId": "08893022833457968246"
     },
     "user_tz": -120
    },
    "id": "exRTEzRZjhK9",
    "outputId": "12691f14-bd7c-4af6-cd3d-0183d106b985"
   },
   "outputs": [],
   "source": [
    "X = X_satellite\n",
    "Ys = [X_satellite_gray,X_grad,X_grad_gray]\n",
    "names = ['Satellite Gray','Gradient','Gradient Gray']\n",
    "show_images(X,Ys,names)"
   ]
  },
  {
   "cell_type": "markdown",
   "metadata": {
    "id": "NSZQ004uE5qj"
   },
   "source": [
    "## Build alternative model\n"
   ]
  },
  {
   "cell_type": "code",
   "execution_count": null,
   "metadata": {
    "id": "ieSlG-SWeCdR"
   },
   "outputs": [],
   "source": [
    "def build_model(params):\n",
    "  inputs = layers.Input((8,))\n",
    "\n",
    "  # Neural Network\n",
    "  last = layers.Dense(256, activation='relu')(inputs)\n",
    "  last = layers.Dense(256, activation='relu')(last)\n",
    "  outputs = layers.Dense(1, activation='sigmoid')(last)\n",
    "  \n",
    "  model = tf.keras.Model(inputs=[inputs], outputs=[outputs])\n",
    "  optimizer = Adam(learning_rate=params['learning_rate'])\n",
    "  model.compile(optimizer=optimizer, loss=params['loss'], metrics=params['metrics'])\n",
    "  \n",
    "  return model"
   ]
  },
  {
   "cell_type": "code",
   "execution_count": null,
   "metadata": {
    "colab": {
     "base_uri": "https://localhost:8080/"
    },
    "executionInfo": {
     "elapsed": 8,
     "status": "ok",
     "timestamp": 1626440912630,
     "user": {
      "displayName": "Nico Guth",
      "photoUrl": "https://lh3.googleusercontent.com/a-/AOh14GjLU8mQVSscNU9ysknrBUGEMxsyfpLTAsLrcDvJfg=s64",
      "userId": "08893022833457968246"
     },
     "user_tz": -120
    },
    "id": "ckN1mKO-0Pwl",
    "outputId": "fd8a2de1-870a-4965-b936-7a934ec00f5c"
   },
   "outputs": [],
   "source": [
    "model = build_model(params)\n",
    "model.summary()"
   ]
  },
  {
   "cell_type": "code",
   "execution_count": null,
   "metadata": {
    "colab": {
     "base_uri": "https://localhost:8080/"
    },
    "executionInfo": {
     "elapsed": 714711,
     "status": "ok",
     "timestamp": 1626441627335,
     "user": {
      "displayName": "Nico Guth",
      "photoUrl": "https://lh3.googleusercontent.com/a-/AOh14GjLU8mQVSscNU9ysknrBUGEMxsyfpLTAsLrcDvJfg=s64",
      "userId": "08893022833457968246"
     },
     "user_tz": -120
    },
    "id": "iPWL5PgHS-VJ",
    "outputId": "74e045f2-06c1-46ea-d0ce-25dc625f75a6"
   },
   "outputs": [],
   "source": [
    "results = model.fit(train_ds, validation_data=val_ds, batch_size=batch_size*img_size**2, epochs=epochs)"
   ]
  },
  {
   "cell_type": "code",
   "execution_count": null,
   "metadata": {
    "id": "cAlwJUAW0S5A"
   },
   "outputs": [],
   "source": [
    "def plot_history(network_history,figsize=(8,5)):\n",
    "  history_keys = [key for key in network_history.history.keys() if not key.startswith('val_')]\n",
    "  for key in history_keys:\n",
    "    plt.figure(figsize=figsize)\n",
    "    plt.plot(network_history.history[key])\n",
    "    plt.plot(network_history.history[f'val_{key}'])\n",
    "    plt.title(f'model {key}')\n",
    "    plt.ylabel(key)\n",
    "    plt.xlabel('epoch')\n",
    "    plt.legend(['training', 'validation'], loc='upper right')\n",
    "    plt.tight_layout()\n",
    "    plt.show()"
   ]
  },
  {
   "cell_type": "code",
   "execution_count": null,
   "metadata": {
    "colab": {
     "base_uri": "https://localhost:8080/",
     "height": 721
    },
    "executionInfo": {
     "elapsed": 785,
     "status": "ok",
     "timestamp": 1626441628114,
     "user": {
      "displayName": "Nico Guth",
      "photoUrl": "https://lh3.googleusercontent.com/a-/AOh14GjLU8mQVSscNU9ysknrBUGEMxsyfpLTAsLrcDvJfg=s64",
      "userId": "08893022833457968246"
     },
     "user_tz": -120
    },
    "id": "N6KrdeXe0cSQ",
    "outputId": "128b848b-8a79-415a-ea9a-97acfdf9604a"
   },
   "outputs": [],
   "source": [
    "plot_history(results)"
   ]
  },
  {
   "cell_type": "markdown",
   "metadata": {
    "id": "BlObRHK8PPtV"
   },
   "source": [
    "# Functions for Evaluation"
   ]
  },
  {
   "cell_type": "code",
   "execution_count": null,
   "metadata": {
    "id": "l3QE5z_tVeYp"
   },
   "outputs": [],
   "source": [
    "# function for image reading\n",
    "def read_satellite_img(filepath):\n",
    "  img = io.imread(filepath)\n",
    "  img = resize(img, output_shape=(img_size,img_size), anti_aliasing=anti_aliasing, preserve_range=True)\n",
    "  img = img / 255.\n",
    "  return img\n",
    "\n",
    "def read_mask_img(filepath):\n",
    "  img = io.imread(filepath)\n",
    "  if len(img.shape) > 2:\n",
    "    img = img[:,:,2]\n",
    "  img = resize(img, output_shape=(img_size,img_size), anti_aliasing=anti_aliasing, preserve_range=True)\n",
    "  img = img / 255.\n",
    "  mask = img > mask_threshold\n",
    "  img[mask] = 1\n",
    "  img[~mask] = 0\n",
    "  return img"
   ]
  },
  {
   "cell_type": "code",
   "execution_count": null,
   "metadata": {
    "id": "Q4aSl02hWCTO"
   },
   "outputs": [],
   "source": [
    "# function to load a batch of images\n",
    "def load_img_batch(samples_df,ids):\n",
    "  satellite_imgs = samples_df.loc[ids,'abs_satellite_path'].progress_apply(read_satellite_img)\n",
    "  mask_imgs = samples_df.loc[ids,'abs_mask_path'].progress_apply(read_mask_img)\n",
    "\n",
    "  satellite_imgs = np.stack(satellite_imgs.to_numpy())\n",
    "  mask_imgs = np.stack(mask_imgs.to_numpy())\n",
    "\n",
    "  return satellite_imgs, mask_imgs"
   ]
  },
  {
   "cell_type": "code",
   "execution_count": null,
   "metadata": {
    "id": "V2snuWtZXmFX"
   },
   "outputs": [],
   "source": [
    "def preprocess_data(X,Y):\n",
    "  Y_flat = Y.flatten()\n",
    "  X = tf.convert_to_tensor(X)\n",
    "  X_features = extract_features(X)\n",
    "  X_features = X_features.numpy()\n",
    "  X_flat = X_features.reshape(-1,X_features.shape[-1])\n",
    "  return X_flat, Y_flat"
   ]
  },
  {
   "cell_type": "code",
   "execution_count": null,
   "metadata": {
    "id": "0kTxlAjepqyX"
   },
   "outputs": [],
   "source": [
    "# function to show some samples (with or without the predictions)\n",
    "def show_sample(X, Y, samples_df, ids, Y_pred=None, threshold=None, sample_size=10, fig_height=4):\n",
    "  rnd_sample_indices = np.random.random_integers(low=0,high=X.shape[0]-1,size=sample_size)\n",
    "  cols = 2 if Y_pred is None else 3\n",
    "  if Y_pred is None:\n",
    "    cols = 2\n",
    "  elif threshold is not None:\n",
    "    cols = 4\n",
    "  else:\n",
    "    cols = 3\n",
    "\n",
    "  for i in rnd_sample_indices:\n",
    "    fig, axs = plt.subplots(1,cols, figsize=(fig_height*cols,fig_height))\n",
    "    axs[0].set_title(f'Country: {samples_df.loc[ids[i],\"country\"]}')\n",
    "    axs[0].imshow(X[i])\n",
    "    axs[1].set_title('Given Mask')\n",
    "    axs[1].imshow(Y[i])\n",
    "    if Y_pred is not None:\n",
    "      axs[2].set_title('Prediction')\n",
    "      axs[2].imshow(Y_pred[i])\n",
    "      if threshold is not None:\n",
    "        Y_pred_mask = Y_pred[i] >= threshold\n",
    "        Y_pred[i,Y_pred_mask] = 1\n",
    "        Y_pred[i,~Y_pred_mask] = 0\n",
    "        axs[3].set_title(f'Prediction with threshold = {threshold}')\n",
    "        axs[3].imshow(Y_pred[i])\n",
    "\n",
    "    for ax in axs:\n",
    "      ax.set_xticks([])\n",
    "      ax.set_yticks([])\n",
    "    fig.tight_layout()"
   ]
  },
  {
   "cell_type": "markdown",
   "metadata": {
    "id": "9_Dxc8YaNHaq"
   },
   "source": [
    "# Evaluate Training"
   ]
  },
  {
   "cell_type": "code",
   "execution_count": null,
   "metadata": {
    "colab": {
     "base_uri": "https://localhost:8080/",
     "height": 118,
     "referenced_widgets": [
      "9f4d8b75f8c14ffba8e63987c1064e7b",
      "f8e5d2d7cc334c7f90c23f54b984b73d",
      "f2d34cb428584e55bcd1478240c90054",
      "6fa3408a51fb43f8898542c21ef12a93",
      "1dd409c64b2d4839a7f221bc8b73b5db",
      "01f2a8dee8e141f9865d3bb1f6092ba4",
      "8043efe47af045478df354a41948e3c9",
      "78619e2a1cac4e298c7259d7cf493023",
      "bc68ad0dcba4423686e81cb5b2fabad5",
      "22c9cc4b569d424085e46a0db302dd1b",
      "279e8f55c12f439c986257e2fe3073b2",
      "122ab63183e04073a65e461af4f9defc",
      "cbf7921f173c44128da5b017cf96587d",
      "2c1133a2d8c1433ca867ec80e6490149",
      "bd4504df6f374b39a0ba0b93207bc06c",
      "aed9e38abcc34d0cab4b86f21c0f8aa0"
     ]
    },
    "executionInfo": {
     "elapsed": 2225,
     "status": "ok",
     "timestamp": 1626441630332,
     "user": {
      "displayName": "Nico Guth",
      "photoUrl": "https://lh3.googleusercontent.com/a-/AOh14GjLU8mQVSscNU9ysknrBUGEMxsyfpLTAsLrcDvJfg=s64",
      "userId": "08893022833457968246"
     },
     "user_tz": -120
    },
    "id": "-cW2k92MPYqm",
    "outputId": "3b69a248-9d47-4c99-d257-4124d6d06493"
   },
   "outputs": [],
   "source": [
    "X_train, Y_train = load_img_batch(samples_df,samples_df_train.index[:100])"
   ]
  },
  {
   "cell_type": "code",
   "execution_count": null,
   "metadata": {
    "colab": {
     "base_uri": "https://localhost:8080/"
    },
    "executionInfo": {
     "elapsed": 5,
     "status": "ok",
     "timestamp": 1626441630333,
     "user": {
      "displayName": "Nico Guth",
      "photoUrl": "https://lh3.googleusercontent.com/a-/AOh14GjLU8mQVSscNU9ysknrBUGEMxsyfpLTAsLrcDvJfg=s64",
      "userId": "08893022833457968246"
     },
     "user_tz": -120
    },
    "id": "PucxQ6mMQKxF",
    "outputId": "9c46c00e-c57f-4598-ce06-f6670a7a35e6"
   },
   "outputs": [],
   "source": [
    "X_train.shape, Y_train.shape"
   ]
  },
  {
   "cell_type": "code",
   "execution_count": null,
   "metadata": {
    "colab": {
     "base_uri": "https://localhost:8080/"
    },
    "executionInfo": {
     "elapsed": 491,
     "status": "ok",
     "timestamp": 1626441630821,
     "user": {
      "displayName": "Nico Guth",
      "photoUrl": "https://lh3.googleusercontent.com/a-/AOh14GjLU8mQVSscNU9ysknrBUGEMxsyfpLTAsLrcDvJfg=s64",
      "userId": "08893022833457968246"
     },
     "user_tz": -120
    },
    "id": "bFiam3naYS_7",
    "outputId": "2b00e3ef-0f1e-4cb0-fa3e-b5667ebb4025"
   },
   "outputs": [],
   "source": [
    "X_flat, Y_flat = preprocess_data(X_train,Y_train)\n",
    "X_flat.shape, Y_flat.shape"
   ]
  },
  {
   "cell_type": "code",
   "execution_count": null,
   "metadata": {
    "colab": {
     "base_uri": "https://localhost:8080/"
    },
    "executionInfo": {
     "elapsed": 58879,
     "status": "ok",
     "timestamp": 1626441689695,
     "user": {
      "displayName": "Nico Guth",
      "photoUrl": "https://lh3.googleusercontent.com/a-/AOh14GjLU8mQVSscNU9ysknrBUGEMxsyfpLTAsLrcDvJfg=s64",
      "userId": "08893022833457968246"
     },
     "user_tz": -120
    },
    "id": "9DLtYwvWNGha",
    "outputId": "4099aee0-e819-440b-9f66-7a65802969cd"
   },
   "outputs": [],
   "source": [
    "Y_pred_flat = model.predict(X_flat,verbose=True)"
   ]
  },
  {
   "cell_type": "code",
   "execution_count": null,
   "metadata": {
    "colab": {
     "base_uri": "https://localhost:8080/"
    },
    "executionInfo": {
     "elapsed": 8,
     "status": "ok",
     "timestamp": 1626441689696,
     "user": {
      "displayName": "Nico Guth",
      "photoUrl": "https://lh3.googleusercontent.com/a-/AOh14GjLU8mQVSscNU9ysknrBUGEMxsyfpLTAsLrcDvJfg=s64",
      "userId": "08893022833457968246"
     },
     "user_tz": -120
    },
    "id": "dtpsgDxENhGh",
    "outputId": "52f819af-6f60-4ecc-f8df-182be595d1eb"
   },
   "outputs": [],
   "source": [
    "type(Y_pred_flat),Y_pred_flat.shape"
   ]
  },
  {
   "cell_type": "code",
   "execution_count": null,
   "metadata": {
    "colab": {
     "base_uri": "https://localhost:8080/"
    },
    "executionInfo": {
     "elapsed": 6,
     "status": "ok",
     "timestamp": 1626441689696,
     "user": {
      "displayName": "Nico Guth",
      "photoUrl": "https://lh3.googleusercontent.com/a-/AOh14GjLU8mQVSscNU9ysknrBUGEMxsyfpLTAsLrcDvJfg=s64",
      "userId": "08893022833457968246"
     },
     "user_tz": -120
    },
    "id": "dIa0EttWZ19U",
    "outputId": "a951131e-cee3-40d9-b7e6-eae8512c15cc"
   },
   "outputs": [],
   "source": [
    "Y_pred = Y_pred_flat.reshape(-1,img_size,img_size)\n",
    "Y_pred.shape"
   ]
  },
  {
   "cell_type": "code",
   "execution_count": null,
   "metadata": {
    "colab": {
     "base_uri": "https://localhost:8080/"
    },
    "executionInfo": {
     "elapsed": 4,
     "status": "ok",
     "timestamp": 1626441689696,
     "user": {
      "displayName": "Nico Guth",
      "photoUrl": "https://lh3.googleusercontent.com/a-/AOh14GjLU8mQVSscNU9ysknrBUGEMxsyfpLTAsLrcDvJfg=s64",
      "userId": "08893022833457968246"
     },
     "user_tz": -120
    },
    "id": "g8LuLvLcQpZ_",
    "outputId": "01850ef9-ab9f-445f-c76a-5599552b83fa"
   },
   "outputs": [],
   "source": [
    "np.unique(Y_pred)"
   ]
  },
  {
   "cell_type": "code",
   "execution_count": null,
   "metadata": {
    "colab": {
     "base_uri": "https://localhost:8080/",
     "height": 268
    },
    "executionInfo": {
     "elapsed": 496,
     "status": "ok",
     "timestamp": 1626441690188,
     "user": {
      "displayName": "Nico Guth",
      "photoUrl": "https://lh3.googleusercontent.com/a-/AOh14GjLU8mQVSscNU9ysknrBUGEMxsyfpLTAsLrcDvJfg=s64",
      "userId": "08893022833457968246"
     },
     "user_tz": -120
    },
    "id": "0gH0n_ocRM6b",
    "outputId": "0ce808e0-6fc0-43fb-c5dd-7ea11930b399"
   },
   "outputs": [],
   "source": [
    "plt.hist(Y_pred[Y_train == 1].flatten(),histtype='step',bins=30,label='Water')\n",
    "plt.hist(Y_pred[Y_train == 0].flatten(),histtype='step',bins=30,label='No Water')\n",
    "plt.legend();"
   ]
  },
  {
   "cell_type": "code",
   "execution_count": null,
   "metadata": {
    "colab": {
     "background_save": true,
     "base_uri": "https://localhost:8080/",
     "height": 1000,
     "output_embedded_package_id": "1nTRQWAEaJH69Mviy92cc-W9Rr__NH6mu"
    },
    "executionInfo": {
     "elapsed": 35250,
     "status": "ok",
     "timestamp": 1626441744408,
     "user": {
      "displayName": "Nico Guth",
      "photoUrl": "https://lh3.googleusercontent.com/a-/AOh14GjLU8mQVSscNU9ysknrBUGEMxsyfpLTAsLrcDvJfg=s64",
      "userId": "08893022833457968246"
     },
     "user_tz": -120
    },
    "id": "YpOkrHG5QP5K",
    "outputId": "8159dab7-eeca-421e-baee-e84fc22e1b75"
   },
   "outputs": [],
   "source": [
    "show_sample(X_train,Y_train,samples_df,samples_df_train.index,Y_pred,threshold=0.5,sample_size=30)"
   ]
  },
  {
   "cell_type": "markdown",
   "metadata": {
    "id": "tSFsqNcuNb57"
   },
   "source": [
    "# Save Model"
   ]
  },
  {
   "cell_type": "code",
   "execution_count": null,
   "metadata": {
    "id": "5xwWsuSm-TRE"
   },
   "outputs": [],
   "source": [
    "#model.save(f'/content/drive/MyDrive/ML_Project_Satellite_Images/models/{model_name}.h5')"
   ]
  },
  {
   "cell_type": "code",
   "execution_count": null,
   "metadata": {
    "id": "tFaSVEoDHFVt"
   },
   "outputs": [],
   "source": [
    "sample_ids = {\n",
    "    'train_ids':samples_df_train.index.to_list(),\n",
    "    'val_ids':samples_df_val.index.to_list(),\n",
    "    'test_ids':samples_df_test.index.to_list()\n",
    "  }"
   ]
  },
  {
   "cell_type": "code",
   "execution_count": null,
   "metadata": {
    "colab": {
     "base_uri": "https://localhost:8080/",
     "height": 137
    },
    "executionInfo": {
     "elapsed": 28,
     "status": "error",
     "timestamp": 1626441704946,
     "user": {
      "displayName": "Nico Guth",
      "photoUrl": "https://lh3.googleusercontent.com/a-/AOh14GjLU8mQVSscNU9ysknrBUGEMxsyfpLTAsLrcDvJfg=s64",
      "userId": "08893022833457968246"
     },
     "user_tz": -120
    },
    "id": "R4k5mffwGv2x",
    "outputId": "43d6c6e5-2d7e-48fd-adbb-cce3bc277c15"
   },
   "outputs": [],
   "source": [
    "with open(f'/content/drive/MyDrive/ML_Project_Satellite_Images/models/{model_name}.json', 'w') as f:\n",
    "    #json.dump(sample_ids, f)"
   ]
  },
  {
   "cell_type": "markdown",
   "metadata": {
    "id": "LCXm_0YU-rJm"
   },
   "source": [
    "drive.flush_and_unmount()\n",
    "print('All changes made in this colab session should now be visible in Drive.')"
   ]
  },
  {
   "cell_type": "code",
   "execution_count": null,
   "metadata": {
    "id": "8gu6FRWb4YgK"
   },
   "outputs": [],
   "source": []
  }
 ],
 "metadata": {
  "accelerator": "GPU",
  "colab": {
   "collapsed_sections": [],
   "name": "alternative_neural_network_preprocess.ipynb",
   "provenance": [
    {
     "file_id": "1oRsA-lCQ7GP7qVycy9ph_Rq7w2e5E2ur",
     "timestamp": 1624906132931
    },
    {
     "file_id": "1zYdYA0Dsh-jRRsiQppLJEnBiBVrUJMvR",
     "timestamp": 1624892651453
    }
   ]
  },
  "kernelspec": {
   "display_name": "Python 3",
   "name": "python3"
  },
  "language_info": {
   "name": "python"
  }
 },
 "nbformat": 4,
 "nbformat_minor": 0
}
