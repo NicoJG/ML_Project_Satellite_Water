{
 "cells": [
  {
   "cell_type": "markdown",
   "metadata": {
    "id": "aYJpHOrhNIm2"
   },
   "source": [
    "# Evaluate the models that are saved in the models folder"
   ]
  },
  {
   "cell_type": "markdown",
   "metadata": {
    "id": "DIIyogNgVbPU"
   },
   "source": [
    "# Imports\n",
    "\n",
    "removed checking if in CoLab"
   ]
  },
  {
   "cell_type": "code",
   "execution_count": null,
   "metadata": {
    "colab": {
     "base_uri": "https://localhost:8080/"
    },
    "executionInfo": {
     "elapsed": 10606,
     "status": "ok",
     "timestamp": 1626373507473,
     "user": {
      "displayName": "Nico Guth",
      "photoUrl": "https://lh3.googleusercontent.com/a-/AOh14GjLU8mQVSscNU9ysknrBUGEMxsyfpLTAsLrcDvJfg=s64",
      "userId": "08893022833457968246"
     },
     "user_tz": -120
    },
    "id": "boRPVBP0bXy4",
    "outputId": "e73b9add-93c7-4d97-b20c-11db0088d69b"
   },
   "outputs": [],
   "source": [
    "!pip install -U scikit-image"
   ]
  },
  {
   "cell_type": "code",
   "execution_count": null,
   "metadata": {
    "id": "OKxRRUUDSi0c"
   },
   "outputs": [],
   "source": [
    "#imports\n",
    "from platform import python_version\n",
    "\n",
    "#basic python stuff\n",
    "import os\n",
    "import json\n",
    "from pathlib import Path\n",
    "\n",
    "#basics from the SciPy Stack\n",
    "import numpy as np\n",
    "import pandas as pd\n",
    "import matplotlib.pyplot as plt\n",
    "\n",
    "#colab stuff\n",
    "from google.colab import drive\n",
    "\n",
    "#data managing\n",
    "from sklearn.model_selection import train_test_split\n",
    "from skimage import io #read in images\n",
    "from skimage.transform import resize\n",
    "\n",
    "#model\n",
    "%tensorflow_version 2.x\n",
    "import tensorflow as tf\n",
    "\n",
    "# evaluation\n",
    "import sklearn\n",
    "\n",
    "#progress bar\n",
    "from tqdm.notebook import tqdm"
   ]
  },
  {
   "cell_type": "code",
   "execution_count": null,
   "metadata": {
    "colab": {
     "base_uri": "https://localhost:8080/"
    },
    "executionInfo": {
     "elapsed": 11,
     "status": "ok",
     "timestamp": 1626373510615,
     "user": {
      "displayName": "Nico Guth",
      "photoUrl": "https://lh3.googleusercontent.com/a-/AOh14GjLU8mQVSscNU9ysknrBUGEMxsyfpLTAsLrcDvJfg=s64",
      "userId": "08893022833457968246"
     },
     "user_tz": -120
    },
    "id": "KjrZQySaYGYu",
    "outputId": "be565ef6-3638-458f-b597-dfd7c761d427"
   },
   "outputs": [],
   "source": [
    "# settings\n",
    "\n",
    "# implements progress_apply into pandas\n",
    "tqdm.pandas(desc='Pandas_Progress')"
   ]
  },
  {
   "cell_type": "code",
   "execution_count": null,
   "metadata": {
    "colab": {
     "base_uri": "https://localhost:8080/"
    },
    "executionInfo": {
     "elapsed": 9,
     "status": "ok",
     "timestamp": 1626373510616,
     "user": {
      "displayName": "Nico Guth",
      "photoUrl": "https://lh3.googleusercontent.com/a-/AOh14GjLU8mQVSscNU9ysknrBUGEMxsyfpLTAsLrcDvJfg=s64",
      "userId": "08893022833457968246"
     },
     "user_tz": -120
    },
    "id": "rmJPflTiYHAO",
    "outputId": "6423a87c-42a5-4b78-ec80-0003db064719"
   },
   "outputs": [],
   "source": [
    "print(\"Tensorflow version\", tf.__version__)\n",
    "print(\"Python version =\",python_version())"
   ]
  },
  {
   "cell_type": "code",
   "execution_count": null,
   "metadata": {
    "colab": {
     "base_uri": "https://localhost:8080/"
    },
    "executionInfo": {
     "elapsed": 14172,
     "status": "ok",
     "timestamp": 1626373524782,
     "user": {
      "displayName": "Nico Guth",
      "photoUrl": "https://lh3.googleusercontent.com/a-/AOh14GjLU8mQVSscNU9ysknrBUGEMxsyfpLTAsLrcDvJfg=s64",
      "userId": "08893022833457968246"
     },
     "user_tz": -120
    },
    "id": "GWgVWLihTLc4",
    "outputId": "c4d56ba8-9aad-44e2-c9e7-f433875948b7"
   },
   "outputs": [],
   "source": [
    "# get access to drive\n",
    "drive.mount('/content/drive')"
   ]
  },
  {
   "cell_type": "code",
   "execution_count": null,
   "metadata": {
    "id": "fqT0DveHJAk0"
   },
   "outputs": [],
   "source": [
    "# import local python files\n",
    "import importlib.util\n",
    "\n",
    "# https://github.com/maxvfischer/keras-image-segmentation-loss-functions\n",
    "spec = importlib.util.spec_from_file_location(\"binary_losses\", \"/content/drive/MyDrive/ML_Project_Satellite_Images/binary_losses.py\")\n",
    "binary_losses = importlib.util.module_from_spec(spec)\n",
    "spec.loader.exec_module(binary_losses)"
   ]
  },
  {
   "cell_type": "markdown",
   "metadata": {
    "id": "uMJVXvRrWdYV"
   },
   "source": [
    "# Data Constants"
   ]
  },
  {
   "cell_type": "code",
   "execution_count": null,
   "metadata": {
    "id": "r8UN5uSPWdG3"
   },
   "outputs": [],
   "source": [
    "# data preprocessing\n",
    "img_size = 128\n",
    "anti_aliasing = True\n",
    "mask_threshold = 0.5\n",
    "\n",
    "# for loading the model\n",
    "model_name = 'large_skip_5000_128px_32_filters_04_dropout'\n",
    "\n",
    "custom_objects_dict = None # use this normally\n",
    "#custom_objects_dict = {'loss':binary_losses.binary_balanced_cross_entropy(beta=1.)} # use this for custom loss functions"
   ]
  },
  {
   "cell_type": "markdown",
   "metadata": {
    "id": "iZxMDwBNV3yx"
   },
   "source": [
    "# Retrieve the Dataset"
   ]
  },
  {
   "cell_type": "code",
   "execution_count": null,
   "metadata": {
    "id": "xstIW12OVWmg"
   },
   "outputs": [],
   "source": [
    "# unzip data\n",
    "!unzip -n -q /content/drive/MyDrive/ML_Project_Satellite_Images/data/current_dataset.zip -d /content/"
   ]
  },
  {
   "cell_type": "code",
   "execution_count": null,
   "metadata": {
    "colab": {
     "base_uri": "https://localhost:8080/",
     "height": 455
    },
    "executionInfo": {
     "elapsed": 368,
     "status": "ok",
     "timestamp": 1626373546047,
     "user": {
      "displayName": "Nico Guth",
      "photoUrl": "https://lh3.googleusercontent.com/a-/AOh14GjLU8mQVSscNU9ysknrBUGEMxsyfpLTAsLrcDvJfg=s64",
      "userId": "08893022833457968246"
     },
     "user_tz": -120
    },
    "id": "6RZbQx-RrVAv",
    "outputId": "da09e895-53d2-43c4-e276-524271cead7f"
   },
   "outputs": [],
   "source": [
    "# read in samples.csv with information about the images\n",
    "samples_df = pd.read_csv('/content/dataset/samples.csv')\n",
    "samples_df.set_index('id', inplace=True)\n",
    "samples_df"
   ]
  },
  {
   "cell_type": "code",
   "execution_count": null,
   "metadata": {
    "id": "w0vVHx7OtNXx"
   },
   "outputs": [],
   "source": [
    "# paths to the sat/mask folder\n",
    "path_sat_folder = '/content/dataset/images/satellite/'\n",
    "path_mask_folder = '/content/dataset/images/mask/'"
   ]
  },
  {
   "cell_type": "code",
   "execution_count": null,
   "metadata": {
    "id": "GwCoDvQGtsy8"
   },
   "outputs": [],
   "source": [
    "# append absoulute paths of the images to the dataframe\n",
    "samples_df['abs_satellite_path'] = samples_df['satellite_file'].apply(lambda x: path_sat_folder+x)\n",
    "samples_df['abs_mask_path'] = samples_df['mask_file'].apply(lambda x: path_mask_folder+x)"
   ]
  },
  {
   "cell_type": "markdown",
   "metadata": {
    "id": "UZjmV5IQW5jr"
   },
   "source": [
    "# Functions for Image reading and plotting"
   ]
  },
  {
   "cell_type": "code",
   "execution_count": null,
   "metadata": {
    "id": "l3QE5z_tVeYp"
   },
   "outputs": [],
   "source": [
    "# function for image reading\n",
    "def read_satellite_img(filepath):\n",
    "  img = io.imread(filepath)\n",
    "  img = resize(img, output_shape=(img_size,img_size), anti_aliasing=anti_aliasing, preserve_range=True)\n",
    "  img = img / 255.\n",
    "  return img\n",
    "\n",
    "def read_mask_img(filepath):\n",
    "  img = io.imread(filepath)\n",
    "  if len(img.shape) > 2:\n",
    "    img = img[:,:,2]\n",
    "  img = resize(img, output_shape=(img_size,img_size), anti_aliasing=anti_aliasing, preserve_range=True)\n",
    "  img = img / 255.\n",
    "  mask = img > mask_threshold\n",
    "  img[mask] = 1\n",
    "  img[~mask] = 0\n",
    "  return img"
   ]
  },
  {
   "cell_type": "code",
   "execution_count": null,
   "metadata": {
    "id": "Q4aSl02hWCTO"
   },
   "outputs": [],
   "source": [
    "# function to load a batch of images\n",
    "def load_img_batch(samples_df,ids):\n",
    "  satellite_imgs = samples_df.loc[ids,'abs_satellite_path'].progress_apply(read_satellite_img)\n",
    "  mask_imgs = samples_df.loc[ids,'abs_mask_path'].progress_apply(read_mask_img)\n",
    "\n",
    "  satellite_imgs = np.stack(satellite_imgs.to_numpy())\n",
    "  mask_imgs = np.stack(mask_imgs.to_numpy())\n",
    "\n",
    "  return satellite_imgs, mask_imgs"
   ]
  },
  {
   "cell_type": "code",
   "execution_count": null,
   "metadata": {
    "id": "0kTxlAjepqyX"
   },
   "outputs": [],
   "source": [
    "# function to show some samples (with or without the predictions)\n",
    "def show_sample(X, Y, samples_df, ids, Y_pred=None, threshold=None, sample_size=10, fig_height=6):\n",
    "  rnd_sample_indices = np.random.random_integers(low=0,high=X.shape[0]-1,size=sample_size)\n",
    "  cols = 2 if Y_pred is None else 3\n",
    "  if Y_pred is None:\n",
    "    cols = 2\n",
    "  elif threshold is not None:\n",
    "    cols = 4\n",
    "  else:\n",
    "    cols = 3\n",
    "\n",
    "  for i in rnd_sample_indices:\n",
    "    fig, axs = plt.subplots(1,cols, figsize=(fig_height*cols,fig_height))\n",
    "    axs[0].set_title(f'Country: {samples_df.loc[ids[i],\"country\"]}')\n",
    "    axs[0].imshow(X[i])\n",
    "    axs[1].set_title('Given Mask')\n",
    "    axs[1].imshow(Y[i])\n",
    "    if Y_pred is not None:\n",
    "      axs[2].set_title('Prediction')\n",
    "      axs[2].imshow(Y_pred[i])\n",
    "      if threshold is not None:\n",
    "        Y_pred_mask = Y_pred[i] >= threshold\n",
    "        Y_pred[i,Y_pred_mask] = 1\n",
    "        Y_pred[i,~Y_pred_mask] = 0\n",
    "        axs[3].set_title(f'Prediction with threshold = {threshold}')\n",
    "        axs[3].imshow(Y_pred[i])\n",
    "\n",
    "    for ax in axs:\n",
    "      ax.set_xticks([])\n",
    "      ax.set_yticks([])\n",
    "    fig.tight_layout()"
   ]
  },
  {
   "cell_type": "code",
   "execution_count": null,
   "metadata": {
    "id": "LXI8HtCoIQBF"
   },
   "outputs": [],
   "source": [
    "def show_images(X,Ys,names,fig_height=4):\n",
    "  'Plots X and multiple Y'\n",
    "  if not isinstance(Ys,list):\n",
    "    Ys = [Ys]\n",
    "  if not isinstance(names,list):\n",
    "    names = [names]\n",
    "  cols = 1 + len(Ys)\n",
    "  for i in range(X.shape[0]):\n",
    "    fig,axs = plt.subplots(1,cols,figsize=(fig_height*cols,fig_height))\n",
    "    axs[0].axis('off')\n",
    "    axs[0].imshow(X[i])\n",
    "    axs[0].set_title('Satellite')\n",
    "    for j,(Y,name) in enumerate(zip(Ys,names)):\n",
    "      axs[j+1].axis('off')\n",
    "      axs[j+1].imshow(Y[i])\n",
    "      axs[j+1].set_title(name)\n",
    "    plt.show()"
   ]
  },
  {
   "cell_type": "markdown",
   "metadata": {
    "id": "utVcEKc6c4iM"
   },
   "source": [
    "# Predict Masks with an alternative algorithm"
   ]
  },
  {
   "cell_type": "markdown",
   "metadata": {
    "id": "DllOR5alTSsB"
   },
   "source": [
    "## Colors based"
   ]
  },
  {
   "cell_type": "code",
   "execution_count": null,
   "metadata": {
    "id": "Ass2MlVhTSb8"
   },
   "outputs": [],
   "source": [
    "sample_size = 1000\n",
    "sample_ids = np.random.choice(samples_df.index.to_numpy(), size=sample_size)"
   ]
  },
  {
   "cell_type": "code",
   "execution_count": null,
   "metadata": {
    "id": "ky_Nwg6jaAxl"
   },
   "outputs": [],
   "source": [
    "train_ids, test_ids = train_test_split(sample_ids, test_size=0.5)"
   ]
  },
  {
   "cell_type": "code",
   "execution_count": null,
   "metadata": {
    "colab": {
     "base_uri": "https://localhost:8080/",
     "height": 219,
     "referenced_widgets": [
      "5a3a0cd60fa345dfa9e7146295b39111",
      "8567c8cb6c1e49c384f2b5dfec5bc30e",
      "bb44fc7af25c410498eebb4c807d6881",
      "50e6ba6744ff4e76ab01b1d1542213ef",
      "7cb002e7be7e48fead8ffcc5e226f0a1",
      "2d705a5b664c4e6aaec5fb9355658eb8",
      "3a546f1bdee240d2a67aab994290c091",
      "cf9be7fd01b04bad9ce7c78c50b2acbf",
      "c4ad0c00d99c4ab7b723b936cdce54fb",
      "c4ff3c0e02ad4993af8ef72a2a1a8856",
      "8fba81d20eab49529e4083810e23f4a7",
      "45f006304011461fbb5eeb676e4db0a8",
      "366ccc5d75994487a6c5221908d70c0d",
      "e7f70a7d7b184036bd9fd9f030183cad",
      "2c3d6e812d7a402fb811f1596771e1ba",
      "36264b659790409eb4f6b9cf54e8d5b0",
      "b7d3f429bd0d442398247c2957334946",
      "278b202595b149a481b62c0532cacba9",
      "c94a1d5ca85e493e9c1e9e993479c1fe",
      "9c1c5c84d10c48c39bca6d2bf8061ac2",
      "4e0b09502b3f424b8f7cab356c4009b2",
      "ac332a3590f5405c897bba9770ece3ab",
      "0740757cbbeb4232a267b6227f0ca8f8",
      "70e9ac5cd7c743e485bccca3e4d45717",
      "845cc2ecd6894efbbbe77392eec29e8a",
      "c25ed99271ca479db8d92e5b9ff06cd2",
      "797e956930a44e91b6d38d2fd90b9cfc",
      "114f54a741604d358356e1595605c914",
      "52384f975db749f192ad25e9bb308610",
      "959b35f92a9540e6aa58b4662ed165fd",
      "4fa47600514048b6936fa32374c1f6cb",
      "3d7a5714193646a9b0dd73d3c6e4dff3"
     ]
    },
    "executionInfo": {
     "elapsed": 32131,
     "status": "ok",
     "timestamp": 1626375649734,
     "user": {
      "displayName": "Nico Guth",
      "photoUrl": "https://lh3.googleusercontent.com/a-/AOh14GjLU8mQVSscNU9ysknrBUGEMxsyfpLTAsLrcDvJfg=s64",
      "userId": "08893022833457968246"
     },
     "user_tz": -120
    },
    "id": "F_e4vs7QUIBZ",
    "outputId": "4da10984-5225-454f-9c33-329d65e1f2cd"
   },
   "outputs": [],
   "source": [
    "X_train, Y_train = load_img_batch(samples_df, train_ids)\n",
    "X_test, Y_test = load_img_batch(samples_df, test_ids)"
   ]
  },
  {
   "cell_type": "code",
   "execution_count": null,
   "metadata": {
    "id": "YBVrIHFGLY8U"
   },
   "outputs": [],
   "source": [
    "X_train_flat = X_train.reshape(-1,3)\n",
    "Y_train_flat = Y_train.flatten()\n",
    "X_train_flat.shape, Y_train_flat.shape"
   ]
  },
  {
   "cell_type": "markdown",
   "metadata": {
    "id": "v8xGpcp8UcP3"
   },
   "source": [
    "### Show the distribution of Colors"
   ]
  },
  {
   "cell_type": "code",
   "execution_count": null,
   "metadata": {
    "colab": {
     "base_uri": "https://localhost:8080/"
    },
    "executionInfo": {
     "elapsed": 345,
     "status": "ok",
     "timestamp": 1626375650075,
     "user": {
      "displayName": "Nico Guth",
      "photoUrl": "https://lh3.googleusercontent.com/a-/AOh14GjLU8mQVSscNU9ysknrBUGEMxsyfpLTAsLrcDvJfg=s64",
      "userId": "08893022833457968246"
     },
     "user_tz": -120
    },
    "id": "_M_2GneMbSE1",
    "outputId": "5b46f808-01c4-4bae-aeef-f4a9219320da"
   },
   "outputs": [],
   "source": [
    "X_train_water = X_train[Y_train == 1]\n",
    "X_train_no_water = X_train[Y_train == 0]\n",
    "X_train_water.shape,X_train_no_water.shape"
   ]
  },
  {
   "cell_type": "code",
   "execution_count": null,
   "metadata": {
    "colab": {
     "base_uri": "https://localhost:8080/",
     "height": 336
    },
    "executionInfo": {
     "elapsed": 1533,
     "status": "ok",
     "timestamp": 1626375651606,
     "user": {
      "displayName": "Nico Guth",
      "photoUrl": "https://lh3.googleusercontent.com/a-/AOh14GjLU8mQVSscNU9ysknrBUGEMxsyfpLTAsLrcDvJfg=s64",
      "userId": "08893022833457968246"
     },
     "user_tz": -120
    },
    "id": "FORk58J3bl8K",
    "outputId": "0f7420ac-29d3-4bf1-9d53-cbf0ee486c0d"
   },
   "outputs": [],
   "source": [
    "fig, axs = plt.subplots(1,3,figsize=(15,5))\n",
    "for i,channel in enumerate(['R','G','B']):\n",
    "  axs[i].hist(X_train_water[:,i],histtype='step',bins=20,label='Water')\n",
    "  axs[i].hist(X_train_no_water[:,i],histtype='step',bins=20,label='Everything else')\n",
    "  axs[i].set_title(f'Channel: {channel}')\n",
    "  axs[i].legend()\n",
    "\n",
    "plt.show()"
   ]
  },
  {
   "cell_type": "markdown",
   "metadata": {
    "id": "MyijZQNmKgSa"
   },
   "source": [
    "## Random Forest\n",
    "\n",
    "Try KNN or Decision Tree because Random Forest is slow and needs to much RAM"
   ]
  },
  {
   "cell_type": "code",
   "execution_count": null,
   "metadata": {
    "id": "0YpV788hftGx"
   },
   "outputs": [],
   "source": [
    "from sklearn.ensemble import RandomForestClassifier"
   ]
  },
  {
   "cell_type": "code",
   "execution_count": null,
   "metadata": {
    "colab": {
     "base_uri": "https://localhost:8080/"
    },
    "executionInfo": {
     "elapsed": 155524,
     "status": "ok",
     "timestamp": 1626375906761,
     "user": {
      "displayName": "Nico Guth",
      "photoUrl": "https://lh3.googleusercontent.com/a-/AOh14GjLU8mQVSscNU9ysknrBUGEMxsyfpLTAsLrcDvJfg=s64",
      "userId": "08893022833457968246"
     },
     "user_tz": -120
    },
    "id": "J5iuhKrrfVou",
    "outputId": "8d4f86e6-3623-4cbf-dcc6-d8b27958304c"
   },
   "outputs": [],
   "source": [
    "rnd_forest = RandomForestClassifier(n_estimators=10,max_depth=10,verbose=2,n_jobs=-1)\n",
    "rnd_forest.fit(X_train_flat, Y_train_flat)"
   ]
  },
  {
   "cell_type": "code",
   "execution_count": null,
   "metadata": {
    "colab": {
     "base_uri": "https://localhost:8080/"
    },
    "executionInfo": {
     "elapsed": 33424,
     "status": "ok",
     "timestamp": 1626375951510,
     "user": {
      "displayName": "Nico Guth",
      "photoUrl": "https://lh3.googleusercontent.com/a-/AOh14GjLU8mQVSscNU9ysknrBUGEMxsyfpLTAsLrcDvJfg=s64",
      "userId": "08893022833457968246"
     },
     "user_tz": -120
    },
    "id": "VdzkL1hggS4c",
    "outputId": "e93f98a2-4028-4faa-9c94-0a4f25627ba6"
   },
   "outputs": [],
   "source": [
    "Y_pred_flat = rnd_forest.predict(X_train_flat)\n",
    "Y_pred = Y_pred_flat.reshape(-1,128,128)"
   ]
  },
  {
   "cell_type": "markdown",
   "metadata": {
    "id": "gKByDdLGgrTm"
   },
   "source": [
    "## Evaluate Training"
   ]
  },
  {
   "cell_type": "code",
   "execution_count": null,
   "metadata": {
    "colab": {
     "base_uri": "https://localhost:8080/"
    },
    "executionInfo": {
     "elapsed": 1366,
     "status": "ok",
     "timestamp": 1626375952872,
     "user": {
      "displayName": "Nico Guth",
      "photoUrl": "https://lh3.googleusercontent.com/a-/AOh14GjLU8mQVSscNU9ysknrBUGEMxsyfpLTAsLrcDvJfg=s64",
      "userId": "08893022833457968246"
     },
     "user_tz": -120
    },
    "id": "PsnKM6J9gwmP",
    "outputId": "c8cfd48c-9428-4f22-db00-13f3bba1e0da"
   },
   "outputs": [],
   "source": [
    "from sklearn.metrics import accuracy_score\n",
    "print(f'Accuracy: {accuracy_score(Y_train_flat, Y_pred_flat)}')"
   ]
  },
  {
   "cell_type": "code",
   "execution_count": null,
   "metadata": {
    "colab": {
     "base_uri": "https://localhost:8080/",
     "height": 1000
    },
    "executionInfo": {
     "elapsed": 3326,
     "status": "ok",
     "timestamp": 1626375956193,
     "user": {
      "displayName": "Nico Guth",
      "photoUrl": "https://lh3.googleusercontent.com/a-/AOh14GjLU8mQVSscNU9ysknrBUGEMxsyfpLTAsLrcDvJfg=s64",
      "userId": "08893022833457968246"
     },
     "user_tz": -120
    },
    "id": "R8dxQ4eFhiy8",
    "outputId": "c9da53ef-7302-44e0-bd42-ed39e77b0e50"
   },
   "outputs": [],
   "source": [
    "sample_size = 10\n",
    "sample_idxs = np.random.randint(low=0,high=X_train.shape[0], size=sample_size)\n",
    "X = X_train[sample_idxs]\n",
    "Ys = [Y_train[sample_idxs],Y_pred[sample_idxs]]\n",
    "names = ['Mask','Prediction']\n",
    "show_images(X,Ys,names)"
   ]
  },
  {
   "cell_type": "markdown",
   "metadata": {
    "id": "9xE9cKMAev-n"
   },
   "source": [
    "# Evaluate on Test Data"
   ]
  },
  {
   "cell_type": "code",
   "execution_count": null,
   "metadata": {
    "colab": {
     "base_uri": "https://localhost:8080/"
    },
    "executionInfo": {
     "elapsed": 13,
     "status": "ok",
     "timestamp": 1626375956195,
     "user": {
      "displayName": "Nico Guth",
      "photoUrl": "https://lh3.googleusercontent.com/a-/AOh14GjLU8mQVSscNU9ysknrBUGEMxsyfpLTAsLrcDvJfg=s64",
      "userId": "08893022833457968246"
     },
     "user_tz": -120
    },
    "id": "wtr-rygEiQis",
    "outputId": "9c75fa37-f0bf-4a8b-d604-ee26c146ba62"
   },
   "outputs": [],
   "source": [
    "X_test_flat = X_test.reshape(-1,3)\n",
    "Y_test_flat = Y_test.flatten()\n",
    "X_test_flat.shape, Y_test_flat.shape"
   ]
  },
  {
   "cell_type": "code",
   "execution_count": null,
   "metadata": {
    "colab": {
     "base_uri": "https://localhost:8080/"
    },
    "executionInfo": {
     "elapsed": 32358,
     "status": "ok",
     "timestamp": 1626375988543,
     "user": {
      "displayName": "Nico Guth",
      "photoUrl": "https://lh3.googleusercontent.com/a-/AOh14GjLU8mQVSscNU9ysknrBUGEMxsyfpLTAsLrcDvJfg=s64",
      "userId": "08893022833457968246"
     },
     "user_tz": -120
    },
    "id": "kosq5wXms9GT",
    "outputId": "786f77bc-973a-4277-d362-d8de135020a8"
   },
   "outputs": [],
   "source": [
    "Y_pred_flat = rnd_forest.predict(X_test_flat)\n",
    "Y_pred = Y_pred_flat.reshape(-1,128,128)"
   ]
  },
  {
   "cell_type": "code",
   "execution_count": null,
   "metadata": {
    "colab": {
     "base_uri": "https://localhost:8080/"
    },
    "executionInfo": {
     "elapsed": 1327,
     "status": "ok",
     "timestamp": 1626375989867,
     "user": {
      "displayName": "Nico Guth",
      "photoUrl": "https://lh3.googleusercontent.com/a-/AOh14GjLU8mQVSscNU9ysknrBUGEMxsyfpLTAsLrcDvJfg=s64",
      "userId": "08893022833457968246"
     },
     "user_tz": -120
    },
    "id": "EZFmAG2ZiXSw",
    "outputId": "f8fbc79e-de23-4ed0-d3bc-0edaec061128"
   },
   "outputs": [],
   "source": [
    "from sklearn.metrics import accuracy_score\n",
    "print(f'Accuracy: {accuracy_score(Y_test_flat, Y_pred_flat)}')"
   ]
  },
  {
   "cell_type": "code",
   "execution_count": null,
   "metadata": {
    "colab": {
     "base_uri": "https://localhost:8080/",
     "height": 1000
    },
    "executionInfo": {
     "elapsed": 3447,
     "status": "ok",
     "timestamp": 1626376125147,
     "user": {
      "displayName": "Nico Guth",
      "photoUrl": "https://lh3.googleusercontent.com/a-/AOh14GjLU8mQVSscNU9ysknrBUGEMxsyfpLTAsLrcDvJfg=s64",
      "userId": "08893022833457968246"
     },
     "user_tz": -120
    },
    "id": "PEsvDsjTiduS",
    "outputId": "7046f701-4de9-4824-de5d-2f61b0d09eba"
   },
   "outputs": [],
   "source": [
    "sample_size = 10\n",
    "sample_idxs = np.random.randint(low=0,high=X_test.shape[0], size=sample_size)\n",
    "X = X_test[sample_idxs]\n",
    "Ys = [Y_test[sample_idxs],Y_pred[sample_idxs]]\n",
    "names = ['Mask','Prediction']\n",
    "show_images(X,Ys,names)"
   ]
  },
  {
   "cell_type": "code",
   "execution_count": null,
   "metadata": {
    "id": "hjS8oxwnlox8"
   },
   "outputs": [],
   "source": [
    "from skimage.color import rgb2gray"
   ]
  },
  {
   "cell_type": "code",
   "execution_count": null,
   "metadata": {
    "id": "besttOk0iiyX"
   },
   "outputs": [],
   "source": [
    "def predict_with_gradient(X,grad_threshold):\n",
    "  Y_grad = np.stack(np.gradient(X,axis=(1,2)))\n",
    "  Y_grad = np.linalg.norm(Y_grad,axis=0)\n",
    "  Y_grad = rgb2gray(Y_grad)\n",
    "  Y_grad = Y_grad < grad_threshold\n",
    "  return Y_grad"
   ]
  },
  {
   "cell_type": "code",
   "execution_count": null,
   "metadata": {
    "id": "14HC86x1k9Sg"
   },
   "outputs": [],
   "source": [
    "Y_grad = predict_with_gradient(X_test,0.01)\n",
    "Y_grad_flat = Y_grad.flatten()"
   ]
  },
  {
   "cell_type": "code",
   "execution_count": null,
   "metadata": {
    "colab": {
     "base_uri": "https://localhost:8080/"
    },
    "executionInfo": {
     "elapsed": 1418,
     "status": "ok",
     "timestamp": 1626376546994,
     "user": {
      "displayName": "Nico Guth",
      "photoUrl": "https://lh3.googleusercontent.com/a-/AOh14GjLU8mQVSscNU9ysknrBUGEMxsyfpLTAsLrcDvJfg=s64",
      "userId": "08893022833457968246"
     },
     "user_tz": -120
    },
    "id": "LTAsWZFPmBAn",
    "outputId": "03e1926e-8c4c-4a8e-f037-bd29edaa9660"
   },
   "outputs": [],
   "source": [
    "from sklearn.metrics import accuracy_score\n",
    "print(f'Accuracy: {accuracy_score(Y_test_flat, Y_grad_flat)}')"
   ]
  },
  {
   "cell_type": "code",
   "execution_count": null,
   "metadata": {
    "id": "6J7ExQd3mOA4"
   },
   "outputs": [],
   "source": [
    "# Combine both\n",
    "Y_both = Y_grad & (Y_pred==1)\n",
    "Y_both_flat = Y_both.flatten()"
   ]
  },
  {
   "cell_type": "code",
   "execution_count": null,
   "metadata": {
    "colab": {
     "base_uri": "https://localhost:8080/"
    },
    "executionInfo": {
     "elapsed": 1506,
     "status": "ok",
     "timestamp": 1626376660754,
     "user": {
      "displayName": "Nico Guth",
      "photoUrl": "https://lh3.googleusercontent.com/a-/AOh14GjLU8mQVSscNU9ysknrBUGEMxsyfpLTAsLrcDvJfg=s64",
      "userId": "08893022833457968246"
     },
     "user_tz": -120
    },
    "id": "yUWLYhaolnIl",
    "outputId": "5524a747-dc40-4e1c-8a6e-986bf29a7db8"
   },
   "outputs": [],
   "source": [
    "print(f'Accuracy: {accuracy_score(Y_test_flat, Y_both_flat)}')"
   ]
  },
  {
   "cell_type": "code",
   "execution_count": null,
   "metadata": {
    "colab": {
     "base_uri": "https://localhost:8080/",
     "height": 1000
    },
    "executionInfo": {
     "elapsed": 4318,
     "status": "ok",
     "timestamp": 1626377456054,
     "user": {
      "displayName": "Nico Guth",
      "photoUrl": "https://lh3.googleusercontent.com/a-/AOh14GjLU8mQVSscNU9ysknrBUGEMxsyfpLTAsLrcDvJfg=s64",
      "userId": "08893022833457968246"
     },
     "user_tz": -120
    },
    "id": "6YhMMUIcmmAi",
    "outputId": "e84286b0-90a8-4147-d15d-aba6b9217948"
   },
   "outputs": [],
   "source": [
    "sample_size = 10\n",
    "sample_idxs = np.random.randint(low=0,high=X_test.shape[0], size=sample_size)\n",
    "X = X_test[sample_idxs]\n",
    "Ys = [Y_test[sample_idxs],Y_pred[sample_idxs],Y_grad[sample_idxs],Y_both[sample_idxs]]\n",
    "names = ['Mask','Color RND Forest','Gradient Threshold','Combined with and']\n",
    "show_images(X,Ys,names)"
   ]
  },
  {
   "cell_type": "code",
   "execution_count": null,
   "metadata": {
    "id": "6doLJpDym5pd"
   },
   "outputs": [],
   "source": []
  }
 ],
 "metadata": {
  "colab": {
   "collapsed_sections": [],
   "name": "alternative_color_based.ipynb",
   "provenance": [
    {
     "file_id": "1oRsA-lCQ7GP7qVycy9ph_Rq7w2e5E2ur",
     "timestamp": 1624906132931
    },
    {
     "file_id": "1zYdYA0Dsh-jRRsiQppLJEnBiBVrUJMvR",
     "timestamp": 1624892651453
    }
   ]
  },
  "kernelspec": {
   "display_name": "Python 3",
   "name": "python3"
  },
  "language_info": {
   "name": "python"
  }
 },
 "nbformat": 4,
 "nbformat_minor": 0
}
