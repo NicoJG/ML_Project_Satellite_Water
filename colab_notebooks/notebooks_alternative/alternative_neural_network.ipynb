{
 "cells": [
  {
   "cell_type": "markdown",
   "metadata": {
    "id": "TNxWORy2wGC_"
   },
   "source": [
    "# Imports\n",
    "\n",
    "removed checking if in CoLab"
   ]
  },
  {
   "cell_type": "code",
   "execution_count": null,
   "metadata": {
    "executionInfo": {
     "elapsed": 2608,
     "status": "ok",
     "timestamp": 1626427680793,
     "user": {
      "displayName": "Nico Guth",
      "photoUrl": "https://lh3.googleusercontent.com/a-/AOh14GjLU8mQVSscNU9ysknrBUGEMxsyfpLTAsLrcDvJfg=s64",
      "userId": "08893022833457968246"
     },
     "user_tz": -120
    },
    "id": "OKxRRUUDSi0c"
   },
   "outputs": [],
   "source": [
    "#imports\n",
    "from platform import python_version\n",
    "\n",
    "#basic python stuff\n",
    "import os\n",
    "import json\n",
    "from pathlib import Path\n",
    "\n",
    "#basics from the SciPy Stack\n",
    "import numpy as np\n",
    "import pandas as pd\n",
    "import matplotlib.pyplot as plt\n",
    "\n",
    "#colab stuff\n",
    "from google.colab import drive\n",
    "\n",
    "#data managing\n",
    "from sklearn.model_selection import train_test_split\n",
    "from skimage import io #read in images\n",
    "from skimage.transform import resize\n",
    "\n",
    "#model\n",
    "%tensorflow_version 2.x\n",
    "import tensorflow as tf\n",
    "from tensorflow.keras import layers, callbacks\n",
    "from keras.optimizers import Adam\n",
    "\n",
    "#progress bar\n",
    "from tqdm.notebook import tqdm"
   ]
  },
  {
   "cell_type": "code",
   "execution_count": null,
   "metadata": {
    "colab": {
     "base_uri": "https://localhost:8080/"
    },
    "executionInfo": {
     "elapsed": 11,
     "status": "ok",
     "timestamp": 1626427680796,
     "user": {
      "displayName": "Nico Guth",
      "photoUrl": "https://lh3.googleusercontent.com/a-/AOh14GjLU8mQVSscNU9ysknrBUGEMxsyfpLTAsLrcDvJfg=s64",
      "userId": "08893022833457968246"
     },
     "user_tz": -120
    },
    "id": "Wv1EjuBK0mUw",
    "outputId": "d574c78d-6c9a-4b6a-d02e-1e02cf95b750"
   },
   "outputs": [],
   "source": [
    "# settings\n",
    "\n",
    "# implements progress_apply into pandas\n",
    "tqdm.pandas(desc='Pandas_Progress')"
   ]
  },
  {
   "cell_type": "code",
   "execution_count": null,
   "metadata": {
    "colab": {
     "base_uri": "https://localhost:8080/"
    },
    "executionInfo": {
     "elapsed": 9,
     "status": "ok",
     "timestamp": 1626427680797,
     "user": {
      "displayName": "Nico Guth",
      "photoUrl": "https://lh3.googleusercontent.com/a-/AOh14GjLU8mQVSscNU9ysknrBUGEMxsyfpLTAsLrcDvJfg=s64",
      "userId": "08893022833457968246"
     },
     "user_tz": -120
    },
    "id": "i1byH6kBzF18",
    "outputId": "6ff5ab39-f3ce-474b-cc6c-24c005518d40"
   },
   "outputs": [],
   "source": [
    "print(\"Tensorflow version\", tf.__version__)\n",
    "print(\"Python version =\",python_version())"
   ]
  },
  {
   "cell_type": "code",
   "execution_count": null,
   "metadata": {
    "colab": {
     "base_uri": "https://localhost:8080/"
    },
    "executionInfo": {
     "elapsed": 7,
     "status": "ok",
     "timestamp": 1626427680797,
     "user": {
      "displayName": "Nico Guth",
      "photoUrl": "https://lh3.googleusercontent.com/a-/AOh14GjLU8mQVSscNU9ysknrBUGEMxsyfpLTAsLrcDvJfg=s64",
      "userId": "08893022833457968246"
     },
     "user_tz": -120
    },
    "id": "GWgVWLihTLc4",
    "outputId": "e56ae1f6-3c4e-49fc-dbf4-6b65237f5767"
   },
   "outputs": [],
   "source": [
    "# get access to google drive\n",
    "drive.mount('/content/drive')"
   ]
  },
  {
   "cell_type": "code",
   "execution_count": null,
   "metadata": {
    "executionInfo": {
     "elapsed": 6,
     "status": "ok",
     "timestamp": 1626427680797,
     "user": {
      "displayName": "Nico Guth",
      "photoUrl": "https://lh3.googleusercontent.com/a-/AOh14GjLU8mQVSscNU9ysknrBUGEMxsyfpLTAsLrcDvJfg=s64",
      "userId": "08893022833457968246"
     },
     "user_tz": -120
    },
    "id": "roMsZPbKJhsn"
   },
   "outputs": [],
   "source": [
    "# import local python files\n",
    "import importlib.util\n",
    "\n",
    "# https://github.com/maxvfischer/keras-image-segmentation-loss-functions\n",
    "spec = importlib.util.spec_from_file_location(\"binary_losses\", \"/content/drive/MyDrive/ML_Project_Satellite_Images/binary_losses.py\")\n",
    "binary_losses = importlib.util.module_from_spec(spec)\n",
    "spec.loader.exec_module(binary_losses)"
   ]
  },
  {
   "cell_type": "markdown",
   "metadata": {
    "id": "oDGi9wQOCa7T"
   },
   "source": [
    "# Hyperparameters"
   ]
  },
  {
   "cell_type": "code",
   "execution_count": null,
   "metadata": {
    "executionInfo": {
     "elapsed": 7,
     "status": "ok",
     "timestamp": 1626427680798,
     "user": {
      "displayName": "Nico Guth",
      "photoUrl": "https://lh3.googleusercontent.com/a-/AOh14GjLU8mQVSscNU9ysknrBUGEMxsyfpLTAsLrcDvJfg=s64",
      "userId": "08893022833457968246"
     },
     "user_tz": -120
    },
    "id": "GccgY-HLCfPP"
   },
   "outputs": [],
   "source": [
    "# training parameters\n",
    "sample_size = 2000\n",
    "batch_size = 128\n",
    "epochs = 10\n",
    "test_size = 0.3\n",
    "val_size = 0.3\n",
    "\n",
    "random_state = 42\n",
    "\n",
    "# image preprocessing\n",
    "img_size = 128\n",
    "anti_aliasing = True\n",
    "resize_method = tf.image.ResizeMethod.BILINEAR\n",
    "mask_threshold = 0.5\n",
    "\n",
    "# model parameters\n",
    "params = {\n",
    "    'learning_rate' : 0.01,\n",
    "    'loss' : 'binary_crossentropy',\n",
    "    'metrics' : ['accuracy']\n",
    "  }\n",
    "\n",
    "# for model saving\n",
    "model_name = 'alternative_neural_network'"
   ]
  },
  {
   "cell_type": "markdown",
   "metadata": {
    "id": "o7ZezlpHwPVV"
   },
   "source": [
    "# Retrieve the Dataset"
   ]
  },
  {
   "cell_type": "code",
   "execution_count": null,
   "metadata": {
    "executionInfo": {
     "elapsed": 4238,
     "status": "ok",
     "timestamp": 1626427685030,
     "user": {
      "displayName": "Nico Guth",
      "photoUrl": "https://lh3.googleusercontent.com/a-/AOh14GjLU8mQVSscNU9ysknrBUGEMxsyfpLTAsLrcDvJfg=s64",
      "userId": "08893022833457968246"
     },
     "user_tz": -120
    },
    "id": "xstIW12OVWmg"
   },
   "outputs": [],
   "source": [
    "# unzip the dataset\n",
    "!unzip -n -q /content/drive/MyDrive/ML_Project_Satellite_Images/data/current_dataset.zip -d /content/"
   ]
  },
  {
   "cell_type": "code",
   "execution_count": null,
   "metadata": {
    "colab": {
     "base_uri": "https://localhost:8080/",
     "height": 628
    },
    "executionInfo": {
     "elapsed": 14,
     "status": "ok",
     "timestamp": 1626427685032,
     "user": {
      "displayName": "Nico Guth",
      "photoUrl": "https://lh3.googleusercontent.com/a-/AOh14GjLU8mQVSscNU9ysknrBUGEMxsyfpLTAsLrcDvJfg=s64",
      "userId": "08893022833457968246"
     },
     "user_tz": -120
    },
    "id": "6RZbQx-RrVAv",
    "outputId": "2d703729-5414-47f0-b907-70759012217d"
   },
   "outputs": [],
   "source": [
    "# read in samples.csv with information about the images (only a sample)\n",
    "samples_df = pd.read_csv('/content/dataset/samples.csv').sample(sample_size, random_state=random_state)\n",
    "samples_df.set_index('id', inplace=True)\n",
    "samples_df"
   ]
  },
  {
   "cell_type": "code",
   "execution_count": null,
   "metadata": {
    "executionInfo": {
     "elapsed": 12,
     "status": "ok",
     "timestamp": 1626427685032,
     "user": {
      "displayName": "Nico Guth",
      "photoUrl": "https://lh3.googleusercontent.com/a-/AOh14GjLU8mQVSscNU9ysknrBUGEMxsyfpLTAsLrcDvJfg=s64",
      "userId": "08893022833457968246"
     },
     "user_tz": -120
    },
    "id": "w0vVHx7OtNXx"
   },
   "outputs": [],
   "source": [
    "# paths to the sat/mask folder\n",
    "path_sat_folder = '/content/dataset/images/satellite/'\n",
    "path_mask_folder = '/content/dataset/images/mask/'"
   ]
  },
  {
   "cell_type": "code",
   "execution_count": null,
   "metadata": {
    "executionInfo": {
     "elapsed": 12,
     "status": "ok",
     "timestamp": 1626427685032,
     "user": {
      "displayName": "Nico Guth",
      "photoUrl": "https://lh3.googleusercontent.com/a-/AOh14GjLU8mQVSscNU9ysknrBUGEMxsyfpLTAsLrcDvJfg=s64",
      "userId": "08893022833457968246"
     },
     "user_tz": -120
    },
    "id": "GwCoDvQGtsy8"
   },
   "outputs": [],
   "source": [
    "# append absoulute paths of the images to the dataframe\n",
    "samples_df['abs_satellite_path'] = samples_df['satellite_file'].apply(lambda x: path_sat_folder+x)\n",
    "samples_df['abs_mask_path'] = samples_df['mask_file'].apply(lambda x: path_mask_folder+x)"
   ]
  },
  {
   "cell_type": "markdown",
   "metadata": {
    "id": "fv8SmeWtqiQ2"
   },
   "source": [
    "# Prepare the tf.data.Dataset\n",
    "\n",
    "- https://towardsdatascience.com/what-is-the-best-input-pipeline-to-train-image-classification-models-with-tf-keras-eb3fe26d3cc5  \n",
    "- https://www.tensorflow.org/guide/data_performance\n"
   ]
  },
  {
   "cell_type": "code",
   "execution_count": null,
   "metadata": {
    "executionInfo": {
     "elapsed": 12,
     "status": "ok",
     "timestamp": 1626427685033,
     "user": {
      "displayName": "Nico Guth",
      "photoUrl": "https://lh3.googleusercontent.com/a-/AOh14GjLU8mQVSscNU9ysknrBUGEMxsyfpLTAsLrcDvJfg=s64",
      "userId": "08893022833457968246"
     },
     "user_tz": -120
    },
    "id": "BmEptTJVTT3U"
   },
   "outputs": [],
   "source": [
    "def parse_satellite_image(file_path):\n",
    "  img = tf.io.read_file(file_path)\n",
    "  img = tf.io.decode_jpeg(img, channels=3)\n",
    "  img = tf.image.resize(img, [img_size, img_size], method=resize_method, antialias=anti_aliasing)\n",
    "  img = img / 255.\n",
    "  return img"
   ]
  },
  {
   "cell_type": "code",
   "execution_count": null,
   "metadata": {
    "executionInfo": {
     "elapsed": 12,
     "status": "ok",
     "timestamp": 1626427685033,
     "user": {
      "displayName": "Nico Guth",
      "photoUrl": "https://lh3.googleusercontent.com/a-/AOh14GjLU8mQVSscNU9ysknrBUGEMxsyfpLTAsLrcDvJfg=s64",
      "userId": "08893022833457968246"
     },
     "user_tz": -120
    },
    "id": "z0z76nHyV-h6"
   },
   "outputs": [],
   "source": [
    "def parse_mask_image(file_path):\n",
    "  img = tf.io.read_file(file_path)\n",
    "  img = tf.io.decode_png(img, channels=4)\n",
    "  img = tf.image.resize(img, [img_size, img_size], method=resize_method, antialias=anti_aliasing)\n",
    "  img = img[:,:,2]\n",
    "  img = img / 255.\n",
    "  mask = tf.greater(img,mask_threshold)\n",
    "  img = tf.where(mask, 1, 0)\n",
    "  return img"
   ]
  },
  {
   "cell_type": "code",
   "execution_count": null,
   "metadata": {
    "executionInfo": {
     "elapsed": 12,
     "status": "ok",
     "timestamp": 1626427685034,
     "user": {
      "displayName": "Nico Guth",
      "photoUrl": "https://lh3.googleusercontent.com/a-/AOh14GjLU8mQVSscNU9ysknrBUGEMxsyfpLTAsLrcDvJfg=s64",
      "userId": "08893022833457968246"
     },
     "user_tz": -120
    },
    "id": "ffGY_NKeXrI9"
   },
   "outputs": [],
   "source": [
    "def make_dataset(samples_df, batch_size):\n",
    "  # paths as Dataset\n",
    "  satellite_paths_ds = tf.data.Dataset.from_tensor_slices(samples_df['abs_satellite_path'])\n",
    "  mask_paths_ds = tf.data.Dataset.from_tensor_slices(samples_df['abs_mask_path'])\n",
    "  # images as Dataset\n",
    "  satellite_ds = satellite_paths_ds.map(parse_satellite_image, num_parallel_calls=tf.data.experimental.AUTOTUNE)\n",
    "  mask_ds = mask_paths_ds.map(parse_mask_image, num_parallel_calls=tf.data.experimental.AUTOTUNE)\n",
    "  # combine inputs and targets https://www.tensorflow.org/api_docs/python/tf/keras/Model#fit\n",
    "  ds = tf.data.Dataset.zip((satellite_ds, mask_ds))\n",
    "  # configure the Dataset for better performance\n",
    "  ds = ds.batch(batch_size)\n",
    "  ds = ds.prefetch(buffer_size=tf.data.experimental.AUTOTUNE)\n",
    "  ds = ds.cache()\n",
    "\n",
    "  return ds"
   ]
  },
  {
   "cell_type": "markdown",
   "metadata": {
    "id": "Ae-6QacDmL6l"
   },
   "source": [
    "# Split Training, Validation and Test Data"
   ]
  },
  {
   "cell_type": "code",
   "execution_count": null,
   "metadata": {
    "executionInfo": {
     "elapsed": 12,
     "status": "ok",
     "timestamp": 1626427685034,
     "user": {
      "displayName": "Nico Guth",
      "photoUrl": "https://lh3.googleusercontent.com/a-/AOh14GjLU8mQVSscNU9ysknrBUGEMxsyfpLTAsLrcDvJfg=s64",
      "userId": "08893022833457968246"
     },
     "user_tz": -120
    },
    "id": "ERuYIwP4mI0l"
   },
   "outputs": [],
   "source": [
    "# split in (train+val) and test\n",
    "samples_df_train_val, samples_df_test = train_test_split(samples_df, test_size=test_size, random_state=random_state)\n",
    "# split (train+val)\n",
    "samples_df_train, samples_df_val = train_test_split(samples_df_train_val, test_size=val_size, random_state=random_state)"
   ]
  },
  {
   "cell_type": "code",
   "execution_count": null,
   "metadata": {
    "colab": {
     "base_uri": "https://localhost:8080/"
    },
    "executionInfo": {
     "elapsed": 11,
     "status": "ok",
     "timestamp": 1626427685034,
     "user": {
      "displayName": "Nico Guth",
      "photoUrl": "https://lh3.googleusercontent.com/a-/AOh14GjLU8mQVSscNU9ysknrBUGEMxsyfpLTAsLrcDvJfg=s64",
      "userId": "08893022833457968246"
     },
     "user_tz": -120
    },
    "id": "yyanaMyJGa1W",
    "outputId": "1207adcb-fc72-4086-d0e0-e75ac94ea5e8"
   },
   "outputs": [],
   "source": [
    "print('Training Shape: ',samples_df_train.shape)\n",
    "print('Validation Shape: ',samples_df_val.shape)\n",
    "print('Test Shape: ',samples_df_test.shape)"
   ]
  },
  {
   "cell_type": "code",
   "execution_count": null,
   "metadata": {
    "executionInfo": {
     "elapsed": 837,
     "status": "ok",
     "timestamp": 1626427685862,
     "user": {
      "displayName": "Nico Guth",
      "photoUrl": "https://lh3.googleusercontent.com/a-/AOh14GjLU8mQVSscNU9ysknrBUGEMxsyfpLTAsLrcDvJfg=s64",
      "userId": "08893022833457968246"
     },
     "user_tz": -120
    },
    "id": "AIhdpVLAmuxk"
   },
   "outputs": [],
   "source": [
    "train_ds = make_dataset(samples_df_train, batch_size)\n",
    "val_ds = make_dataset(samples_df_val, batch_size)\n",
    "test_ds = make_dataset(samples_df_test, batch_size)"
   ]
  },
  {
   "cell_type": "markdown",
   "metadata": {
    "id": "aguM7To-ECgC"
   },
   "source": [
    "# Test Feature Extraction"
   ]
  },
  {
   "cell_type": "code",
   "execution_count": null,
   "metadata": {
    "executionInfo": {
     "elapsed": 3,
     "status": "ok",
     "timestamp": 1626427685862,
     "user": {
      "displayName": "Nico Guth",
      "photoUrl": "https://lh3.googleusercontent.com/a-/AOh14GjLU8mQVSscNU9ysknrBUGEMxsyfpLTAsLrcDvJfg=s64",
      "userId": "08893022833457968246"
     },
     "user_tz": -120
    },
    "id": "gqXfPzVIiTBp"
   },
   "outputs": [],
   "source": [
    "def show_images(X,Ys,names,fig_height=4):\n",
    "  'Plots X and multiple Y'\n",
    "  if not isinstance(Ys,list):\n",
    "    Ys = [Ys]\n",
    "  if not isinstance(names,list):\n",
    "    names = [names]\n",
    "  cols = 1 + len(Ys)\n",
    "  for i in range(X.shape[0]):\n",
    "    fig,axs = plt.subplots(1,cols,figsize=(fig_height*cols,fig_height))\n",
    "    axs[0].axis('off')\n",
    "    axs[0].imshow(X[i])\n",
    "    axs[0].set_title('Satellite')\n",
    "    for j,(Y,name) in enumerate(zip(Ys,names)):\n",
    "      axs[j+1].axis('off')\n",
    "      axs[j+1].imshow(Y[i])\n",
    "      axs[j+1].set_title(name)\n",
    "    plt.show()"
   ]
  },
  {
   "cell_type": "code",
   "execution_count": null,
   "metadata": {
    "executionInfo": {
     "elapsed": 2,
     "status": "ok",
     "timestamp": 1626427685862,
     "user": {
      "displayName": "Nico Guth",
      "photoUrl": "https://lh3.googleusercontent.com/a-/AOh14GjLU8mQVSscNU9ysknrBUGEMxsyfpLTAsLrcDvJfg=s64",
      "userId": "08893022833457968246"
     },
     "user_tz": -120
    },
    "id": "a32XY5huJH7v"
   },
   "outputs": [],
   "source": [
    "class FeatureExtractionLayer(layers.Layer):\n",
    "  def call(self, inputs):\n",
    "    # gray image\n",
    "    inputs_gray = tf.image.rgb_to_grayscale(inputs)\n",
    "    # gradient\n",
    "    dy, dx = tf.image.image_gradients(inputs)\n",
    "    grad = tf.stack([dx,dy],axis=-1)\n",
    "    grad = tf.norm(grad, axis=-1)\n",
    "    grad = grad * 2\n",
    "    # gray gradient\n",
    "    grad_gray = tf.image.rgb_to_grayscale(grad)\n",
    "    # combine all\n",
    "    all_features = tf.concat([inputs,inputs_gray,grad,grad_gray],axis=-1)\n",
    "    return all_features"
   ]
  },
  {
   "cell_type": "code",
   "execution_count": null,
   "metadata": {
    "colab": {
     "base_uri": "https://localhost:8080/"
    },
    "executionInfo": {
     "elapsed": 1059,
     "status": "ok",
     "timestamp": 1626427686919,
     "user": {
      "displayName": "Nico Guth",
      "photoUrl": "https://lh3.googleusercontent.com/a-/AOh14GjLU8mQVSscNU9ysknrBUGEMxsyfpLTAsLrcDvJfg=s64",
      "userId": "08893022833457968246"
     },
     "user_tz": -120
    },
    "id": "JpqbuVbvined",
    "outputId": "87941196-4251-4c69-8bd5-c8e74d01e8fe"
   },
   "outputs": [],
   "source": [
    "X = list(train_ds.take(1))[0][0]\n",
    "Y = list(train_ds.take(1))[0][1]\n",
    "X.shape, Y.shape"
   ]
  },
  {
   "cell_type": "code",
   "execution_count": null,
   "metadata": {
    "colab": {
     "base_uri": "https://localhost:8080/"
    },
    "executionInfo": {
     "elapsed": 417,
     "status": "ok",
     "timestamp": 1626427687334,
     "user": {
      "displayName": "Nico Guth",
      "photoUrl": "https://lh3.googleusercontent.com/a-/AOh14GjLU8mQVSscNU9ysknrBUGEMxsyfpLTAsLrcDvJfg=s64",
      "userId": "08893022833457968246"
     },
     "user_tz": -120
    },
    "id": "lmH8VHxriT70",
    "outputId": "12a0e467-9c06-4176-8f80-3f97a096f29e"
   },
   "outputs": [],
   "source": [
    "X_features = FeatureExtractionLayer()(X[:5])\n",
    "X_features.shape"
   ]
  },
  {
   "cell_type": "code",
   "execution_count": null,
   "metadata": {
    "colab": {
     "base_uri": "https://localhost:8080/"
    },
    "executionInfo": {
     "elapsed": 5,
     "status": "ok",
     "timestamp": 1626427687334,
     "user": {
      "displayName": "Nico Guth",
      "photoUrl": "https://lh3.googleusercontent.com/a-/AOh14GjLU8mQVSscNU9ysknrBUGEMxsyfpLTAsLrcDvJfg=s64",
      "userId": "08893022833457968246"
     },
     "user_tz": -120
    },
    "id": "pJa6xGOOkooj",
    "outputId": "0e3493eb-2c2c-4b29-cbc3-8833f3124bfd"
   },
   "outputs": [],
   "source": [
    "tf.math.reduce_max(X_features,axis=(0,1,2))"
   ]
  },
  {
   "cell_type": "code",
   "execution_count": null,
   "metadata": {
    "colab": {
     "base_uri": "https://localhost:8080/"
    },
    "executionInfo": {
     "elapsed": 4,
     "status": "ok",
     "timestamp": 1626427687334,
     "user": {
      "displayName": "Nico Guth",
      "photoUrl": "https://lh3.googleusercontent.com/a-/AOh14GjLU8mQVSscNU9ysknrBUGEMxsyfpLTAsLrcDvJfg=s64",
      "userId": "08893022833457968246"
     },
     "user_tz": -120
    },
    "id": "MKPm4nIfjAWI",
    "outputId": "3acdf268-7a28-4e4a-f42c-789fd2d57906"
   },
   "outputs": [],
   "source": [
    "X_satellite = X_features[...,0:3]\n",
    "X_satellite_gray = X_features[...,3]\n",
    "X_grad = X_features[...,4:7]\n",
    "X_grad_gray = X_features[...,7]\n",
    "X_satellite.shape, X_satellite_gray.shape, X_grad.shape, X_grad_gray.shape"
   ]
  },
  {
   "cell_type": "code",
   "execution_count": null,
   "metadata": {
    "colab": {
     "base_uri": "https://localhost:8080/",
     "height": 1000
    },
    "executionInfo": {
     "elapsed": 6943,
     "status": "ok",
     "timestamp": 1626427694275,
     "user": {
      "displayName": "Nico Guth",
      "photoUrl": "https://lh3.googleusercontent.com/a-/AOh14GjLU8mQVSscNU9ysknrBUGEMxsyfpLTAsLrcDvJfg=s64",
      "userId": "08893022833457968246"
     },
     "user_tz": -120
    },
    "id": "exRTEzRZjhK9",
    "outputId": "80b50a0e-f33c-4345-8739-13febcff73db"
   },
   "outputs": [],
   "source": [
    "X = X_satellite\n",
    "Ys = [X_satellite_gray,X_grad,X_grad_gray]\n",
    "names = ['Satellite Gray','Gradient','Gradient Gray']\n",
    "show_images(X,Ys,names)"
   ]
  },
  {
   "cell_type": "markdown",
   "metadata": {
    "id": "NSZQ004uE5qj"
   },
   "source": [
    "## Build alternative model\n"
   ]
  },
  {
   "cell_type": "code",
   "execution_count": null,
   "metadata": {
    "executionInfo": {
     "elapsed": 361,
     "status": "ok",
     "timestamp": 1626428637747,
     "user": {
      "displayName": "Nico Guth",
      "photoUrl": "https://lh3.googleusercontent.com/a-/AOh14GjLU8mQVSscNU9ysknrBUGEMxsyfpLTAsLrcDvJfg=s64",
      "userId": "08893022833457968246"
     },
     "user_tz": -120
    },
    "id": "ieSlG-SWeCdR"
   },
   "outputs": [],
   "source": [
    "def build_model(params):\n",
    "  inputs = layers.Input((img_size, img_size, 3))\n",
    "\n",
    "  # feature extraction\n",
    "  last = FeatureExtractionLayer()(inputs)\n",
    "\n",
    "  # Neural Network\n",
    "  last = layers.Reshape((-1, last.shape[-1]))(last)\n",
    "  last = layers.Dense(256, activation='relu')(last)\n",
    "  last = layers.Dense(256, activation='relu')(last)\n",
    "  last = layers.Dense(1, activation='sigmoid')(last)\n",
    "  \n",
    "  outputs = layers.Reshape((img_size,img_size))(last)\n",
    "  \n",
    "  model = tf.keras.Model(inputs=[inputs], outputs=[outputs])\n",
    "  optimizer = Adam(learning_rate=params['learning_rate'])\n",
    "  optimizer = Adam(learning_rate=0.1)\n",
    "  model.compile(optimizer=optimizer, loss=params['loss'], metrics=params['metrics'])\n",
    "  \n",
    "  return model"
   ]
  },
  {
   "cell_type": "code",
   "execution_count": null,
   "metadata": {
    "colab": {
     "base_uri": "https://localhost:8080/"
    },
    "executionInfo": {
     "elapsed": 3,
     "status": "ok",
     "timestamp": 1626428638907,
     "user": {
      "displayName": "Nico Guth",
      "photoUrl": "https://lh3.googleusercontent.com/a-/AOh14GjLU8mQVSscNU9ysknrBUGEMxsyfpLTAsLrcDvJfg=s64",
      "userId": "08893022833457968246"
     },
     "user_tz": -120
    },
    "id": "ckN1mKO-0Pwl",
    "outputId": "46147dd4-e96a-4ca8-b441-e71c89ac140b"
   },
   "outputs": [],
   "source": [
    "model = build_model(params)\n",
    "model.summary()"
   ]
  },
  {
   "cell_type": "code",
   "execution_count": null,
   "metadata": {
    "colab": {
     "base_uri": "https://localhost:8080/",
     "height": 516
    },
    "executionInfo": {
     "elapsed": 12174,
     "status": "error",
     "timestamp": 1626428653443,
     "user": {
      "displayName": "Nico Guth",
      "photoUrl": "https://lh3.googleusercontent.com/a-/AOh14GjLU8mQVSscNU9ysknrBUGEMxsyfpLTAsLrcDvJfg=s64",
      "userId": "08893022833457968246"
     },
     "user_tz": -120
    },
    "id": "iPWL5PgHS-VJ",
    "outputId": "1a6e9cc0-fef5-4917-d0d8-1a36e0379d11"
   },
   "outputs": [],
   "source": [
    "results = model.fit(train_ds, validation_data=val_ds, batch_size=batch_size, epochs=epochs)"
   ]
  },
  {
   "cell_type": "code",
   "execution_count": null,
   "metadata": {
    "executionInfo": {
     "elapsed": 7,
     "status": "ok",
     "timestamp": 1626427907956,
     "user": {
      "displayName": "Nico Guth",
      "photoUrl": "https://lh3.googleusercontent.com/a-/AOh14GjLU8mQVSscNU9ysknrBUGEMxsyfpLTAsLrcDvJfg=s64",
      "userId": "08893022833457968246"
     },
     "user_tz": -120
    },
    "id": "cAlwJUAW0S5A"
   },
   "outputs": [],
   "source": [
    "def plot_history(network_history,figsize=(8,5)):\n",
    "  history_keys = [key for key in network_history.history.keys() if not key.startswith('val_')]\n",
    "  for key in history_keys:\n",
    "    plt.figure(figsize=figsize)\n",
    "    plt.plot(network_history.history[key])\n",
    "    plt.plot(network_history.history[f'val_{key}'])\n",
    "    plt.title(f'model {key}')\n",
    "    plt.ylabel(key)\n",
    "    plt.xlabel('epoch')\n",
    "    plt.legend(['training', 'validation'], loc='upper right')\n",
    "    plt.tight_layout()\n",
    "    plt.show()"
   ]
  },
  {
   "cell_type": "code",
   "execution_count": null,
   "metadata": {
    "colab": {
     "base_uri": "https://localhost:8080/",
     "height": 721
    },
    "executionInfo": {
     "elapsed": 563,
     "status": "ok",
     "timestamp": 1626427908514,
     "user": {
      "displayName": "Nico Guth",
      "photoUrl": "https://lh3.googleusercontent.com/a-/AOh14GjLU8mQVSscNU9ysknrBUGEMxsyfpLTAsLrcDvJfg=s64",
      "userId": "08893022833457968246"
     },
     "user_tz": -120
    },
    "id": "N6KrdeXe0cSQ",
    "outputId": "c81b6e27-8247-4098-f76f-781b49c1f9c8"
   },
   "outputs": [],
   "source": [
    "plot_history(results)"
   ]
  },
  {
   "cell_type": "markdown",
   "metadata": {
    "id": "BlObRHK8PPtV"
   },
   "source": [
    "# Functions for Evaluation"
   ]
  },
  {
   "cell_type": "code",
   "execution_count": null,
   "metadata": {
    "executionInfo": {
     "elapsed": 10,
     "status": "ok",
     "timestamp": 1626427908514,
     "user": {
      "displayName": "Nico Guth",
      "photoUrl": "https://lh3.googleusercontent.com/a-/AOh14GjLU8mQVSscNU9ysknrBUGEMxsyfpLTAsLrcDvJfg=s64",
      "userId": "08893022833457968246"
     },
     "user_tz": -120
    },
    "id": "l3QE5z_tVeYp"
   },
   "outputs": [],
   "source": [
    "# function for image reading\n",
    "def read_satellite_img(filepath):\n",
    "  img = io.imread(filepath)\n",
    "  img = resize(img, output_shape=(img_size,img_size), anti_aliasing=anti_aliasing, preserve_range=True)\n",
    "  img = img / 255.\n",
    "  return img\n",
    "\n",
    "def read_mask_img(filepath):\n",
    "  img = io.imread(filepath)\n",
    "  if len(img.shape) > 2:\n",
    "    img = img[:,:,2]\n",
    "  img = resize(img, output_shape=(img_size,img_size), anti_aliasing=anti_aliasing, preserve_range=True)\n",
    "  img = img / 255.\n",
    "  mask = img > mask_threshold\n",
    "  img[mask] = 1\n",
    "  img[~mask] = 0\n",
    "  return img"
   ]
  },
  {
   "cell_type": "code",
   "execution_count": null,
   "metadata": {
    "executionInfo": {
     "elapsed": 9,
     "status": "ok",
     "timestamp": 1626427908514,
     "user": {
      "displayName": "Nico Guth",
      "photoUrl": "https://lh3.googleusercontent.com/a-/AOh14GjLU8mQVSscNU9ysknrBUGEMxsyfpLTAsLrcDvJfg=s64",
      "userId": "08893022833457968246"
     },
     "user_tz": -120
    },
    "id": "Q4aSl02hWCTO"
   },
   "outputs": [],
   "source": [
    "# function to load a batch of images\n",
    "def load_img_batch(samples_df,ids):\n",
    "  satellite_imgs = samples_df.loc[ids,'abs_satellite_path'].progress_apply(read_satellite_img)\n",
    "  mask_imgs = samples_df.loc[ids,'abs_mask_path'].progress_apply(read_mask_img)\n",
    "\n",
    "  satellite_imgs = np.stack(satellite_imgs.to_numpy())\n",
    "  mask_imgs = np.stack(mask_imgs.to_numpy())\n",
    "\n",
    "  return satellite_imgs, mask_imgs"
   ]
  },
  {
   "cell_type": "code",
   "execution_count": null,
   "metadata": {
    "executionInfo": {
     "elapsed": 9,
     "status": "ok",
     "timestamp": 1626427908515,
     "user": {
      "displayName": "Nico Guth",
      "photoUrl": "https://lh3.googleusercontent.com/a-/AOh14GjLU8mQVSscNU9ysknrBUGEMxsyfpLTAsLrcDvJfg=s64",
      "userId": "08893022833457968246"
     },
     "user_tz": -120
    },
    "id": "0kTxlAjepqyX"
   },
   "outputs": [],
   "source": [
    "# function to show some samples (with or without the predictions)\n",
    "def show_sample(X, Y, samples_df, ids, Y_pred=None, threshold=None, sample_size=10, fig_height=4):\n",
    "  rnd_sample_indices = np.random.random_integers(low=0,high=X.shape[0]-1,size=sample_size)\n",
    "  cols = 2 if Y_pred is None else 3\n",
    "  if Y_pred is None:\n",
    "    cols = 2\n",
    "  elif threshold is not None:\n",
    "    cols = 4\n",
    "  else:\n",
    "    cols = 3\n",
    "\n",
    "  for i in rnd_sample_indices:\n",
    "    fig, axs = plt.subplots(1,cols, figsize=(fig_height*cols,fig_height))\n",
    "    axs[0].set_title(f'Country: {samples_df.loc[ids[i],\"country\"]}')\n",
    "    axs[0].imshow(X[i])\n",
    "    axs[1].set_title('Given Mask')\n",
    "    axs[1].imshow(Y[i])\n",
    "    if Y_pred is not None:\n",
    "      axs[2].set_title('Prediction')\n",
    "      axs[2].imshow(Y_pred[i])\n",
    "      if threshold is not None:\n",
    "        Y_pred_mask = Y_pred[i] >= threshold\n",
    "        Y_pred[i,Y_pred_mask] = 1\n",
    "        Y_pred[i,~Y_pred_mask] = 0\n",
    "        axs[3].set_title(f'Prediction with threshold = {threshold}')\n",
    "        axs[3].imshow(Y_pred[i])\n",
    "\n",
    "    for ax in axs:\n",
    "      ax.set_xticks([])\n",
    "      ax.set_yticks([])\n",
    "    fig.tight_layout()"
   ]
  },
  {
   "cell_type": "markdown",
   "metadata": {
    "id": "9_Dxc8YaNHaq"
   },
   "source": [
    "# Evaluate Training"
   ]
  },
  {
   "cell_type": "code",
   "execution_count": null,
   "metadata": {
    "colab": {
     "base_uri": "https://localhost:8080/",
     "height": 118,
     "referenced_widgets": [
      "a6fd61ae20414a478a52159c9be775b0",
      "fe4e92716e9244fca0f3c623448f2931",
      "7312771d569c4c199ae1195baebe9640",
      "127acbbcca594f19bc3d55442929ac23",
      "682a2d625da94a81a7fca058bef8cc9d",
      "5776d948931b46febfda59e9d81cbade",
      "625408b5436c461ba411a4ea910d4226",
      "a4f0ac2e03ea4e6c903170488ac01667",
      "8255699aa8334f6e9bec4f4f1c869d0b",
      "accc12b307184675b71be303ba16ab29",
      "88a15f42399341309c4644d3fd08b101",
      "37dc74033bd44da894d327053e1b4e4d",
      "89855550136d44c1bc1b03d27ce7385b",
      "cfd6a66855af4dde8372ed64b0d9cc91",
      "2cde53c96fb14d59b7decc9f8d518475",
      "bcf02f84faed49b59550134ff257aa1d"
     ]
    },
    "executionInfo": {
     "elapsed": 21629,
     "status": "ok",
     "timestamp": 1626427930135,
     "user": {
      "displayName": "Nico Guth",
      "photoUrl": "https://lh3.googleusercontent.com/a-/AOh14GjLU8mQVSscNU9ysknrBUGEMxsyfpLTAsLrcDvJfg=s64",
      "userId": "08893022833457968246"
     },
     "user_tz": -120
    },
    "id": "-cW2k92MPYqm",
    "outputId": "9ec7563a-78bd-4c60-b70c-ec31bd0afb52"
   },
   "outputs": [],
   "source": [
    "X_train, Y_train = load_img_batch(samples_df,samples_df_train.index)"
   ]
  },
  {
   "cell_type": "code",
   "execution_count": null,
   "metadata": {
    "colab": {
     "base_uri": "https://localhost:8080/"
    },
    "executionInfo": {
     "elapsed": 6,
     "status": "ok",
     "timestamp": 1626427930136,
     "user": {
      "displayName": "Nico Guth",
      "photoUrl": "https://lh3.googleusercontent.com/a-/AOh14GjLU8mQVSscNU9ysknrBUGEMxsyfpLTAsLrcDvJfg=s64",
      "userId": "08893022833457968246"
     },
     "user_tz": -120
    },
    "id": "PucxQ6mMQKxF",
    "outputId": "c294f649-eb88-460f-94c6-56a78d6a8560"
   },
   "outputs": [],
   "source": [
    "X_train.shape, Y_train.shape"
   ]
  },
  {
   "cell_type": "code",
   "execution_count": null,
   "metadata": {
    "executionInfo": {
     "elapsed": 5737,
     "status": "ok",
     "timestamp": 1626427935869,
     "user": {
      "displayName": "Nico Guth",
      "photoUrl": "https://lh3.googleusercontent.com/a-/AOh14GjLU8mQVSscNU9ysknrBUGEMxsyfpLTAsLrcDvJfg=s64",
      "userId": "08893022833457968246"
     },
     "user_tz": -120
    },
    "id": "9DLtYwvWNGha"
   },
   "outputs": [],
   "source": [
    "Y_pred = model.predict(train_ds)"
   ]
  },
  {
   "cell_type": "code",
   "execution_count": null,
   "metadata": {
    "colab": {
     "base_uri": "https://localhost:8080/"
    },
    "executionInfo": {
     "elapsed": 5,
     "status": "ok",
     "timestamp": 1626427935869,
     "user": {
      "displayName": "Nico Guth",
      "photoUrl": "https://lh3.googleusercontent.com/a-/AOh14GjLU8mQVSscNU9ysknrBUGEMxsyfpLTAsLrcDvJfg=s64",
      "userId": "08893022833457968246"
     },
     "user_tz": -120
    },
    "id": "dtpsgDxENhGh",
    "outputId": "77ae344d-cb1d-4da5-db4a-1a7174d2129a"
   },
   "outputs": [],
   "source": [
    "type(Y_pred),Y_pred.shape"
   ]
  },
  {
   "cell_type": "code",
   "execution_count": null,
   "metadata": {
    "colab": {
     "base_uri": "https://localhost:8080/"
    },
    "executionInfo": {
     "elapsed": 487,
     "status": "ok",
     "timestamp": 1626427936353,
     "user": {
      "displayName": "Nico Guth",
      "photoUrl": "https://lh3.googleusercontent.com/a-/AOh14GjLU8mQVSscNU9ysknrBUGEMxsyfpLTAsLrcDvJfg=s64",
      "userId": "08893022833457968246"
     },
     "user_tz": -120
    },
    "id": "g8LuLvLcQpZ_",
    "outputId": "98b79522-c62f-4a4d-822c-4bcae40839a9"
   },
   "outputs": [],
   "source": [
    "np.unique(Y_pred)"
   ]
  },
  {
   "cell_type": "code",
   "execution_count": null,
   "metadata": {
    "colab": {
     "base_uri": "https://localhost:8080/",
     "height": 276
    },
    "executionInfo": {
     "elapsed": 606,
     "status": "ok",
     "timestamp": 1626427936956,
     "user": {
      "displayName": "Nico Guth",
      "photoUrl": "https://lh3.googleusercontent.com/a-/AOh14GjLU8mQVSscNU9ysknrBUGEMxsyfpLTAsLrcDvJfg=s64",
      "userId": "08893022833457968246"
     },
     "user_tz": -120
    },
    "id": "0gH0n_ocRM6b",
    "outputId": "aa68527e-9263-4497-a94a-68bcb495221d"
   },
   "outputs": [],
   "source": [
    "plt.hist(Y_pred[Y_train == 1].flatten(),histtype='step',bins=30,label='Water')\n",
    "plt.hist(Y_pred[Y_train == 0].flatten(),histtype='step',bins=30,label='No Water')\n",
    "plt.legend();"
   ]
  },
  {
   "cell_type": "code",
   "execution_count": null,
   "metadata": {
    "colab": {
     "base_uri": "https://localhost:8080/",
     "height": 1000
    },
    "executionInfo": {
     "elapsed": 8052,
     "status": "ok",
     "timestamp": 1626427945004,
     "user": {
      "displayName": "Nico Guth",
      "photoUrl": "https://lh3.googleusercontent.com/a-/AOh14GjLU8mQVSscNU9ysknrBUGEMxsyfpLTAsLrcDvJfg=s64",
      "userId": "08893022833457968246"
     },
     "user_tz": -120
    },
    "id": "YpOkrHG5QP5K",
    "outputId": "ffe28ed6-d247-4b15-e9da-333bf9848d4a"
   },
   "outputs": [],
   "source": [
    "show_sample(X_train,Y_train,samples_df,samples_df_train.index,Y_pred,threshold=0.2)"
   ]
  },
  {
   "cell_type": "markdown",
   "metadata": {
    "id": "tSFsqNcuNb57"
   },
   "source": [
    "# Save Model"
   ]
  },
  {
   "cell_type": "code",
   "execution_count": null,
   "metadata": {
    "executionInfo": {
     "elapsed": 14,
     "status": "ok",
     "timestamp": 1626427945005,
     "user": {
      "displayName": "Nico Guth",
      "photoUrl": "https://lh3.googleusercontent.com/a-/AOh14GjLU8mQVSscNU9ysknrBUGEMxsyfpLTAsLrcDvJfg=s64",
      "userId": "08893022833457968246"
     },
     "user_tz": -120
    },
    "id": "5xwWsuSm-TRE"
   },
   "outputs": [],
   "source": [
    "#model.save(f'/content/drive/MyDrive/ML_Project_Satellite_Images/models/{model_name}.h5')"
   ]
  },
  {
   "cell_type": "code",
   "execution_count": null,
   "metadata": {
    "executionInfo": {
     "elapsed": 13,
     "status": "ok",
     "timestamp": 1626427945005,
     "user": {
      "displayName": "Nico Guth",
      "photoUrl": "https://lh3.googleusercontent.com/a-/AOh14GjLU8mQVSscNU9ysknrBUGEMxsyfpLTAsLrcDvJfg=s64",
      "userId": "08893022833457968246"
     },
     "user_tz": -120
    },
    "id": "tFaSVEoDHFVt"
   },
   "outputs": [],
   "source": [
    "sample_ids = {\n",
    "    'train_ids':samples_df_train.index.to_list(),\n",
    "    'val_ids':samples_df_val.index.to_list(),\n",
    "    'test_ids':samples_df_test.index.to_list()\n",
    "  }"
   ]
  },
  {
   "cell_type": "code",
   "execution_count": null,
   "metadata": {
    "colab": {
     "base_uri": "https://localhost:8080/",
     "height": 136
    },
    "executionInfo": {
     "elapsed": 16,
     "status": "error",
     "timestamp": 1626427945008,
     "user": {
      "displayName": "Nico Guth",
      "photoUrl": "https://lh3.googleusercontent.com/a-/AOh14GjLU8mQVSscNU9ysknrBUGEMxsyfpLTAsLrcDvJfg=s64",
      "userId": "08893022833457968246"
     },
     "user_tz": -120
    },
    "id": "R4k5mffwGv2x",
    "outputId": "71f682c3-9230-4bdd-c4c1-005b33ca658c"
   },
   "outputs": [],
   "source": [
    "with open(f'/content/drive/MyDrive/ML_Project_Satellite_Images/models/{model_name}.json', 'w') as f:\n",
    "    #json.dump(sample_ids, f)"
   ]
  },
  {
   "cell_type": "markdown",
   "metadata": {
    "id": "LCXm_0YU-rJm"
   },
   "source": [
    "drive.flush_and_unmount()\n",
    "print('All changes made in this colab session should now be visible in Drive.')"
   ]
  },
  {
   "cell_type": "code",
   "execution_count": null,
   "metadata": {
    "executionInfo": {
     "elapsed": 13,
     "status": "aborted",
     "timestamp": 1626427945007,
     "user": {
      "displayName": "Nico Guth",
      "photoUrl": "https://lh3.googleusercontent.com/a-/AOh14GjLU8mQVSscNU9ysknrBUGEMxsyfpLTAsLrcDvJfg=s64",
      "userId": "08893022833457968246"
     },
     "user_tz": -120
    },
    "id": "8gu6FRWb4YgK"
   },
   "outputs": [],
   "source": []
  }
 ],
 "metadata": {
  "accelerator": "GPU",
  "colab": {
   "collapsed_sections": [],
   "name": "alternative_neural_network.ipynb",
   "provenance": [
    {
     "file_id": "1oRsA-lCQ7GP7qVycy9ph_Rq7w2e5E2ur",
     "timestamp": 1624906132931
    },
    {
     "file_id": "1zYdYA0Dsh-jRRsiQppLJEnBiBVrUJMvR",
     "timestamp": 1624892651453
    }
   ]
  },
  "kernelspec": {
   "display_name": "Python 3",
   "name": "python3"
  },
  "language_info": {
   "name": "python"
  }
 },
 "nbformat": 4,
 "nbformat_minor": 0
}
