{
 "cells": [
  {
   "cell_type": "markdown",
   "metadata": {
    "id": "aYJpHOrhNIm2"
   },
   "source": [
    "# Evaluate the models that are saved in the models folder"
   ]
  },
  {
   "cell_type": "markdown",
   "metadata": {
    "id": "DIIyogNgVbPU"
   },
   "source": [
    "# Imports\n",
    "\n",
    "removed checking if in CoLab"
   ]
  },
  {
   "cell_type": "code",
   "execution_count": null,
   "metadata": {
    "colab": {
     "base_uri": "https://localhost:8080/"
    },
    "executionInfo": {
     "elapsed": 9931,
     "status": "ok",
     "timestamp": 1626357429637,
     "user": {
      "displayName": "Nico Guth",
      "photoUrl": "https://lh3.googleusercontent.com/a-/AOh14GjLU8mQVSscNU9ysknrBUGEMxsyfpLTAsLrcDvJfg=s64",
      "userId": "08893022833457968246"
     },
     "user_tz": -120
    },
    "id": "boRPVBP0bXy4",
    "outputId": "d2806ed3-7f8d-444e-9244-4f09369b9b9f"
   },
   "outputs": [],
   "source": [
    "!pip install -U scikit-image"
   ]
  },
  {
   "cell_type": "code",
   "execution_count": null,
   "metadata": {
    "id": "OKxRRUUDSi0c"
   },
   "outputs": [],
   "source": [
    "#imports\n",
    "from platform import python_version\n",
    "\n",
    "#basic python stuff\n",
    "import os\n",
    "import json\n",
    "from pathlib import Path\n",
    "\n",
    "#basics from the SciPy Stack\n",
    "import numpy as np\n",
    "import pandas as pd\n",
    "import matplotlib.pyplot as plt\n",
    "\n",
    "#colab stuff\n",
    "from google.colab import drive\n",
    "\n",
    "#data managing\n",
    "from sklearn.model_selection import train_test_split\n",
    "from skimage import io #read in images\n",
    "from skimage.transform import resize\n",
    "\n",
    "#model\n",
    "%tensorflow_version 2.x\n",
    "import tensorflow as tf\n",
    "\n",
    "# evaluation\n",
    "import sklearn\n",
    "\n",
    "#progress bar\n",
    "from tqdm.notebook import tqdm"
   ]
  },
  {
   "cell_type": "code",
   "execution_count": null,
   "metadata": {
    "colab": {
     "base_uri": "https://localhost:8080/"
    },
    "executionInfo": {
     "elapsed": 10,
     "status": "ok",
     "timestamp": 1626357432136,
     "user": {
      "displayName": "Nico Guth",
      "photoUrl": "https://lh3.googleusercontent.com/a-/AOh14GjLU8mQVSscNU9ysknrBUGEMxsyfpLTAsLrcDvJfg=s64",
      "userId": "08893022833457968246"
     },
     "user_tz": -120
    },
    "id": "KjrZQySaYGYu",
    "outputId": "c1abae1e-7b6b-4501-a793-0132145a6e9a"
   },
   "outputs": [],
   "source": [
    "# settings\n",
    "\n",
    "# implements progress_apply into pandas\n",
    "tqdm.pandas(desc='Pandas_Progress')"
   ]
  },
  {
   "cell_type": "code",
   "execution_count": null,
   "metadata": {
    "colab": {
     "base_uri": "https://localhost:8080/"
    },
    "executionInfo": {
     "elapsed": 8,
     "status": "ok",
     "timestamp": 1626357432136,
     "user": {
      "displayName": "Nico Guth",
      "photoUrl": "https://lh3.googleusercontent.com/a-/AOh14GjLU8mQVSscNU9ysknrBUGEMxsyfpLTAsLrcDvJfg=s64",
      "userId": "08893022833457968246"
     },
     "user_tz": -120
    },
    "id": "rmJPflTiYHAO",
    "outputId": "24cd5d89-8498-4292-dc15-2c9389dd96a9"
   },
   "outputs": [],
   "source": [
    "print(\"Tensorflow version\", tf.__version__)\n",
    "print(\"Python version =\",python_version())"
   ]
  },
  {
   "cell_type": "code",
   "execution_count": null,
   "metadata": {
    "colab": {
     "base_uri": "https://localhost:8080/"
    },
    "executionInfo": {
     "elapsed": 15783,
     "status": "ok",
     "timestamp": 1626357447914,
     "user": {
      "displayName": "Nico Guth",
      "photoUrl": "https://lh3.googleusercontent.com/a-/AOh14GjLU8mQVSscNU9ysknrBUGEMxsyfpLTAsLrcDvJfg=s64",
      "userId": "08893022833457968246"
     },
     "user_tz": -120
    },
    "id": "GWgVWLihTLc4",
    "outputId": "69a13ff3-5caa-4d64-da34-0c6007f317d7"
   },
   "outputs": [],
   "source": [
    "# get access to drive\n",
    "drive.mount('/content/drive')"
   ]
  },
  {
   "cell_type": "code",
   "execution_count": null,
   "metadata": {
    "id": "fqT0DveHJAk0"
   },
   "outputs": [],
   "source": [
    "# import local python files\n",
    "import importlib.util\n",
    "\n",
    "# https://github.com/maxvfischer/keras-image-segmentation-loss-functions\n",
    "spec = importlib.util.spec_from_file_location(\"binary_losses\", \"/content/drive/MyDrive/ML_Project_Satellite_Images/binary_losses.py\")\n",
    "binary_losses = importlib.util.module_from_spec(spec)\n",
    "spec.loader.exec_module(binary_losses)"
   ]
  },
  {
   "cell_type": "markdown",
   "metadata": {
    "id": "uMJVXvRrWdYV"
   },
   "source": [
    "# Data Constants"
   ]
  },
  {
   "cell_type": "code",
   "execution_count": null,
   "metadata": {
    "id": "r8UN5uSPWdG3"
   },
   "outputs": [],
   "source": [
    "# data preprocessing\n",
    "img_size = 128\n",
    "anti_aliasing = True\n",
    "mask_threshold = 0.5\n",
    "\n",
    "# for loading the model\n",
    "model_name = 'large_skip_5000_128px_32_filters_04_dropout'\n",
    "\n",
    "custom_objects_dict = None # use this normally\n",
    "#custom_objects_dict = {'loss':binary_losses.binary_balanced_cross_entropy(beta=1.)} # use this for custom loss functions"
   ]
  },
  {
   "cell_type": "markdown",
   "metadata": {
    "id": "iZxMDwBNV3yx"
   },
   "source": [
    "# Retrieve the Dataset"
   ]
  },
  {
   "cell_type": "code",
   "execution_count": null,
   "metadata": {
    "id": "xstIW12OVWmg"
   },
   "outputs": [],
   "source": [
    "# unzip data\n",
    "!unzip -n -q /content/drive/MyDrive/ML_Project_Satellite_Images/data/current_dataset.zip -d /content/"
   ]
  },
  {
   "cell_type": "code",
   "execution_count": null,
   "metadata": {
    "colab": {
     "base_uri": "https://localhost:8080/",
     "height": 455
    },
    "executionInfo": {
     "elapsed": 475,
     "status": "ok",
     "timestamp": 1626357476959,
     "user": {
      "displayName": "Nico Guth",
      "photoUrl": "https://lh3.googleusercontent.com/a-/AOh14GjLU8mQVSscNU9ysknrBUGEMxsyfpLTAsLrcDvJfg=s64",
      "userId": "08893022833457968246"
     },
     "user_tz": -120
    },
    "id": "6RZbQx-RrVAv",
    "outputId": "a7d054d9-956a-4d1f-d668-65c07bb0c42b"
   },
   "outputs": [],
   "source": [
    "# read in samples.csv with information about the images\n",
    "samples_df = pd.read_csv('/content/dataset/samples.csv')\n",
    "samples_df.set_index('id', inplace=True)\n",
    "samples_df"
   ]
  },
  {
   "cell_type": "code",
   "execution_count": null,
   "metadata": {
    "id": "w0vVHx7OtNXx"
   },
   "outputs": [],
   "source": [
    "# paths to the sat/mask folder\n",
    "path_sat_folder = '/content/dataset/images/satellite/'\n",
    "path_mask_folder = '/content/dataset/images/mask/'"
   ]
  },
  {
   "cell_type": "code",
   "execution_count": null,
   "metadata": {
    "id": "GwCoDvQGtsy8"
   },
   "outputs": [],
   "source": [
    "# append absoulute paths of the images to the dataframe\n",
    "samples_df['abs_satellite_path'] = samples_df['satellite_file'].apply(lambda x: path_sat_folder+x)\n",
    "samples_df['abs_mask_path'] = samples_df['mask_file'].apply(lambda x: path_mask_folder+x)"
   ]
  },
  {
   "cell_type": "markdown",
   "metadata": {
    "id": "UZjmV5IQW5jr"
   },
   "source": [
    "# Functions for Image reading and plotting"
   ]
  },
  {
   "cell_type": "code",
   "execution_count": null,
   "metadata": {
    "id": "l3QE5z_tVeYp"
   },
   "outputs": [],
   "source": [
    "# function for image reading\n",
    "def read_satellite_img(filepath):\n",
    "  img = io.imread(filepath)\n",
    "  img = resize(img, output_shape=(img_size,img_size), anti_aliasing=anti_aliasing, preserve_range=True)\n",
    "  img = img / 255.\n",
    "  return img\n",
    "\n",
    "def read_mask_img(filepath):\n",
    "  img = io.imread(filepath)\n",
    "  if len(img.shape) > 2:\n",
    "    img = img[:,:,2]\n",
    "  img = resize(img, output_shape=(img_size,img_size), anti_aliasing=anti_aliasing, preserve_range=True)\n",
    "  img = img / 255.\n",
    "  mask = img > mask_threshold\n",
    "  img[mask] = 1\n",
    "  img[~mask] = 0\n",
    "  return img"
   ]
  },
  {
   "cell_type": "code",
   "execution_count": null,
   "metadata": {
    "id": "Q4aSl02hWCTO"
   },
   "outputs": [],
   "source": [
    "# function to load a batch of images\n",
    "def load_img_batch(samples_df,ids):\n",
    "  satellite_imgs = samples_df.loc[ids,'abs_satellite_path'].progress_apply(read_satellite_img)\n",
    "  mask_imgs = samples_df.loc[ids,'abs_mask_path'].progress_apply(read_mask_img)\n",
    "\n",
    "  satellite_imgs = np.stack(satellite_imgs.to_numpy())\n",
    "  mask_imgs = np.stack(mask_imgs.to_numpy())\n",
    "\n",
    "  return satellite_imgs, mask_imgs"
   ]
  },
  {
   "cell_type": "code",
   "execution_count": null,
   "metadata": {
    "id": "0kTxlAjepqyX"
   },
   "outputs": [],
   "source": [
    "# function to show some samples (with or without the predictions)\n",
    "def show_sample(X, Y, samples_df, ids, Y_pred=None, threshold=None, sample_size=10, fig_height=6):\n",
    "  rnd_sample_indices = np.random.random_integers(low=0,high=X.shape[0]-1,size=sample_size)\n",
    "  cols = 2 if Y_pred is None else 3\n",
    "  if Y_pred is None:\n",
    "    cols = 2\n",
    "  elif threshold is not None:\n",
    "    cols = 4\n",
    "  else:\n",
    "    cols = 3\n",
    "\n",
    "  for i in rnd_sample_indices:\n",
    "    fig, axs = plt.subplots(1,cols, figsize=(fig_height*cols,fig_height))\n",
    "    axs[0].set_title(f'Country: {samples_df.loc[ids[i],\"country\"]}')\n",
    "    axs[0].imshow(X[i])\n",
    "    axs[1].set_title('Given Mask')\n",
    "    axs[1].imshow(Y[i])\n",
    "    if Y_pred is not None:\n",
    "      axs[2].set_title('Prediction')\n",
    "      axs[2].imshow(Y_pred[i])\n",
    "      if threshold is not None:\n",
    "        Y_pred_mask = Y_pred[i] >= threshold\n",
    "        Y_pred[i,Y_pred_mask] = 1\n",
    "        Y_pred[i,~Y_pred_mask] = 0\n",
    "        axs[3].set_title(f'Prediction with threshold = {threshold}')\n",
    "        axs[3].imshow(Y_pred[i])\n",
    "\n",
    "    for ax in axs:\n",
    "      ax.set_xticks([])\n",
    "      ax.set_yticks([])\n",
    "    fig.tight_layout()"
   ]
  },
  {
   "cell_type": "code",
   "execution_count": null,
   "metadata": {
    "id": "LXI8HtCoIQBF"
   },
   "outputs": [],
   "source": [
    "def show_images(X,Ys,names,fig_height=4):\n",
    "  'Plots X and multiple Y'\n",
    "  if not isinstance(Ys,list):\n",
    "    Ys = [Ys]\n",
    "  if not isinstance(names,list):\n",
    "    names = [names]\n",
    "  cols = 1 + len(Ys)\n",
    "  for i in range(X.shape[0]):\n",
    "    fig,axs = plt.subplots(1,cols,figsize=(fig_height*cols,fig_height))\n",
    "    axs[0].axis('off')\n",
    "    axs[0].imshow(X[i])\n",
    "    axs[0].set_title('Satellite')\n",
    "    for j,(Y,name) in enumerate(zip(Ys,names)):\n",
    "      axs[j+1].axis('off')\n",
    "      axs[j+1].imshow(Y[i])\n",
    "      axs[j+1].set_title(name)\n",
    "    plt.show()"
   ]
  },
  {
   "cell_type": "markdown",
   "metadata": {
    "id": "utVcEKc6c4iM"
   },
   "source": [
    "# Predict Masks with an alternative algorithm"
   ]
  },
  {
   "cell_type": "code",
   "execution_count": null,
   "metadata": {
    "colab": {
     "base_uri": "https://localhost:8080/",
     "height": 117,
     "referenced_widgets": [
      "b5eed1121485406096d2df5da8e13028",
      "06cc2091cfb040e18ece76e54a4ffb25",
      "1c1e639345c3471f80bce10576736b39",
      "a55959601314491294412c30065832b3",
      "f14655148dc944498f0bfb53c4d02d54",
      "c183fe7bb1014ddd971d6ce283467fd5",
      "e466308420114dc487bf177e37b09c52",
      "4a174852cc5147548522d9854ed76dcb",
      "9c57e979abb44469afc54510a08a1393",
      "cc878ca7e8a2426d9789eb14a498cbd3",
      "804fa33ecfcf4c0eb409e8d99e0acebb",
      "81304a9fea2249fe83b575f081e44be2",
      "94066a00eaf54850b03b5d8728622e34",
      "23b98d8c044d4b4ab00d261556bc83a1",
      "b8b3ef869bdc4d0a90d41f2216a7454b",
      "6a425f91454e458ab018a1895e35386a"
     ]
    },
    "executionInfo": {
     "elapsed": 472,
     "status": "ok",
     "timestamp": 1626371544698,
     "user": {
      "displayName": "Nico Guth",
      "photoUrl": "https://lh3.googleusercontent.com/a-/AOh14GjLU8mQVSscNU9ysknrBUGEMxsyfpLTAsLrcDvJfg=s64",
      "userId": "08893022833457968246"
     },
     "user_tz": -120
    },
    "id": "G6FAivHKYh6k",
    "outputId": "ccbb0a93-7d95-4d95-df29-201735b03742"
   },
   "outputs": [],
   "source": [
    "sample_size = 10\n",
    "test_ids = np.random.choice(samples_df.index.to_numpy(), size=sample_size)\n",
    "X_test, Y_test = load_img_batch(samples_df, test_ids)"
   ]
  },
  {
   "cell_type": "markdown",
   "metadata": {
    "id": "1l3ew9K2KfgA"
   },
   "source": [
    "## HOG"
   ]
  },
  {
   "cell_type": "code",
   "execution_count": null,
   "metadata": {
    "id": "d_0S8NKSahdM"
   },
   "outputs": [],
   "source": [
    "from skimage.feature import hog\n",
    "from skimage import exposure"
   ]
  },
  {
   "cell_type": "code",
   "execution_count": null,
   "metadata": {
    "id": "7Ou37G-iKnLx"
   },
   "outputs": [],
   "source": [
    "def calculate_hog(X):\n",
    "  Y_hog = np.zeros_like(X)[...,0]\n",
    "  fds = []\n",
    "  for i in range(X.shape[0]):\n",
    "    fd, hog_image = hog(X[i], orientations=8, pixels_per_cell=(8, 8),\n",
    "                    cells_per_block=(1, 1), visualize=True, feature_vector=False, multichannel=True)\n",
    "    hog_image_rescaled = exposure.rescale_intensity(hog_image, in_range=(0, 10), out_range=(0,1))\n",
    "    Y_hog[i] = hog_image_rescaled\n",
    "    fds.append(fd)\n",
    "  fds = np.stack(fds)\n",
    "  return fds, Y_hog"
   ]
  },
  {
   "cell_type": "code",
   "execution_count": null,
   "metadata": {
    "colab": {
     "base_uri": "https://localhost:8080/"
    },
    "executionInfo": {
     "elapsed": 680,
     "status": "ok",
     "timestamp": 1626371546503,
     "user": {
      "displayName": "Nico Guth",
      "photoUrl": "https://lh3.googleusercontent.com/a-/AOh14GjLU8mQVSscNU9ysknrBUGEMxsyfpLTAsLrcDvJfg=s64",
      "userId": "08893022833457968246"
     },
     "user_tz": -120
    },
    "id": "xVG-XpEVaiku",
    "outputId": "d6cf09ed-97ef-4eba-e0c1-780beac756c2"
   },
   "outputs": [],
   "source": [
    "fds, Y_hog = calculate_hog(X_test)\n",
    "fds.shape, Y_hog.shape"
   ]
  },
  {
   "cell_type": "code",
   "execution_count": null,
   "metadata": {
    "colab": {
     "base_uri": "https://localhost:8080/"
    },
    "executionInfo": {
     "elapsed": 3,
     "status": "ok",
     "timestamp": 1626371547287,
     "user": {
      "displayName": "Nico Guth",
      "photoUrl": "https://lh3.googleusercontent.com/a-/AOh14GjLU8mQVSscNU9ysknrBUGEMxsyfpLTAsLrcDvJfg=s64",
      "userId": "08893022833457968246"
     },
     "user_tz": -120
    },
    "id": "VEAw8vdxMT5E",
    "outputId": "893589ad-df3f-404d-9902-0b3cbc50a772"
   },
   "outputs": [],
   "source": [
    "Y_hog_sum = np.sum(fds[...,0,0,:],axis=3)\n",
    "Y_hog_sum.shape"
   ]
  },
  {
   "cell_type": "code",
   "execution_count": null,
   "metadata": {
    "colab": {
     "base_uri": "https://localhost:8080/",
     "height": 1000
    },
    "executionInfo": {
     "elapsed": 1715,
     "status": "ok",
     "timestamp": 1626371549744,
     "user": {
      "displayName": "Nico Guth",
      "photoUrl": "https://lh3.googleusercontent.com/a-/AOh14GjLU8mQVSscNU9ysknrBUGEMxsyfpLTAsLrcDvJfg=s64",
      "userId": "08893022833457968246"
     },
     "user_tz": -120
    },
    "id": "RCyrq24kNMdI",
    "outputId": "50f38c67-a826-4c60-c7b5-c5721109ad14"
   },
   "outputs": [],
   "source": [
    "Ys = [Y_hog, Y_hog_sum]\n",
    "names = ['HOG', 'HOG Sum']\n",
    "show_images(X_test,Ys,names,fig_height=3)"
   ]
  },
  {
   "cell_type": "markdown",
   "metadata": {
    "id": "PaDXacm0MHOL"
   },
   "source": [
    "## manual gradient"
   ]
  },
  {
   "cell_type": "code",
   "execution_count": null,
   "metadata": {
    "id": "Aak4ZxMJOCdZ"
   },
   "outputs": [],
   "source": [
    "def calculate_gradient(X):\n",
    "  Y_gradient = np.stack(np.gradient(X,axis=(1,2)))\n",
    "  Y_gradient_norm = np.linalg.norm(Y_gradient,axis=0)\n",
    "  return Y_gradient_norm"
   ]
  },
  {
   "cell_type": "code",
   "execution_count": null,
   "metadata": {
    "colab": {
     "base_uri": "https://localhost:8080/"
    },
    "executionInfo": {
     "elapsed": 3,
     "status": "ok",
     "timestamp": 1626371551881,
     "user": {
      "displayName": "Nico Guth",
      "photoUrl": "https://lh3.googleusercontent.com/a-/AOh14GjLU8mQVSscNU9ysknrBUGEMxsyfpLTAsLrcDvJfg=s64",
      "userId": "08893022833457968246"
     },
     "user_tz": -120
    },
    "id": "PdQuXbBqDynT",
    "outputId": "26ecfabd-1b51-461d-90b0-f185336a2c23"
   },
   "outputs": [],
   "source": [
    "Y_grad = calculate_gradient(X_test)\n",
    "Y_grad.shape"
   ]
  },
  {
   "cell_type": "code",
   "execution_count": null,
   "metadata": {
    "executionInfo": {
     "elapsed": 527,
     "status": "ok",
     "timestamp": 1626376477787,
     "user": {
      "displayName": "Nico Guth",
      "photoUrl": "https://lh3.googleusercontent.com/a-/AOh14GjLU8mQVSscNU9ysknrBUGEMxsyfpLTAsLrcDvJfg=s64",
      "userId": "08893022833457968246"
     },
     "user_tz": -120
    },
    "id": "ypu22wQ3l34s"
   },
   "outputs": [],
   "source": [
    "from skimage.color import rgb2gray"
   ]
  },
  {
   "cell_type": "code",
   "execution_count": null,
   "metadata": {
    "colab": {
     "base_uri": "https://localhost:8080/"
    },
    "executionInfo": {
     "elapsed": 3,
     "status": "ok",
     "timestamp": 1626371552206,
     "user": {
      "displayName": "Nico Guth",
      "photoUrl": "https://lh3.googleusercontent.com/a-/AOh14GjLU8mQVSscNU9ysknrBUGEMxsyfpLTAsLrcDvJfg=s64",
      "userId": "08893022833457968246"
     },
     "user_tz": -120
    },
    "id": "VUTeMgxLQZ1K",
    "outputId": "a7c4751b-6d48-4b80-d195-4445275725a3"
   },
   "outputs": [],
   "source": [
    "Y_grad_gray = rgb2gray(Y_grad)\n",
    "Y_grad_gray.shape"
   ]
  },
  {
   "cell_type": "code",
   "execution_count": null,
   "metadata": {
    "id": "ADbqWY0hQfLx"
   },
   "outputs": [],
   "source": [
    "grad_threshold = 0.01\n",
    "Y_grad_mask = Y_grad_gray < grad_threshold"
   ]
  },
  {
   "cell_type": "code",
   "execution_count": null,
   "metadata": {
    "colab": {
     "base_uri": "https://localhost:8080/",
     "height": 1000
    },
    "executionInfo": {
     "elapsed": 5446,
     "status": "ok",
     "timestamp": 1626371564556,
     "user": {
      "displayName": "Nico Guth",
      "photoUrl": "https://lh3.googleusercontent.com/a-/AOh14GjLU8mQVSscNU9ysknrBUGEMxsyfpLTAsLrcDvJfg=s64",
      "userId": "08893022833457968246"
     },
     "user_tz": -120
    },
    "id": "D5VWIMciPKzC",
    "outputId": "86c28d67-e167-405f-92b6-77c523a9f6da"
   },
   "outputs": [],
   "source": [
    "\n",
    "Ys = [Y_grad, Y_grad_gray, Y_grad_mask, Y_test]\n",
    "names = ['Gradient', 'Gradient Gray', 'Gradient Mask', 'Mask']\n",
    "show_images(X_test,Ys,names)"
   ]
  },
  {
   "cell_type": "markdown",
   "metadata": {
    "id": "DllOR5alTSsB"
   },
   "source": [
    "# Colors based"
   ]
  },
  {
   "cell_type": "code",
   "execution_count": null,
   "metadata": {
    "id": "Ass2MlVhTSb8"
   },
   "outputs": [],
   "source": [
    "sample_size = 100\n",
    "sample_ids = np.random.choice(samples_df.index.to_numpy(), size=sample_size)"
   ]
  },
  {
   "cell_type": "code",
   "execution_count": null,
   "metadata": {
    "id": "ky_Nwg6jaAxl"
   },
   "outputs": [],
   "source": [
    "train_ids, test_ids = train_test_split(sample_ids, test_size=0.5)"
   ]
  },
  {
   "cell_type": "code",
   "execution_count": null,
   "metadata": {
    "colab": {
     "base_uri": "https://localhost:8080/",
     "height": 218,
     "referenced_widgets": [
      "60cc228f369045d2b02119c92d55b41a",
      "1f6e4f1b0afc45cf89709c86b1fe98db",
      "e53f62c0cb144f32be0d6526097cc082",
      "060d654b284a48b5a4859a819005b165",
      "534edbaf92f645329685dbfb034111c7",
      "2a4f89d79d9444ba827c7ad990326418",
      "4cc842113b5e4b0795ad172ffe343e5d",
      "748ab07008ca43b3bd409d0acd402663",
      "2a7cbe3aa6b04be29ef4009752d3df7a",
      "849455c5714d4a50bc2e985d66be9cb6",
      "fab18d37f934430b9dfd4e51f94a2dc9",
      "ae51155977b8474a91bee3e7bc47087e",
      "7bd92f1974eb4584bf415258b90fd631",
      "a009c48eb712489781ce89de21eb8296",
      "746d54ac267046d48060d4e1227a0519",
      "3e960c02151b43a5a8e76e2259c4a0e6",
      "73cc07ae570245f099bec2bca1fc96d3",
      "ffda212c11a64485b27950deb4a4628c",
      "0f57cd8b337347f682cb4380f907d4a8",
      "e6bbee1fa6f74f9b9a0fd413ead60bf6",
      "769d31f383dc4d79aa47ed763130f3e3",
      "bc1ec07da9ec4b1993db497d003de642",
      "59cd4c910fe64dbd93b91cac4d9d71db",
      "2d6e21d08d6f4d7e9631f86ce4dbdb43",
      "03c08c05a27149ecb8af95c1575bd349",
      "6bbd3e42d5ca4df6a74724c28744c8cf",
      "d24a2dc7bb754bff87891c923b2c954f",
      "c2a25c22afed44a4a394aad5ca45fd51",
      "f94bc943177145b8bb6ffad8a353e5f1",
      "18c37effceca4368bbc43bebff8c2105",
      "4ea8dc244eca41b999c85828bc51ae3f",
      "2ea99a69b0c44afaadd1423f3aa1d078"
     ]
    },
    "executionInfo": {
     "elapsed": 3094,
     "status": "ok",
     "timestamp": 1626371843441,
     "user": {
      "displayName": "Nico Guth",
      "photoUrl": "https://lh3.googleusercontent.com/a-/AOh14GjLU8mQVSscNU9ysknrBUGEMxsyfpLTAsLrcDvJfg=s64",
      "userId": "08893022833457968246"
     },
     "user_tz": -120
    },
    "id": "F_e4vs7QUIBZ",
    "outputId": "bedf82e7-391d-4fcf-be8a-b069273b1556"
   },
   "outputs": [],
   "source": [
    "X_train, Y_train = load_img_batch(samples_df, train_ids)\n",
    "X_test, Y_test = load_img_batch(samples_df, test_ids)"
   ]
  },
  {
   "cell_type": "markdown",
   "metadata": {
    "id": "v8xGpcp8UcP3"
   },
   "source": []
  },
  {
   "cell_type": "code",
   "execution_count": null,
   "metadata": {
    "id": "cVV2WVdLUPE4"
   },
   "outputs": [],
   "source": []
  },
  {
   "cell_type": "markdown",
   "metadata": {
    "id": "9xE9cKMAev-n"
   },
   "source": [
    "# Evaluate on Test Data"
   ]
  },
  {
   "cell_type": "code",
   "execution_count": null,
   "metadata": {
    "colab": {
     "base_uri": "https://localhost:8080/",
     "height": 118,
     "referenced_widgets": [
      "552861a3fa10474795e91359916b0817",
      "f1e7309b60fe4a8f9bf35e5e95fb9cc4",
      "490808746603486ebb9603cd8ab6ba44",
      "0dca6e59e4524cc0bfe269ea17a84c46",
      "78c8a84431f0402bb8ccc953deb82b15",
      "c80b0e839632409e938e3209fe4b63a4",
      "bf712a3547b143858dd59ec6dc72c9cb",
      "f06f6c1ae59f4928a7ee9abaa1df57fd",
      "f771150555194aa0ac13a0c63d4673c0",
      "a92cab127856441882a0395dc5b27cb9",
      "52ea13bf09e54a6e812a333dadfebfca",
      "57211d161cf3425b9cce6f47174385a9",
      "d5f0f693d8bd41a0843859b184390c08",
      "df4dcc316a7e4a45ad3c1f336eca0e7d",
      "e5f7f2f638d84b3db248166ae470dd47",
      "fb61f481528544a7920bae3c7f5f4ff1"
     ]
    },
    "executionInfo": {
     "elapsed": 25557,
     "status": "ok",
     "timestamp": 1625844339345,
     "user": {
      "displayName": "Nico Guth",
      "photoUrl": "https://lh3.googleusercontent.com/a-/AOh14GjLU8mQVSscNU9ysknrBUGEMxsyfpLTAsLrcDvJfg=s64",
      "userId": "08893022833457968246"
     },
     "user_tz": -120
    },
    "id": "RPQ5aYdievji",
    "outputId": "b101d325-e54c-45c3-ecc6-a21db110be5b"
   },
   "outputs": [],
   "source": [
    "sample_size = 1000\n",
    "test_ids_sample = np.random.choice(test_ids, size=sample_size)\n",
    "X_test, Y_test = load_img_batch(samples_df, test_ids_sample)"
   ]
  },
  {
   "cell_type": "code",
   "execution_count": null,
   "metadata": {
    "colab": {
     "base_uri": "https://localhost:8080/"
    },
    "executionInfo": {
     "elapsed": 142507,
     "status": "ok",
     "timestamp": 1625844481849,
     "user": {
      "displayName": "Nico Guth",
      "photoUrl": "https://lh3.googleusercontent.com/a-/AOh14GjLU8mQVSscNU9ysknrBUGEMxsyfpLTAsLrcDvJfg=s64",
      "userId": "08893022833457968246"
     },
     "user_tz": -120
    },
    "id": "CBFlmwnVfy0X",
    "outputId": "a6b9da3f-977e-426a-b524-72e5f7ea1bdd"
   },
   "outputs": [],
   "source": [
    "# get predictions from the model\n",
    "Y_pred = model.predict(X_test, verbose=1).astype(np.float64).reshape(-1, img_size, img_size)"
   ]
  },
  {
   "cell_type": "code",
   "execution_count": null,
   "metadata": {
    "colab": {
     "base_uri": "https://localhost:8080/"
    },
    "executionInfo": {
     "elapsed": 11,
     "status": "ok",
     "timestamp": 1625844481850,
     "user": {
      "displayName": "Nico Guth",
      "photoUrl": "https://lh3.googleusercontent.com/a-/AOh14GjLU8mQVSscNU9ysknrBUGEMxsyfpLTAsLrcDvJfg=s64",
      "userId": "08893022833457968246"
     },
     "user_tz": -120
    },
    "id": "kPcb_VvV97Rc",
    "outputId": "a46a651e-202d-4ecd-f00e-95ce21e0d085"
   },
   "outputs": [],
   "source": [
    "Y_pred.min(), Y_pred.max()"
   ]
  },
  {
   "cell_type": "code",
   "execution_count": null,
   "metadata": {
    "colab": {
     "base_uri": "https://localhost:8080/"
    },
    "executionInfo": {
     "elapsed": 142514,
     "status": "ok",
     "timestamp": 1625844624357,
     "user": {
      "displayName": "Nico Guth",
      "photoUrl": "https://lh3.googleusercontent.com/a-/AOh14GjLU8mQVSscNU9ysknrBUGEMxsyfpLTAsLrcDvJfg=s64",
      "userId": "08893022833457968246"
     },
     "user_tz": -120
    },
    "id": "-TqOOHJum7qm",
    "outputId": "cf76984d-df87-4f68-e9a1-3415896d39fa"
   },
   "outputs": [],
   "source": [
    "score = model.evaluate(X_test, Y_test, verbose=1)"
   ]
  },
  {
   "cell_type": "code",
   "execution_count": null,
   "metadata": {
    "colab": {
     "base_uri": "https://localhost:8080/"
    },
    "executionInfo": {
     "elapsed": 12,
     "status": "ok",
     "timestamp": 1625844624362,
     "user": {
      "displayName": "Nico Guth",
      "photoUrl": "https://lh3.googleusercontent.com/a-/AOh14GjLU8mQVSscNU9ysknrBUGEMxsyfpLTAsLrcDvJfg=s64",
      "userId": "08893022833457968246"
     },
     "user_tz": -120
    },
    "id": "KEVvMhPsiq4K",
    "outputId": "9d9568e9-f693-42f6-e884-163846702f45"
   },
   "outputs": [],
   "source": [
    "print(f'Test Loss: {score[0]}')\n",
    "print(f'Test Accuracy: {score[1]}')"
   ]
  },
  {
   "cell_type": "code",
   "execution_count": null,
   "metadata": {
    "colab": {
     "base_uri": "https://localhost:8080/"
    },
    "executionInfo": {
     "elapsed": 11,
     "status": "ok",
     "timestamp": 1625844624363,
     "user": {
      "displayName": "Nico Guth",
      "photoUrl": "https://lh3.googleusercontent.com/a-/AOh14GjLU8mQVSscNU9ysknrBUGEMxsyfpLTAsLrcDvJfg=s64",
      "userId": "08893022833457968246"
     },
     "user_tz": -120
    },
    "id": "wtmKrhUvyPR_",
    "outputId": "9e9a35d7-ce11-4fc8-c23d-a0c691d77968"
   },
   "outputs": [],
   "source": [
    "Y_test.dtype, Y_pred.dtype, Y_test.shape, Y_pred.shape"
   ]
  },
  {
   "cell_type": "markdown",
   "metadata": {
    "id": "ZnzmJmcgAsNW"
   },
   "source": [
    "### choose threshold"
   ]
  },
  {
   "cell_type": "code",
   "execution_count": null,
   "metadata": {
    "colab": {
     "base_uri": "https://localhost:8080/"
    },
    "executionInfo": {
     "elapsed": 1902,
     "status": "ok",
     "timestamp": 1625844626257,
     "user": {
      "displayName": "Nico Guth",
      "photoUrl": "https://lh3.googleusercontent.com/a-/AOh14GjLU8mQVSscNU9ysknrBUGEMxsyfpLTAsLrcDvJfg=s64",
      "userId": "08893022833457968246"
     },
     "user_tz": -120
    },
    "id": "HY10ofKJwHlJ",
    "outputId": "56e9e940-b5dd-4002-b9e1-70ad313ca65b"
   },
   "outputs": [],
   "source": [
    "len_thresh = 10\n",
    "threshold_range = np.linspace(0.2, 0.9, len_thresh)\n",
    "\n",
    "results_iou = np.zeros(len_thresh)\n",
    "results_acc = np.zeros(len_thresh)\n",
    "\n",
    "for i, thresh in enumerate(threshold_range):\n",
    "  Y_mask_temp = Y_pred >= thresh\n",
    "  Y_temp = np.zeros_like(Y_pred)\n",
    "  Y_temp[Y_mask_temp] = 1\n",
    "\n",
    "  #iou score\n",
    "  intersection = np.logical_and(Y_test, Y_temp)\n",
    "  union = np.logical_or(Y_test, Y_temp)\n",
    "  results_iou[i] = np.sum(intersection) / np.sum(union)\n",
    "\n",
    "  #accuracy\n",
    "  results_acc[i] = np.sum(Y_temp == Y_test)/Y_temp.size\n",
    "\n",
    "print(f'max. iou for threshold = {threshold_range[np.argmax(results_iou)]}: \\t', np.max(results_iou))\n",
    "print(f'max. acc for threshold = {threshold_range[np.argmax(results_acc)]}: \\t', np.max(results_acc))"
   ]
  },
  {
   "cell_type": "code",
   "execution_count": null,
   "metadata": {
    "colab": {
     "base_uri": "https://localhost:8080/",
     "height": 297
    },
    "executionInfo": {
     "elapsed": 847,
     "status": "ok",
     "timestamp": 1625844627101,
     "user": {
      "displayName": "Nico Guth",
      "photoUrl": "https://lh3.googleusercontent.com/a-/AOh14GjLU8mQVSscNU9ysknrBUGEMxsyfpLTAsLrcDvJfg=s64",
      "userId": "08893022833457968246"
     },
     "user_tz": -120
    },
    "id": "t4dJX8pQ98Ha",
    "outputId": "875b5779-9b3e-446a-8d05-903a2c3922a4"
   },
   "outputs": [],
   "source": [
    "fig, (ax1, ax2) = plt.subplots(2,1)\n",
    "ax1.plot(threshold_range, results_iou)\n",
    "ax1.set_title('iou_score')\n",
    "ax1.set_xlabel('threshold')\n",
    "ax1.set_ylabel('iou_score')\n",
    "ax1.grid()\n",
    "\n",
    "ax2.plot(threshold_range, results_acc)\n",
    "ax2.set_title('accuracy')\n",
    "ax2.set_xlabel('threshold')\n",
    "ax2.set_ylabel('accuracy')\n",
    "ax2.grid()\n",
    "\n",
    "fig.tight_layout()\n",
    "fig.show()"
   ]
  },
  {
   "cell_type": "code",
   "execution_count": null,
   "metadata": {
    "colab": {
     "base_uri": "https://localhost:8080/",
     "height": 1000
    },
    "executionInfo": {
     "elapsed": 57632,
     "status": "ok",
     "timestamp": 1625844684724,
     "user": {
      "displayName": "Nico Guth",
      "photoUrl": "https://lh3.googleusercontent.com/a-/AOh14GjLU8mQVSscNU9ysknrBUGEMxsyfpLTAsLrcDvJfg=s64",
      "userId": "08893022833457968246"
     },
     "user_tz": -120
    },
    "id": "_OF4Dw95gCVs",
    "outputId": "6537a2f7-ecc7-45b3-d737-d9fbf1ed0bf0"
   },
   "outputs": [],
   "source": [
    "show_sample(X_test, Y_test, samples_df, test_ids_sample, Y_pred, threshold=0.5, sample_size=50, fig_height=20)"
   ]
  },
  {
   "cell_type": "code",
   "execution_count": null,
   "metadata": {
    "id": "kosq5wXms9GT"
   },
   "outputs": [],
   "source": []
  }
 ],
 "metadata": {
  "colab": {
   "collapsed_sections": [],
   "name": "alternative_Gradient.ipynb",
   "provenance": [
    {
     "file_id": "1oRsA-lCQ7GP7qVycy9ph_Rq7w2e5E2ur",
     "timestamp": 1624906132931
    },
    {
     "file_id": "1zYdYA0Dsh-jRRsiQppLJEnBiBVrUJMvR",
     "timestamp": 1624892651453
    }
   ]
  },
  "kernelspec": {
   "display_name": "Python 3",
   "name": "python3"
  },
  "language_info": {
   "name": "python"
  }
 },
 "nbformat": 4,
 "nbformat_minor": 0
}
