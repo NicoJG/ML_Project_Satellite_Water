{
 "cells": [
  {
   "cell_type": "markdown",
   "metadata": {
    "id": "TNxWORy2wGC_"
   },
   "source": [
    "# Imports\n",
    "\n",
    "removed checking if in CoLab"
   ]
  },
  {
   "cell_type": "code",
   "execution_count": null,
   "metadata": {
    "id": "OKxRRUUDSi0c"
   },
   "outputs": [],
   "source": [
    "#imports\n",
    "from platform import python_version\n",
    "\n",
    "#basic python stuff\n",
    "import os\n",
    "import json\n",
    "from pathlib import Path\n",
    "\n",
    "#basics from the SciPy Stack\n",
    "import numpy as np\n",
    "import pandas as pd\n",
    "import matplotlib.pyplot as plt\n",
    "\n",
    "#colab stuff\n",
    "from google.colab import drive\n",
    "\n",
    "#data managing\n",
    "from sklearn.model_selection import train_test_split\n",
    "from skimage import io #read in images\n",
    "\n",
    "#model\n",
    "%tensorflow_version 2.x\n",
    "import tensorflow as tf\n",
    "from tensorflow.keras import layers, callbacks\n",
    "from keras.optimizers import Adam\n",
    "\n",
    "#progress bar\n",
    "from tqdm.notebook import tqdm"
   ]
  },
  {
   "cell_type": "code",
   "execution_count": null,
   "metadata": {
    "colab": {
     "base_uri": "https://localhost:8080/"
    },
    "executionInfo": {
     "elapsed": 25,
     "status": "ok",
     "timestamp": 1626342381227,
     "user": {
      "displayName": "G Tex",
      "photoUrl": "",
      "userId": "18324021648322857198"
     },
     "user_tz": -120
    },
    "id": "Wv1EjuBK0mUw",
    "outputId": "8c965ab1-13e9-4330-ccf0-fe1860b78153"
   },
   "outputs": [],
   "source": [
    "# settings\n",
    "\n",
    "# implements progress_apply into pandas\n",
    "tqdm.pandas(desc='Pandas_Progress')"
   ]
  },
  {
   "cell_type": "code",
   "execution_count": null,
   "metadata": {
    "colab": {
     "base_uri": "https://localhost:8080/"
    },
    "executionInfo": {
     "elapsed": 17,
     "status": "ok",
     "timestamp": 1626342381228,
     "user": {
      "displayName": "G Tex",
      "photoUrl": "",
      "userId": "18324021648322857198"
     },
     "user_tz": -120
    },
    "id": "i1byH6kBzF18",
    "outputId": "697e35f0-4f44-49ed-affc-b15fb536ce9c"
   },
   "outputs": [],
   "source": [
    "print(\"Tensorflow version\", tf.__version__)\n",
    "print(\"Python version =\",python_version())"
   ]
  },
  {
   "cell_type": "code",
   "execution_count": null,
   "metadata": {
    "colab": {
     "base_uri": "https://localhost:8080/"
    },
    "executionInfo": {
     "elapsed": 49050,
     "status": "ok",
     "timestamp": 1626342430271,
     "user": {
      "displayName": "G Tex",
      "photoUrl": "",
      "userId": "18324021648322857198"
     },
     "user_tz": -120
    },
    "id": "GWgVWLihTLc4",
    "outputId": "d8b06590-0db2-4ce2-9a98-80837cb2ef20"
   },
   "outputs": [],
   "source": [
    "# get access to google drive\n",
    "drive.mount('/content/drive')"
   ]
  },
  {
   "cell_type": "markdown",
   "metadata": {
    "id": "oDGi9wQOCa7T"
   },
   "source": [
    "# Hyperparameters"
   ]
  },
  {
   "cell_type": "code",
   "execution_count": null,
   "metadata": {
    "id": "GccgY-HLCfPP"
   },
   "outputs": [],
   "source": [
    "random_state = 42\n",
    "sample_size = 100\n",
    "test_size = 0.3\n",
    "val_size = 0.3\n",
    "\n",
    "# image preprocessing\n",
    "img_size = 128\n",
    "anti_aliasing = True\n",
    "resize_method = tf.image.ResizeMethod.BILINEAR\n",
    "mask_threshold = 0.5"
   ]
  },
  {
   "cell_type": "markdown",
   "metadata": {
    "id": "o7ZezlpHwPVV"
   },
   "source": [
    "# Retrieve the Dataset"
   ]
  },
  {
   "cell_type": "code",
   "execution_count": null,
   "metadata": {
    "id": "xstIW12OVWmg"
   },
   "outputs": [],
   "source": [
    "# unzip the dataset\n",
    "!unzip -n -q /content/drive/MyDrive/ML_Project_Satellite_Images/data/current_dataset.zip -d /content/"
   ]
  },
  {
   "cell_type": "code",
   "execution_count": null,
   "metadata": {
    "colab": {
     "base_uri": "https://localhost:8080/",
     "height": 454
    },
    "executionInfo": {
     "elapsed": 8,
     "status": "ok",
     "timestamp": 1626342483790,
     "user": {
      "displayName": "G Tex",
      "photoUrl": "",
      "userId": "18324021648322857198"
     },
     "user_tz": -120
    },
    "id": "6RZbQx-RrVAv",
    "outputId": "4621dc95-33f4-4b29-daaf-a49040ef2cdf"
   },
   "outputs": [],
   "source": [
    "# read in samples.csv with information about the images (only a sample)\n",
    "samples_df = pd.read_csv('/content/dataset/samples.csv').sample(sample_size, random_state=random_state)\n",
    "samples_df.set_index('id', inplace=True)\n",
    "samples_df"
   ]
  },
  {
   "cell_type": "code",
   "execution_count": null,
   "metadata": {
    "id": "w0vVHx7OtNXx"
   },
   "outputs": [],
   "source": [
    "# paths to the sat/mask folder\n",
    "path_sat_folder = '/content/dataset/images/satellite/'\n",
    "path_mask_folder = '/content/dataset/images/mask/'"
   ]
  },
  {
   "cell_type": "code",
   "execution_count": null,
   "metadata": {
    "id": "GwCoDvQGtsy8"
   },
   "outputs": [],
   "source": [
    "# append absoulute paths of the images to the dataframe\n",
    "samples_df['abs_satellite_path'] = samples_df['satellite_file'].apply(lambda x: path_sat_folder+x)\n",
    "samples_df['abs_mask_path'] = samples_df['mask_file'].apply(lambda x: path_mask_folder+x)"
   ]
  },
  {
   "cell_type": "markdown",
   "metadata": {
    "id": "fv8SmeWtqiQ2"
   },
   "source": [
    "# Prepare the Dataset\n"
   ]
  },
  {
   "cell_type": "code",
   "execution_count": null,
   "metadata": {
    "id": "Gl2FkOr1lrMh"
   },
   "outputs": [],
   "source": [
    "# function for image reading\n",
    "def read_satellite_img(filepath):\n",
    "  img = io.imread(filepath)\n",
    "  return img\n",
    "\n",
    "def read_mask_img(filepath):\n",
    "  img = io.imread(filepath)\n",
    "  if img.shape == (256, 256,4):\n",
    "    img = img[:,:,2]\n",
    "  return img"
   ]
  },
  {
   "cell_type": "code",
   "execution_count": null,
   "metadata": {
    "colab": {
     "base_uri": "https://localhost:8080/",
     "height": 117,
     "referenced_widgets": [
      "9819616f57a64beaa555e1d6dbda469b",
      "60163f6ab2ba4636aee0087fbd3e65fd",
      "76068cbc15b3438c8df6776907f58ed5",
      "e2bd6986fa24487c8eaace3fea53445c",
      "ecae52a5ecc3416d8579ce95ad4164af",
      "1499c21746d944e588e4a06b2ddb4d8d",
      "5a30c11cb2db43ce99c31b35e390485f",
      "8a3194695c324ec8a4ece2457bb935b0",
      "b284a0d532d044deb43679f30537cd8f",
      "b75f96afaf154ebfba75ea76c445d8d0",
      "e318d7ee766c4c10960578dd28b542de",
      "a9040caacfd542cc865a7b6b092543f8",
      "7e03586bed9f4dc589639f45ab927c76",
      "58be61ca868c4970a7470f915254cd45",
      "10f6f6dd4bf6472f89696c0ffd5cd86a",
      "d13cc23f2d844c27b136fd64c535eee9"
     ]
    },
    "executionInfo": {
     "elapsed": 462,
     "status": "ok",
     "timestamp": 1626343008694,
     "user": {
      "displayName": "G Tex",
      "photoUrl": "",
      "userId": "18324021648322857198"
     },
     "user_tz": -120
    },
    "id": "8vhdqhxymABl",
    "outputId": "06bb1a00-6e6d-4e8f-daca-32b751b7aa0a"
   },
   "outputs": [],
   "source": [
    "# append images to dataframe\n",
    "samples_df['satellite_img'] = samples_df['abs_satellite_path'].progress_apply(read_satellite_img)\n",
    "samples_df['mask_img'] = samples_df['abs_mask_path'].progress_apply(read_mask_img)"
   ]
  },
  {
   "cell_type": "code",
   "execution_count": null,
   "metadata": {
    "id": "pIcavV9rrqCZ"
   },
   "outputs": [],
   "source": [
    "X = samples_df['satellite_img'].to_numpy()\n",
    "Y = samples_df['mask_img'].to_numpy()\n",
    "X = np.stack(X)\n",
    "Y = np.stack(Y)"
   ]
  },
  {
   "cell_type": "markdown",
   "metadata": {
    "id": "Ae-6QacDmL6l"
   },
   "source": [
    "# Split Training, Validation and Test Data"
   ]
  },
  {
   "cell_type": "code",
   "execution_count": null,
   "metadata": {
    "id": "ERuYIwP4mI0l"
   },
   "outputs": [],
   "source": [
    "# split in (train+val) and test\n",
    "X_train_val, X_test = train_test_split(X, test_size=test_size, random_state=random_state)\n",
    "Y_train_val, Y_test = train_test_split(Y, test_size=test_size, random_state=random_state)\n",
    "\n",
    "# split (train+val)\n",
    "X_train, X_val = train_test_split(X_train_val, test_size=val_size, random_state=random_state)\n",
    "Y_train, Y_val = train_test_split(Y_train_val, test_size=val_size, random_state=random_state)"
   ]
  },
  {
   "cell_type": "code",
   "execution_count": null,
   "metadata": {
    "colab": {
     "base_uri": "https://localhost:8080/"
    },
    "executionInfo": {
     "elapsed": 227,
     "status": "ok",
     "timestamp": 1626344440442,
     "user": {
      "displayName": "G Tex",
      "photoUrl": "",
      "userId": "18324021648322857198"
     },
     "user_tz": -120
    },
    "id": "yyanaMyJGa1W",
    "outputId": "e62aa7f5-97b1-44fd-b336-0d93e823b8cc"
   },
   "outputs": [],
   "source": [
    "print('Training Shape: ', X_train.shape, Y_train.shape)\n",
    "print('Validation Shape: ', X_val.shape, Y_val.shape)\n",
    "print('Test Shape: ', X_test.shape, Y_test.shape)"
   ]
  },
  {
   "cell_type": "code",
   "execution_count": null,
   "metadata": {
    "colab": {
     "base_uri": "https://localhost:8080/"
    },
    "executionInfo": {
     "elapsed": 561,
     "status": "ok",
     "timestamp": 1626344667282,
     "user": {
      "displayName": "G Tex",
      "photoUrl": "",
      "userId": "18324021648322857198"
     },
     "user_tz": -120
    },
    "id": "U-wMqFwMruAC",
    "outputId": "8096e0ce-c830-4bea-b8db-7480489e39bb"
   },
   "outputs": [],
   "source": [
    "print(np.unique(X_train))\n",
    "print()\n",
    "print(np.unique(Y_train))"
   ]
  },
  {
   "cell_type": "code",
   "execution_count": null,
   "metadata": {
    "colab": {
     "base_uri": "https://localhost:8080/",
     "height": 1000
    },
    "executionInfo": {
     "elapsed": 4077,
     "status": "ok",
     "timestamp": 1626345157527,
     "user": {
      "displayName": "G Tex",
      "photoUrl": "",
      "userId": "18324021648322857198"
     },
     "user_tz": -120
    },
    "id": "q2js3W5BspfG",
    "outputId": "eb9d0d4d-65b4-4016-96d3-c3b44ed165af"
   },
   "outputs": [],
   "source": [
    "num = 10\n",
    "\n",
    "for i in range(num):\n",
    "  fig, (ax_sat, ax_mask) = plt.subplots(1, 2)\n",
    "  ax_sat.set_title(np.unique(Y_train[i]))\n",
    "  ax_sat.imshow(X_train[i])\n",
    "  ax_mask.imshow(Y_train[i])\n",
    "  fig.tight_layout()\n",
    "  fig.show()"
   ]
  },
  {
   "cell_type": "markdown",
   "metadata": {
    "id": "7YHkvj_Pz_c7"
   },
   "source": [
    "# What colors are the waters?\n",
    "Channels are only considered individually here, probably useles\n"
   ]
  },
  {
   "cell_type": "code",
   "execution_count": null,
   "metadata": {
    "id": "HOp78S2huliu"
   },
   "outputs": [],
   "source": [
    "water_mask = (Y_train == 255)\n",
    "water_sat = X_train[water_mask]"
   ]
  },
  {
   "cell_type": "code",
   "execution_count": null,
   "metadata": {
    "colab": {
     "base_uri": "https://localhost:8080/"
    },
    "executionInfo": {
     "elapsed": 212,
     "status": "ok",
     "timestamp": 1626346935158,
     "user": {
      "displayName": "G Tex",
      "photoUrl": "",
      "userId": "18324021648322857198"
     },
     "user_tz": -120
    },
    "id": "8LoVipwf1Lwn",
    "outputId": "ac4cc2d3-425d-4113-b950-3fa1c6eab285"
   },
   "outputs": [],
   "source": [
    "water_sat.shape"
   ]
  },
  {
   "cell_type": "code",
   "execution_count": null,
   "metadata": {
    "colab": {
     "base_uri": "https://localhost:8080/"
    },
    "executionInfo": {
     "elapsed": 562,
     "status": "ok",
     "timestamp": 1626347436822,
     "user": {
      "displayName": "G Tex",
      "photoUrl": "",
      "userId": "18324021648322857198"
     },
     "user_tz": -120
    },
    "id": "oLGPoFGc1JZS",
    "outputId": "21ebbd8e-1daa-4fb7-b01f-c38ca4ad2318"
   },
   "outputs": [],
   "source": [
    "ch1_unique, ch1_counts = np.unique(water_sat[:,0], return_counts=True)\n",
    "ch2_unique, ch2_counts = np.unique(water_sat[:,1], return_counts=True)\n",
    "ch3_unique, ch3_counts = np.unique(water_sat[:,2], return_counts=True)\n",
    "\n",
    "ch1_unique.shape, ch1_counts.shape, ch2_unique.shape, ch2_counts.shape, ch3_unique.shape, ch3_counts.shape"
   ]
  },
  {
   "cell_type": "code",
   "execution_count": null,
   "metadata": {
    "colab": {
     "base_uri": "https://localhost:8080/"
    },
    "executionInfo": {
     "elapsed": 220,
     "status": "ok",
     "timestamp": 1626348121375,
     "user": {
      "displayName": "G Tex",
      "photoUrl": "",
      "userId": "18324021648322857198"
     },
     "user_tz": -120
    },
    "id": "KjK1NhFS2UXJ",
    "outputId": "1737ec92-72fa-4126-943d-29e2263e568c"
   },
   "outputs": [],
   "source": [
    "ch1 = np.concatenate((ch1_unique.reshape(-1,1), ch1_counts.reshape(-1,1)), axis=1)\n",
    "ch2 = np.concatenate((ch2_unique.reshape(-1,1), ch2_counts.reshape(-1,1)), axis=1)\n",
    "ch3 = np.concatenate((ch3_unique.reshape(-1,1), ch3_counts.reshape(-1,1)), axis=1)\n",
    "\n",
    "ch1.shape, ch2.shape, ch3.shape"
   ]
  },
  {
   "cell_type": "code",
   "execution_count": null,
   "metadata": {
    "colab": {
     "base_uri": "https://localhost:8080/"
    },
    "executionInfo": {
     "elapsed": 206,
     "status": "ok",
     "timestamp": 1626348742801,
     "user": {
      "displayName": "G Tex",
      "photoUrl": "",
      "userId": "18324021648322857198"
     },
     "user_tz": -120
    },
    "id": "TiFaDGErzV_q",
    "outputId": "d0e0a9ff-637e-4185-af7e-1aab3167a8b9"
   },
   "outputs": [],
   "source": [
    "# sort array by number of colors\n",
    "ch1 = np.sort(ch1, axis=0)[::-1]\n",
    "ch2 = np.sort(ch2, axis=0)[::-1]\n",
    "ch3 = np.sort(ch3, axis=0)[::-1]\n",
    "\n",
    "print('top 10 colors of ch1: \\n', ch1[0:10])\n",
    "print('top 10 colors of ch2: \\n', ch2[0:10])\n",
    "print('top 10 colors of ch3: \\n', ch3[0:10])"
   ]
  },
  {
   "cell_type": "code",
   "execution_count": null,
   "metadata": {
    "colab": {
     "base_uri": "https://localhost:8080/"
    },
    "executionInfo": {
     "elapsed": 529,
     "status": "ok",
     "timestamp": 1626349613959,
     "user": {
      "displayName": "G Tex",
      "photoUrl": "",
      "userId": "18324021648322857198"
     },
     "user_tz": -120
    },
    "id": "HQ2238wu9NOL",
    "outputId": "88183fce-0b3e-4029-a437-d23af5048e0e"
   },
   "outputs": [],
   "source": [
    "#choose one image\n",
    "image_num = 5\n",
    "x = X_train[image_num].reshape(256*256, 3)\n",
    "x.shape, np.unique(x)"
   ]
  },
  {
   "cell_type": "code",
   "execution_count": null,
   "metadata": {
    "colab": {
     "base_uri": "https://localhost:8080/"
    },
    "executionInfo": {
     "elapsed": 12869,
     "status": "ok",
     "timestamp": 1626349627060,
     "user": {
      "displayName": "G Tex",
      "photoUrl": "",
      "userId": "18324021648322857198"
     },
     "user_tz": -120
    },
    "id": "_gOcIVn75x8y",
    "outputId": "e6712251-5e31-4b9f-c844-9edf89e7047f"
   },
   "outputs": [],
   "source": [
    "result_mask = np.zeros(256*256)\n",
    "\n",
    "for i in range(256*256):\n",
    "  for (col_ch1, col_ch2, col_ch3) in zip(ch1[0:150, 0], ch2[0:150, 0], ch3[0:150, 0]):\n",
    "    if col_ch1 == x[i, 0] or col_ch2 == x[i, 1] or col_ch3 == x[i, 2]:\n",
    "        result_mask[i] = 1\n",
    "print(np.unique(result_mask))"
   ]
  },
  {
   "cell_type": "code",
   "execution_count": null,
   "metadata": {
    "colab": {
     "base_uri": "https://localhost:8080/",
     "height": 251
    },
    "executionInfo": {
     "elapsed": 1129,
     "status": "ok",
     "timestamp": 1626349628186,
     "user": {
      "displayName": "G Tex",
      "photoUrl": "",
      "userId": "18324021648322857198"
     },
     "user_tz": -120
    },
    "id": "M9R-1AfY94uE",
    "outputId": "442e40c5-f238-49be-f455-0b9fb504a454"
   },
   "outputs": [],
   "source": [
    "fig, (ax_pred, ax_mask, ax_sat) = plt.subplots(1, 3, figsize=(10, 5))\n",
    "ax_pred.imshow(result_mask.reshape(256,256))\n",
    "ax_mask.imshow(Y_train[image_num])\n",
    "ax_sat.imshow(X_train[image_num])\n",
    "plt.tight_layout()\n",
    "plt.show()"
   ]
  },
  {
   "cell_type": "code",
   "execution_count": null,
   "metadata": {
    "colab": {
     "base_uri": "https://localhost:8080/"
    },
    "executionInfo": {
     "elapsed": 19,
     "status": "ok",
     "timestamp": 1626349628187,
     "user": {
      "displayName": "G Tex",
      "photoUrl": "",
      "userId": "18324021648322857198"
     },
     "user_tz": -120
    },
    "id": "LCXm_0YU-rJm",
    "outputId": "da4fd35c-0716-4777-81b4-96bbe8a4237c"
   },
   "outputs": [],
   "source": [
    "drive.flush_and_unmount()\n",
    "print('All changes made in this colab session should now be visible in Drive.')"
   ]
  },
  {
   "cell_type": "code",
   "execution_count": null,
   "metadata": {
    "id": "fL3Mbq5D93CI"
   },
   "outputs": [],
   "source": []
  }
 ],
 "metadata": {
  "accelerator": "GPU",
  "colab": {
   "collapsed_sections": [],
   "name": "alternative_first_try.ipynb",
   "provenance": [
    {
     "file_id": "1jckgA1xIIpjdVuSWmRwddyp6MvhHp3DQ",
     "timestamp": 1626342324775
    },
    {
     "file_id": "1oRsA-lCQ7GP7qVycy9ph_Rq7w2e5E2ur",
     "timestamp": 1624906132931
    },
    {
     "file_id": "1zYdYA0Dsh-jRRsiQppLJEnBiBVrUJMvR",
     "timestamp": 1624892651453
    }
   ]
  },
  "kernelspec": {
   "display_name": "Python 3",
   "name": "python3"
  },
  "language_info": {
   "name": "python"
  }
 },
 "nbformat": 4,
 "nbformat_minor": 0
}
