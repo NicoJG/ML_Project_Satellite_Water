{
 "cells": [
  {
   "cell_type": "markdown",
   "metadata": {
    "id": "aYJpHOrhNIm2"
   },
   "source": [
    "# Evaluate the models that are saved in the models folder"
   ]
  },
  {
   "cell_type": "markdown",
   "metadata": {
    "id": "DIIyogNgVbPU"
   },
   "source": [
    "# Imports\n",
    "\n",
    "removed checking if in CoLab"
   ]
  },
  {
   "cell_type": "code",
   "execution_count": null,
   "metadata": {
    "colab": {
     "base_uri": "https://localhost:8080/"
    },
    "executionInfo": {
     "elapsed": 3785,
     "status": "ok",
     "timestamp": 1626415278116,
     "user": {
      "displayName": "Nico Guth",
      "photoUrl": "https://lh3.googleusercontent.com/a-/AOh14GjLU8mQVSscNU9ysknrBUGEMxsyfpLTAsLrcDvJfg=s64",
      "userId": "08893022833457968246"
     },
     "user_tz": -120
    },
    "id": "96F4BKCBrpj7",
    "outputId": "c67ea31c-df85-45bc-fe50-7e4214c42c37"
   },
   "outputs": [],
   "source": [
    "!pip install -U scikit-learn"
   ]
  },
  {
   "cell_type": "code",
   "execution_count": null,
   "metadata": {
    "colab": {
     "base_uri": "https://localhost:8080/"
    },
    "executionInfo": {
     "elapsed": 2643,
     "status": "ok",
     "timestamp": 1626415280753,
     "user": {
      "displayName": "Nico Guth",
      "photoUrl": "https://lh3.googleusercontent.com/a-/AOh14GjLU8mQVSscNU9ysknrBUGEMxsyfpLTAsLrcDvJfg=s64",
      "userId": "08893022833457968246"
     },
     "user_tz": -120
    },
    "id": "Yj8X-Qo-3Aii",
    "outputId": "30c76ce5-bcc6-4340-d038-25c92b0836f9"
   },
   "outputs": [],
   "source": [
    "!pip install -U tensorflow_decision_forests"
   ]
  },
  {
   "cell_type": "code",
   "execution_count": null,
   "metadata": {
    "executionInfo": {
     "elapsed": 4556,
     "status": "ok",
     "timestamp": 1626415285305,
     "user": {
      "displayName": "Nico Guth",
      "photoUrl": "https://lh3.googleusercontent.com/a-/AOh14GjLU8mQVSscNU9ysknrBUGEMxsyfpLTAsLrcDvJfg=s64",
      "userId": "08893022833457968246"
     },
     "user_tz": -120
    },
    "id": "OKxRRUUDSi0c"
   },
   "outputs": [],
   "source": [
    "#imports\n",
    "from platform import python_version\n",
    "\n",
    "#basic python stuff\n",
    "import os\n",
    "import json\n",
    "from pathlib import Path\n",
    "\n",
    "#basics from the SciPy Stack\n",
    "import numpy as np\n",
    "import pandas as pd\n",
    "import matplotlib.pyplot as plt\n",
    "\n",
    "#colab stuff\n",
    "from google.colab import drive\n",
    "\n",
    "#data managing\n",
    "from sklearn.model_selection import train_test_split\n",
    "from skimage import io #read in images\n",
    "from skimage.transform import resize\n",
    "\n",
    "# alternative model\n",
    "from sklearn.metrics import accuracy_score\n",
    "from skimage.color import rgb2gray\n",
    "from sklearn.preprocessing import MinMaxScaler\n",
    "import tensorflow_decision_forests as tfdf\n",
    "\n",
    "# evaluation\n",
    "import sklearn\n",
    "\n",
    "#progress bar\n",
    "from tqdm.notebook import tqdm"
   ]
  },
  {
   "cell_type": "code",
   "execution_count": null,
   "metadata": {
    "colab": {
     "base_uri": "https://localhost:8080/"
    },
    "executionInfo": {
     "elapsed": 13,
     "status": "ok",
     "timestamp": 1626415285308,
     "user": {
      "displayName": "Nico Guth",
      "photoUrl": "https://lh3.googleusercontent.com/a-/AOh14GjLU8mQVSscNU9ysknrBUGEMxsyfpLTAsLrcDvJfg=s64",
      "userId": "08893022833457968246"
     },
     "user_tz": -120
    },
    "id": "KjrZQySaYGYu",
    "outputId": "2a1a53e0-3461-40f5-d711-9d0b2a799526"
   },
   "outputs": [],
   "source": [
    "# settings\n",
    "\n",
    "# implements progress_apply into pandas\n",
    "tqdm.pandas(desc='Pandas_Progress')"
   ]
  },
  {
   "cell_type": "code",
   "execution_count": null,
   "metadata": {
    "colab": {
     "base_uri": "https://localhost:8080/"
    },
    "executionInfo": {
     "elapsed": 12,
     "status": "ok",
     "timestamp": 1626415285308,
     "user": {
      "displayName": "Nico Guth",
      "photoUrl": "https://lh3.googleusercontent.com/a-/AOh14GjLU8mQVSscNU9ysknrBUGEMxsyfpLTAsLrcDvJfg=s64",
      "userId": "08893022833457968246"
     },
     "user_tz": -120
    },
    "id": "rmJPflTiYHAO",
    "outputId": "81771514-202b-49dc-a40b-884f744bd166"
   },
   "outputs": [],
   "source": [
    "print(\"Python version =\",python_version())"
   ]
  },
  {
   "cell_type": "code",
   "execution_count": null,
   "metadata": {
    "colab": {
     "base_uri": "https://localhost:8080/"
    },
    "executionInfo": {
     "elapsed": 9,
     "status": "ok",
     "timestamp": 1626415285309,
     "user": {
      "displayName": "Nico Guth",
      "photoUrl": "https://lh3.googleusercontent.com/a-/AOh14GjLU8mQVSscNU9ysknrBUGEMxsyfpLTAsLrcDvJfg=s64",
      "userId": "08893022833457968246"
     },
     "user_tz": -120
    },
    "id": "GWgVWLihTLc4",
    "outputId": "78f8f404-2b66-4e71-da28-a598304fbab0"
   },
   "outputs": [],
   "source": [
    "# get access to drive\n",
    "drive.mount('/content/drive')"
   ]
  },
  {
   "cell_type": "markdown",
   "metadata": {
    "id": "uMJVXvRrWdYV"
   },
   "source": [
    "# Hyperparameters"
   ]
  },
  {
   "cell_type": "code",
   "execution_count": null,
   "metadata": {
    "executionInfo": {
     "elapsed": 7,
     "status": "ok",
     "timestamp": 1626415285309,
     "user": {
      "displayName": "Nico Guth",
      "photoUrl": "https://lh3.googleusercontent.com/a-/AOh14GjLU8mQVSscNU9ysknrBUGEMxsyfpLTAsLrcDvJfg=s64",
      "userId": "08893022833457968246"
     },
     "user_tz": -120
    },
    "id": "r8UN5uSPWdG3"
   },
   "outputs": [],
   "source": [
    "random_state = 42\n",
    "\n",
    "# training parameters\n",
    "sample_size = 1000\n",
    "test_size = 0.3\n",
    "val_size = 0.3\n",
    "\n",
    "# data preprocessing\n",
    "img_size = 128\n",
    "anti_aliasing = True\n",
    "mask_threshold = 0.5\n",
    "\n",
    "# model parameters\n",
    "rnd_forest_estimators = 20\n",
    "rnd_forest_max_depth = 20\n",
    "rnd_forest_criterion = 'gini' # or 'entropy'\n",
    "rnd_forest_bootstrap = True\n",
    "rnd_forest_max_samples = 1000 # only if bootstrap=True"
   ]
  },
  {
   "cell_type": "markdown",
   "metadata": {
    "id": "iZxMDwBNV3yx"
   },
   "source": [
    "# Retrieve the Dataset"
   ]
  },
  {
   "cell_type": "code",
   "execution_count": null,
   "metadata": {
    "executionInfo": {
     "elapsed": 18338,
     "status": "ok",
     "timestamp": 1626415303641,
     "user": {
      "displayName": "Nico Guth",
      "photoUrl": "https://lh3.googleusercontent.com/a-/AOh14GjLU8mQVSscNU9ysknrBUGEMxsyfpLTAsLrcDvJfg=s64",
      "userId": "08893022833457968246"
     },
     "user_tz": -120
    },
    "id": "xstIW12OVWmg"
   },
   "outputs": [],
   "source": [
    "# unzip data\n",
    "!unzip -n -q /content/drive/MyDrive/ML_Project_Satellite_Images/data/current_dataset.zip -d /content/"
   ]
  },
  {
   "cell_type": "code",
   "execution_count": null,
   "metadata": {
    "colab": {
     "base_uri": "https://localhost:8080/",
     "height": 455
    },
    "executionInfo": {
     "elapsed": 491,
     "status": "ok",
     "timestamp": 1626415304128,
     "user": {
      "displayName": "Nico Guth",
      "photoUrl": "https://lh3.googleusercontent.com/a-/AOh14GjLU8mQVSscNU9ysknrBUGEMxsyfpLTAsLrcDvJfg=s64",
      "userId": "08893022833457968246"
     },
     "user_tz": -120
    },
    "id": "6RZbQx-RrVAv",
    "outputId": "cba92227-316e-4106-f569-897b27709b91"
   },
   "outputs": [],
   "source": [
    "# read in samples.csv with information about the images\n",
    "samples_df = pd.read_csv('/content/dataset/samples.csv')\n",
    "samples_df.set_index('id', inplace=True)\n",
    "samples_df"
   ]
  },
  {
   "cell_type": "code",
   "execution_count": null,
   "metadata": {
    "executionInfo": {
     "elapsed": 24,
     "status": "ok",
     "timestamp": 1626415304130,
     "user": {
      "displayName": "Nico Guth",
      "photoUrl": "https://lh3.googleusercontent.com/a-/AOh14GjLU8mQVSscNU9ysknrBUGEMxsyfpLTAsLrcDvJfg=s64",
      "userId": "08893022833457968246"
     },
     "user_tz": -120
    },
    "id": "w0vVHx7OtNXx"
   },
   "outputs": [],
   "source": [
    "# paths to the sat/mask folder\n",
    "path_sat_folder = '/content/dataset/images/satellite/'\n",
    "path_mask_folder = '/content/dataset/images/mask/'"
   ]
  },
  {
   "cell_type": "code",
   "execution_count": null,
   "metadata": {
    "executionInfo": {
     "elapsed": 22,
     "status": "ok",
     "timestamp": 1626415304130,
     "user": {
      "displayName": "Nico Guth",
      "photoUrl": "https://lh3.googleusercontent.com/a-/AOh14GjLU8mQVSscNU9ysknrBUGEMxsyfpLTAsLrcDvJfg=s64",
      "userId": "08893022833457968246"
     },
     "user_tz": -120
    },
    "id": "GwCoDvQGtsy8"
   },
   "outputs": [],
   "source": [
    "# append absoulute paths of the images to the dataframe\n",
    "samples_df['abs_satellite_path'] = samples_df['satellite_file'].apply(lambda x: path_sat_folder+x)\n",
    "samples_df['abs_mask_path'] = samples_df['mask_file'].apply(lambda x: path_mask_folder+x)"
   ]
  },
  {
   "cell_type": "markdown",
   "metadata": {
    "id": "UZjmV5IQW5jr"
   },
   "source": [
    "# Functions for Image reading and plotting"
   ]
  },
  {
   "cell_type": "code",
   "execution_count": null,
   "metadata": {
    "executionInfo": {
     "elapsed": 22,
     "status": "ok",
     "timestamp": 1626415304131,
     "user": {
      "displayName": "Nico Guth",
      "photoUrl": "https://lh3.googleusercontent.com/a-/AOh14GjLU8mQVSscNU9ysknrBUGEMxsyfpLTAsLrcDvJfg=s64",
      "userId": "08893022833457968246"
     },
     "user_tz": -120
    },
    "id": "l3QE5z_tVeYp"
   },
   "outputs": [],
   "source": [
    "# function for image reading\n",
    "def read_satellite_img(filepath):\n",
    "  img = io.imread(filepath)\n",
    "  img = resize(img, output_shape=(img_size,img_size), anti_aliasing=anti_aliasing, preserve_range=True)\n",
    "  img = img / 255.\n",
    "  return img\n",
    "\n",
    "def read_mask_img(filepath):\n",
    "  img = io.imread(filepath)\n",
    "  if len(img.shape) > 2:\n",
    "    img = img[:,:,2]\n",
    "  img = resize(img, output_shape=(img_size,img_size), anti_aliasing=anti_aliasing, preserve_range=True)\n",
    "  img = img / 255.\n",
    "  mask = img > mask_threshold\n",
    "  img[mask] = 1\n",
    "  img[~mask] = 0\n",
    "  return img"
   ]
  },
  {
   "cell_type": "code",
   "execution_count": null,
   "metadata": {
    "executionInfo": {
     "elapsed": 21,
     "status": "ok",
     "timestamp": 1626415304131,
     "user": {
      "displayName": "Nico Guth",
      "photoUrl": "https://lh3.googleusercontent.com/a-/AOh14GjLU8mQVSscNU9ysknrBUGEMxsyfpLTAsLrcDvJfg=s64",
      "userId": "08893022833457968246"
     },
     "user_tz": -120
    },
    "id": "Q4aSl02hWCTO"
   },
   "outputs": [],
   "source": [
    "# function to load a batch of images\n",
    "def load_img_batch(samples_df,ids):\n",
    "  satellite_imgs = samples_df.loc[ids,'abs_satellite_path'].progress_apply(read_satellite_img)\n",
    "  mask_imgs = samples_df.loc[ids,'abs_mask_path'].progress_apply(read_mask_img)\n",
    "\n",
    "  satellite_imgs = np.stack(satellite_imgs.to_numpy())\n",
    "  mask_imgs = np.stack(mask_imgs.to_numpy())\n",
    "\n",
    "  return satellite_imgs, mask_imgs"
   ]
  },
  {
   "cell_type": "code",
   "execution_count": null,
   "metadata": {
    "executionInfo": {
     "elapsed": 20,
     "status": "ok",
     "timestamp": 1626415304131,
     "user": {
      "displayName": "Nico Guth",
      "photoUrl": "https://lh3.googleusercontent.com/a-/AOh14GjLU8mQVSscNU9ysknrBUGEMxsyfpLTAsLrcDvJfg=s64",
      "userId": "08893022833457968246"
     },
     "user_tz": -120
    },
    "id": "0kTxlAjepqyX"
   },
   "outputs": [],
   "source": [
    "# function to show some samples (with or without the predictions)\n",
    "def show_sample(X, Y, samples_df, ids, Y_pred=None, threshold=None, sample_size=10, fig_height=6):\n",
    "  rnd_sample_indices = np.random.random_integers(low=0,high=X.shape[0]-1,size=sample_size)\n",
    "  cols = 2 if Y_pred is None else 3\n",
    "  if Y_pred is None:\n",
    "    cols = 2\n",
    "  elif threshold is not None:\n",
    "    cols = 4\n",
    "  else:\n",
    "    cols = 3\n",
    "\n",
    "  for i in rnd_sample_indices:\n",
    "    fig, axs = plt.subplots(1,cols, figsize=(fig_height*cols,fig_height))\n",
    "    axs[0].set_title(f'Country: {samples_df.loc[ids[i],\"country\"]}')\n",
    "    axs[0].imshow(X[i])\n",
    "    axs[1].set_title('Given Mask')\n",
    "    axs[1].imshow(Y[i])\n",
    "    if Y_pred is not None:\n",
    "      axs[2].set_title('Prediction')\n",
    "      axs[2].imshow(Y_pred[i])\n",
    "      if threshold is not None:\n",
    "        Y_pred_mask = Y_pred[i] >= threshold\n",
    "        Y_pred[i,Y_pred_mask] = 1\n",
    "        Y_pred[i,~Y_pred_mask] = 0\n",
    "        axs[3].set_title(f'Prediction with threshold = {threshold}')\n",
    "        axs[3].imshow(Y_pred[i])\n",
    "\n",
    "    for ax in axs:\n",
    "      ax.set_xticks([])\n",
    "      ax.set_yticks([])\n",
    "    fig.tight_layout()"
   ]
  },
  {
   "cell_type": "code",
   "execution_count": null,
   "metadata": {
    "executionInfo": {
     "elapsed": 20,
     "status": "ok",
     "timestamp": 1626415304132,
     "user": {
      "displayName": "Nico Guth",
      "photoUrl": "https://lh3.googleusercontent.com/a-/AOh14GjLU8mQVSscNU9ysknrBUGEMxsyfpLTAsLrcDvJfg=s64",
      "userId": "08893022833457968246"
     },
     "user_tz": -120
    },
    "id": "LXI8HtCoIQBF"
   },
   "outputs": [],
   "source": [
    "def show_images(X,Ys,names,fig_height=4):\n",
    "  'Plots X and multiple Y'\n",
    "  if not isinstance(Ys,list):\n",
    "    Ys = [Ys]\n",
    "  if not isinstance(names,list):\n",
    "    names = [names]\n",
    "  cols = 1 + len(Ys)\n",
    "  for i in range(X.shape[0]):\n",
    "    fig,axs = plt.subplots(1,cols,figsize=(fig_height*cols,fig_height))\n",
    "    axs[0].axis('off')\n",
    "    axs[0].imshow(X[i])\n",
    "    axs[0].set_title('Satellite')\n",
    "    for j,(Y,name) in enumerate(zip(Ys,names)):\n",
    "      axs[j+1].axis('off')\n",
    "      axs[j+1].imshow(Y[i])\n",
    "      axs[j+1].set_title(name)\n",
    "    plt.show()"
   ]
  },
  {
   "cell_type": "markdown",
   "metadata": {
    "id": "BXP1H-_X5SHu"
   },
   "source": [
    "# Split Training and Test Data"
   ]
  },
  {
   "cell_type": "code",
   "execution_count": null,
   "metadata": {
    "colab": {
     "base_uri": "https://localhost:8080/"
    },
    "executionInfo": {
     "elapsed": 20,
     "status": "ok",
     "timestamp": 1626415304132,
     "user": {
      "displayName": "Nico Guth",
      "photoUrl": "https://lh3.googleusercontent.com/a-/AOh14GjLU8mQVSscNU9ysknrBUGEMxsyfpLTAsLrcDvJfg=s64",
      "userId": "08893022833457968246"
     },
     "user_tz": -120
    },
    "id": "_GMYuOBc5W7O",
    "outputId": "c6965f9a-81f1-4eda-e492-dd22602472c6"
   },
   "outputs": [],
   "source": [
    "sample_ids = samples_df.sample(sample_size, random_state=random_state).index.to_numpy()\n",
    "sample_ids.shape"
   ]
  },
  {
   "cell_type": "code",
   "execution_count": null,
   "metadata": {
    "executionInfo": {
     "elapsed": 18,
     "status": "ok",
     "timestamp": 1626415304133,
     "user": {
      "displayName": "Nico Guth",
      "photoUrl": "https://lh3.googleusercontent.com/a-/AOh14GjLU8mQVSscNU9ysknrBUGEMxsyfpLTAsLrcDvJfg=s64",
      "userId": "08893022833457968246"
     },
     "user_tz": -120
    },
    "id": "vBOupoO_6Z12"
   },
   "outputs": [],
   "source": [
    "# split in (train+val) and test\n",
    "train_ids, test_ids = train_test_split(sample_ids, test_size=test_size, random_state=random_state)"
   ]
  },
  {
   "cell_type": "code",
   "execution_count": null,
   "metadata": {
    "colab": {
     "base_uri": "https://localhost:8080/"
    },
    "executionInfo": {
     "elapsed": 17,
     "status": "ok",
     "timestamp": 1626415304133,
     "user": {
      "displayName": "Nico Guth",
      "photoUrl": "https://lh3.googleusercontent.com/a-/AOh14GjLU8mQVSscNU9ysknrBUGEMxsyfpLTAsLrcDvJfg=s64",
      "userId": "08893022833457968246"
     },
     "user_tz": -120
    },
    "id": "gjdJ3KsZ7Kkf",
    "outputId": "06f3b1b4-ec10-4bf6-81ed-2179a63c4b13"
   },
   "outputs": [],
   "source": [
    "print('Training Shape: ',train_ids.shape)\n",
    "print('Test Shape: ',test_ids.shape)"
   ]
  },
  {
   "cell_type": "markdown",
   "metadata": {
    "id": "MsjrZ4LX7sjh"
   },
   "source": [
    "# Train the Model"
   ]
  },
  {
   "cell_type": "code",
   "execution_count": null,
   "metadata": {
    "colab": {
     "base_uri": "https://localhost:8080/",
     "height": 119,
     "referenced_widgets": [
      "a49249b2bd854a8f9eb1630311724801",
      "31ed127c567f498cb4e7ef91fa480fad",
      "07682e62733c458baa2f13f32614efc7",
      "abfc1f619fe94babb84180ec6b4ab4a3",
      "a2fe0d59cc9c4998934b26406ed91954",
      "356d9bb59b2e4f6993350bb2ef74681d",
      "0856097892664213b65247cc5fc04b80",
      "08ddc5cf4c3c48a6a98e53384e8439e6",
      "d1eda01fe4f94985b5f6be9952c9d911",
      "f27fb318bf8a44428712092fe0392f6b",
      "2786d70655234f21802c57b420136697",
      "8c919407be7c43f7b2d878ddd4f1d19f",
      "99166ae979d049508489dec3f1545a31",
      "f05b4f23cc3049b3989f0921c2b3aea1",
      "2a9e32b67fae476591f9e80879bc83eb",
      "bec3b5dfccae4f7a8c031f7db2fd99ab"
     ]
    },
    "executionInfo": {
     "elapsed": 14225,
     "status": "ok",
     "timestamp": 1626415318343,
     "user": {
      "displayName": "Nico Guth",
      "photoUrl": "https://lh3.googleusercontent.com/a-/AOh14GjLU8mQVSscNU9ysknrBUGEMxsyfpLTAsLrcDvJfg=s64",
      "userId": "08893022833457968246"
     },
     "user_tz": -120
    },
    "id": "ZCFrGX2R7zos",
    "outputId": "ed6da321-b60c-4b66-e628-5af0e0bcec8c"
   },
   "outputs": [],
   "source": [
    "X_train, Y_train = load_img_batch(samples_df,train_ids)"
   ]
  },
  {
   "cell_type": "code",
   "execution_count": null,
   "metadata": {
    "executionInfo": {
     "elapsed": 7,
     "status": "ok",
     "timestamp": 1626415318733,
     "user": {
      "displayName": "Nico Guth",
      "photoUrl": "https://lh3.googleusercontent.com/a-/AOh14GjLU8mQVSscNU9ysknrBUGEMxsyfpLTAsLrcDvJfg=s64",
      "userId": "08893022833457968246"
     },
     "user_tz": -120
    },
    "id": "UjXW0hqPUkSi"
   },
   "outputs": [],
   "source": [
    "def extract_features(X):\n",
    "  # extract grays\n",
    "  X_gray = rgb2gray(X)\n",
    "  X_gray = np.expand_dims(X_gray,axis=3)\n",
    "  # extract absolute gradient of each channel\n",
    "  X_grad = np.stack(np.gradient(X,axis=(1,2)))\n",
    "  X_grad = np.linalg.norm(X_grad,axis=0)\n",
    "  # extract combined gradient\n",
    "  X_grad_gray = rgb2gray(X_grad)\n",
    "  X_grad_gray = np.expand_dims(X_grad_gray,axis=3)\n",
    "  # combine all features\n",
    "  X_combined = np.concatenate([X,X_gray,X_grad,X_grad_gray],axis=3)\n",
    "  # flatten the array\n",
    "  X_flat = X.reshape(-1,X.shape[3])\n",
    "  # Scale the data\n",
    "  scaler = MinMaxScaler()\n",
    "  X_flat = scaler.fit_transform(X_flat)\n",
    "  # unflatten the array\n",
    "  X = X_flat.reshape(-1,img_size,img_size,X_flat.shape[1])\n",
    "  return X"
   ]
  },
  {
   "cell_type": "code",
   "execution_count": null,
   "metadata": {
    "executionInfo": {
     "elapsed": 6,
     "status": "ok",
     "timestamp": 1626415318734,
     "user": {
      "displayName": "Nico Guth",
      "photoUrl": "https://lh3.googleusercontent.com/a-/AOh14GjLU8mQVSscNU9ysknrBUGEMxsyfpLTAsLrcDvJfg=s64",
      "userId": "08893022833457968246"
     },
     "user_tz": -120
    },
    "id": "SVVZO49iRE1C"
   },
   "outputs": [],
   "source": [
    "def train(X_train,Y_train):\n",
    "  print('Extracting Features...')\n",
    "  X = extract_features(X_train)\n",
    "  # flatten the arrays\n",
    "  X_flat = X.reshape(-1,X.shape[3])\n",
    "  Y_flat = Y_train.flatten()\n",
    "  # train the random forest\n",
    "  rnd_forest = tfdf.keras.RandomForestModel(\n",
    "                                          num_trees=rnd_forest_estimators,\n",
    "                                          max_depth=rnd_forest_max_depth)\n",
    "  print('Training Model...')\n",
    "  rnd_forest.fit(X_flat,Y_flat)\n",
    "  return rnd_forest"
   ]
  },
  {
   "cell_type": "code",
   "execution_count": null,
   "metadata": {
    "executionInfo": {
     "elapsed": 6,
     "status": "ok",
     "timestamp": 1626415318734,
     "user": {
      "displayName": "Nico Guth",
      "photoUrl": "https://lh3.googleusercontent.com/a-/AOh14GjLU8mQVSscNU9ysknrBUGEMxsyfpLTAsLrcDvJfg=s64",
      "userId": "08893022833457968246"
     },
     "user_tz": -120
    },
    "id": "-lbBssV6Vnxe"
   },
   "outputs": [],
   "source": [
    "def predict(X,model):\n",
    "  X = extract_features(X)\n",
    "  X_flat = X.reshape(-1,X.shape[3])\n",
    "  return model.predict(X_flat).reshape(-1,img_size,img_size)"
   ]
  },
  {
   "cell_type": "code",
   "execution_count": null,
   "metadata": {
    "colab": {
     "base_uri": "https://localhost:8080/"
    },
    "executionInfo": {
     "elapsed": 1039089,
     "status": "ok",
     "timestamp": 1626416375034,
     "user": {
      "displayName": "Nico Guth",
      "photoUrl": "https://lh3.googleusercontent.com/a-/AOh14GjLU8mQVSscNU9ysknrBUGEMxsyfpLTAsLrcDvJfg=s64",
      "userId": "08893022833457968246"
     },
     "user_tz": -120
    },
    "id": "CIUl5oORS5FN",
    "outputId": "1210536a-6561-4b3b-b938-5efeb4fe27d1"
   },
   "outputs": [],
   "source": [
    "model = train(X_train,Y_train)"
   ]
  },
  {
   "cell_type": "code",
   "execution_count": null,
   "metadata": {
    "executionInfo": {
     "elapsed": 384515,
     "status": "ok",
     "timestamp": 1626416767871,
     "user": {
      "displayName": "Nico Guth",
      "photoUrl": "https://lh3.googleusercontent.com/a-/AOh14GjLU8mQVSscNU9ysknrBUGEMxsyfpLTAsLrcDvJfg=s64",
      "userId": "08893022833457968246"
     },
     "user_tz": -120
    },
    "id": "GMzTINWbWGuj"
   },
   "outputs": [],
   "source": [
    "Y_train_pred = predict(X_train, model)"
   ]
  },
  {
   "cell_type": "code",
   "execution_count": null,
   "metadata": {
    "executionInfo": {
     "elapsed": 237,
     "status": "ok",
     "timestamp": 1626416849209,
     "user": {
      "displayName": "Nico Guth",
      "photoUrl": "https://lh3.googleusercontent.com/a-/AOh14GjLU8mQVSscNU9ysknrBUGEMxsyfpLTAsLrcDvJfg=s64",
      "userId": "08893022833457968246"
     },
     "user_tz": -120
    },
    "id": "CpCfp7Dq_t0i"
   },
   "outputs": [],
   "source": [
    "Y_train_pred = Y_train_pred.astype(int)"
   ]
  },
  {
   "cell_type": "code",
   "execution_count": null,
   "metadata": {
    "colab": {
     "base_uri": "https://localhost:8080/"
    },
    "executionInfo": {
     "elapsed": 1729,
     "status": "ok",
     "timestamp": 1626416853282,
     "user": {
      "displayName": "Nico Guth",
      "photoUrl": "https://lh3.googleusercontent.com/a-/AOh14GjLU8mQVSscNU9ysknrBUGEMxsyfpLTAsLrcDvJfg=s64",
      "userId": "08893022833457968246"
     },
     "user_tz": -120
    },
    "id": "eJlGZtQGWkZp",
    "outputId": "2855b3f5-a8bd-4cc1-c51c-462e31824f16"
   },
   "outputs": [],
   "source": [
    "print(f'Train Accuracy: {accuracy_score(Y_train.flatten(), Y_train_pred.flatten())}')"
   ]
  },
  {
   "cell_type": "code",
   "execution_count": null,
   "metadata": {
    "colab": {
     "base_uri": "https://localhost:8080/",
     "height": 1000,
     "output_embedded_package_id": "1DIOS2dSEjwah7BVUGKxQ8EbUq_ghXWHW"
    },
    "executionInfo": {
     "elapsed": 4435,
     "status": "ok",
     "timestamp": 1626416875206,
     "user": {
      "displayName": "Nico Guth",
      "photoUrl": "https://lh3.googleusercontent.com/a-/AOh14GjLU8mQVSscNU9ysknrBUGEMxsyfpLTAsLrcDvJfg=s64",
      "userId": "08893022833457968246"
     },
     "user_tz": -120
    },
    "id": "3u_k-E3DXIy4",
    "outputId": "d3c087e1-387f-49fa-cade-643a69eedffc"
   },
   "outputs": [],
   "source": [
    "sample_size = 20\n",
    "sample_idxs = np.random.randint(low=0,high=X_train.shape[0], size=sample_size)\n",
    "X = X_train[sample_idxs]\n",
    "Ys = [Y_train[sample_idxs],Y_train_pred[sample_idxs]]\n",
    "names = ['Mask','Prediction']\n",
    "show_images(X,Ys,names)"
   ]
  },
  {
   "cell_type": "markdown",
   "metadata": {
    "id": "pDk01uIGZKLi"
   },
   "source": [
    "# Evaluate On Test Data"
   ]
  },
  {
   "cell_type": "code",
   "execution_count": null,
   "metadata": {
    "colab": {
     "base_uri": "https://localhost:8080/",
     "height": 119,
     "referenced_widgets": [
      "c62234db479449d5a056fb9586c2bb16",
      "edeead4f1b8d4aaaa4c92782adad94df",
      "801df833530e4a0eb18b4d760d9507a8",
      "07d6b99c980148c493cbb949dbc52d89",
      "bca734f5e178406b8590bf5739fb4553",
      "51dab5d870b94479a2c74c1443dc9ff8",
      "b20f4ebcbfff48f6974a0216bf254e77",
      "96e25c34c2774bc2ba9ca58bb8ff58c2",
      "0099e01df2bc4f6c97394cab8835cedc",
      "02ecc66f99964c3fb933d87364890d66",
      "e0fefab465784904b8feac354bbfad88",
      "8cefbc1435094761ab6dc92b51c95b2f",
      "c910fade5b6b46f0a6b6577c2fedcfd8",
      "590b675133184a4ca10028abb345019d",
      "de547ca825fd456da29bcadff7e29897",
      "7d085b01415c46e7b01e50bf763ed9b3"
     ]
    },
    "executionInfo": {
     "elapsed": 5589,
     "status": "ok",
     "timestamp": 1626416880788,
     "user": {
      "displayName": "Nico Guth",
      "photoUrl": "https://lh3.googleusercontent.com/a-/AOh14GjLU8mQVSscNU9ysknrBUGEMxsyfpLTAsLrcDvJfg=s64",
      "userId": "08893022833457968246"
     },
     "user_tz": -120
    },
    "id": "PQwOXNAAL3gr",
    "outputId": "92b5cef9-4654-494c-f5d2-af99fd9c18dd"
   },
   "outputs": [],
   "source": [
    "X_test, Y_test = load_img_batch(samples_df,test_ids)"
   ]
  },
  {
   "cell_type": "code",
   "execution_count": null,
   "metadata": {
    "executionInfo": {
     "elapsed": 203079,
     "status": "ok",
     "timestamp": 1626417083865,
     "user": {
      "displayName": "Nico Guth",
      "photoUrl": "https://lh3.googleusercontent.com/a-/AOh14GjLU8mQVSscNU9ysknrBUGEMxsyfpLTAsLrcDvJfg=s64",
      "userId": "08893022833457968246"
     },
     "user_tz": -120
    },
    "id": "Atk_xjCDMPL4"
   },
   "outputs": [],
   "source": [
    "Y_pred = predict(X_test,model)"
   ]
  },
  {
   "cell_type": "code",
   "execution_count": null,
   "metadata": {
    "executionInfo": {
     "elapsed": 250,
     "status": "ok",
     "timestamp": 1626417106225,
     "user": {
      "displayName": "Nico Guth",
      "photoUrl": "https://lh3.googleusercontent.com/a-/AOh14GjLU8mQVSscNU9ysknrBUGEMxsyfpLTAsLrcDvJfg=s64",
      "userId": "08893022833457968246"
     },
     "user_tz": -120
    },
    "id": "mi2z6z9FA2jk"
   },
   "outputs": [],
   "source": [
    "Y_pred = Y_pred.astype(int)"
   ]
  },
  {
   "cell_type": "code",
   "execution_count": null,
   "metadata": {
    "colab": {
     "base_uri": "https://localhost:8080/"
    },
    "executionInfo": {
     "elapsed": 965,
     "status": "ok",
     "timestamp": 1626417107538,
     "user": {
      "displayName": "Nico Guth",
      "photoUrl": "https://lh3.googleusercontent.com/a-/AOh14GjLU8mQVSscNU9ysknrBUGEMxsyfpLTAsLrcDvJfg=s64",
      "userId": "08893022833457968246"
     },
     "user_tz": -120
    },
    "id": "fnanEgZ2MtmW",
    "outputId": "2e226a65-92f1-40c8-833f-39fd3d585485"
   },
   "outputs": [],
   "source": [
    "print(f'Test Accuracy: {accuracy_score(Y_test.flatten(), Y_pred.flatten())}')"
   ]
  },
  {
   "cell_type": "code",
   "execution_count": null,
   "metadata": {
    "colab": {
     "base_uri": "https://localhost:8080/",
     "height": 1000,
     "output_embedded_package_id": "1hVPrrjwqeYZN9y8zSkJa4pOyYu3x1E-n"
    },
    "executionInfo": {
     "elapsed": 4030,
     "status": "ok",
     "timestamp": 1626417111562,
     "user": {
      "displayName": "Nico Guth",
      "photoUrl": "https://lh3.googleusercontent.com/a-/AOh14GjLU8mQVSscNU9ysknrBUGEMxsyfpLTAsLrcDvJfg=s64",
      "userId": "08893022833457968246"
     },
     "user_tz": -120
    },
    "id": "PEsvDsjTiduS",
    "outputId": "76142f55-87cf-4490-d6ed-1aa7dd856f72"
   },
   "outputs": [],
   "source": [
    "sample_size = 20\n",
    "sample_idxs = np.random.randint(low=0,high=X_test.shape[0], size=sample_size)\n",
    "X = X_test[sample_idxs]\n",
    "Ys = [Y_test[sample_idxs],Y_pred[sample_idxs]]\n",
    "names = ['Mask','Prediction']\n",
    "show_images(X,Ys,names)"
   ]
  },
  {
   "cell_type": "code",
   "execution_count": null,
   "metadata": {
    "id": "6doLJpDym5pd"
   },
   "outputs": [],
   "source": []
  }
 ],
 "metadata": {
  "accelerator": "GPU",
  "colab": {
   "collapsed_sections": [],
   "name": "alternative_rnd_forest_tensorflow.ipynb",
   "provenance": [
    {
     "file_id": "1oRsA-lCQ7GP7qVycy9ph_Rq7w2e5E2ur",
     "timestamp": 1624906132931
    },
    {
     "file_id": "1zYdYA0Dsh-jRRsiQppLJEnBiBVrUJMvR",
     "timestamp": 1624892651453
    }
   ]
  },
  "kernelspec": {
   "display_name": "Python 3",
   "name": "python3"
  },
  "language_info": {
   "name": "python"
  }
 },
 "nbformat": 4,
 "nbformat_minor": 0
}
