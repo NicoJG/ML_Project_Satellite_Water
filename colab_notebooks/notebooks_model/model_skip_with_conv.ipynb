{
 "cells": [
  {
   "cell_type": "markdown",
   "metadata": {
    "id": "TNxWORy2wGC_"
   },
   "source": [
    "# Imports\n",
    "\n",
    "removed checking if in CoLab"
   ]
  },
  {
   "cell_type": "code",
   "execution_count": null,
   "metadata": {
    "executionInfo": {
     "elapsed": 2478,
     "status": "ok",
     "timestamp": 1625842211933,
     "user": {
      "displayName": "Nico Guth",
      "photoUrl": "https://lh3.googleusercontent.com/a-/AOh14GjLU8mQVSscNU9ysknrBUGEMxsyfpLTAsLrcDvJfg=s64",
      "userId": "08893022833457968246"
     },
     "user_tz": -120
    },
    "id": "OKxRRUUDSi0c"
   },
   "outputs": [],
   "source": [
    "#imports\n",
    "from platform import python_version\n",
    "\n",
    "#basic python stuff\n",
    "import os\n",
    "import json\n",
    "from pathlib import Path\n",
    "\n",
    "#basics from the SciPy Stack\n",
    "import numpy as np\n",
    "import pandas as pd\n",
    "import matplotlib.pyplot as plt\n",
    "\n",
    "#colab stuff\n",
    "from google.colab import drive\n",
    "\n",
    "#data managing\n",
    "from sklearn.model_selection import train_test_split\n",
    "from skimage import io #read in images\n",
    "\n",
    "#model\n",
    "%tensorflow_version 2.x\n",
    "import tensorflow as tf\n",
    "from tensorflow.keras import layers, callbacks\n",
    "from keras.optimizers import Adam\n",
    "\n",
    "#progress bar\n",
    "from tqdm.notebook import tqdm"
   ]
  },
  {
   "cell_type": "code",
   "execution_count": null,
   "metadata": {
    "colab": {
     "base_uri": "https://localhost:8080/"
    },
    "executionInfo": {
     "elapsed": 9,
     "status": "ok",
     "timestamp": 1625842211934,
     "user": {
      "displayName": "Nico Guth",
      "photoUrl": "https://lh3.googleusercontent.com/a-/AOh14GjLU8mQVSscNU9ysknrBUGEMxsyfpLTAsLrcDvJfg=s64",
      "userId": "08893022833457968246"
     },
     "user_tz": -120
    },
    "id": "Wv1EjuBK0mUw",
    "outputId": "f4ea70b4-2bf9-4ec3-bba6-5b2c95d0aa30"
   },
   "outputs": [],
   "source": [
    "# settings\n",
    "\n",
    "# implements progress_apply into pandas\n",
    "tqdm.pandas(desc='Pandas_Progress')"
   ]
  },
  {
   "cell_type": "code",
   "execution_count": null,
   "metadata": {
    "colab": {
     "base_uri": "https://localhost:8080/"
    },
    "executionInfo": {
     "elapsed": 6,
     "status": "ok",
     "timestamp": 1625842211935,
     "user": {
      "displayName": "Nico Guth",
      "photoUrl": "https://lh3.googleusercontent.com/a-/AOh14GjLU8mQVSscNU9ysknrBUGEMxsyfpLTAsLrcDvJfg=s64",
      "userId": "08893022833457968246"
     },
     "user_tz": -120
    },
    "id": "i1byH6kBzF18",
    "outputId": "72342f63-2884-4e26-f806-f9a78ba46731"
   },
   "outputs": [],
   "source": [
    "print(\"Tensorflow version\", tf.__version__)\n",
    "print(\"Python version =\",python_version())"
   ]
  },
  {
   "cell_type": "code",
   "execution_count": null,
   "metadata": {
    "colab": {
     "base_uri": "https://localhost:8080/"
    },
    "executionInfo": {
     "elapsed": 15587,
     "status": "ok",
     "timestamp": 1625842227518,
     "user": {
      "displayName": "Nico Guth",
      "photoUrl": "https://lh3.googleusercontent.com/a-/AOh14GjLU8mQVSscNU9ysknrBUGEMxsyfpLTAsLrcDvJfg=s64",
      "userId": "08893022833457968246"
     },
     "user_tz": -120
    },
    "id": "GWgVWLihTLc4",
    "outputId": "55651d4b-e65c-43aa-b7c5-5dd54376c14e"
   },
   "outputs": [],
   "source": [
    "# get access to google drive\n",
    "drive.mount('/content/drive')"
   ]
  },
  {
   "cell_type": "code",
   "execution_count": null,
   "metadata": {
    "executionInfo": {
     "elapsed": 354,
     "status": "ok",
     "timestamp": 1625842227868,
     "user": {
      "displayName": "Nico Guth",
      "photoUrl": "https://lh3.googleusercontent.com/a-/AOh14GjLU8mQVSscNU9ysknrBUGEMxsyfpLTAsLrcDvJfg=s64",
      "userId": "08893022833457968246"
     },
     "user_tz": -120
    },
    "id": "roMsZPbKJhsn"
   },
   "outputs": [],
   "source": [
    "# import local python files\n",
    "import importlib.util\n",
    "\n",
    "# https://github.com/maxvfischer/keras-image-segmentation-loss-functions\n",
    "spec = importlib.util.spec_from_file_location(\"binary_losses\", \"/content/drive/MyDrive/ML_Project_Satellite_Images/binary_losses.py\")\n",
    "binary_losses = importlib.util.module_from_spec(spec)\n",
    "spec.loader.exec_module(binary_losses)"
   ]
  },
  {
   "cell_type": "markdown",
   "metadata": {
    "id": "oDGi9wQOCa7T"
   },
   "source": [
    "# Hyperparameters"
   ]
  },
  {
   "cell_type": "code",
   "execution_count": null,
   "metadata": {
    "executionInfo": {
     "elapsed": 5,
     "status": "ok",
     "timestamp": 1625842227869,
     "user": {
      "displayName": "Nico Guth",
      "photoUrl": "https://lh3.googleusercontent.com/a-/AOh14GjLU8mQVSscNU9ysknrBUGEMxsyfpLTAsLrcDvJfg=s64",
      "userId": "08893022833457968246"
     },
     "user_tz": -120
    },
    "id": "GccgY-HLCfPP"
   },
   "outputs": [],
   "source": [
    "# training parameters\n",
    "sample_size = 5000\n",
    "batch_size = 128\n",
    "epochs = 30\n",
    "test_size = 0.3\n",
    "val_size = 0.3\n",
    "\n",
    "random_state = 123\n",
    "\n",
    "# image preprocessing\n",
    "img_size = 128\n",
    "anti_aliasing = True\n",
    "resize_method = tf.image.ResizeMethod.BILINEAR\n",
    "mask_threshold = 0.5\n",
    "\n",
    "# model parameters\n",
    "params = {\n",
    "    'filter_start' : 16,\n",
    "    'filter_factor' : 2,\n",
    "    'filter_levels' : 5,\n",
    "    'kernel_size' : 3,\n",
    "    'activation' : 'relu',\n",
    "    'kernel_initializer' : 'he_normal',\n",
    "    'dropout' : 0.3,\n",
    "    'pool_size' : 2,\n",
    "    'output_activation' : 'sigmoid',\n",
    "    'learning_rate' : 0.005,\n",
    "    'loss' : 'binary_crossentropy',\n",
    "    #'loss' : binary_losses.binary_balanced_cross_entropy(beta=0.1),\n",
    "    'metrics' : ['accuracy']#,tf.keras.metrics.MeanIoU(num_classes=2)]\n",
    "  }\n",
    "\n",
    "# for model saving\n",
    "model_name = 'skip_with_conv_5000_128px'"
   ]
  },
  {
   "cell_type": "markdown",
   "metadata": {
    "id": "o7ZezlpHwPVV"
   },
   "source": [
    "# Retrieve the Dataset"
   ]
  },
  {
   "cell_type": "code",
   "execution_count": null,
   "metadata": {
    "executionInfo": {
     "elapsed": 14603,
     "status": "ok",
     "timestamp": 1625842242468,
     "user": {
      "displayName": "Nico Guth",
      "photoUrl": "https://lh3.googleusercontent.com/a-/AOh14GjLU8mQVSscNU9ysknrBUGEMxsyfpLTAsLrcDvJfg=s64",
      "userId": "08893022833457968246"
     },
     "user_tz": -120
    },
    "id": "xstIW12OVWmg"
   },
   "outputs": [],
   "source": [
    "# unzip the dataset\n",
    "!unzip -n -q /content/drive/MyDrive/ML_Project_Satellite_Images/data/current_dataset.zip -d /content/"
   ]
  },
  {
   "cell_type": "code",
   "execution_count": null,
   "metadata": {
    "colab": {
     "base_uri": "https://localhost:8080/",
     "height": 455
    },
    "executionInfo": {
     "elapsed": 27,
     "status": "ok",
     "timestamp": 1625842242471,
     "user": {
      "displayName": "Nico Guth",
      "photoUrl": "https://lh3.googleusercontent.com/a-/AOh14GjLU8mQVSscNU9ysknrBUGEMxsyfpLTAsLrcDvJfg=s64",
      "userId": "08893022833457968246"
     },
     "user_tz": -120
    },
    "id": "6RZbQx-RrVAv",
    "outputId": "2d371a28-763c-480d-cb24-182e9f7ed3c2"
   },
   "outputs": [],
   "source": [
    "# read in samples.csv with information about the images (only a sample)\n",
    "samples_df = pd.read_csv('/content/dataset/samples.csv').sample(sample_size, random_state=random_state)\n",
    "samples_df.set_index('id', inplace=True)\n",
    "samples_df"
   ]
  },
  {
   "cell_type": "code",
   "execution_count": null,
   "metadata": {
    "executionInfo": {
     "elapsed": 22,
     "status": "ok",
     "timestamp": 1625842242472,
     "user": {
      "displayName": "Nico Guth",
      "photoUrl": "https://lh3.googleusercontent.com/a-/AOh14GjLU8mQVSscNU9ysknrBUGEMxsyfpLTAsLrcDvJfg=s64",
      "userId": "08893022833457968246"
     },
     "user_tz": -120
    },
    "id": "w0vVHx7OtNXx"
   },
   "outputs": [],
   "source": [
    "# paths to the sat/mask folder\n",
    "path_sat_folder = '/content/dataset/images/satellite/'\n",
    "path_mask_folder = '/content/dataset/images/mask/'"
   ]
  },
  {
   "cell_type": "code",
   "execution_count": null,
   "metadata": {
    "executionInfo": {
     "elapsed": 21,
     "status": "ok",
     "timestamp": 1625842242473,
     "user": {
      "displayName": "Nico Guth",
      "photoUrl": "https://lh3.googleusercontent.com/a-/AOh14GjLU8mQVSscNU9ysknrBUGEMxsyfpLTAsLrcDvJfg=s64",
      "userId": "08893022833457968246"
     },
     "user_tz": -120
    },
    "id": "GwCoDvQGtsy8"
   },
   "outputs": [],
   "source": [
    "# append absoulute paths of the images to the dataframe\n",
    "samples_df['abs_satellite_path'] = samples_df['satellite_file'].apply(lambda x: path_sat_folder+x)\n",
    "samples_df['abs_mask_path'] = samples_df['mask_file'].apply(lambda x: path_mask_folder+x)"
   ]
  },
  {
   "cell_type": "markdown",
   "metadata": {
    "id": "fv8SmeWtqiQ2"
   },
   "source": [
    "# Prepare the tf.data.Dataset\n",
    "\n",
    "- https://towardsdatascience.com/what-is-the-best-input-pipeline-to-train-image-classification-models-with-tf-keras-eb3fe26d3cc5  \n",
    "- https://www.tensorflow.org/guide/data_performance\n"
   ]
  },
  {
   "cell_type": "code",
   "execution_count": null,
   "metadata": {
    "executionInfo": {
     "elapsed": 21,
     "status": "ok",
     "timestamp": 1625842242474,
     "user": {
      "displayName": "Nico Guth",
      "photoUrl": "https://lh3.googleusercontent.com/a-/AOh14GjLU8mQVSscNU9ysknrBUGEMxsyfpLTAsLrcDvJfg=s64",
      "userId": "08893022833457968246"
     },
     "user_tz": -120
    },
    "id": "BmEptTJVTT3U"
   },
   "outputs": [],
   "source": [
    "def parse_satellite_image(file_path):\n",
    "  img = tf.io.read_file(file_path)\n",
    "  img = tf.io.decode_jpeg(img, channels=3)\n",
    "  img = tf.image.resize(img, [img_size, img_size], method=resize_method, antialias=anti_aliasing)\n",
    "  img = img / 255.\n",
    "  return img"
   ]
  },
  {
   "cell_type": "code",
   "execution_count": null,
   "metadata": {
    "executionInfo": {
     "elapsed": 358,
     "status": "ok",
     "timestamp": 1625842242813,
     "user": {
      "displayName": "Nico Guth",
      "photoUrl": "https://lh3.googleusercontent.com/a-/AOh14GjLU8mQVSscNU9ysknrBUGEMxsyfpLTAsLrcDvJfg=s64",
      "userId": "08893022833457968246"
     },
     "user_tz": -120
    },
    "id": "z0z76nHyV-h6"
   },
   "outputs": [],
   "source": [
    "def parse_mask_image(file_path):\n",
    "  img = tf.io.read_file(file_path)\n",
    "  img = tf.io.decode_png(img, channels=4)\n",
    "  img = tf.image.resize(img, [img_size, img_size], method=resize_method, antialias=anti_aliasing)\n",
    "  img = img[:,:,2]\n",
    "  img = img / 255.\n",
    "  mask = tf.greater(img,mask_threshold)\n",
    "  img = tf.where(mask, 1, 0)\n",
    "  return img"
   ]
  },
  {
   "cell_type": "code",
   "execution_count": null,
   "metadata": {
    "executionInfo": {
     "elapsed": 8,
     "status": "ok",
     "timestamp": 1625842242814,
     "user": {
      "displayName": "Nico Guth",
      "photoUrl": "https://lh3.googleusercontent.com/a-/AOh14GjLU8mQVSscNU9ysknrBUGEMxsyfpLTAsLrcDvJfg=s64",
      "userId": "08893022833457968246"
     },
     "user_tz": -120
    },
    "id": "ffGY_NKeXrI9"
   },
   "outputs": [],
   "source": [
    "def make_dataset(samples_df, batch_size):\n",
    "  # paths as Dataset\n",
    "  satellite_paths_ds = tf.data.Dataset.from_tensor_slices(samples_df['abs_satellite_path'])\n",
    "  mask_paths_ds = tf.data.Dataset.from_tensor_slices(samples_df['abs_mask_path'])\n",
    "  # images as Dataset\n",
    "  satellite_ds = satellite_paths_ds.map(parse_satellite_image, num_parallel_calls=tf.data.experimental.AUTOTUNE)\n",
    "  mask_ds = mask_paths_ds.map(parse_mask_image, num_parallel_calls=tf.data.experimental.AUTOTUNE)\n",
    "  # combine inputs and targets https://www.tensorflow.org/api_docs/python/tf/keras/Model#fit\n",
    "  ds = tf.data.Dataset.zip((satellite_ds, mask_ds))\n",
    "  # configure the Dataset for better performance\n",
    "  ds = ds.batch(batch_size)\n",
    "  ds = ds.prefetch(buffer_size=tf.data.experimental.AUTOTUNE)\n",
    "  ds = ds.cache()\n",
    "\n",
    "  return ds"
   ]
  },
  {
   "cell_type": "markdown",
   "metadata": {
    "id": "Ae-6QacDmL6l"
   },
   "source": [
    "# Split Training, Validation and Test Data"
   ]
  },
  {
   "cell_type": "code",
   "execution_count": null,
   "metadata": {
    "executionInfo": {
     "elapsed": 7,
     "status": "ok",
     "timestamp": 1625842242814,
     "user": {
      "displayName": "Nico Guth",
      "photoUrl": "https://lh3.googleusercontent.com/a-/AOh14GjLU8mQVSscNU9ysknrBUGEMxsyfpLTAsLrcDvJfg=s64",
      "userId": "08893022833457968246"
     },
     "user_tz": -120
    },
    "id": "ERuYIwP4mI0l"
   },
   "outputs": [],
   "source": [
    "# split in (train+val) and test\n",
    "samples_df_train_val, samples_df_test = train_test_split(samples_df, test_size=test_size, random_state=random_state)\n",
    "# split (train+val)\n",
    "samples_df_train, samples_df_val = train_test_split(samples_df_train_val, test_size=val_size, random_state=random_state)"
   ]
  },
  {
   "cell_type": "code",
   "execution_count": null,
   "metadata": {
    "colab": {
     "base_uri": "https://localhost:8080/"
    },
    "executionInfo": {
     "elapsed": 8,
     "status": "ok",
     "timestamp": 1625842242815,
     "user": {
      "displayName": "Nico Guth",
      "photoUrl": "https://lh3.googleusercontent.com/a-/AOh14GjLU8mQVSscNU9ysknrBUGEMxsyfpLTAsLrcDvJfg=s64",
      "userId": "08893022833457968246"
     },
     "user_tz": -120
    },
    "id": "yyanaMyJGa1W",
    "outputId": "3e887d66-0f0e-478c-898a-0d6b9e07b5c5"
   },
   "outputs": [],
   "source": [
    "print('Training Shape: ',samples_df_train.shape)\n",
    "print('Validation Shape: ',samples_df_val.shape)\n",
    "print('Test Shape: ',samples_df_test.shape)"
   ]
  },
  {
   "cell_type": "code",
   "execution_count": null,
   "metadata": {
    "executionInfo": {
     "elapsed": 6053,
     "status": "ok",
     "timestamp": 1625842248862,
     "user": {
      "displayName": "Nico Guth",
      "photoUrl": "https://lh3.googleusercontent.com/a-/AOh14GjLU8mQVSscNU9ysknrBUGEMxsyfpLTAsLrcDvJfg=s64",
      "userId": "08893022833457968246"
     },
     "user_tz": -120
    },
    "id": "AIhdpVLAmuxk"
   },
   "outputs": [],
   "source": [
    "train_ds = make_dataset(samples_df_train, batch_size)\n",
    "val_ds = make_dataset(samples_df_val, batch_size)\n",
    "test_ds = make_dataset(samples_df_test, batch_size)"
   ]
  },
  {
   "cell_type": "code",
   "execution_count": null,
   "metadata": {
    "colab": {
     "base_uri": "https://localhost:8080/",
     "height": 538
    },
    "executionInfo": {
     "elapsed": 1442,
     "status": "ok",
     "timestamp": 1625842250301,
     "user": {
      "displayName": "Nico Guth",
      "photoUrl": "https://lh3.googleusercontent.com/a-/AOh14GjLU8mQVSscNU9ysknrBUGEMxsyfpLTAsLrcDvJfg=s64",
      "userId": "08893022833457968246"
     },
     "user_tz": -120
    },
    "id": "7Z5A2eTKRtS-",
    "outputId": "cddb0cfa-1e91-465a-cb37-a333d45a1095"
   },
   "outputs": [],
   "source": [
    "for x in train_ds.take(1):\n",
    "  print(type(x[0]))\n",
    "  plt.imshow(x[0][1])\n",
    "  plt.show()\n",
    "  plt.imshow(x[1][1])\n",
    "  plt.show()"
   ]
  },
  {
   "cell_type": "markdown",
   "metadata": {
    "id": "NSZQ004uE5qj"
   },
   "source": [
    "## Build model\n",
    "\n",
    " Sources:\n",
    " - https://keras.io/examples/vision/oxford_pets_image_segmentation/\n",
    " - https://keras.io/getting_started/intro_to_keras_for_engineers/#building-models-with-the-keras-functional-api\n",
    " - https://www.youtube.com/watch?v=azM57JuQpQI\n",
    "\n",
    "\n",
    "\n",
    " \n",
    " ![U-net-architecture-for-the-forest-types-segmentation-adapted-from-Ronneberger-et-al.png](data:image/png;base64,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)"
   ]
  },
  {
   "cell_type": "code",
   "execution_count": null,
   "metadata": {
    "executionInfo": {
     "elapsed": 5,
     "status": "ok",
     "timestamp": 1625842250301,
     "user": {
      "displayName": "Nico Guth",
      "photoUrl": "https://lh3.googleusercontent.com/a-/AOh14GjLU8mQVSscNU9ysknrBUGEMxsyfpLTAsLrcDvJfg=s64",
      "userId": "08893022833457968246"
     },
     "user_tz": -120
    },
    "id": "ieSlG-SWeCdR"
   },
   "outputs": [],
   "source": [
    "def conv_layer(params,level):\n",
    "  filters = params['filter_start'] * params['filter_factor'] ** level\n",
    "  layer = layers.Conv2D(\n",
    "                    filters = filters, \n",
    "                    kernel_size = params['kernel_size'],\n",
    "                    activation = params['activation'],\n",
    "                    padding = 'same',\n",
    "                    kernel_initializer = params['kernel_initializer']\n",
    "                    )\n",
    "  return layer\n",
    "\n",
    "def build_model(params):\n",
    "  inputs = layers.Input((img_size, img_size, 3))\n",
    "\n",
    "  last = inputs\n",
    "\n",
    "  layers_to_copy = []\n",
    "\n",
    "  # contraction path\n",
    "  for level in range(params['filter_levels']-1):\n",
    "    last = conv_layer(params, level)(last)\n",
    "    last = layers.Dropout(params['dropout'])(last)\n",
    "    last = conv_layer(params, level)(last)\n",
    "    \n",
    "    # convolution in the skip path\n",
    "    skip_conv = layers.Dropout(params['dropout'])(last)\n",
    "    skip_conv = conv_layer(params, level)(skip_conv)\n",
    "    layers_to_copy.append(skip_conv)\n",
    "\n",
    "    last = layers.MaxPool2D(pool_size=params['pool_size'])(last)\n",
    "\n",
    "  # bottom level\n",
    "  last = conv_layer(params, params['filter_levels']-1)(last)\n",
    "  last = layers.Dropout(params['dropout'])(last)\n",
    "  last = conv_layer(params, params['filter_levels']-1)(last)\n",
    "\n",
    "  # large skip level\n",
    "  skip = conv_layer(params, 0)(inputs)\n",
    "  skip = layers.Dropout(params['dropout'])(skip)\n",
    "  skip = conv_layer(params, 0)(skip)\n",
    "\n",
    "  # expasion path\n",
    "  for level in range(params['filter_levels']-2,-1,-1):\n",
    "    filters = params['filter_start'] * params['filter_factor'] ** level\n",
    "    #last = layers.UpSampling2D(size=(2,2))(last)\n",
    "    last = layers.Conv2DTranspose(filters = filters, kernel_size=params['pool_size'], strides=params['pool_size'], padding='same')(last)\n",
    "    last = layers.concatenate([last, layers_to_copy[level]])\n",
    "    last = conv_layer(params, level)(last)\n",
    "    last = layers.Dropout(params['dropout'])(last)\n",
    "    last = conv_layer(params, level)(last)\n",
    "\n",
    "  last = layers.concatenate([last, skip])\n",
    "  last = conv_layer(params, 0)(last)\n",
    "\n",
    "  outputs = layers.Conv2D(1, (1, 1), activation=params['output_activation'])(last)\n",
    "  model = tf.keras.Model(inputs=[inputs], outputs=[outputs])\n",
    "  optimizer = Adam(learning_rate=params['learning_rate'])\n",
    "  model.compile(optimizer=optimizer, loss=params['loss'], metrics=params['metrics'])\n",
    "  \n",
    "  return model"
   ]
  },
  {
   "cell_type": "code",
   "execution_count": null,
   "metadata": {
    "colab": {
     "base_uri": "https://localhost:8080/"
    },
    "executionInfo": {
     "elapsed": 361,
     "status": "ok",
     "timestamp": 1625842250658,
     "user": {
      "displayName": "Nico Guth",
      "photoUrl": "https://lh3.googleusercontent.com/a-/AOh14GjLU8mQVSscNU9ysknrBUGEMxsyfpLTAsLrcDvJfg=s64",
      "userId": "08893022833457968246"
     },
     "user_tz": -120
    },
    "id": "ckN1mKO-0Pwl",
    "outputId": "d21c6a05-3fc8-4e6a-ae88-59e73ca8692a"
   },
   "outputs": [],
   "source": [
    "model = build_model(params)\n",
    "model.summary()"
   ]
  },
  {
   "cell_type": "code",
   "execution_count": null,
   "metadata": {
    "colab": {
     "base_uri": "https://localhost:8080/"
    },
    "executionInfo": {
     "elapsed": 369366,
     "status": "ok",
     "timestamp": 1625842620019,
     "user": {
      "displayName": "Nico Guth",
      "photoUrl": "https://lh3.googleusercontent.com/a-/AOh14GjLU8mQVSscNU9ysknrBUGEMxsyfpLTAsLrcDvJfg=s64",
      "userId": "08893022833457968246"
     },
     "user_tz": -120
    },
    "id": "iPWL5PgHS-VJ",
    "outputId": "833bafc5-077a-45f4-f71f-a7fbe2d8b394"
   },
   "outputs": [],
   "source": [
    "results = model.fit(train_ds, validation_data=val_ds, batch_size=batch_size, epochs=epochs)"
   ]
  },
  {
   "cell_type": "code",
   "execution_count": null,
   "metadata": {
    "executionInfo": {
     "elapsed": 4,
     "status": "ok",
     "timestamp": 1625842620020,
     "user": {
      "displayName": "Nico Guth",
      "photoUrl": "https://lh3.googleusercontent.com/a-/AOh14GjLU8mQVSscNU9ysknrBUGEMxsyfpLTAsLrcDvJfg=s64",
      "userId": "08893022833457968246"
     },
     "user_tz": -120
    },
    "id": "cAlwJUAW0S5A"
   },
   "outputs": [],
   "source": [
    "def plot_history(network_history,figsize=(8,5)):\n",
    "  history_keys = [key for key in network_history.history.keys() if not key.startswith('val_')]\n",
    "  for key in history_keys:\n",
    "    plt.figure(figsize=figsize)\n",
    "    plt.plot(network_history.history[key])\n",
    "    plt.plot(network_history.history[f'val_{key}'])\n",
    "    plt.title(f'model {key}')\n",
    "    plt.ylabel(key)\n",
    "    plt.xlabel('epoch')\n",
    "    plt.legend(['training', 'validation'], loc='upper right')\n",
    "    plt.tight_layout()\n",
    "    plt.show()"
   ]
  },
  {
   "cell_type": "code",
   "execution_count": null,
   "metadata": {
    "colab": {
     "base_uri": "https://localhost:8080/",
     "height": 721
    },
    "executionInfo": {
     "elapsed": 590,
     "status": "ok",
     "timestamp": 1625842620607,
     "user": {
      "displayName": "Nico Guth",
      "photoUrl": "https://lh3.googleusercontent.com/a-/AOh14GjLU8mQVSscNU9ysknrBUGEMxsyfpLTAsLrcDvJfg=s64",
      "userId": "08893022833457968246"
     },
     "user_tz": -120
    },
    "id": "N6KrdeXe0cSQ",
    "outputId": "db515358-fc50-4e76-8b68-2bb747046cf4"
   },
   "outputs": [],
   "source": [
    "plot_history(results)"
   ]
  },
  {
   "cell_type": "code",
   "execution_count": null,
   "metadata": {
    "executionInfo": {
     "elapsed": 357,
     "status": "ok",
     "timestamp": 1625842620956,
     "user": {
      "displayName": "Nico Guth",
      "photoUrl": "https://lh3.googleusercontent.com/a-/AOh14GjLU8mQVSscNU9ysknrBUGEMxsyfpLTAsLrcDvJfg=s64",
      "userId": "08893022833457968246"
     },
     "user_tz": -120
    },
    "id": "5xwWsuSm-TRE"
   },
   "outputs": [],
   "source": [
    "model.save(f'/content/drive/MyDrive/ML_Project_Satellite_Images/models/{model_name}.h5')"
   ]
  },
  {
   "cell_type": "code",
   "execution_count": null,
   "metadata": {
    "executionInfo": {
     "elapsed": 4,
     "status": "ok",
     "timestamp": 1625842620956,
     "user": {
      "displayName": "Nico Guth",
      "photoUrl": "https://lh3.googleusercontent.com/a-/AOh14GjLU8mQVSscNU9ysknrBUGEMxsyfpLTAsLrcDvJfg=s64",
      "userId": "08893022833457968246"
     },
     "user_tz": -120
    },
    "id": "tFaSVEoDHFVt"
   },
   "outputs": [],
   "source": [
    "sample_ids = {\n",
    "    'train_ids':samples_df_train.index.to_list(),\n",
    "    'val_ids':samples_df_val.index.to_list(),\n",
    "    'test_ids':samples_df_test.index.to_list()\n",
    "  }"
   ]
  },
  {
   "cell_type": "code",
   "execution_count": null,
   "metadata": {
    "executionInfo": {
     "elapsed": 4,
     "status": "ok",
     "timestamp": 1625842620957,
     "user": {
      "displayName": "Nico Guth",
      "photoUrl": "https://lh3.googleusercontent.com/a-/AOh14GjLU8mQVSscNU9ysknrBUGEMxsyfpLTAsLrcDvJfg=s64",
      "userId": "08893022833457968246"
     },
     "user_tz": -120
    },
    "id": "R4k5mffwGv2x"
   },
   "outputs": [],
   "source": [
    "with open(f'/content/drive/MyDrive/ML_Project_Satellite_Images/models/{model_name}.json', 'w') as f:\n",
    "    json.dump(sample_ids, f)"
   ]
  },
  {
   "cell_type": "code",
   "execution_count": null,
   "metadata": {
    "colab": {
     "base_uri": "https://localhost:8080/"
    },
    "executionInfo": {
     "elapsed": 12357,
     "status": "ok",
     "timestamp": 1625842633311,
     "user": {
      "displayName": "Nico Guth",
      "photoUrl": "https://lh3.googleusercontent.com/a-/AOh14GjLU8mQVSscNU9ysknrBUGEMxsyfpLTAsLrcDvJfg=s64",
      "userId": "08893022833457968246"
     },
     "user_tz": -120
    },
    "id": "LCXm_0YU-rJm",
    "outputId": "a815e89a-2722-41c5-df3b-a6cfb0321aaf"
   },
   "outputs": [],
   "source": [
    "drive.flush_and_unmount()\n",
    "print('All changes made in this colab session should now be visible in Drive.')"
   ]
  },
  {
   "cell_type": "code",
   "execution_count": null,
   "metadata": {
    "executionInfo": {
     "elapsed": 7,
     "status": "ok",
     "timestamp": 1625842633312,
     "user": {
      "displayName": "Nico Guth",
      "photoUrl": "https://lh3.googleusercontent.com/a-/AOh14GjLU8mQVSscNU9ysknrBUGEMxsyfpLTAsLrcDvJfg=s64",
      "userId": "08893022833457968246"
     },
     "user_tz": -120
    },
    "id": "8gu6FRWb4YgK"
   },
   "outputs": [],
   "source": []
  }
 ],
 "metadata": {
  "accelerator": "GPU",
  "colab": {
   "collapsed_sections": [],
   "name": "model_skip_with_conv.ipynb",
   "provenance": [
    {
     "file_id": "1oRsA-lCQ7GP7qVycy9ph_Rq7w2e5E2ur",
     "timestamp": 1624906132931
    },
    {
     "file_id": "1zYdYA0Dsh-jRRsiQppLJEnBiBVrUJMvR",
     "timestamp": 1624892651453
    }
   ]
  },
  "kernelspec": {
   "display_name": "Python 3",
   "name": "python3"
  },
  "language_info": {
   "name": "python"
  }
 },
 "nbformat": 4,
 "nbformat_minor": 0
}
